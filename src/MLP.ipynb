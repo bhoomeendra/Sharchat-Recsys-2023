{
 "cells": [
  {
   "cell_type": "code",
   "execution_count": 1,
   "id": "6780d46d-0dfd-4055-a3e4-994eb4311ea5",
   "metadata": {},
   "outputs": [],
   "source": [
    "ROWID = ['f_0']\n",
    "DATE = ['f_1']\n",
    "CATEGORIES = [ f'f_{i}' for i in range(2,33) ]\n",
    "BINARY = [ f'f_{i}' for i in range(33,42) ]\n",
    "NUMERICAL = [ f'f_{i}' for i in range(42,80) ]\n",
    "IS_CLICKED = ['is_clicked']\n",
    "IS_INSTALLED =['is_installed']"
   ]
  },
  {
   "cell_type": "code",
   "execution_count": 1,
   "id": "78c9ddf3-5d44-4ecf-bcba-b95d5db26098",
   "metadata": {},
   "outputs": [],
   "source": [
    "import torch\n",
    "import torch.nn as nn"
   ]
  },
  {
   "cell_type": "code",
   "execution_count": 2,
   "id": "5e346f29-b582-4be9-9023-110553815b54",
   "metadata": {},
   "outputs": [],
   "source": [
    "model = nn.Sequential(\n",
    "    nn.Linear(78, 200),\n",
    "    nn.ReLU(),\n",
    "    nn.Linear(200, 100),\n",
    "    nn.ReLU(),\n",
    "    nn.Linear(100, 40),\n",
    "    nn.ReLU(),\n",
    "    nn.Linear(40,1),\n",
    "    nn.Sigmoid()\n",
    ")"
   ]
  },
  {
   "cell_type": "code",
   "execution_count": 3,
   "id": "90af3869-aecc-4407-a187-7749c7135e69",
   "metadata": {},
   "outputs": [],
   "source": [
    "device = 'cuda'"
   ]
  },
  {
   "cell_type": "code",
   "execution_count": 4,
   "id": "df676cf6-1226-477a-98ae-81088856a3d0",
   "metadata": {},
   "outputs": [
    {
     "data": {
      "text/plain": [
       "Sequential(\n",
       "  (0): Linear(in_features=78, out_features=200, bias=True)\n",
       "  (1): ReLU()\n",
       "  (2): Linear(in_features=200, out_features=100, bias=True)\n",
       "  (3): ReLU()\n",
       "  (4): Linear(in_features=100, out_features=40, bias=True)\n",
       "  (5): ReLU()\n",
       "  (6): Linear(in_features=40, out_features=1, bias=True)\n",
       "  (7): Sigmoid()\n",
       ")"
      ]
     },
     "execution_count": 4,
     "metadata": {},
     "output_type": "execute_result"
    }
   ],
   "source": [
    "model.to(device)"
   ]
  },
  {
   "cell_type": "code",
   "execution_count": 5,
   "id": "7dabc98b-0883-4a6d-a1af-9a97198e9631",
   "metadata": {},
   "outputs": [],
   "source": [
    "x = torch.rand((10,78)).to(device)"
   ]
  },
  {
   "cell_type": "code",
   "execution_count": 6,
   "id": "3dbc348a-c4ed-4ee4-9fc5-796ebf781a68",
   "metadata": {},
   "outputs": [
    {
     "data": {
      "text/plain": [
       "torch.Size([10, 78])"
      ]
     },
     "execution_count": 6,
     "metadata": {},
     "output_type": "execute_result"
    }
   ],
   "source": [
    "x.shape"
   ]
  },
  {
   "cell_type": "code",
   "execution_count": 7,
   "id": "c8b0fb30-4fed-4780-a9bb-5dca0e3ef560",
   "metadata": {},
   "outputs": [],
   "source": [
    "out = model(x)"
   ]
  },
  {
   "cell_type": "code",
   "execution_count": 8,
   "id": "5a6fb51c-0fd8-4a1f-b1cc-e531c43f1bb1",
   "metadata": {},
   "outputs": [
    {
     "data": {
      "text/plain": [
       "torch.Size([10, 1])"
      ]
     },
     "execution_count": 8,
     "metadata": {},
     "output_type": "execute_result"
    }
   ],
   "source": [
    "out.shape"
   ]
  },
  {
   "cell_type": "code",
   "execution_count": 9,
   "id": "a0ae026c-f45a-46a2-b06b-1b8586ca46af",
   "metadata": {},
   "outputs": [
    {
     "data": {
      "text/plain": [
       "tensor([[0.4743],\n",
       "        [0.4691],\n",
       "        [0.4736],\n",
       "        [0.4726],\n",
       "        [0.4707],\n",
       "        [0.4697],\n",
       "        [0.4744],\n",
       "        [0.4731],\n",
       "        [0.4727],\n",
       "        [0.4702]], device='cuda:0', grad_fn=<SigmoidBackward>)"
      ]
     },
     "execution_count": 9,
     "metadata": {},
     "output_type": "execute_result"
    }
   ],
   "source": [
    "out"
   ]
  },
  {
   "cell_type": "code",
   "execution_count": 10,
   "id": "2c22c667-b4d2-49eb-b4af-897ba921e6ff",
   "metadata": {},
   "outputs": [],
   "source": [
    "from utils import TrainSplit,TestResults"
   ]
  },
  {
   "cell_type": "code",
   "execution_count": 11,
   "id": "560efa29-1684-4d7b-82ec-362e37a067f8",
   "metadata": {},
   "outputs": [
    {
     "name": "stdout",
     "output_type": "stream",
     "text": [
      "Loading the data\n",
      "Categorial Feature Imputed\n"
     ]
    },
    {
     "name": "stderr",
     "output_type": "stream",
     "text": [
      "NUM IMPUTE: 100%|████████████████████████████████████████████████████████████████████████████████████████████████████████████████████████| 11/11 [00:00<00:00, 48.21it/s]\n"
     ]
    },
    {
     "name": "stdout",
     "output_type": "stream",
     "text": [
      "Spliting the Data based on time\n",
      "X_train:(3387880, 80), X_test:(97972, 80) , y_train:(3387880, 2) , y_test:(97972, 2)\n"
     ]
    }
   ],
   "source": [
    "X_train, X_test, y_train, y_test = TrainSplit().get_split()"
   ]
  },
  {
   "cell_type": "code",
   "execution_count": 12,
   "id": "209ae14f-00e7-4904-bc0e-cbb3250d4114",
   "metadata": {},
   "outputs": [],
   "source": [
    "cat_feat = TrainSplit.CATEGORIES + TrainSplit.BINARY\n",
    "num_feat = TrainSplit.NUMERICAL\n",
    "all_feat = cat_feat + num_feat"
   ]
  },
  {
   "cell_type": "code",
   "execution_count": 13,
   "id": "88999a38-5e83-408b-a5e3-f6b1954c1fca",
   "metadata": {},
   "outputs": [
    {
     "data": {
      "text/plain": [
       "pandas.core.frame.DataFrame"
      ]
     },
     "execution_count": 13,
     "metadata": {},
     "output_type": "execute_result"
    }
   ],
   "source": [
    "type(X_train)"
   ]
  },
  {
   "cell_type": "code",
   "execution_count": 14,
   "id": "1106971e-1599-40d9-b522-9423dbe28edf",
   "metadata": {},
   "outputs": [
    {
     "data": {
      "text/plain": [
       "pandas.core.frame.DataFrame"
      ]
     },
     "execution_count": 14,
     "metadata": {},
     "output_type": "execute_result"
    }
   ],
   "source": [
    "type(y_train)"
   ]
  },
  {
   "cell_type": "code",
   "execution_count": 15,
   "id": "3fe798eb-b054-4e47-8348-a17319726672",
   "metadata": {},
   "outputs": [],
   "source": [
    "from torch.utils.data import Dataset\n",
    "\n",
    "class Features(Dataset):\n",
    "    \n",
    "    def __init__(self,config):\n",
    "        self.config = config\n",
    "        self.dataset,self.label = self.train_test_split()\n",
    "        print(\"Train Test Split\")\n",
    "    \n",
    "    def train_test_split(self):\n",
    "        if self.config[\"split\"] == 'train':\n",
    "            return X_train , y_train[TrainSplit.IS_INSTALLED[0]]\n",
    "        elif self.config['split'] == 'val':\n",
    "            return X_test , y_test[TrainSplit.IS_INSTALLED[0]]\n",
    "        else:\n",
    "            raise Exception(f\"{self.config['split']} is vot a valid split only type\")\n",
    "    \n",
    "    def __getitem__(self,idx):\n",
    "            return self.dataset.iloc[idx,:][all_feat].values,self.label.iloc[idx]\n",
    "        \n",
    "    def __len__(self):\n",
    "        return len(self.dataset)"
   ]
  },
  {
   "cell_type": "code",
   "execution_count": 16,
   "id": "eaa7fcb6-efd2-4f60-9527-6e6ff1e58436",
   "metadata": {},
   "outputs": [
    {
     "name": "stdout",
     "output_type": "stream",
     "text": [
      "Train Test Split\n"
     ]
    }
   ],
   "source": [
    "train_dataset = Features({'split':'train'})"
   ]
  },
  {
   "cell_type": "code",
   "execution_count": 17,
   "id": "86048f81-de06-454d-ae74-2a6bd8e5978d",
   "metadata": {},
   "outputs": [
    {
     "data": {
      "text/plain": [
       "25.84747314453125"
      ]
     },
     "execution_count": 17,
     "metadata": {},
     "output_type": "execute_result"
    }
   ],
   "source": [
    "len(train_dataset)/131072"
   ]
  },
  {
   "cell_type": "code",
   "execution_count": 18,
   "id": "aab03381-cc6f-4665-a15e-cd67c186faa5",
   "metadata": {},
   "outputs": [
    {
     "data": {
      "text/plain": [
       "0"
      ]
     },
     "execution_count": 18,
     "metadata": {},
     "output_type": "execute_result"
    }
   ],
   "source": [
    "import gc\n",
    "gc.collect()"
   ]
  },
  {
   "cell_type": "code",
   "execution_count": 19,
   "id": "f34dd215-d961-432a-9d31-6011c2e9cbea",
   "metadata": {},
   "outputs": [
    {
     "name": "stdout",
     "output_type": "stream",
     "text": [
      "Train Test Split\n"
     ]
    }
   ],
   "source": [
    "val_dataset = Features({'split':'val'})"
   ]
  },
  {
   "cell_type": "code",
   "execution_count": 20,
   "id": "d79bc296-a43d-401e-8adf-bb770ddb583d",
   "metadata": {},
   "outputs": [
    {
     "data": {
      "text/plain": [
       "97972"
      ]
     },
     "execution_count": 20,
     "metadata": {},
     "output_type": "execute_result"
    }
   ],
   "source": [
    "len(val_dataset)"
   ]
  },
  {
   "cell_type": "code",
   "execution_count": 21,
   "id": "e071854f-8ad8-40c2-a7f9-30c75eb7308c",
   "metadata": {},
   "outputs": [
    {
     "data": {
      "text/plain": [
       "78"
      ]
     },
     "execution_count": 21,
     "metadata": {},
     "output_type": "execute_result"
    }
   ],
   "source": [
    "len(val_dataset[0][0])"
   ]
  },
  {
   "cell_type": "code",
   "execution_count": 22,
   "id": "c0a3776a-9329-4fdf-8464-78ae58e92d70",
   "metadata": {},
   "outputs": [],
   "source": [
    "from torch.utils.data import DataLoader\n",
    "train_dataloader = DataLoader(train_dataset, batch_size=16, shuffle=True)"
   ]
  },
  {
   "cell_type": "code",
   "execution_count": 23,
   "id": "153d607a-7734-4280-ae86-7a44333fb6c6",
   "metadata": {},
   "outputs": [],
   "source": [
    "loss_fn = nn.CrossEntropyLoss()\n",
    "optimizer = torch.optim.AdamW(model.parameters())"
   ]
  },
  {
   "cell_type": "code",
   "execution_count": 24,
   "id": "16a7cdb2-7952-4e3a-b8a6-103ca2da356a",
   "metadata": {},
   "outputs": [
    {
     "data": {
      "text/plain": [
       "211743"
      ]
     },
     "execution_count": 24,
     "metadata": {},
     "output_type": "execute_result"
    }
   ],
   "source": [
    "len(train_dataloader)"
   ]
  },
  {
   "cell_type": "code",
   "execution_count": 25,
   "id": "e975f7f9-9bba-46a4-b493-6e7896180060",
   "metadata": {},
   "outputs": [],
   "source": [
    "# 131072"
   ]
  },
  {
   "cell_type": "code",
   "execution_count": 26,
   "id": "0aa8a949-4407-4a66-af10-932c59d75a52",
   "metadata": {},
   "outputs": [
    {
     "name": "stdout",
     "output_type": "stream",
     "text": [
      "tensor([[11077.,  7152., 18575.,  ...,     0.,     0.,     0.],\n",
      "        [20095.,   563., 31686.,  ...,     0.,     0.,     0.],\n",
      "        [ 5156., 22294., 18971.,  ...,     0.,     0.,     0.],\n",
      "        ...,\n",
      "        [12577., 22294.,  2059.,  ...,     0.,     0.,     0.],\n",
      "        [25976., 22294.,  7696.,  ...,     0.,     0.,     0.],\n",
      "        [31824., 22294., 10633.,  ...,     0.,     0.,     0.]],\n",
      "       dtype=torch.float64)\n",
      "tensor([[11077.,  7152., 18575.,  ...,     0.,     0.,     0.],\n",
      "        [20095.,   563., 31686.,  ...,     0.,     0.,     0.],\n",
      "        [ 5156., 22294., 18971.,  ...,     0.,     0.,     0.],\n",
      "        ...,\n",
      "        [12577., 22294.,  2059.,  ...,     0.,     0.,     0.],\n",
      "        [25976., 22294.,  7696.,  ...,     0.,     0.,     0.],\n",
      "        [31824., 22294., 10633.,  ...,     0.,     0.,     0.]],\n",
      "       device='cuda:0')\n",
      "tensor([0, 0, 0, 0, 1, 0, 0, 0, 0, 0, 0, 0, 0, 1, 0, 1], device='cuda:0')\n",
      "tensor([[1.],\n",
      "        [1.],\n",
      "        [1.],\n",
      "        [1.],\n",
      "        [1.],\n",
      "        [1.],\n",
      "        [1.],\n",
      "        [1.],\n",
      "        [1.],\n",
      "        [1.],\n",
      "        [1.],\n",
      "        [1.],\n",
      "        [1.],\n",
      "        [1.],\n",
      "        [1.],\n",
      "        [1.]], device='cuda:0', grad_fn=<SigmoidBackward>)\n"
     ]
    },
    {
     "name": "stderr",
     "output_type": "stream",
     "text": [
      "/tmp/ipykernel_28630/1837055144.py:6: UserWarning: To copy construct from a tensor, it is recommended to use sourceTensor.clone().detach() or sourceTensor.clone().detach().requires_grad_(True), rather than torch.tensor(sourceTensor).\n",
      "  X = torch.tensor(X,dtype=torch.float32,device=device)\n",
      "/tmp/ipykernel_28630/1837055144.py:8: UserWarning: To copy construct from a tensor, it is recommended to use sourceTensor.clone().detach() or sourceTensor.clone().detach().requires_grad_(True), rather than torch.tensor(sourceTensor).\n",
      "  y = torch.tensor(y,dtype=torch.long,device=device)\n",
      "/pytorch/aten/src/THCUNN/ClassNLLCriterion.cu:108: cunn_ClassNLLCriterion_updateOutput_kernel: block: [0,0,0], thread: [4,0,0] Assertion `t >= 0 && t < n_classes` failed.\n",
      "/pytorch/aten/src/THCUNN/ClassNLLCriterion.cu:108: cunn_ClassNLLCriterion_updateOutput_kernel: block: [0,0,0], thread: [13,0,0] Assertion `t >= 0 && t < n_classes` failed.\n",
      "/pytorch/aten/src/THCUNN/ClassNLLCriterion.cu:108: cunn_ClassNLLCriterion_updateOutput_kernel: block: [0,0,0], thread: [15,0,0] Assertion `t >= 0 && t < n_classes` failed.\n"
     ]
    },
    {
     "ename": "RuntimeError",
     "evalue": "CUDA error: CUBLAS_STATUS_ALLOC_FAILED when calling `cublasCreate(handle)`",
     "output_type": "error",
     "traceback": [
      "\u001b[0;31m---------------------------------------------------------------------------\u001b[0m",
      "\u001b[0;31mRuntimeError\u001b[0m                              Traceback (most recent call last)",
      "Cell \u001b[0;32mIn[26], line 14\u001b[0m\n\u001b[1;32m     12\u001b[0m loss \u001b[38;5;241m=\u001b[39m loss_fn(y_pred, y)\n\u001b[1;32m     13\u001b[0m optimizer\u001b[38;5;241m.\u001b[39mzero_grad()\n\u001b[0;32m---> 14\u001b[0m \u001b[43mloss\u001b[49m\u001b[38;5;241;43m.\u001b[39;49m\u001b[43mbackward\u001b[49m\u001b[43m(\u001b[49m\u001b[43m)\u001b[49m\n\u001b[1;32m     15\u001b[0m optimizer\u001b[38;5;241m.\u001b[39mstep()\n\u001b[1;32m     16\u001b[0m cum_loss \u001b[38;5;241m+\u001b[39m\u001b[38;5;241m=\u001b[39m loss\n",
      "File \u001b[0;32m~/venvs/python3.9_global/lib/python3.9/site-packages/torch/tensor.py:245\u001b[0m, in \u001b[0;36mTensor.backward\u001b[0;34m(self, gradient, retain_graph, create_graph, inputs)\u001b[0m\n\u001b[1;32m    236\u001b[0m \u001b[38;5;28;01mif\u001b[39;00m has_torch_function_unary(\u001b[38;5;28mself\u001b[39m):\n\u001b[1;32m    237\u001b[0m     \u001b[38;5;28;01mreturn\u001b[39;00m handle_torch_function(\n\u001b[1;32m    238\u001b[0m         Tensor\u001b[38;5;241m.\u001b[39mbackward,\n\u001b[1;32m    239\u001b[0m         (\u001b[38;5;28mself\u001b[39m,),\n\u001b[0;32m   (...)\u001b[0m\n\u001b[1;32m    243\u001b[0m         create_graph\u001b[38;5;241m=\u001b[39mcreate_graph,\n\u001b[1;32m    244\u001b[0m         inputs\u001b[38;5;241m=\u001b[39minputs)\n\u001b[0;32m--> 245\u001b[0m \u001b[43mtorch\u001b[49m\u001b[38;5;241;43m.\u001b[39;49m\u001b[43mautograd\u001b[49m\u001b[38;5;241;43m.\u001b[39;49m\u001b[43mbackward\u001b[49m\u001b[43m(\u001b[49m\u001b[38;5;28;43mself\u001b[39;49m\u001b[43m,\u001b[49m\u001b[43m \u001b[49m\u001b[43mgradient\u001b[49m\u001b[43m,\u001b[49m\u001b[43m \u001b[49m\u001b[43mretain_graph\u001b[49m\u001b[43m,\u001b[49m\u001b[43m \u001b[49m\u001b[43mcreate_graph\u001b[49m\u001b[43m,\u001b[49m\u001b[43m \u001b[49m\u001b[43minputs\u001b[49m\u001b[38;5;241;43m=\u001b[39;49m\u001b[43minputs\u001b[49m\u001b[43m)\u001b[49m\n",
      "File \u001b[0;32m~/venvs/python3.9_global/lib/python3.9/site-packages/torch/autograd/__init__.py:145\u001b[0m, in \u001b[0;36mbackward\u001b[0;34m(tensors, grad_tensors, retain_graph, create_graph, grad_variables, inputs)\u001b[0m\n\u001b[1;32m    142\u001b[0m \u001b[38;5;28;01mif\u001b[39;00m retain_graph \u001b[38;5;129;01mis\u001b[39;00m \u001b[38;5;28;01mNone\u001b[39;00m:\n\u001b[1;32m    143\u001b[0m     retain_graph \u001b[38;5;241m=\u001b[39m create_graph\n\u001b[0;32m--> 145\u001b[0m \u001b[43mVariable\u001b[49m\u001b[38;5;241;43m.\u001b[39;49m\u001b[43m_execution_engine\u001b[49m\u001b[38;5;241;43m.\u001b[39;49m\u001b[43mrun_backward\u001b[49m\u001b[43m(\u001b[49m\n\u001b[1;32m    146\u001b[0m \u001b[43m    \u001b[49m\u001b[43mtensors\u001b[49m\u001b[43m,\u001b[49m\u001b[43m \u001b[49m\u001b[43mgrad_tensors_\u001b[49m\u001b[43m,\u001b[49m\u001b[43m \u001b[49m\u001b[43mretain_graph\u001b[49m\u001b[43m,\u001b[49m\u001b[43m \u001b[49m\u001b[43mcreate_graph\u001b[49m\u001b[43m,\u001b[49m\u001b[43m \u001b[49m\u001b[43minputs\u001b[49m\u001b[43m,\u001b[49m\n\u001b[1;32m    147\u001b[0m \u001b[43m    \u001b[49m\u001b[43mallow_unreachable\u001b[49m\u001b[38;5;241;43m=\u001b[39;49m\u001b[38;5;28;43;01mTrue\u001b[39;49;00m\u001b[43m,\u001b[49m\u001b[43m \u001b[49m\u001b[43maccumulate_grad\u001b[49m\u001b[38;5;241;43m=\u001b[39;49m\u001b[38;5;28;43;01mTrue\u001b[39;49;00m\u001b[43m)\u001b[49m\n",
      "\u001b[0;31mRuntimeError\u001b[0m: CUDA error: CUBLAS_STATUS_ALLOC_FAILED when calling `cublasCreate(handle)`"
     ]
    }
   ],
   "source": [
    "for n in range(2):\n",
    "    count = 0\n",
    "    cum_loss = 0\n",
    "    for X,y in train_dataloader:\n",
    "        print(X)\n",
    "        X = torch.tensor(X,dtype=torch.float32,device=device)\n",
    "        print(X)\n",
    "        y = torch.tensor(y,dtype=torch.long,device=device)\n",
    "        print(y)\n",
    "        y_pred = model(X)\n",
    "        print(y_pred)\n",
    "        loss = loss_fn(y_pred, y)\n",
    "        optimizer.zero_grad()\n",
    "        loss.backward()\n",
    "        optimizer.step()\n",
    "        cum_loss += loss\n",
    "        print(f\"Done {count/len(train_dataloader)}% of epoch {n+1} the loss is {cum_loss}\")\n",
    "        count+=1\n",
    "    print(f\"Epoch {n},Loss {loss}\")"
   ]
  },
  {
   "cell_type": "code",
   "execution_count": null,
   "id": "b077d3dc-baeb-479b-be7e-1378f869ec55",
   "metadata": {},
   "outputs": [],
   "source": [
    "from torcheval.metrics import BinaryF1Score,BinaryPrecision,BinaryRecall\n",
    "val_dataloader = DataLoader(val_dataset, batch_size=1024, shuffle=True)"
   ]
  }
 ],
 "metadata": {
  "kernelspec": {
   "display_name": "Python 3 (ipykernel)",
   "language": "python",
   "name": "python3"
  },
  "language_info": {
   "codemirror_mode": {
    "name": "ipython",
    "version": 3
   },
   "file_extension": ".py",
   "mimetype": "text/x-python",
   "name": "python",
   "nbconvert_exporter": "python",
   "pygments_lexer": "ipython3",
   "version": "3.9.16"
  }
 },
 "nbformat": 4,
 "nbformat_minor": 5
}
