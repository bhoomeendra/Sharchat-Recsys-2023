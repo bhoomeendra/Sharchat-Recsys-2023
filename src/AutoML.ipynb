{
 "cells": [
  {
   "cell_type": "code",
   "execution_count": 2,
   "id": "a4d7f5b1-c628-4e57-aa5f-6f8808f5b61a",
   "metadata": {},
   "outputs": [],
   "source": [
    "ROWID = ['f_0']\n",
    "DATE = ['f_1']\n",
    "CATEGORIES = [ f'f_{i}' for i in range(2,33) ]\n",
    "BINARY = [ f'f_{i}' for i in range(33,42) ]\n",
    "NUMERICAL = [ f'f_{i}' for i in range(42,80) ]\n",
    "IS_CLICKED = ['is_clicked']\n",
    "IS_INSTALLED =['is_installed']"
   ]
  },
  {
   "cell_type": "code",
   "execution_count": 3,
   "id": "4c9a7c9c-3f89-47b4-8503-488b1654586a",
   "metadata": {},
   "outputs": [],
   "source": [
    "import autosklearn.classification"
   ]
  },
  {
   "cell_type": "code",
   "execution_count": 4,
   "id": "9ab16c0a-e766-4a49-a119-b0510cd8a1a8",
   "metadata": {},
   "outputs": [
    {
     "name": "stderr",
     "output_type": "stream",
     "text": [
      "NUM IMPUTE: 100%|████████████████████████████████████████████████████████████████████████████████████████████████████████████████████████| 11/11 [00:00<00:00, 46.68it/s]\n"
     ]
    }
   ],
   "source": [
    "import pandas as pd\n",
    "missing = pd.read_csv('../Data/miss_combine.csv')\n",
    "missing['f_30'].fillna(missing['f_30'].mode()[0],inplace=True)\n",
    "missing['f_31'].fillna(missing['f_31'].mode()[0],inplace=True)\n",
    "from tqdm import tqdm\n",
    "fmiss = \"f_43,f_51,f_58,f_59,f_64,f_65,f_66,f_67,f_68,f_69,f_70\".split(',')\n",
    "for f in tqdm(fmiss,desc=\"NUM IMPUTE\"):\n",
    "    missing[f].fillna(missing[f].mean(),inplace=True)"
   ]
  },
  {
   "cell_type": "code",
   "execution_count": 5,
   "id": "546d63ff-c4bc-49b2-9f90-db6ac5deab67",
   "metadata": {},
   "outputs": [],
   "source": [
    "data = missing"
   ]
  },
  {
   "cell_type": "code",
   "execution_count": 6,
   "id": "e427fd8d-100c-47e6-adcd-96d298a6f787",
   "metadata": {},
   "outputs": [],
   "source": [
    "use_features = CATEGORIES+BINARY+NUMERICAL\n",
    "train = data[data['f_1']<66]\n",
    "test  = data[data['f_1']==66]\n",
    "X_train,y_train_click,y_train_install = train[use_features],train[IS_CLICKED],train[IS_INSTALLED]\n",
    "X_test,y_test_click,y_test_install = test[use_features],test[IS_CLICKED],test[IS_INSTALLED]"
   ]
  },
  {
   "cell_type": "code",
   "execution_count": 7,
   "id": "8d21c540-8d71-416d-868f-4e6dc403761c",
   "metadata": {},
   "outputs": [
    {
     "data": {
      "text/plain": [
       "(3387880, 97972)"
      ]
     },
     "execution_count": 7,
     "metadata": {},
     "output_type": "execute_result"
    }
   ],
   "source": [
    "len(train),len(test)"
   ]
  },
  {
   "cell_type": "code",
   "execution_count": 11,
   "id": "bc929fb9-f873-4824-8225-d556bd7ff800",
   "metadata": {},
   "outputs": [],
   "source": [
    "autoML = autosklearn.classification.AutoSklearnClassifier(n_jobs=-1,memory_limit=15000,time_left_for_this_task=4*3600)"
   ]
  },
  {
   "cell_type": "code",
   "execution_count": 12,
   "id": "9974edb8-b5d5-4749-9a90-2a4775a6630b",
   "metadata": {},
   "outputs": [
    {
     "data": {
      "text/plain": [
       "(97972, 78)"
      ]
     },
     "execution_count": 12,
     "metadata": {},
     "output_type": "execute_result"
    }
   ],
   "source": [
    "X_test.shape"
   ]
  },
  {
   "cell_type": "code",
   "execution_count": null,
   "id": "a0db15e6-465b-46d6-8829-a5491663db94",
   "metadata": {},
   "outputs": [],
   "source": [
    "autoML.fit(X=X_train,y=y_train_click,X_test=X_test,y_test=y_test_click,dataset_name=\"SHAD\")"
   ]
  },
  {
   "cell_type": "code",
   "execution_count": null,
   "id": "d82bf84b-8725-439a-808a-89cfc62f8eeb",
   "metadata": {},
   "outputs": [],
   "source": []
  }
 ],
 "metadata": {
  "kernelspec": {
   "display_name": "Python 3 (ipykernel)",
   "language": "python",
   "name": "python3"
  },
  "language_info": {
   "codemirror_mode": {
    "name": "ipython",
    "version": 3
   },
   "file_extension": ".py",
   "mimetype": "text/x-python",
   "name": "python",
   "nbconvert_exporter": "python",
   "pygments_lexer": "ipython3",
   "version": "3.9.16"
  }
 },
 "nbformat": 4,
 "nbformat_minor": 5
}
