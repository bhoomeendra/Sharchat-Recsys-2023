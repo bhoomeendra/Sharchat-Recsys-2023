{
 "cells": [
  {
   "cell_type": "code",
   "execution_count": 1,
   "id": "3ca19362-c984-4abf-8b30-a239d9bce0be",
   "metadata": {},
   "outputs": [],
   "source": [
    "from tqdm import tqdm\n",
    "from xgboost import XGBClassifier\n",
    "import pandas as pd\n",
    "import numpy as np\n",
    "from sklearn.model_selection import train_test_split\n",
    "from sklearn.metrics import f1_score\n",
    "\n",
    "ROWID = ['f_0']\n",
    "DATE = ['f_1']\n",
    "CATEGORIES = [ f'f_{i}' for i in range(2,33) ]\n",
    "BINARY = [ f'f_{i}' for i in range(33,42) ]\n",
    "NUMERICAL = [ f'f_{i}' for i in range(42,80) ]\n",
    "IS_CLICKED = ['is_clicked']\n",
    "IS_INSTALLED =['is_installed']\n",
    "\n",
    "missing = pd.read_csv('../Data/miss_combine.csv')"
   ]
  },
  {
   "cell_type": "markdown",
   "id": "da344695-873c-4c5d-aca4-b9a116c16901",
   "metadata": {},
   "source": [
    "## Imputation"
   ]
  },
  {
   "cell_type": "code",
   "execution_count": 2,
   "id": "58139ac0-603b-4b32-8d45-4b15dbd76fc7",
   "metadata": {},
   "outputs": [
    {
     "name": "stderr",
     "output_type": "stream",
     "text": [
      "NUM IMPUTE: 100%|████████████████████████████████████████████████████████████████████████████████████████████████████████████████████████| 11/11 [00:00<00:00, 42.75it/s]\n"
     ]
    }
   ],
   "source": [
    "missing['f_30'].fillna(missing['f_30'].mode()[0],inplace=True)\n",
    "missing['f_31'].fillna(missing['f_31'].mode()[0],inplace=True)\n",
    "fmiss = \"f_43,f_51,f_58,f_59,f_64,f_65,f_66,f_67,f_68,f_69,f_70\".split(',')\n",
    "for f in tqdm(fmiss,desc=\"NUM IMPUTE\"):\n",
    "    missing[f].fillna(missing[f].mean(),inplace=True)"
   ]
  },
  {
   "cell_type": "markdown",
   "id": "01216195-4e63-42d8-9207-1db3bf443304",
   "metadata": {},
   "source": [
    "## DataSplit"
   ]
  },
  {
   "cell_type": "code",
   "execution_count": 3,
   "id": "c1330d86-c617-4d6c-9244-8d3aaac6f6a4",
   "metadata": {},
   "outputs": [],
   "source": [
    "click_train = missing\n",
    "install_train = missing"
   ]
  },
  {
   "cell_type": "markdown",
   "id": "ee5f78de-3b56-4197-a8a5-05c21a7cc5cb",
   "metadata": {},
   "source": [
    "## Feature Used"
   ]
  },
  {
   "cell_type": "code",
   "execution_count": 4,
   "id": "8e4c85f5-a485-4eff-93ec-819f1a6ba35f",
   "metadata": {},
   "outputs": [],
   "source": [
    "click_feat_list = CATEGORIES + BINARY + NUMERICAL#['f_43','f_48','f_50','f_66','f_68','f_69','f_70','f_72','f_73']\n",
    "install_feat_list = CATEGORIES + BINARY + NUMERICAL#['f_58','f_59','f_50','f_68']"
   ]
  },
  {
   "cell_type": "markdown",
   "id": "f3d74d71-9f53-4f44-8980-0d4882196aa6",
   "metadata": {},
   "source": [
    "## Multiclass Labeling"
   ]
  },
  {
   "cell_type": "code",
   "execution_count": 8,
   "id": "d2f21790-361b-48b2-97e2-31b8dfad8ab5",
   "metadata": {},
   "outputs": [],
   "source": [
    "from tqdm import tqdm\n",
    "\n",
    "def get_label(df):\n",
    "    label = []\n",
    "    for i in tqdm(df.index,desc=\"Genrating Label\"):\n",
    "        if df.loc[i,IS_CLICKED[0]]==0 and df.loc[i,IS_INSTALLED[0]]==0:\n",
    "            label.append(0)\n",
    "        elif df.loc[i,IS_CLICKED[0]]==1 and df.loc[i,IS_INSTALLED[0]]==0:\n",
    "            label.append(1)\n",
    "        elif df.loc[i,IS_CLICKED[0]]==0 and df.loc[i,IS_INSTALLED[0]]==1:\n",
    "            label.append(2)\n",
    "        elif df.loc[i,IS_CLICKED[0]]==1 and df.loc[i,IS_INSTALLED[0]]==1:\n",
    "            label.append(3)\n",
    "    return np.array(label)\n",
    "\n",
    "y = get_label(missing[IS_CLICKED+IS_INSTALLED])\n",
    "X = missing[click_feat_list]"
   ]
  },
  {
   "cell_type": "code",
   "execution_count": 9,
   "id": "d32fce5c-4476-43d0-b902-89f36f46b53b",
   "metadata": {},
   "outputs": [
    {
     "data": {
      "text/plain": [
       "(3485852, 3485852)"
      ]
     },
     "execution_count": 9,
     "metadata": {},
     "output_type": "execute_result"
    }
   ],
   "source": [
    "len(X),len(y)"
   ]
  },
  {
   "cell_type": "markdown",
   "id": "2dcd3349-0ba9-4d51-8019-9e1ba2938775",
   "metadata": {},
   "source": [
    "## Modeling"
   ]
  },
  {
   "cell_type": "code",
   "execution_count": 10,
   "id": "83901e3d-ba3d-4be2-86de-af86a4de8d0d",
   "metadata": {},
   "outputs": [
    {
     "data": {
      "text/plain": [
       "XGBClassifier(base_score=None, booster=None, callbacks=None,\n",
       "              colsample_bylevel=None, colsample_bynode=None,\n",
       "              colsample_bytree=None, early_stopping_rounds=None,\n",
       "              enable_categorical=False, eval_metric=None, feature_types=None,\n",
       "              gamma=None, gpu_id=None, grow_policy=None, importance_type=None,\n",
       "              interaction_constraints=None, learning_rate=0.1, max_bin=None,\n",
       "              max_cat_threshold=None, max_cat_to_onehot=None,\n",
       "              max_delta_step=None, max_depth=None, max_leaves=None,\n",
       "              min_child_weight=None, missing=nan, monotone_constraints=None,\n",
       "              n_estimators=500, n_jobs=None, num_parallel_tree=None,\n",
       "              objective='multi:softprob', predictor=None, ...)"
      ]
     },
     "execution_count": 10,
     "metadata": {},
     "output_type": "execute_result"
    }
   ],
   "source": [
    "from xgboost import XGBClassifier\n",
    "clk_install_classifier = XGBClassifier(learning_rate=0.1, n_estimators=500, objective='binary:logistic',\n",
    "                            verbosity=2,tree_method='gpu_hist')\n",
    "\n",
    "clk_install_classifier.fit(X,y)"
   ]
  },
  {
   "cell_type": "code",
   "execution_count": 11,
   "id": "fd62f3df-24fc-4f11-a62f-119df4be5009",
   "metadata": {},
   "outputs": [],
   "source": [
    "test = pd.read_csv('../Data/test/000000000000.csv',sep='\\t')"
   ]
  },
  {
   "cell_type": "markdown",
   "id": "1702e829-425a-407f-a66c-c6a39c4870e3",
   "metadata": {},
   "source": [
    "## Imputation"
   ]
  },
  {
   "cell_type": "code",
   "execution_count": 12,
   "id": "2a0c3032-68c8-4418-89af-6dac5fcc665f",
   "metadata": {},
   "outputs": [],
   "source": [
    "test['f_30'].fillna(test['f_30'].mode()[0],inplace=True)\n",
    "test['f_31'].fillna(test['f_31'].mode()[0],inplace=True)"
   ]
  },
  {
   "cell_type": "code",
   "execution_count": 13,
   "id": "14d1e0bf-5ac5-4f4f-a724-e04ea6f38cb0",
   "metadata": {},
   "outputs": [],
   "source": [
    "for f in fmiss:\n",
    "    test[f].fillna(test[f].mean(),inplace=True)"
   ]
  },
  {
   "cell_type": "code",
   "execution_count": 14,
   "id": "f39d72f2-bf04-451b-8064-65617d3205e6",
   "metadata": {},
   "outputs": [],
   "source": [
    "result = clk_install_classifier.predict_proba(test[click_feat_list])"
   ]
  },
  {
   "cell_type": "code",
   "execution_count": 16,
   "id": "13123506-46d1-4c22-99d7-9837ab67d252",
   "metadata": {},
   "outputs": [
    {
     "data": {
      "text/plain": [
       "array([[0.4052128 , 0.34118497, 0.07511163, 0.17849064],\n",
       "       [0.6783799 , 0.11592828, 0.19982924, 0.00586255],\n",
       "       [0.76791996, 0.11383574, 0.0057997 , 0.11244455],\n",
       "       [0.58538187, 0.25127017, 0.14965762, 0.01369032],\n",
       "       [0.5868619 , 0.16496325, 0.00642839, 0.24174644],\n",
       "       [0.8238815 , 0.09498648, 0.00100242, 0.08012962],\n",
       "       [0.09273871, 0.26796114, 0.17327672, 0.46602347],\n",
       "       [0.67384773, 0.12378673, 0.17808606, 0.02427943],\n",
       "       [0.4265508 , 0.37442064, 0.05048933, 0.14853925],\n",
       "       [0.5353052 , 0.12203039, 0.30681863, 0.03584579]], dtype=float32)"
      ]
     },
     "execution_count": 16,
     "metadata": {},
     "output_type": "execute_result"
    }
   ],
   "source": [
    "result[:10,:]"
   ]
  },
  {
   "cell_type": "code",
   "execution_count": null,
   "id": "ce4bfba0-3e23-4376-848c-e131b30bf678",
   "metadata": {},
   "outputs": [],
   "source": []
  }
 ],
 "metadata": {
  "kernelspec": {
   "display_name": "Python 3 (ipykernel)",
   "language": "python",
   "name": "python3"
  },
  "language_info": {
   "codemirror_mode": {
    "name": "ipython",
    "version": 3
   },
   "file_extension": ".py",
   "mimetype": "text/x-python",
   "name": "python",
   "nbconvert_exporter": "python",
   "pygments_lexer": "ipython3",
   "version": "3.9.16"
  }
 },
 "nbformat": 4,
 "nbformat_minor": 5
}
