{
 "cells": [
  {
   "cell_type": "code",
   "execution_count": 1,
   "id": "7562d888-b346-45be-88b7-837c379df8db",
   "metadata": {},
   "outputs": [],
   "source": [
    "from utils import TestResults,TrainSplit\n",
    "from sklearn.ensemble import RandomForestClassifier\n",
    "from sklearn.metrics import log_loss\n",
    "\n",
    "import numpy as np\n",
    "import optuna"
   ]
  },
  {
   "cell_type": "code",
   "execution_count": 2,
   "id": "49004b5f-8158-46f9-9dd7-ee425c5a50b1",
   "metadata": {},
   "outputs": [
    {
     "name": "stdout",
     "output_type": "stream",
     "text": [
      "Loading the data\n",
      "Categorial Feature Imputed\n"
     ]
    },
    {
     "name": "stderr",
     "output_type": "stream",
     "text": [
      "NUM IMPUTE: 100%|█████████████████████████████████████| 11/11 [00:00<00:00, 52.67it/s]\n"
     ]
    },
    {
     "name": "stdout",
     "output_type": "stream",
     "text": [
      "Spliting the Data based on time\n",
      "X_train:(3387880, 80), X_test:(97972, 80) , y_train:(3387880, 2) , y_test:(97972, 2)\n"
     ]
    }
   ],
   "source": [
    "X_train, X_test, y_train, y_test = TrainSplit().get_split()"
   ]
  },
  {
   "cell_type": "code",
   "execution_count": 3,
   "id": "17a75944-90f2-4626-85e5-445df38cd8f8",
   "metadata": {},
   "outputs": [
    {
     "data": {
      "text/plain": [
       "0"
      ]
     },
     "execution_count": 3,
     "metadata": {},
     "output_type": "execute_result"
    }
   ],
   "source": [
    "import gc\n",
    "gc.collect()"
   ]
  },
  {
   "cell_type": "code",
   "execution_count": 6,
   "id": "e6a42583-db28-465d-8085-b30bf396f509",
   "metadata": {},
   "outputs": [],
   "source": [
    "cat_feat = TrainSplit.CATEGORIES + TrainSplit.BINARY\n",
    "num_feat = TrainSplit.NUMERICAL\n",
    "all_feat = cat_feat + num_feat"
   ]
  },
  {
   "cell_type": "code",
   "execution_count": 9,
   "id": "9af8a36e-7d1c-42e9-a788-ac91ec132b30",
   "metadata": {},
   "outputs": [],
   "source": [
    "def objective(trail):\n",
    "    params = {\n",
    "        'max_depth':trail.suggest_int('max_depth',10,50),\n",
    "        'n_estimators':trail.suggest_int('n_estimators',100,300),\n",
    "        'n_jobs':-1,        \n",
    "    }\n",
    "    print(params)\n",
    "    target = TrainSplit.IS_INSTALLED[0]\n",
    "    model = RandomForestClassifier(**params)\n",
    "    model.fit(X_train[use_features],y_train[target])\n",
    "    y_pred = model.predict(X_test[use_features])\n",
    "    score = log_loss(y_test[target],y_pred)\n",
    "    # print(model.feature_names_in_)\n",
    "    gc.collect()\n",
    "    return score"
   ]
  },
  {
   "cell_type": "code",
   "execution_count": null,
   "id": "9d293248-d775-4de9-9344-17a1810ce2b8",
   "metadata": {},
   "outputs": [
    {
     "name": "stderr",
     "output_type": "stream",
     "text": [
      "\u001b[32m[I 2023-05-25 04:52:14,098]\u001b[0m A new study created in memory with name: install_log_loss\u001b[0m\n"
     ]
    },
    {
     "name": "stdout",
     "output_type": "stream",
     "text": [
      "{'max_depth': 35, 'n_estimators': 111, 'n_jobs': -1}\n"
     ]
    },
    {
     "name": "stderr",
     "output_type": "stream",
     "text": [
      "\u001b[32m[I 2023-05-25 04:54:31,456]\u001b[0m Trial 0 finished with value: 6.106660786407882 and parameters: {'max_depth': 35, 'n_estimators': 111}. Best is trial 0 with value: 6.106660786407882.\u001b[0m\n"
     ]
    },
    {
     "name": "stdout",
     "output_type": "stream",
     "text": [
      "{'max_depth': 15, 'n_estimators': 263, 'n_jobs': -1}\n"
     ]
    },
    {
     "name": "stderr",
     "output_type": "stream",
     "text": [
      "\u001b[32m[I 2023-05-25 04:58:08,090]\u001b[0m Trial 1 finished with value: 6.297727389404042 and parameters: {'max_depth': 15, 'n_estimators': 263}. Best is trial 0 with value: 6.106660786407882.\u001b[0m\n"
     ]
    },
    {
     "name": "stdout",
     "output_type": "stream",
     "text": [
      "{'max_depth': 44, 'n_estimators': 181, 'n_jobs': -1}\n"
     ]
    }
   ],
   "source": [
    "use_features = all_feat\n",
    "study_install = optuna.create_study(direction='minimize',study_name='install_log_loss')\n",
    "study_install.optimize(objective, n_trials=30)"
   ]
  },
  {
   "cell_type": "code",
   "execution_count": null,
   "id": "193ee4cd-ad6c-4ded-a272-f5ebb5fec0d7",
   "metadata": {},
   "outputs": [],
   "source": []
  }
 ],
 "metadata": {
  "kernelspec": {
   "display_name": "Python 3 (ipykernel)",
   "language": "python",
   "name": "python3"
  },
  "language_info": {
   "codemirror_mode": {
    "name": "ipython",
    "version": 3
   },
   "file_extension": ".py",
   "mimetype": "text/x-python",
   "name": "python",
   "nbconvert_exporter": "python",
   "pygments_lexer": "ipython3",
   "version": "3.9.16"
  }
 },
 "nbformat": 4,
 "nbformat_minor": 5
}
