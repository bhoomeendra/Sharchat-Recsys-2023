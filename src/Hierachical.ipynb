{
 "cells": [
  {
   "cell_type": "code",
   "execution_count": 1,
   "id": "67f7678d-d232-4417-8b10-7e18cf4df5f0",
   "metadata": {},
   "outputs": [],
   "source": [
    "from tqdm import tqdm\n",
    "from xgboost import XGBClassifier\n",
    "import pandas as pd\n",
    "import numpy as np\n",
    "from sklearn.model_selection import train_test_split\n",
    "from sklearn.metrics import f1_score\n",
    "\n",
    "ROWID = ['f_0']\n",
    "DATE = ['f_1']\n",
    "CATEGORIES = [ f'f_{i}' for i in range(2,33) ]\n",
    "BINARY = [ f'f_{i}' for i in range(33,42) ]\n",
    "NUMERICAL = [ f'f_{i}' for i in range(42,80) ]\n",
    "IS_CLICKED = ['is_clicked']\n",
    "IS_INSTALLED =['is_installed']"
   ]
  },
  {
   "cell_type": "code",
   "execution_count": 2,
   "id": "dda18b89-860b-4622-9ff5-de0c1ab9204a",
   "metadata": {},
   "outputs": [],
   "source": [
    "missing = pd.read_csv('../Data/miss_combine.csv')"
   ]
  },
  {
   "cell_type": "markdown",
   "id": "07d786ac-64f4-49af-bf55-4481b7509d6e",
   "metadata": {},
   "source": [
    "## Imputation"
   ]
  },
  {
   "cell_type": "code",
   "execution_count": 3,
   "id": "bc4a1edb-be79-4891-b0f1-180e921fa705",
   "metadata": {},
   "outputs": [
    {
     "name": "stderr",
     "output_type": "stream",
     "text": [
      "NUM IMPUTE: 100%|████████████████████████████████████████████████████████████████████████████████████████████████████████████████████████| 11/11 [00:00<00:00, 48.45it/s]\n"
     ]
    }
   ],
   "source": [
    "missing['f_30'].fillna(missing['f_30'].mode()[0],inplace=True)\n",
    "missing['f_31'].fillna(missing['f_31'].mode()[0],inplace=True)\n",
    "fmiss = \"f_43,f_51,f_58,f_59,f_64,f_65,f_66,f_67,f_68,f_69,f_70\".split(',')\n",
    "for f in tqdm(fmiss,desc=\"NUM IMPUTE\"):\n",
    "    missing[f].fillna(missing[f].mean(),inplace=True)"
   ]
  },
  {
   "cell_type": "markdown",
   "id": "8697ea48-7f0b-446b-bf68-07cf91d2de3e",
   "metadata": {},
   "source": [
    "## Data Split"
   ]
  },
  {
   "cell_type": "code",
   "execution_count": 4,
   "id": "3cc0fea6-3e07-4195-9a34-b137cf38e3fa",
   "metadata": {},
   "outputs": [],
   "source": [
    "click_train = missing\n",
    "install_train = missing"
   ]
  },
  {
   "cell_type": "markdown",
   "id": "34d2eb43-b910-463c-80f1-340ebc4e4fa6",
   "metadata": {},
   "source": [
    "## Feature Used"
   ]
  },
  {
   "cell_type": "code",
   "execution_count": 5,
   "id": "d986cd52-fa29-44ad-bdb1-9f020e7c33df",
   "metadata": {},
   "outputs": [],
   "source": [
    "click_feat_list = CATEGORIES + BINARY + NUMERICAL#['f_43','f_48','f_50','f_66','f_68','f_69','f_70','f_72','f_73']\n",
    "install_feat_list = CATEGORIES + BINARY + NUMERICAL#['f_58','f_59','f_50','f_68']"
   ]
  },
  {
   "cell_type": "markdown",
   "id": "d28e2ed9-db66-4815-861d-b28736b0d59c",
   "metadata": {},
   "source": [
    "## Modelling"
   ]
  },
  {
   "cell_type": "code",
   "execution_count": 6,
   "id": "1146baeb-7c24-466d-947f-965d2f588b9d",
   "metadata": {},
   "outputs": [],
   "source": [
    "clk_inst = click_train[IS_CLICKED[0]] | click_train[IS_INSTALLED[0]] "
   ]
  },
  {
   "cell_type": "code",
   "execution_count": 7,
   "id": "37b91bea-950e-480e-8357-34bb7b298f3e",
   "metadata": {},
   "outputs": [
    {
     "data": {
      "text/plain": [
       "0    2360893\n",
       "1    1124959\n",
       "dtype: int64"
      ]
     },
     "execution_count": 7,
     "metadata": {},
     "output_type": "execute_result"
    }
   ],
   "source": [
    "clk_inst.value_counts()"
   ]
  },
  {
   "cell_type": "code",
   "execution_count": 8,
   "id": "b4cadc77-90aa-4fe2-8c61-f9f9b9da65cf",
   "metadata": {},
   "outputs": [
    {
     "data": {
      "text/plain": [
       "2.098648039617444"
      ]
     },
     "execution_count": 8,
     "metadata": {},
     "output_type": "execute_result"
    }
   ],
   "source": [
    "2360893/1124959"
   ]
  },
  {
   "cell_type": "code",
   "execution_count": 9,
   "id": "51bf488c-83d1-4237-9be8-52afd0172f3e",
   "metadata": {},
   "outputs": [],
   "source": [
    "y_train = clk_inst\n",
    "X_train = click_train[click_feat_list]\n",
    "# X_train,X_test,y_train,y_test = train_test_split(X,y,test_size=0.1,stratify=y)"
   ]
  },
  {
   "cell_type": "code",
   "execution_count": 10,
   "id": "08bc37d0-d9bc-4c16-b98a-a48e78a05fa9",
   "metadata": {},
   "outputs": [
    {
     "data": {
      "text/plain": [
       "XGBClassifier(base_score=None, booster=None, callbacks=None,\n",
       "              colsample_bylevel=None, colsample_bynode=None,\n",
       "              colsample_bytree=None, early_stopping_rounds=None,\n",
       "              enable_categorical=False, eval_metric=None, feature_types=None,\n",
       "              gamma=None, gpu_id=None, grow_policy=None, importance_type=None,\n",
       "              interaction_constraints=None, learning_rate=0.1, max_bin=None,\n",
       "              max_cat_threshold=None, max_cat_to_onehot=None,\n",
       "              max_delta_step=None, max_depth=None, max_leaves=None,\n",
       "              min_child_weight=None, missing=nan, monotone_constraints=None,\n",
       "              n_estimators=500, n_jobs=None, num_parallel_tree=None,\n",
       "              predictor=None, random_state=None, ...)"
      ]
     },
     "execution_count": 10,
     "metadata": {},
     "output_type": "execute_result"
    }
   ],
   "source": [
    "clk_install_classifier = XGBClassifier(learning_rate=0.1, n_estimators=500, objective='binary:logistic',\n",
    "                            verbosity=2,tree_method='gpu_hist',scale_pos_weight=2.09)\n",
    "\n",
    "clk_install_classifier.fit(X_train,y_train)"
   ]
  },
  {
   "cell_type": "code",
   "execution_count": 11,
   "id": "d69d8200-2dcc-4352-82f9-5cdcc2202a4c",
   "metadata": {
    "tags": []
   },
   "outputs": [],
   "source": [
    "y_clk_inst_pred_prob = clk_install_classifier.predict_proba(X_test)"
   ]
  },
  {
   "cell_type": "code",
   "execution_count": 13,
   "id": "df11f742-2a32-4f9b-8705-4c6f66b45133",
   "metadata": {},
   "outputs": [],
   "source": [
    "from sklearn.metrics import precision_recall_curve\n",
    "precision, recall, thresholds = precision_recall_curve(~y_test+2, y_clk_inst_pred_prob[:,0])"
   ]
  },
  {
   "cell_type": "code",
   "execution_count": 14,
   "id": "1d90c733-3391-4c92-b2b1-1dfbb1666819",
   "metadata": {},
   "outputs": [
    {
     "data": {
      "text/plain": [
       "325279"
      ]
     },
     "execution_count": 14,
     "metadata": {},
     "output_type": "execute_result"
    }
   ],
   "source": [
    "len(thresholds)"
   ]
  },
  {
   "cell_type": "code",
   "execution_count": 15,
   "id": "eb5de8db-47ae-4e63-b190-384bd32e8944",
   "metadata": {},
   "outputs": [],
   "source": [
    "f1 = 2*precision*recall/(precision+recall)"
   ]
  },
  {
   "cell_type": "code",
   "execution_count": 16,
   "id": "31ee62c5-df4b-49cf-863c-1b30828722b2",
   "metadata": {},
   "outputs": [
    {
     "data": {
      "text/plain": [
       "0.8856548856548858"
      ]
     },
     "execution_count": 16,
     "metadata": {},
     "output_type": "execute_result"
    }
   ],
   "source": [
    "np.max(f1)"
   ]
  },
  {
   "cell_type": "code",
   "execution_count": 17,
   "id": "4cc98ba5-a25f-4e1f-b8a1-8f67f1ce7291",
   "metadata": {},
   "outputs": [
    {
     "name": "stdout",
     "output_type": "stream",
     "text": [
      "TH:  0.755195 Recall:  0.47357787284510144 Precision:  0.9298807365391972 F1:  0.6275510204081634\n"
     ]
    }
   ],
   "source": [
    "idx = 207522\n",
    "print(\"TH: \",thresholds[idx],\"Recall: \",recall[idx],\"Precision: \",precision[idx],\"F1: \",f1[idx])"
   ]
  },
  {
   "cell_type": "code",
   "execution_count": 20,
   "id": "48049066-afdb-42ff-a74f-129e7f9b770c",
   "metadata": {},
   "outputs": [
    {
     "data": {
      "text/plain": [
       "array([False, False, False, ...,  True,  True, False])"
      ]
     },
     "execution_count": 20,
     "metadata": {},
     "output_type": "execute_result"
    }
   ],
   "source": [
    "y_clk_inst_pred_prob[:,0]>0.755"
   ]
  },
  {
   "cell_type": "code",
   "execution_count": 13,
   "id": "d4fdfd5e-d597-4cb3-b18b-b19ba70fc28a",
   "metadata": {},
   "outputs": [],
   "source": [
    "y_clk_inst_pred_prob = clk_install_classifier.predict_proba(X_train)"
   ]
  },
  {
   "cell_type": "code",
   "execution_count": 14,
   "id": "29a034fb-1434-4c85-9d8d-9bb313f2a4bd",
   "metadata": {},
   "outputs": [],
   "source": [
    "X_train_filter = X_train[y_clk_inst_pred_prob[:,0]<0.755]"
   ]
  },
  {
   "cell_type": "code",
   "execution_count": 16,
   "id": "8debab34-37fd-491f-89ab-eaf36db9cead",
   "metadata": {},
   "outputs": [
    {
     "data": {
      "text/plain": [
       "(3485852, 2290514)"
      ]
     },
     "execution_count": 16,
     "metadata": {},
     "output_type": "execute_result"
    }
   ],
   "source": [
    "len(X_train),len(X_train_filter)"
   ]
  },
  {
   "cell_type": "code",
   "execution_count": 17,
   "id": "0529f000-f55b-49d0-a624-06ec7edb7d57",
   "metadata": {},
   "outputs": [],
   "source": [
    "y_train_filter = y_train[y_clk_inst_pred_prob[:,0]<0.755]"
   ]
  },
  {
   "cell_type": "code",
   "execution_count": 18,
   "id": "f96c5521-0014-4ad2-94ea-55d49ef49308",
   "metadata": {},
   "outputs": [
    {
     "data": {
      "text/plain": [
       "2290514"
      ]
     },
     "execution_count": 18,
     "metadata": {},
     "output_type": "execute_result"
    }
   ],
   "source": [
    "len(y_train_filter)"
   ]
  },
  {
   "cell_type": "code",
   "execution_count": 19,
   "id": "b34c5494-4500-4427-9580-ee36ee2d70e8",
   "metadata": {},
   "outputs": [],
   "source": [
    "y_clicked = click_train[y_clk_inst_pred_prob[:,0]<0.755][IS_CLICKED]\n",
    "y_installed = click_train[y_clk_inst_pred_prob[:,0]<0.755][IS_INSTALLED]"
   ]
  },
  {
   "cell_type": "code",
   "execution_count": 20,
   "id": "6b9e0eca-f98c-4c58-aab5-5559532e3e08",
   "metadata": {},
   "outputs": [
    {
     "data": {
      "text/plain": [
       "(2290514, 2290514)"
      ]
     },
     "execution_count": 20,
     "metadata": {},
     "output_type": "execute_result"
    }
   ],
   "source": [
    "len(y_clicked),len(y_installed)"
   ]
  },
  {
   "cell_type": "code",
   "execution_count": 21,
   "id": "5dd8a351-8fa4-4789-b5e6-da5a20e3cb72",
   "metadata": {},
   "outputs": [
    {
     "data": {
      "text/plain": [
       "XGBClassifier(base_score=None, booster=None, callbacks=None,\n",
       "              colsample_bylevel=None, colsample_bynode=None,\n",
       "              colsample_bytree=None, early_stopping_rounds=None,\n",
       "              enable_categorical=False, eval_metric=None, feature_types=None,\n",
       "              gamma=None, gpu_id=None, grow_policy=None, importance_type=None,\n",
       "              interaction_constraints=None, learning_rate=0.1, max_bin=None,\n",
       "              max_cat_threshold=None, max_cat_to_onehot=None,\n",
       "              max_delta_step=None, max_depth=None, max_leaves=None,\n",
       "              min_child_weight=None, missing=nan, monotone_constraints=None,\n",
       "              n_estimators=500, n_jobs=None, num_parallel_tree=None,\n",
       "              predictor=None, random_state=None, ...)"
      ]
     },
     "execution_count": 21,
     "metadata": {},
     "output_type": "execute_result"
    }
   ],
   "source": [
    "clk_classifier = XGBClassifier(learning_rate=0.1, n_estimators=500, objective='binary:logistic',\n",
    "                            verbosity=2,tree_method='gpu_hist')\n",
    "\n",
    "clk_classifier.fit(X_train_filter,y_clicked)"
   ]
  },
  {
   "cell_type": "code",
   "execution_count": 25,
   "id": "35893b9a-33ed-4d66-aa5f-bb5796813f3b",
   "metadata": {},
   "outputs": [
    {
     "data": {
      "text/plain": [
       "XGBClassifier(base_score=None, booster=None, callbacks=None,\n",
       "              colsample_bylevel=None, colsample_bynode=None,\n",
       "              colsample_bytree=None, early_stopping_rounds=None,\n",
       "              enable_categorical=False, eval_metric=None, feature_types=None,\n",
       "              gamma=None, gpu_id=None, grow_policy=None, importance_type=None,\n",
       "              interaction_constraints=None, learning_rate=0.1, max_bin=None,\n",
       "              max_cat_threshold=None, max_cat_to_onehot=None,\n",
       "              max_delta_step=None, max_depth=None, max_leaves=None,\n",
       "              min_child_weight=None, missing=nan, monotone_constraints=None,\n",
       "              n_estimators=500, n_jobs=None, num_parallel_tree=None,\n",
       "              predictor=None, random_state=None, ...)"
      ]
     },
     "execution_count": 25,
     "metadata": {},
     "output_type": "execute_result"
    }
   ],
   "source": [
    "install_classifier = XGBClassifier(learning_rate=0.1, n_estimators=500, objective='binary:logistic',\n",
    "                            verbosity=2,tree_method='gpu_hist')\n",
    "\n",
    "install_classifier.fit(X_train_filter,y_installed)"
   ]
  },
  {
   "cell_type": "code",
   "execution_count": 23,
   "id": "e6829eca-5fde-4817-b5f4-ffcc52ed68e1",
   "metadata": {},
   "outputs": [],
   "source": [
    "test = pd.read_csv('../Data/test/000000000000.csv',sep='\\t')"
   ]
  },
  {
   "cell_type": "code",
   "execution_count": 24,
   "id": "b0dd6718-28f8-4bd0-ae53-759b5cbb8ac4",
   "metadata": {},
   "outputs": [],
   "source": [
    "test['f_30'].fillna(test['f_30'].mode()[0],inplace=True)\n",
    "test['f_31'].fillna(test['f_31'].mode()[0],inplace=True)\n",
    "for f in fmiss:\n",
    "    test[f].fillna(test[f].mean(),inplace=True)"
   ]
  },
  {
   "cell_type": "code",
   "execution_count": 26,
   "id": "d2b3ccbe-3e3e-4d08-8a5e-6bb266881d77",
   "metadata": {},
   "outputs": [],
   "source": [
    "out = clk_install_classifier.predict_proba(test[click_feat_list])"
   ]
  },
  {
   "cell_type": "code",
   "execution_count": 27,
   "id": "b1fcbc4c-fee8-4e6c-82a4-a999ced52340",
   "metadata": {},
   "outputs": [
    {
     "data": {
      "text/plain": [
       "160973"
      ]
     },
     "execution_count": 27,
     "metadata": {},
     "output_type": "execute_result"
    }
   ],
   "source": [
    "len(out)"
   ]
  },
  {
   "cell_type": "code",
   "execution_count": 28,
   "id": "da06f532-e745-4113-b4ca-57ae8bb8c7b8",
   "metadata": {},
   "outputs": [],
   "source": [
    "import numpy as np\n",
    "result = np.vstack([test['f_0'].to_numpy(dtype=int),np.zeros(len(out)),np.zeros(len(out))])"
   ]
  },
  {
   "cell_type": "code",
   "execution_count": 30,
   "id": "c19854c4-c3fe-4059-afa5-6fe3dba4b7cd",
   "metadata": {},
   "outputs": [],
   "source": [
    "results = result.T"
   ]
  },
  {
   "cell_type": "code",
   "execution_count": 32,
   "id": "5068b068-79ac-4def-aa08-13b09db85f04",
   "metadata": {},
   "outputs": [],
   "source": [
    "results = pd.DataFrame(results,columns=['RowId','is_clicked','is_installed'])"
   ]
  },
  {
   "cell_type": "code",
   "execution_count": 33,
   "id": "200992b3-2f2d-4221-ae60-6f739c671b96",
   "metadata": {},
   "outputs": [
    {
     "data": {
      "text/html": [
       "<div>\n",
       "<style scoped>\n",
       "    .dataframe tbody tr th:only-of-type {\n",
       "        vertical-align: middle;\n",
       "    }\n",
       "\n",
       "    .dataframe tbody tr th {\n",
       "        vertical-align: top;\n",
       "    }\n",
       "\n",
       "    .dataframe thead th {\n",
       "        text-align: right;\n",
       "    }\n",
       "</style>\n",
       "<table border=\"1\" class=\"dataframe\">\n",
       "  <thead>\n",
       "    <tr style=\"text-align: right;\">\n",
       "      <th></th>\n",
       "      <th>RowId</th>\n",
       "      <th>is_clicked</th>\n",
       "      <th>is_installed</th>\n",
       "    </tr>\n",
       "  </thead>\n",
       "  <tbody>\n",
       "    <tr>\n",
       "      <th>0</th>\n",
       "      <td>64505.0</td>\n",
       "      <td>0.0</td>\n",
       "      <td>0.0</td>\n",
       "    </tr>\n",
       "    <tr>\n",
       "      <th>1</th>\n",
       "      <td>64506.0</td>\n",
       "      <td>0.0</td>\n",
       "      <td>0.0</td>\n",
       "    </tr>\n",
       "    <tr>\n",
       "      <th>2</th>\n",
       "      <td>64507.0</td>\n",
       "      <td>0.0</td>\n",
       "      <td>0.0</td>\n",
       "    </tr>\n",
       "    <tr>\n",
       "      <th>3</th>\n",
       "      <td>64508.0</td>\n",
       "      <td>0.0</td>\n",
       "      <td>0.0</td>\n",
       "    </tr>\n",
       "    <tr>\n",
       "      <th>4</th>\n",
       "      <td>64509.0</td>\n",
       "      <td>0.0</td>\n",
       "      <td>0.0</td>\n",
       "    </tr>\n",
       "  </tbody>\n",
       "</table>\n",
       "</div>"
      ],
      "text/plain": [
       "     RowId  is_clicked  is_installed\n",
       "0  64505.0         0.0           0.0\n",
       "1  64506.0         0.0           0.0\n",
       "2  64507.0         0.0           0.0\n",
       "3  64508.0         0.0           0.0\n",
       "4  64509.0         0.0           0.0"
      ]
     },
     "execution_count": 33,
     "metadata": {},
     "output_type": "execute_result"
    }
   ],
   "source": [
    "results.head()"
   ]
  },
  {
   "cell_type": "code",
   "execution_count": 34,
   "id": "224bfced-1d7c-4059-be31-3fc3aff690ce",
   "metadata": {},
   "outputs": [],
   "source": [
    "test_filter = test[out[:,0]<0.755]"
   ]
  },
  {
   "cell_type": "code",
   "execution_count": 36,
   "id": "45f87047-ef93-4178-9480-5324627167e4",
   "metadata": {},
   "outputs": [],
   "source": [
    "click_pred = clk_classifier.predict_proba(test_filter[click_feat_list])"
   ]
  },
  {
   "cell_type": "code",
   "execution_count": 37,
   "id": "e078a979-3c83-4366-a804-7922a7f550a5",
   "metadata": {},
   "outputs": [],
   "source": [
    "install_pred = install_classifier.predict_proba(test_filter[click_feat_list])"
   ]
  },
  {
   "cell_type": "code",
   "execution_count": 40,
   "id": "631cca89-3bab-4da4-ac77-4b47a4fbe572",
   "metadata": {},
   "outputs": [
    {
     "data": {
      "text/plain": [
       "138490"
      ]
     },
     "execution_count": 40,
     "metadata": {},
     "output_type": "execute_result"
    }
   ],
   "source": [
    "len(click_pred[:,1])"
   ]
  },
  {
   "cell_type": "code",
   "execution_count": 41,
   "id": "4a69880e-c5e8-4bcb-bcf8-490fa6c19d29",
   "metadata": {},
   "outputs": [
    {
     "data": {
      "text/plain": [
       "138490"
      ]
     },
     "execution_count": 41,
     "metadata": {},
     "output_type": "execute_result"
    }
   ],
   "source": [
    "len(results[out[:,0]<0.755][IS_CLICKED])"
   ]
  },
  {
   "cell_type": "code",
   "execution_count": 43,
   "id": "a16e23a0-dd97-46ca-94be-00c15414d12d",
   "metadata": {},
   "outputs": [
    {
     "data": {
      "text/plain": [
       "(138490, 1)"
      ]
     },
     "execution_count": 43,
     "metadata": {},
     "output_type": "execute_result"
    }
   ],
   "source": [
    "results.loc[out[:,0]<0.755,IS_CLICKED].shape"
   ]
  },
  {
   "cell_type": "code",
   "execution_count": 44,
   "id": "56ff1cd3-4ee3-43e3-b2d8-728062a8f3fa",
   "metadata": {},
   "outputs": [
    {
     "data": {
      "text/plain": [
       "array([[0.44466478],\n",
       "       [0.08684335],\n",
       "       [0.28133684],\n",
       "       ...,\n",
       "       [0.16697733],\n",
       "       [0.36568078],\n",
       "       [0.99873596]], dtype=float32)"
      ]
     },
     "execution_count": 44,
     "metadata": {},
     "output_type": "execute_result"
    }
   ],
   "source": [
    "click_pred[:,1].reshape(-1,1)"
   ]
  },
  {
   "cell_type": "code",
   "execution_count": 45,
   "id": "ea3f1906-5f26-435d-ab47-94fd06e0c513",
   "metadata": {},
   "outputs": [],
   "source": [
    "results.loc[out[:,0]<0.755,IS_CLICKED] = click_pred[:,1].reshape(-1,1)"
   ]
  },
  {
   "cell_type": "code",
   "execution_count": 46,
   "id": "fa06dc61-b1c8-4e56-b43e-93a6e1a238b0",
   "metadata": {},
   "outputs": [
    {
     "data": {
      "text/html": [
       "<div>\n",
       "<style scoped>\n",
       "    .dataframe tbody tr th:only-of-type {\n",
       "        vertical-align: middle;\n",
       "    }\n",
       "\n",
       "    .dataframe tbody tr th {\n",
       "        vertical-align: top;\n",
       "    }\n",
       "\n",
       "    .dataframe thead th {\n",
       "        text-align: right;\n",
       "    }\n",
       "</style>\n",
       "<table border=\"1\" class=\"dataframe\">\n",
       "  <thead>\n",
       "    <tr style=\"text-align: right;\">\n",
       "      <th></th>\n",
       "      <th>RowId</th>\n",
       "      <th>is_clicked</th>\n",
       "      <th>is_installed</th>\n",
       "    </tr>\n",
       "  </thead>\n",
       "  <tbody>\n",
       "    <tr>\n",
       "      <th>0</th>\n",
       "      <td>64505.0</td>\n",
       "      <td>0.444665</td>\n",
       "      <td>0.0</td>\n",
       "    </tr>\n",
       "    <tr>\n",
       "      <th>1</th>\n",
       "      <td>64506.0</td>\n",
       "      <td>0.086843</td>\n",
       "      <td>0.0</td>\n",
       "    </tr>\n",
       "    <tr>\n",
       "      <th>2</th>\n",
       "      <td>64507.0</td>\n",
       "      <td>0.281337</td>\n",
       "      <td>0.0</td>\n",
       "    </tr>\n",
       "    <tr>\n",
       "      <th>3</th>\n",
       "      <td>64508.0</td>\n",
       "      <td>0.178738</td>\n",
       "      <td>0.0</td>\n",
       "    </tr>\n",
       "    <tr>\n",
       "      <th>4</th>\n",
       "      <td>64509.0</td>\n",
       "      <td>0.594419</td>\n",
       "      <td>0.0</td>\n",
       "    </tr>\n",
       "  </tbody>\n",
       "</table>\n",
       "</div>"
      ],
      "text/plain": [
       "     RowId  is_clicked  is_installed\n",
       "0  64505.0    0.444665           0.0\n",
       "1  64506.0    0.086843           0.0\n",
       "2  64507.0    0.281337           0.0\n",
       "3  64508.0    0.178738           0.0\n",
       "4  64509.0    0.594419           0.0"
      ]
     },
     "execution_count": 46,
     "metadata": {},
     "output_type": "execute_result"
    }
   ],
   "source": [
    "results.head()"
   ]
  },
  {
   "cell_type": "code",
   "execution_count": 47,
   "id": "788739c5-14c4-4a34-b850-05329b643845",
   "metadata": {},
   "outputs": [],
   "source": [
    "results.loc[out[:,0]<0.755,IS_INSTALLED] = install_pred[:,1].reshape(-1,1)"
   ]
  },
  {
   "cell_type": "code",
   "execution_count": 52,
   "id": "15972995-cb85-4481-ace2-a17569fc1f11",
   "metadata": {},
   "outputs": [],
   "source": [
    "results.to_csv('../Data/Hierachical_results.csv', sep ='\\t', index=False)"
   ]
  },
  {
   "cell_type": "code",
   "execution_count": null,
   "id": "13c60efc-c327-4947-9d40-992e3898fbdc",
   "metadata": {},
   "outputs": [],
   "source": []
  }
 ],
 "metadata": {
  "kernelspec": {
   "display_name": "Python 3 (ipykernel)",
   "language": "python",
   "name": "python3"
  },
  "language_info": {
   "codemirror_mode": {
    "name": "ipython",
    "version": 3
   },
   "file_extension": ".py",
   "mimetype": "text/x-python",
   "name": "python",
   "nbconvert_exporter": "python",
   "pygments_lexer": "ipython3",
   "version": "3.9.16"
  }
 },
 "nbformat": 4,
 "nbformat_minor": 5
}
