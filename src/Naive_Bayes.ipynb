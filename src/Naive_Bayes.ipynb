{
 "cells": [
  {
   "cell_type": "code",
   "execution_count": 59,
   "id": "73e3198e-733b-49c8-80c6-f3b9050749ed",
   "metadata": {},
   "outputs": [],
   "source": [
    "from utils import TestResults,TrainSplit\n",
    "from xgboost import XGBClassifier\n",
    "from sklearn.metrics import f1_score, log_loss\n",
    "from sklearn.naive_bayes import ComplementNB\n",
    "import numpy as np\n",
    "import optuna"
   ]
  },
  {
   "cell_type": "code",
   "execution_count": 2,
   "id": "99a21448-a9f1-4586-8fb4-e948b08c5479",
   "metadata": {},
   "outputs": [
    {
     "name": "stdout",
     "output_type": "stream",
     "text": [
      "Loading the data\n",
      "Categorial Feature Imputed\n"
     ]
    },
    {
     "name": "stderr",
     "output_type": "stream",
     "text": [
      "NUM IMPUTE: 100%|█████████████████████████████████████| 11/11 [00:00<00:00, 56.29it/s]\n"
     ]
    },
    {
     "name": "stdout",
     "output_type": "stream",
     "text": [
      "Spliting the Data based on time\n",
      "X_train:(3387880, 80), X_test:(97972, 80) , y_train:(3387880, 2) , y_test:(97972, 2)\n"
     ]
    }
   ],
   "source": [
    "X_train, X_test, y_train, y_test = TrainSplit().get_split()"
   ]
  },
  {
   "cell_type": "code",
   "execution_count": 4,
   "id": "37c38bb9-48cc-4db8-bee1-5693792851fb",
   "metadata": {},
   "outputs": [],
   "source": [
    "cat_feat = TrainSplit.CATEGORIES + TrainSplit.BINARY\n",
    "num_feat = TrainSplit.NUMERICAL\n",
    "all_feat = cat_feat + num_feat"
   ]
  },
  {
   "cell_type": "code",
   "execution_count": 14,
   "id": "202cc418-aa46-4f98-86b6-745dce66a9fb",
   "metadata": {
    "collapsed": true,
    "jupyter": {
     "outputs_hidden": true
    },
    "tags": []
   },
   "outputs": [
    {
     "name": "stdout",
     "output_type": "stream",
     "text": [
      "Help on class CategoricalNB in module sklearn.naive_bayes:\n",
      "\n",
      "class CategoricalNB(_BaseDiscreteNB)\n",
      " |  CategoricalNB(*, alpha=1.0, fit_prior=True, class_prior=None, min_categories=None)\n",
      " |  \n",
      " |  Naive Bayes classifier for categorical features\n",
      " |  \n",
      " |  The categorical Naive Bayes classifier is suitable for classification with\n",
      " |  discrete features that are categorically distributed. The categories of\n",
      " |  each feature are drawn from a categorical distribution.\n",
      " |  \n",
      " |  Read more in the :ref:`User Guide <categorical_naive_bayes>`.\n",
      " |  \n",
      " |  Parameters\n",
      " |  ----------\n",
      " |  alpha : float, default=1.0\n",
      " |      Additive (Laplace/Lidstone) smoothing parameter\n",
      " |      (0 for no smoothing).\n",
      " |  \n",
      " |  fit_prior : bool, default=True\n",
      " |      Whether to learn class prior probabilities or not.\n",
      " |      If false, a uniform prior will be used.\n",
      " |  \n",
      " |  class_prior : array-like of shape (n_classes,), default=None\n",
      " |      Prior probabilities of the classes. If specified the priors are not\n",
      " |      adjusted according to the data.\n",
      " |  \n",
      " |  min_categories : int or array-like of shape (n_features,), default=None\n",
      " |      Minimum number of categories per feature.\n",
      " |  \n",
      " |      - integer: Sets the minimum number of categories per feature to\n",
      " |        `n_categories` for each features.\n",
      " |      - array-like: shape (n_features,) where `n_categories[i]` holds the\n",
      " |        minimum number of categories for the ith column of the input.\n",
      " |      - None (default): Determines the number of categories automatically\n",
      " |        from the training data.\n",
      " |  \n",
      " |      .. versionadded:: 0.24\n",
      " |  \n",
      " |  Attributes\n",
      " |  ----------\n",
      " |  category_count_ : list of arrays of shape (n_features,)\n",
      " |      Holds arrays of shape (n_classes, n_categories of respective feature)\n",
      " |      for each feature. Each array provides the number of samples\n",
      " |      encountered for each class and category of the specific feature.\n",
      " |  \n",
      " |  class_count_ : ndarray of shape (n_classes,)\n",
      " |      Number of samples encountered for each class during fitting. This\n",
      " |      value is weighted by the sample weight when provided.\n",
      " |  \n",
      " |  class_log_prior_ : ndarray of shape (n_classes,)\n",
      " |      Smoothed empirical log probability for each class.\n",
      " |  \n",
      " |  classes_ : ndarray of shape (n_classes,)\n",
      " |      Class labels known to the classifier\n",
      " |  \n",
      " |  feature_log_prob_ : list of arrays of shape (n_features,)\n",
      " |      Holds arrays of shape (n_classes, n_categories of respective feature)\n",
      " |      for each feature. Each array provides the empirical log probability\n",
      " |      of categories given the respective feature and class, ``P(x_i|y)``.\n",
      " |  \n",
      " |  n_features_ : int\n",
      " |      Number of features of each sample.\n",
      " |  \n",
      " |  n_categories_ : ndarray of shape (n_features,), dtype=np.int64\n",
      " |      Number of categories for each feature. This value is\n",
      " |      inferred from the data or set by the minimum number of categories.\n",
      " |  \n",
      " |      .. versionadded:: 0.24\n",
      " |  \n",
      " |  Examples\n",
      " |  --------\n",
      " |  >>> import numpy as np\n",
      " |  >>> rng = np.random.RandomState(1)\n",
      " |  >>> X = rng.randint(5, size=(6, 100))\n",
      " |  >>> y = np.array([1, 2, 3, 4, 5, 6])\n",
      " |  >>> from sklearn.naive_bayes import CategoricalNB\n",
      " |  >>> clf = CategoricalNB()\n",
      " |  >>> clf.fit(X, y)\n",
      " |  CategoricalNB()\n",
      " |  >>> print(clf.predict(X[2:3]))\n",
      " |  [3]\n",
      " |  \n",
      " |  Method resolution order:\n",
      " |      CategoricalNB\n",
      " |      _BaseDiscreteNB\n",
      " |      _BaseNB\n",
      " |      sklearn.base.ClassifierMixin\n",
      " |      sklearn.base.BaseEstimator\n",
      " |      builtins.object\n",
      " |  \n",
      " |  Methods defined here:\n",
      " |  \n",
      " |  __init__(self, *, alpha=1.0, fit_prior=True, class_prior=None, min_categories=None)\n",
      " |      Initialize self.  See help(type(self)) for accurate signature.\n",
      " |  \n",
      " |  fit(self, X, y, sample_weight=None)\n",
      " |      Fit Naive Bayes classifier according to X, y\n",
      " |      \n",
      " |      Parameters\n",
      " |      ----------\n",
      " |      X : {array-like, sparse matrix} of shape (n_samples, n_features)\n",
      " |          Training vectors, where n_samples is the number of samples and\n",
      " |          n_features is the number of features. Here, each feature of X is\n",
      " |          assumed to be from a different categorical distribution.\n",
      " |          It is further assumed that all categories of each feature are\n",
      " |          represented by the numbers 0, ..., n - 1, where n refers to the\n",
      " |          total number of categories for the given feature. This can, for\n",
      " |          instance, be achieved with the help of OrdinalEncoder.\n",
      " |      \n",
      " |      y : array-like of shape (n_samples,)\n",
      " |          Target values.\n",
      " |      \n",
      " |      sample_weight : array-like of shape (n_samples), default=None\n",
      " |          Weights applied to individual samples (1. for unweighted).\n",
      " |      \n",
      " |      Returns\n",
      " |      -------\n",
      " |      self : object\n",
      " |  \n",
      " |  partial_fit(self, X, y, classes=None, sample_weight=None)\n",
      " |      Incremental fit on a batch of samples.\n",
      " |      \n",
      " |      This method is expected to be called several times consecutively\n",
      " |      on different chunks of a dataset so as to implement out-of-core\n",
      " |      or online learning.\n",
      " |      \n",
      " |      This is especially useful when the whole dataset is too big to fit in\n",
      " |      memory at once.\n",
      " |      \n",
      " |      This method has some performance overhead hence it is better to call\n",
      " |      partial_fit on chunks of data that are as large as possible\n",
      " |      (as long as fitting in the memory budget) to hide the overhead.\n",
      " |      \n",
      " |      Parameters\n",
      " |      ----------\n",
      " |      X : {array-like, sparse matrix} of shape (n_samples, n_features)\n",
      " |          Training vectors, where n_samples is the number of samples and\n",
      " |          n_features is the number of features. Here, each feature of X is\n",
      " |          assumed to be from a different categorical distribution.\n",
      " |          It is further assumed that all categories of each feature are\n",
      " |          represented by the numbers 0, ..., n - 1, where n refers to the\n",
      " |          total number of categories for the given feature. This can, for\n",
      " |          instance, be achieved with the help of OrdinalEncoder.\n",
      " |      \n",
      " |      y : array-like of shape (n_samples)\n",
      " |          Target values.\n",
      " |      \n",
      " |      classes : array-like of shape (n_classes), default=None\n",
      " |          List of all the classes that can possibly appear in the y vector.\n",
      " |      \n",
      " |          Must be provided at the first call to partial_fit, can be omitted\n",
      " |          in subsequent calls.\n",
      " |      \n",
      " |      sample_weight : array-like of shape (n_samples), default=None\n",
      " |          Weights applied to individual samples (1. for unweighted).\n",
      " |      \n",
      " |      Returns\n",
      " |      -------\n",
      " |      self : object\n",
      " |  \n",
      " |  ----------------------------------------------------------------------\n",
      " |  Data and other attributes defined here:\n",
      " |  \n",
      " |  __abstractmethods__ = frozenset()\n",
      " |  \n",
      " |  ----------------------------------------------------------------------\n",
      " |  Readonly properties inherited from _BaseDiscreteNB:\n",
      " |  \n",
      " |  coef_\n",
      " |  \n",
      " |  intercept_\n",
      " |  \n",
      " |  ----------------------------------------------------------------------\n",
      " |  Methods inherited from _BaseNB:\n",
      " |  \n",
      " |  predict(self, X)\n",
      " |      Perform classification on an array of test vectors X.\n",
      " |      \n",
      " |      Parameters\n",
      " |      ----------\n",
      " |      X : array-like of shape (n_samples, n_features)\n",
      " |      \n",
      " |      Returns\n",
      " |      -------\n",
      " |      C : ndarray of shape (n_samples,)\n",
      " |          Predicted target values for X\n",
      " |  \n",
      " |  predict_log_proba(self, X)\n",
      " |      Return log-probability estimates for the test vector X.\n",
      " |      \n",
      " |      Parameters\n",
      " |      ----------\n",
      " |      X : array-like of shape (n_samples, n_features)\n",
      " |      \n",
      " |      Returns\n",
      " |      -------\n",
      " |      C : array-like of shape (n_samples, n_classes)\n",
      " |          Returns the log-probability of the samples for each class in\n",
      " |          the model. The columns correspond to the classes in sorted\n",
      " |          order, as they appear in the attribute :term:`classes_`.\n",
      " |  \n",
      " |  predict_proba(self, X)\n",
      " |      Return probability estimates for the test vector X.\n",
      " |      \n",
      " |      Parameters\n",
      " |      ----------\n",
      " |      X : array-like of shape (n_samples, n_features)\n",
      " |      \n",
      " |      Returns\n",
      " |      -------\n",
      " |      C : array-like of shape (n_samples, n_classes)\n",
      " |          Returns the probability of the samples for each class in\n",
      " |          the model. The columns correspond to the classes in sorted\n",
      " |          order, as they appear in the attribute :term:`classes_`.\n",
      " |  \n",
      " |  ----------------------------------------------------------------------\n",
      " |  Methods inherited from sklearn.base.ClassifierMixin:\n",
      " |  \n",
      " |  score(self, X, y, sample_weight=None)\n",
      " |      Return the mean accuracy on the given test data and labels.\n",
      " |      \n",
      " |      In multi-label classification, this is the subset accuracy\n",
      " |      which is a harsh metric since you require for each sample that\n",
      " |      each label set be correctly predicted.\n",
      " |      \n",
      " |      Parameters\n",
      " |      ----------\n",
      " |      X : array-like of shape (n_samples, n_features)\n",
      " |          Test samples.\n",
      " |      \n",
      " |      y : array-like of shape (n_samples,) or (n_samples, n_outputs)\n",
      " |          True labels for `X`.\n",
      " |      \n",
      " |      sample_weight : array-like of shape (n_samples,), default=None\n",
      " |          Sample weights.\n",
      " |      \n",
      " |      Returns\n",
      " |      -------\n",
      " |      score : float\n",
      " |          Mean accuracy of ``self.predict(X)`` wrt. `y`.\n",
      " |  \n",
      " |  ----------------------------------------------------------------------\n",
      " |  Data descriptors inherited from sklearn.base.ClassifierMixin:\n",
      " |  \n",
      " |  __dict__\n",
      " |      dictionary for instance variables (if defined)\n",
      " |  \n",
      " |  __weakref__\n",
      " |      list of weak references to the object (if defined)\n",
      " |  \n",
      " |  ----------------------------------------------------------------------\n",
      " |  Methods inherited from sklearn.base.BaseEstimator:\n",
      " |  \n",
      " |  __getstate__(self)\n",
      " |  \n",
      " |  __repr__(self, N_CHAR_MAX=700)\n",
      " |      Return repr(self).\n",
      " |  \n",
      " |  __setstate__(self, state)\n",
      " |  \n",
      " |  get_params(self, deep=True)\n",
      " |      Get parameters for this estimator.\n",
      " |      \n",
      " |      Parameters\n",
      " |      ----------\n",
      " |      deep : bool, default=True\n",
      " |          If True, will return the parameters for this estimator and\n",
      " |          contained subobjects that are estimators.\n",
      " |      \n",
      " |      Returns\n",
      " |      -------\n",
      " |      params : dict\n",
      " |          Parameter names mapped to their values.\n",
      " |  \n",
      " |  set_params(self, **params)\n",
      " |      Set the parameters of this estimator.\n",
      " |      \n",
      " |      The method works on simple estimators as well as on nested objects\n",
      " |      (such as :class:`~sklearn.pipeline.Pipeline`). The latter have\n",
      " |      parameters of the form ``<component>__<parameter>`` so that it's\n",
      " |      possible to update each component of a nested object.\n",
      " |      \n",
      " |      Parameters\n",
      " |      ----------\n",
      " |      **params : dict\n",
      " |          Estimator parameters.\n",
      " |      \n",
      " |      Returns\n",
      " |      -------\n",
      " |      self : estimator instance\n",
      " |          Estimator instance.\n",
      "\n"
     ]
    }
   ],
   "source": [
    "help(CategoricalNB)"
   ]
  },
  {
   "cell_type": "code",
   "execution_count": 60,
   "id": "cdfab0ed-78b4-4f16-986c-2c9b87f764f4",
   "metadata": {},
   "outputs": [],
   "source": [
    "nb_model = ComplementNB(alpha=1)"
   ]
  },
  {
   "cell_type": "code",
   "execution_count": 61,
   "id": "aa551905-8960-4f3d-a3c1-2f1c4eddd739",
   "metadata": {},
   "outputs": [
    {
     "data": {
      "text/plain": [
       "ComplementNB(alpha=1)"
      ]
     },
     "execution_count": 61,
     "metadata": {},
     "output_type": "execute_result"
    }
   ],
   "source": [
    "nb_model.fit(X_train[cat_feat],y_train[TrainSplit.IS_INSTALLED[0]])"
   ]
  },
  {
   "cell_type": "code",
   "execution_count": 62,
   "id": "82744747-bdfb-4380-8603-d74a73f4f0d7",
   "metadata": {},
   "outputs": [],
   "source": [
    "import pandas as pd\n",
    "import numpy as np\n",
    "\n",
    "test = pd.read_csv('../Data/test/000000000000.csv',sep='\\t')\n",
    "test['f_30'].fillna(test['f_30'].mode()[0],inplace=True)\n",
    "test['f_31'].fillna(test['f_31'].mode()[0],inplace=True)\n",
    "fmiss = \"f_43,f_51,f_58,f_59,f_64,f_65,f_66,f_67,f_68,f_69,f_70\".split(',')\n",
    "for f in fmiss:\n",
    "    test[f].fillna(test[f].mean(),inplace=True)"
   ]
  },
  {
   "cell_type": "code",
   "execution_count": 63,
   "id": "10607693-80a0-4e5a-afad-1d2968b75b58",
   "metadata": {
    "tags": []
   },
   "outputs": [
    {
     "name": "stdout",
     "output_type": "stream",
     "text": [
      "f_1\n",
      "{67}\n",
      "####################\n",
      "f_2\n",
      "{30041, 6035, 28863}\n",
      "####################\n",
      "f_4\n",
      "{24387, 24333, 14381, 24493, 6230}\n",
      "####################\n",
      "f_6\n",
      "{18433, 7554, 16001, 27784, 30344, 22664, 32267, 24456, 11920, 10385, 27410, 27923, 25364, 1176, 6169, 2843, 14370, 19363, 27428, 27045, 934, 26662, 11172, 11430, 20134, 29603, 25644, 13477, 13695, 32297, 4401, 9011, 437, 5046, 23609, 23228, 2496, 6723, 3652, 13124, 6597, 11983, 3408, 22863, 31440, 28116, 11481, 13274, 9052, 8542, 27231, 19679, 2150, 4072, 1001, 12394, 24811, 20075, 21613, 30959, 30065, 16370, 28660, 31989, 12025, 20858, 19327}\n",
      "####################\n",
      "f_13\n",
      "{19541, 29366}\n",
      "####################\n",
      "f_15\n",
      "{24835, 2563, 3588, 21127, 16135, 8841, 27530, 4363, 6666, 15116, 22286, 7183, 7434, 3474, 9493, 1563, 20128, 8609, 14753, 2084, 22183, 5800, 428, 28980, 4022, 13243, 16318, 19775, 22468, 20166, 30409, 20426, 5328, 14035, 5592, 29659, 7004, 31838, 20703, 13152, 20962, 17125, 17513, 9321, 28267, 4728, 12666, 6384, 17779, 20216, 3577, 16506, 26111}\n",
      "####################\n",
      "f_16\n",
      "{8448, 6270}\n",
      "####################\n",
      "f_18\n",
      "{31620, 5769, 2062, 10639, 13586, 20759, 24856, 22812, 5790, 23843, 31407, 4410, 19901, 17106, 29526, 32604, 863, 29030, 2792, 1131, 25963, 26603, 24444}\n",
      "####################\n",
      "f_20\n",
      "{30994, 29750}\n",
      "####################\n",
      "f_21\n",
      "{30591}\n",
      "####################\n",
      "f_22\n",
      "{9968, 13228}\n",
      "####################\n"
     ]
    }
   ],
   "source": [
    "for i in range(1,42):\n",
    "    feat = f\"f_{i}\"\n",
    "    out = set(test[feat].unique()) -  set(X_test[feat].unique()).union(set(X_train[feat].unique()))\n",
    "    if len(out):\n",
    "        print(feat)\n",
    "        print(out)\n",
    "        print(\"#\"*20)"
   ]
  },
  {
   "cell_type": "code",
   "execution_count": 119,
   "id": "bc26cffb-fb82-4efc-9d8f-5b3638e78baf",
   "metadata": {},
   "outputs": [],
   "source": [
    "out_log = nb_model.predict_log_proba(X_test[cat_feat])"
   ]
  },
  {
   "cell_type": "code",
   "execution_count": 120,
   "id": "8170aa9d-c9a1-42bc-a80e-2720f851195f",
   "metadata": {},
   "outputs": [],
   "source": [
    "out_pro = nb_model.predict_proba(X_test[cat_feat])"
   ]
  },
  {
   "cell_type": "code",
   "execution_count": 121,
   "id": "52f3677a-8f27-4c90-8da5-884f98475296",
   "metadata": {},
   "outputs": [
    {
     "data": {
      "text/plain": [
       "array([[-8201.64443088,     0.        ],\n",
       "       [ -359.23899772,     0.        ],\n",
       "       [    0.        , -6232.90738413],\n",
       "       ...,\n",
       "       [    0.        , -2879.81178446],\n",
       "       [-8318.12946078,     0.        ],\n",
       "       [-3684.03417666,     0.        ]])"
      ]
     },
     "execution_count": 121,
     "metadata": {},
     "output_type": "execute_result"
    }
   ],
   "source": [
    "out_log"
   ]
  },
  {
   "cell_type": "code",
   "execution_count": 123,
   "id": "d79a2fd0-3df0-4953-9e18-682fc6d398e4",
   "metadata": {},
   "outputs": [
    {
     "data": {
      "text/plain": [
       "array([[0.00000000e+000, 1.00000000e+000],\n",
       "       [9.64907329e-157, 1.00000000e+000],\n",
       "       [1.00000000e+000, 0.00000000e+000],\n",
       "       ...,\n",
       "       [1.00000000e+000, 0.00000000e+000],\n",
       "       [0.00000000e+000, 1.00000000e+000],\n",
       "       [0.00000000e+000, 1.00000000e+000]])"
      ]
     },
     "execution_count": 123,
     "metadata": {},
     "output_type": "execute_result"
    }
   ],
   "source": [
    "out_pro"
   ]
  },
  {
   "cell_type": "code",
   "execution_count": 111,
   "id": "5bc6669d-6c60-4b85-a38d-4caac448e51d",
   "metadata": {},
   "outputs": [
    {
     "data": {
      "text/plain": [
       "7.078184835919033"
      ]
     },
     "execution_count": 111,
     "metadata": {},
     "output_type": "execute_result"
    }
   ],
   "source": [
    "out.std()"
   ]
  },
  {
   "cell_type": "code",
   "execution_count": 112,
   "id": "8d5e6757-35d7-4310-affb-9daa8552e8d0",
   "metadata": {},
   "outputs": [
    {
     "data": {
      "text/plain": [
       "-3.60361112133092"
      ]
     },
     "execution_count": 112,
     "metadata": {},
     "output_type": "execute_result"
    }
   ],
   "source": [
    "out.mean()"
   ]
  },
  {
   "cell_type": "code",
   "execution_count": 118,
   "id": "a79554b5-869b-44f5-b194-6e1a061f45f3",
   "metadata": {},
   "outputs": [
    {
     "data": {
      "text/plain": [
       "(array([6.000e+00, 7.000e+00, 2.000e+00, 4.000e+00, 0.000e+00, 0.000e+00,\n",
       "        0.000e+00, 0.000e+00, 0.000e+00, 0.000e+00, 0.000e+00, 0.000e+00,\n",
       "        0.000e+00, 0.000e+00, 0.000e+00, 0.000e+00, 0.000e+00, 0.000e+00,\n",
       "        0.000e+00, 0.000e+00, 0.000e+00, 0.000e+00, 0.000e+00, 0.000e+00,\n",
       "        0.000e+00, 0.000e+00, 0.000e+00, 0.000e+00, 0.000e+00, 0.000e+00,\n",
       "        0.000e+00, 0.000e+00, 0.000e+00, 0.000e+00, 0.000e+00, 0.000e+00,\n",
       "        0.000e+00, 0.000e+00, 0.000e+00, 0.000e+00, 0.000e+00, 0.000e+00,\n",
       "        0.000e+00, 0.000e+00, 0.000e+00, 3.000e+00, 2.000e+00, 1.000e+00,\n",
       "        8.000e+00, 9.000e+00, 2.000e+01, 1.700e+01, 5.900e+01, 1.020e+02,\n",
       "        1.300e+02, 2.120e+02, 4.260e+02, 7.100e+02, 9.880e+02, 1.226e+03,\n",
       "        1.023e+03, 9.210e+02, 7.280e+02, 4.840e+02, 3.230e+02, 1.980e+02,\n",
       "        2.390e+02, 3.930e+02, 5.210e+02, 3.940e+02, 1.740e+02, 9.200e+01,\n",
       "        8.800e+01, 8.100e+01, 1.040e+02, 1.340e+02, 1.340e+02, 1.350e+02,\n",
       "        1.290e+02, 1.090e+02, 1.070e+02, 1.860e+02, 4.350e+02, 6.130e+02,\n",
       "        5.240e+02, 4.130e+02, 3.930e+02, 2.110e+02, 1.070e+02, 1.070e+02,\n",
       "        7.700e+01, 1.530e+02, 3.880e+02, 5.980e+02, 6.190e+02, 7.330e+02,\n",
       "        1.439e+03, 2.490e+03, 3.029e+03, 3.181e+03]),\n",
       " array([-77.62150022, -76.85528522, -76.08907022, -75.32285522,\n",
       "        -74.55664021, -73.79042521, -73.02421021, -72.25799521,\n",
       "        -71.49178021, -70.7255652 , -69.9593502 , -69.1931352 ,\n",
       "        -68.4269202 , -67.6607052 , -66.89449019, -66.12827519,\n",
       "        -65.36206019, -64.59584519, -63.82963019, -63.06341518,\n",
       "        -62.29720018, -61.53098518, -60.76477018, -59.99855518,\n",
       "        -59.23234017, -58.46612517, -57.69991017, -56.93369517,\n",
       "        -56.16748017, -55.40126516, -54.63505016, -53.86883516,\n",
       "        -53.10262016, -52.33640516, -51.57019015, -50.80397515,\n",
       "        -50.03776015, -49.27154515, -48.50533015, -47.73911514,\n",
       "        -46.97290014, -46.20668514, -45.44047014, -44.67425514,\n",
       "        -43.90804013, -43.14182513, -42.37561013, -41.60939513,\n",
       "        -40.84318013, -40.07696512, -39.31075012, -38.54453512,\n",
       "        -37.77832012, -37.01210512, -36.24589011, -35.47967511,\n",
       "        -34.71346011, -33.94724511, -33.18103011, -32.4148151 ,\n",
       "        -31.6486001 , -30.8823851 , -30.1161701 , -29.3499551 ,\n",
       "        -28.58374009, -27.81752509, -27.05131009, -26.28509509,\n",
       "        -25.51888009, -24.75266508, -23.98645008, -23.22023508,\n",
       "        -22.45402008, -21.68780508, -20.92159007, -20.15537507,\n",
       "        -19.38916007, -18.62294507, -17.85673007, -17.09051506,\n",
       "        -16.32430006, -15.55808506, -14.79187006, -14.02565506,\n",
       "        -13.25944005, -12.49322505, -11.72701005, -10.96079505,\n",
       "        -10.19458005,  -9.42836504,  -8.66215004,  -7.89593504,\n",
       "         -7.12972004,  -6.36350504,  -5.59729003,  -4.83107503,\n",
       "         -4.06486003,  -3.29864503,  -2.53243003,  -1.76621502,\n",
       "         -1.00000002]),\n",
       " <BarContainer object of 100 artists>)"
      ]
     },
     "execution_count": 118,
     "metadata": {},
     "output_type": "execute_result"
    },
    {
     "data": {
      "image/png": "[encoded data removed]",
      "text/plain": [
       "<Figure size 640x480 with 1 Axes>"
      ]
     },
     "metadata": {},
     "output_type": "display_data"
    }
   ],
   "source": [
    "import matplotlib.pyplot as plt\n",
    "plt.hist(out[out[:,1]<-1,1],bins=100)"
   ]
  },
  {
   "cell_type": "code",
   "execution_count": 108,
   "id": "22104d31-c43a-4076-b1f6-6080a7959d9f",
   "metadata": {},
   "outputs": [
    {
     "data": {
      "text/plain": [
       "6.473640947819223"
      ]
     },
     "execution_count": 108,
     "metadata": {},
     "output_type": "execute_result"
    }
   ],
   "source": [
    "log_loss(y_test[TrainSplit.IS_INSTALLED[0]],out[:,1])"
   ]
  },
  {
   "cell_type": "code",
   "execution_count": 92,
   "id": "d05c1b46-5697-4103-8082-0ec30af0bced",
   "metadata": {},
   "outputs": [],
   "source": [
    "from sklearn.preprocessing import StandardScaler"
   ]
  },
  {
   "cell_type": "code",
   "execution_count": 95,
   "id": "59783ece-d149-4fe0-9c8f-c63daf0cb786",
   "metadata": {},
   "outputs": [],
   "source": [
    "sc = StandardScaler()\n",
    "x = sc.fit_transform(out[:,1].reshape(-1,1))"
   ]
  },
  {
   "cell_type": "code",
   "execution_count": 90,
   "id": "35298851-45f1-4c37-9285-c47ebd2df153",
   "metadata": {},
   "outputs": [
    {
     "data": {
      "text/plain": [
       "(1, 33024)"
      ]
     },
     "execution_count": 90,
     "metadata": {},
     "output_type": "execute_result"
    }
   ],
   "source": [
    "out[out[:,1].nonzero(),1].shape"
   ]
  },
  {
   "cell_type": "code",
   "execution_count": null,
   "id": "47e2fa59-6031-4f87-97c1-b2a303de8e78",
   "metadata": {},
   "outputs": [],
   "source": []
  }
 ],
 "metadata": {
  "kernelspec": {
   "display_name": "Python 3 (ipykernel)",
   "language": "python",
   "name": "python3"
  },
  "language_info": {
   "codemirror_mode": {
    "name": "ipython",
    "version": 3
   },
   "file_extension": ".py",
   "mimetype": "text/x-python",
   "name": "python",
   "nbconvert_exporter": "python",
   "pygments_lexer": "ipython3",
   "version": "3.9.16"
  }
 },
 "nbformat": 4,
 "nbformat_minor": 5
}
