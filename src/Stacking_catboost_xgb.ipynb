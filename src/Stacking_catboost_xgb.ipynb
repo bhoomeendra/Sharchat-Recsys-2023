{
 "cells": [
  {
   "cell_type": "code",
   "execution_count": 1,
   "id": "584a0aad-978c-41d9-9363-254b17226919",
   "metadata": {},
   "outputs": [],
   "source": [
    "from utils import TestResults,TrainSplit\n",
    "from catboost import CatBoostClassifier\n",
    "from xgboost import XGBClassifier\n",
    "from sklearn.metrics import log_loss,f1_score\n",
    "import pandas as pd\n",
    "import numpy as np\n",
    "import optuna\n",
    "import gc"
   ]
  },
  {
   "cell_type": "code",
   "execution_count": 2,
   "id": "a1493f22-d45b-4737-b4c1-d92a86588825",
   "metadata": {},
   "outputs": [
    {
     "name": "stdout",
     "output_type": "stream",
     "text": [
      "Loading the data\n",
      "Categorial Feature Imputed\n"
     ]
    },
    {
     "name": "stderr",
     "output_type": "stream",
     "text": [
      "NUM IMPUTE: 100%|████████████████████████████████████████████████████████████████████████████████████████████████████████████████████████| 11/11 [00:00<00:00, 45.30it/s]\n"
     ]
    },
    {
     "name": "stdout",
     "output_type": "stream",
     "text": [
      "Spliting the Data based on time\n",
      "X_train:(3387880, 80), X_test:(97972, 80) , y_train:(3387880, 2) , y_test:(97972, 2)\n"
     ]
    }
   ],
   "source": [
    "X_train, X_test, y_train, y_test = TrainSplit().get_split()"
   ]
  },
  {
   "cell_type": "code",
   "execution_count": 3,
   "id": "d6e5c7b2-8e3f-44f5-a3cd-c1686c986e3f",
   "metadata": {},
   "outputs": [],
   "source": [
    "cat_feat = TrainSplit.CATEGORIES + TrainSplit.BINARY\n",
    "num_feat = TrainSplit.NUMERICAL\n",
    "all_feat = cat_feat + num_feat"
   ]
  },
  {
   "cell_type": "code",
   "execution_count": 4,
   "id": "20d593c4-310d-4b11-8239-37e04f79a27c",
   "metadata": {},
   "outputs": [],
   "source": [
    "catboost_params = {'depth': 5, 'iterations': 633, 'learning_rate': 0.11345058095313602, \n",
    "                   'l2_leaf_reg': 5.249467944690077, 'boosting_type': 'Ordered', \n",
    "                   'task_type': 'GPU', 'silent': True}"
   ]
  },
  {
   "cell_type": "code",
   "execution_count": 5,
   "id": "892e1f46-2c62-4f08-a889-96ab8e8f179e",
   "metadata": {},
   "outputs": [],
   "source": [
    "xgboost_params = {'max_depth': 7, 'learning_rate': 0.05198517520669243, 'n_estimators': 606,\n",
    "                   'tree_method':'gpu_hist','objective':'binary:logistic'}"
   ]
  },
  {
   "cell_type": "code",
   "execution_count": 6,
   "id": "bcaeb23b-9136-49a8-b468-deeaf845898d",
   "metadata": {},
   "outputs": [
    {
     "data": {
      "text/plain": [
       "XGBClassifier(base_score=None, booster=None, callbacks=None,\n",
       "              colsample_bylevel=None, colsample_bynode=None,\n",
       "              colsample_bytree=None, early_stopping_rounds=None,\n",
       "              enable_categorical=False, eval_metric=None, feature_types=None,\n",
       "              gamma=None, gpu_id=None, grow_policy=None, importance_type=None,\n",
       "              interaction_constraints=None, learning_rate=0.05198517520669243,\n",
       "              max_bin=None, max_cat_threshold=None, max_cat_to_onehot=None,\n",
       "              max_delta_step=None, max_depth=7, max_leaves=None,\n",
       "              min_child_weight=None, missing=nan, monotone_constraints=None,\n",
       "              n_estimators=606, n_jobs=None, num_parallel_tree=None,\n",
       "              predictor=None, random_state=None, ...)"
      ]
     },
     "execution_count": 6,
     "metadata": {},
     "output_type": "execute_result"
    }
   ],
   "source": [
    "xgb_model = XGBClassifier(**xgboost_params)\n",
    "xgb_model.fit(X_train[all_feat],y_train[TrainSplit.IS_INSTALLED[0]])"
   ]
  },
  {
   "cell_type": "code",
   "execution_count": 7,
   "id": "330b3c09-26e1-4b5e-adc1-79edd5782ca0",
   "metadata": {},
   "outputs": [
    {
     "name": "stderr",
     "output_type": "stream",
     "text": [
      "TBB Warning: The number of workers is currently limited to 29. The request for 39 workers is ignored. Further requests for more workers will be silently ignored until the limit changes.\n",
      "\n"
     ]
    },
    {
     "data": {
      "text/plain": [
       "<catboost.core.CatBoostClassifier at 0x149758f2d220>"
      ]
     },
     "execution_count": 7,
     "metadata": {},
     "output_type": "execute_result"
    }
   ],
   "source": [
    "catb_model = CatBoostClassifier(**catboost_params)\n",
    "catb_model.fit(X_train[all_feat],y_train[TrainSplit.IS_INSTALLED[0]])"
   ]
  },
  {
   "cell_type": "code",
   "execution_count": 8,
   "id": "ef19ebcc-4ff7-4686-b459-46d9b3efc4a2",
   "metadata": {},
   "outputs": [],
   "source": [
    "xgb_train_pred  = xgb_model.predict_proba(X_train[all_feat])[:,1]\n",
    "catb_train_pred = catb_model.predict_proba(X_train[all_feat])[:,1]"
   ]
  },
  {
   "cell_type": "code",
   "execution_count": 9,
   "id": "16120d9e-fa34-4ae6-b24f-8d5bf7c992ea",
   "metadata": {},
   "outputs": [],
   "source": [
    "xgb_val_pred  = xgb_model.predict_proba(X_test[all_feat])[:,1]\n",
    "catb_val_pred = catb_model.predict_proba(X_test[all_feat])[:,1]"
   ]
  },
  {
   "cell_type": "code",
   "execution_count": 10,
   "id": "1e659aa4-bca7-461e-b222-e5f34ea50cb5",
   "metadata": {},
   "outputs": [],
   "source": [
    "# Model selection\n",
    "model_sel = []# zero is xgb one is cat boost\n",
    "for g,x,c in zip(y_train[TrainSplit.IS_INSTALLED[0]],xgb_train_pred,catb_train_pred):\n",
    "    # print(g,x,c)\n",
    "    if g == 1:\n",
    "        sel =  0 if x>c else 1\n",
    "    elif g == 0:\n",
    "        sel =  1 if x>c else 0\n",
    "    model_sel.append(sel)"
   ]
  },
  {
   "cell_type": "code",
   "execution_count": 11,
   "id": "e3c91781-1b17-46cd-8423-3011945d26a0",
   "metadata": {},
   "outputs": [],
   "source": [
    "y_train_model_sel = np.array(model_sel)"
   ]
  },
  {
   "cell_type": "code",
   "execution_count": 12,
   "id": "7667860c-7229-4a5b-ac69-3a29bcd1d40b",
   "metadata": {},
   "outputs": [
    {
     "data": {
      "text/plain": [
       "(array([0, 1]), array([2207801, 1180079]))"
      ]
     },
     "execution_count": 12,
     "metadata": {},
     "output_type": "execute_result"
    }
   ],
   "source": [
    "np.unique(y_train_model_sel,return_counts=True)"
   ]
  },
  {
   "cell_type": "code",
   "execution_count": 13,
   "id": "b05bcbf6-de31-4f49-a575-16e14a50f6e7",
   "metadata": {},
   "outputs": [],
   "source": [
    "model_sel = []# zero is xgb one is cat boost\n",
    "for g,x,c in zip(y_test[TrainSplit.IS_INSTALLED[0]],xgb_val_pred,catb_val_pred):\n",
    "    # print(g,x,c)\n",
    "    if g == 1:\n",
    "        sel =  0 if x>c else 1\n",
    "    elif g == 0:\n",
    "        sel =  1 if x>c else 0\n",
    "    model_sel.append(sel)"
   ]
  },
  {
   "cell_type": "code",
   "execution_count": 14,
   "id": "38958291-611e-48d1-8644-0676816c07cf",
   "metadata": {},
   "outputs": [
    {
     "data": {
      "text/plain": [
       "97972"
      ]
     },
     "execution_count": 14,
     "metadata": {},
     "output_type": "execute_result"
    }
   ],
   "source": [
    "len(model_sel)"
   ]
  },
  {
   "cell_type": "code",
   "execution_count": 15,
   "id": "6bd187a5-d4eb-46d4-95b6-3c37134082db",
   "metadata": {},
   "outputs": [],
   "source": [
    "y_val_model_sel = np.array(model_sel)"
   ]
  },
  {
   "cell_type": "code",
   "execution_count": 16,
   "id": "759024e3-4c10-47d7-8363-58681bdb34ba",
   "metadata": {},
   "outputs": [
    {
     "data": {
      "text/plain": [
       "(array([0, 1]), array([51800, 46172]))"
      ]
     },
     "execution_count": 16,
     "metadata": {},
     "output_type": "execute_result"
    }
   ],
   "source": [
    "np.unique(y_val_model_sel,return_counts=True)"
   ]
  },
  {
   "cell_type": "code",
   "execution_count": 17,
   "id": "475b3080-d586-4c20-935d-06ea4bea7643",
   "metadata": {},
   "outputs": [],
   "source": [
    "# X_train_pred = np.vstack([xgb_train_pred,catb_train_pred]).T\n",
    "# X_val_pred = np.vstack([xgb_val_pred,catb_val_pred]).T"
   ]
  },
  {
   "cell_type": "code",
   "execution_count": 18,
   "id": "c3b3d149-eaa1-4622-b7a6-a4b688bbcb32",
   "metadata": {},
   "outputs": [],
   "source": [
    "# X_train_pred.shape,X_val_pred.shape"
   ]
  },
  {
   "cell_type": "code",
   "execution_count": 38,
   "id": "450f3bc9-dc90-4cf2-b32d-9dd8d2dd8426",
   "metadata": {},
   "outputs": [],
   "source": [
    "def objective(trial):\n",
    "    params = {\n",
    "        'max_depth':trial.suggest_int('max_depth',2,8),\n",
    "        'learning_rate':trial.suggest_float('learning_rate',0.05,0.3),\n",
    "        'n_estimators':trial.suggest_int('n_estimators',100,1000),\n",
    "        'tree_method':'gpu_hist',\n",
    "        'objective':'binary:logistic'\n",
    "    }\n",
    "    # print(use_features)\n",
    "    model = XGBClassifier(**params)\n",
    "    model.fit(X_train[all_feat],y_train_model_sel)\n",
    "    y_pred = model.predict(X_test[all_feat])\n",
    "    score = log_loss(y_val_model_sel,y_pred)\n",
    "    # print(model.feature_names_in_)\n",
    "    return score"
   ]
  },
  {
   "cell_type": "code",
   "execution_count": null,
   "id": "d6ff1cf2-4a97-4594-9541-f749968e1e32",
   "metadata": {
    "collapsed": true,
    "jupyter": {
     "outputs_hidden": true
    },
    "tags": []
   },
   "outputs": [
    {
     "name": "stderr",
     "output_type": "stream",
     "text": [
      "\u001b[32m[I 2023-05-25 19:05:44,923]\u001b[0m A new study created in memory with name: svc_log_loss\u001b[0m\n",
      "\u001b[32m[I 2023-05-25 19:06:13,859]\u001b[0m Trial 0 finished with value: 12.31525103938559 and parameters: {'max_depth': 5, 'learning_rate': 0.12756352314624264, 'n_estimators': 781}. Best is trial 0 with value: 12.31525103938559.\u001b[0m\n",
      "\u001b[32m[I 2023-05-25 19:06:45,262]\u001b[0m Trial 1 finished with value: 11.438861534153258 and parameters: {'max_depth': 8, 'learning_rate': 0.2379357732135427, 'n_estimators': 579}. Best is trial 1 with value: 11.438861534153258.\u001b[0m\n",
      "\u001b[32m[I 2023-05-25 19:07:01,893]\u001b[0m Trial 2 finished with value: 14.266510511730209 and parameters: {'max_depth': 5, 'learning_rate': 0.07297732028383565, 'n_estimators': 353}. Best is trial 1 with value: 11.438861534153258.\u001b[0m\n",
      "\u001b[32m[I 2023-05-25 19:07:35,978]\u001b[0m Trial 3 finished with value: 11.465651024728773 and parameters: {'max_depth': 6, 'learning_rate': 0.21125183910889328, 'n_estimators': 817}. Best is trial 1 with value: 11.438861534153258.\u001b[0m\n",
      "\u001b[32m[I 2023-05-25 19:07:57,179]\u001b[0m Trial 4 finished with value: 14.933504318789904 and parameters: {'max_depth': 2, 'learning_rate': 0.22291138846942654, 'n_estimators': 747}. Best is trial 1 with value: 11.438861534153258.\u001b[0m\n",
      "\u001b[32m[I 2023-05-25 19:08:08,373]\u001b[0m Trial 5 finished with value: 14.61481330920523 and parameters: {'max_depth': 4, 'learning_rate': 0.14267909642436544, 'n_estimators': 193}. Best is trial 1 with value: 11.438861534153258.\u001b[0m\n",
      "\u001b[32m[I 2023-05-25 19:08:30,757]\u001b[0m Trial 6 finished with value: 12.286342130492104 and parameters: {'max_depth': 8, 'learning_rate': 0.10166708704228965, 'n_estimators': 346}. Best is trial 1 with value: 11.438861534153258.\u001b[0m\n",
      "\u001b[32m[I 2023-05-25 19:08:54,003]\u001b[0m Trial 7 finished with value: 14.074738238507837 and parameters: {'max_depth': 3, 'learning_rate': 0.13849512817279636, 'n_estimators': 761}. Best is trial 1 with value: 11.438861534153258.\u001b[0m\n",
      "\u001b[32m[I 2023-05-25 19:09:12,791]\u001b[0m Trial 8 finished with value: 12.996695754724925 and parameters: {'max_depth': 6, 'learning_rate': 0.11403840022906771, 'n_estimators': 365}. Best is trial 1 with value: 11.438861534153258.\u001b[0m\n",
      "\u001b[32m[I 2023-05-25 19:09:41,346]\u001b[0m Trial 9 finished with value: 12.052967853781212 and parameters: {'max_depth': 5, 'learning_rate': 0.24476059010846762, 'n_estimators': 726}. Best is trial 1 with value: 11.438861534153258.\u001b[0m\n",
      "\u001b[32m[I 2023-05-25 19:10:14,630]\u001b[0m Trial 10 finished with value: 11.543564590269753 and parameters: {'max_depth': 8, 'learning_rate': 0.2891776898918522, 'n_estimators': 605}. Best is trial 1 with value: 11.438861534153258.\u001b[0m\n",
      "\u001b[32m[I 2023-05-25 19:10:42,755]\u001b[0m Trial 11 finished with value: 11.447324973787808 and parameters: {'max_depth': 7, 'learning_rate': 0.2086477212922456, 'n_estimators': 551}. Best is trial 1 with value: 11.438861534153258.\u001b[0m\n",
      "\u001b[32m[I 2023-05-25 19:11:11,268]\u001b[0m Trial 12 finished with value: 11.599960123047152 and parameters: {'max_depth': 7, 'learning_rate': 0.1801383907982517, 'n_estimators': 554}. Best is trial 1 with value: 11.438861534153258.\u001b[0m\n",
      "\u001b[32m[I 2023-05-25 19:11:53,877]\u001b[0m Trial 13 finished with value: 11.393727612962861 and parameters: {'max_depth': 7, 'learning_rate': 0.2635237626225723, 'n_estimators': 930}. Best is trial 13 with value: 11.393727612962861.\u001b[0m\n",
      "\u001b[32m[I 2023-05-25 19:12:35,565]\u001b[0m Trial 14 finished with value: 11.288325399488626 and parameters: {'max_depth': 7, 'learning_rate': 0.2735178109586734, 'n_estimators': 898}. Best is trial 14 with value: 11.288325399488626.\u001b[0m\n",
      "\u001b[32m[I 2023-05-25 19:13:20,031]\u001b[0m Trial 15 finished with value: 11.263304381502756 and parameters: {'max_depth': 7, 'learning_rate': 0.2976769642836046, 'n_estimators': 965}. Best is trial 15 with value: 11.263304381502756.\u001b[0m\n",
      "\u001b[32m[I 2023-05-25 19:14:01,526]\u001b[0m Trial 16 finished with value: 11.641918695530132 and parameters: {'max_depth': 6, 'learning_rate': 0.2991975814337056, 'n_estimators': 998}. Best is trial 15 with value: 11.263304381502756.\u001b[0m\n",
      "\u001b[32m[I 2023-05-25 19:14:42,683]\u001b[0m Trial 17 finished with value: 11.302075746634362 and parameters: {'max_depth': 7, 'learning_rate': 0.2706741463404083, 'n_estimators': 879}. Best is trial 15 with value: 11.263304381502756.\u001b[0m\n",
      "\u001b[32m[I 2023-05-25 19:15:23,916]\u001b[0m Trial 18 finished with value: 11.599266221688522 and parameters: {'max_depth': 6, 'learning_rate': 0.27221439811155307, 'n_estimators': 989}. Best is trial 15 with value: 11.263304381502756.\u001b[0m\n",
      "\u001b[32m[I 2023-05-25 19:15:48,185]\u001b[0m Trial 19 finished with value: 12.581774530693991 and parameters: {'max_depth': 4, 'learning_rate': 0.2979274476034952, 'n_estimators': 662}. Best is trial 15 with value: 11.263304381502756.\u001b[0m\n",
      "\u001b[32m[I 2023-05-25 19:16:33,201]\u001b[0m Trial 20 finished with value: 11.246724203987547 and parameters: {'max_depth': 8, 'learning_rate': 0.25475042568065964, 'n_estimators': 873}. Best is trial 20 with value: 11.246724203987547.\u001b[0m\n",
      "\u001b[32m[I 2023-05-25 19:17:19,375]\u001b[0m Trial 21 finished with value: 11.35073194680776 and parameters: {'max_depth': 8, 'learning_rate': 0.25294445216712996, 'n_estimators': 892}. Best is trial 20 with value: 11.246724203987547.\u001b[0m\n",
      "\u001b[32m[I 2023-05-25 19:17:58,946]\u001b[0m Trial 22 finished with value: 11.358130902812078 and parameters: {'max_depth': 7, 'learning_rate': 0.2835169002883983, 'n_estimators': 844}. Best is trial 20 with value: 11.246724203987547.\u001b[0m\n",
      "Exception ignored on calling ctypes callback function: <bound method DataIter._next_wrapper of <xgboost.data.SingleBatchInternalIter object at 0x1488cbe15f10>>\n",
      "Traceback (most recent call last):\n",
      "  File \"/home2/sisodiya.bhoomendra/venvs/python3.9_global/lib/python3.9/site-packages/xgboost/core.py\", line 500, in _next_wrapper\n",
      "    def _next_wrapper(self, this: None) -> int:  # pylint: disable=unused-argument\n",
      "KeyboardInterrupt: \n"
     ]
    }
   ],
   "source": [
    "study_stack = optuna.create_study(direction='minimize',study_name='svc_log_loss')\n",
    "study_stack.optimize(objective, n_trials=50)"
   ]
  },
  {
   "cell_type": "code",
   "execution_count": 19,
   "id": "b55ae0b9-74c9-4b73-9825-0b35c06de06a",
   "metadata": {},
   "outputs": [],
   "source": [
    "model_sel_param = {'max_depth': 8, 'learning_rate': 0.25475042568065964, 'n_estimators': 873\n",
    "                   ,'tree_method':'gpu_hist', 'objective':'binary:logistic'}"
   ]
  },
  {
   "cell_type": "code",
   "execution_count": 20,
   "id": "0ae69bd3-5b71-4713-ba49-5de4bb8763d4",
   "metadata": {},
   "outputs": [
    {
     "data": {
      "text/plain": [
       "XGBClassifier(base_score=None, booster=None, callbacks=None,\n",
       "              colsample_bylevel=None, colsample_bynode=None,\n",
       "              colsample_bytree=None, early_stopping_rounds=None,\n",
       "              enable_categorical=False, eval_metric=None, feature_types=None,\n",
       "              gamma=None, gpu_id=None, grow_policy=None, importance_type=None,\n",
       "              interaction_constraints=None, learning_rate=0.25475042568065964,\n",
       "              max_bin=None, max_cat_threshold=None, max_cat_to_onehot=None,\n",
       "              max_delta_step=None, max_depth=8, max_leaves=None,\n",
       "              min_child_weight=None, missing=nan, monotone_constraints=None,\n",
       "              n_estimators=873, n_jobs=None, num_parallel_tree=None,\n",
       "              predictor=None, random_state=None, ...)"
      ]
     },
     "execution_count": 20,
     "metadata": {},
     "output_type": "execute_result"
    }
   ],
   "source": [
    "model_sel = XGBClassifier(**model_sel_param)\n",
    "model_sel.fit(X_train[all_feat],y_train_model_sel)"
   ]
  },
  {
   "cell_type": "code",
   "execution_count": 22,
   "id": "42170e4a-caa6-4e26-8bda-524d746708d9",
   "metadata": {},
   "outputs": [],
   "source": [
    "# import pandas as pd\n",
    "test = pd.read_csv('../Data/test/000000000000.csv',sep='\\t')\n",
    "test['f_30'].fillna(test['f_30'].mode()[0],inplace=True)\n",
    "test['f_31'].fillna(test['f_31'].mode()[0],inplace=True)\n",
    "fmiss = \"f_43,f_51,f_58,f_59,f_64,f_65,f_66,f_67,f_68,f_69,f_70\".split(',')\n",
    "for f in fmiss:\n",
    "    test[f].fillna(test[f].mean(),inplace=True)"
   ]
  },
  {
   "cell_type": "code",
   "execution_count": 23,
   "id": "8b6f80c0-ff8e-4224-836f-beef7c3b723c",
   "metadata": {},
   "outputs": [],
   "source": [
    "xgb_pred_test = xgb_model.predict_proba(test[all_feat])\n",
    "catb_pred_test = catb_model.predict_proba(test[all_feat])"
   ]
  },
  {
   "cell_type": "code",
   "execution_count": 24,
   "id": "10865896-12e8-4784-9290-c2eabec4cd0b",
   "metadata": {},
   "outputs": [],
   "source": [
    "selector = model_sel.predict(test[all_feat])"
   ]
  },
  {
   "cell_type": "code",
   "execution_count": 28,
   "id": "73302fcd-f244-4e03-9f85-279e6120bfc1",
   "metadata": {},
   "outputs": [],
   "source": [
    "install_prob = []\n",
    "for s,x,c in zip(selector,xgb_pred_test,catb_pred_test):\n",
    "    if s == 1:\n",
    "        install_prob.append(c[1])\n",
    "    elif s == 0:\n",
    "        install_prob.append(x[1])"
   ]
  },
  {
   "cell_type": "code",
   "execution_count": 30,
   "id": "8c03ee21-1247-4cd0-890d-31b081073a0d",
   "metadata": {
    "tags": []
   },
   "outputs": [],
   "source": [
    "install_prob = np.array(install_prob)"
   ]
  },
  {
   "cell_type": "code",
   "execution_count": 31,
   "id": "a2d0d501-1c01-4a5b-ac69-56ee50199f91",
   "metadata": {},
   "outputs": [
    {
     "name": "stdout",
     "output_type": "stream",
     "text": [
      "Saved the test result to csv file as xgb_cat_model_selection_xgb_2023-05-25 19:28:49.160891.csv\n",
      "Saved the model config to json file as xgb_cat_model_selection_xgb_2023-05-25 19:28:49.160891.json\n"
     ]
    },
    {
     "data": {
      "text/plain": [
       "<utils.TestResults at 0x1497538b8df0>"
      ]
     },
     "execution_count": 31,
     "metadata": {},
     "output_type": "execute_result"
    }
   ],
   "source": [
    "TestResults(row_id=test['f_0'],is_click=np.random.random(install_prob.shape[0]),\n",
    "            is_install=install_prob,model_name=\"xgb_cat_model_selection_xgb\",config=model_sel_param)"
   ]
  },
  {
   "cell_type": "code",
   "execution_count": 3,
   "id": "4e33dad8-5f24-4dfc-bcf5-cb0f51fcfe0e",
   "metadata": {},
   "outputs": [
    {
     "data": {
      "text/plain": [
       "['catboost_all_feat_2023-05-25 11:41:56.839795.json',\n",
       " 'xgb_stack_all_cat_num_2023-05-25 04:08:18.733781.json',\n",
       " 'xgb_cat_feat_2023-05-24 05:09:00.493398.json',\n",
       " 'xgb_calibrated_logistic_2023-05-26 14:54:36.420474.json',\n",
       " 'xgb_num_feat_2023-05-24 05:09:31.486438.json',\n",
       " 'xgb_stack_all_cat_num_xgb_2023-05-25 06:19:35.109117.json',\n",
       " 'xgb_num_cat_all_avg_2023-05-25 16:21:55.184468.json',\n",
       " 'xgb_cat_model_selection_xgb_2023-05-25 19:28:49.160891.json',\n",
       " 'xgb_all_feat_xgb_chain_2023-05-25 16:05:56.352515.json',\n",
       " 'xgb_all_feat_2023-05-24 05:08:29.718082.json']"
      ]
     },
     "execution_count": 3,
     "metadata": {},
     "output_type": "execute_result"
    }
   ],
   "source": [
    "TrainSplit.get_config_list()"
   ]
  },
  {
   "cell_type": "code",
   "execution_count": 7,
   "id": "7aa597de-1c2c-4a8d-8c86-28a155cf02df",
   "metadata": {},
   "outputs": [],
   "source": [
    "cat_output = pd.read_csv('../Data/results/catboost_all_feat_2023-05-25 11:41:56.839795.csv',sep='\\t')"
   ]
  },
  {
   "cell_type": "code",
   "execution_count": 8,
   "id": "cc9de8f1-4db9-41d7-8890-2ca21a83e85b",
   "metadata": {},
   "outputs": [],
   "source": [
    "xgb_output = pd.read_csv('../Data/results/xgb_all_feat_2023-05-24 05:08:29.718082.csv',sep='\\t')"
   ]
  },
  {
   "cell_type": "code",
   "execution_count": 9,
   "id": "94d4d539-4bc1-4411-994c-a7a99d0c3b8e",
   "metadata": {},
   "outputs": [
    {
     "data": {
      "text/html": [
       "<div>\n",
       "<style scoped>\n",
       "    .dataframe tbody tr th:only-of-type {\n",
       "        vertical-align: middle;\n",
       "    }\n",
       "\n",
       "    .dataframe tbody tr th {\n",
       "        vertical-align: top;\n",
       "    }\n",
       "\n",
       "    .dataframe thead th {\n",
       "        text-align: right;\n",
       "    }\n",
       "</style>\n",
       "<table border=\"1\" class=\"dataframe\">\n",
       "  <thead>\n",
       "    <tr style=\"text-align: right;\">\n",
       "      <th></th>\n",
       "      <th>RowId</th>\n",
       "      <th>is_clicked</th>\n",
       "      <th>is_installed</th>\n",
       "    </tr>\n",
       "  </thead>\n",
       "  <tbody>\n",
       "    <tr>\n",
       "      <th>0</th>\n",
       "      <td>64505.0</td>\n",
       "      <td>0.750943</td>\n",
       "      <td>0.155189</td>\n",
       "    </tr>\n",
       "    <tr>\n",
       "      <th>1</th>\n",
       "      <td>64506.0</td>\n",
       "      <td>0.492876</td>\n",
       "      <td>0.328144</td>\n",
       "    </tr>\n",
       "    <tr>\n",
       "      <th>2</th>\n",
       "      <td>64507.0</td>\n",
       "      <td>0.471971</td>\n",
       "      <td>0.070001</td>\n",
       "    </tr>\n",
       "    <tr>\n",
       "      <th>3</th>\n",
       "      <td>64508.0</td>\n",
       "      <td>0.824673</td>\n",
       "      <td>0.273719</td>\n",
       "    </tr>\n",
       "    <tr>\n",
       "      <th>4</th>\n",
       "      <td>64509.0</td>\n",
       "      <td>0.123897</td>\n",
       "      <td>0.180561</td>\n",
       "    </tr>\n",
       "    <tr>\n",
       "      <th>...</th>\n",
       "      <td>...</td>\n",
       "      <td>...</td>\n",
       "      <td>...</td>\n",
       "    </tr>\n",
       "    <tr>\n",
       "      <th>160968</th>\n",
       "      <td>16240.0</td>\n",
       "      <td>0.573437</td>\n",
       "      <td>0.221137</td>\n",
       "    </tr>\n",
       "    <tr>\n",
       "      <th>160969</th>\n",
       "      <td>16241.0</td>\n",
       "      <td>0.791302</td>\n",
       "      <td>0.019241</td>\n",
       "    </tr>\n",
       "    <tr>\n",
       "      <th>160970</th>\n",
       "      <td>16242.0</td>\n",
       "      <td>0.490603</td>\n",
       "      <td>0.125397</td>\n",
       "    </tr>\n",
       "    <tr>\n",
       "      <th>160971</th>\n",
       "      <td>16243.0</td>\n",
       "      <td>0.967710</td>\n",
       "      <td>0.158026</td>\n",
       "    </tr>\n",
       "    <tr>\n",
       "      <th>160972</th>\n",
       "      <td>16244.0</td>\n",
       "      <td>0.189043</td>\n",
       "      <td>0.055100</td>\n",
       "    </tr>\n",
       "  </tbody>\n",
       "</table>\n",
       "<p>160973 rows × 3 columns</p>\n",
       "</div>"
      ],
      "text/plain": [
       "          RowId  is_clicked  is_installed\n",
       "0       64505.0    0.750943      0.155189\n",
       "1       64506.0    0.492876      0.328144\n",
       "2       64507.0    0.471971      0.070001\n",
       "3       64508.0    0.824673      0.273719\n",
       "4       64509.0    0.123897      0.180561\n",
       "...         ...         ...           ...\n",
       "160968  16240.0    0.573437      0.221137\n",
       "160969  16241.0    0.791302      0.019241\n",
       "160970  16242.0    0.490603      0.125397\n",
       "160971  16243.0    0.967710      0.158026\n",
       "160972  16244.0    0.189043      0.055100\n",
       "\n",
       "[160973 rows x 3 columns]"
      ]
     },
     "execution_count": 9,
     "metadata": {},
     "output_type": "execute_result"
    }
   ],
   "source": [
    "cat_output"
   ]
  },
  {
   "cell_type": "code",
   "execution_count": 10,
   "id": "25f2b1dc-0348-4827-a995-62b71152709e",
   "metadata": {},
   "outputs": [
    {
     "data": {
      "text/html": [
       "<div>\n",
       "<style scoped>\n",
       "    .dataframe tbody tr th:only-of-type {\n",
       "        vertical-align: middle;\n",
       "    }\n",
       "\n",
       "    .dataframe tbody tr th {\n",
       "        vertical-align: top;\n",
       "    }\n",
       "\n",
       "    .dataframe thead th {\n",
       "        text-align: right;\n",
       "    }\n",
       "</style>\n",
       "<table border=\"1\" class=\"dataframe\">\n",
       "  <thead>\n",
       "    <tr style=\"text-align: right;\">\n",
       "      <th></th>\n",
       "      <th>RowId</th>\n",
       "      <th>is_clicked</th>\n",
       "      <th>is_installed</th>\n",
       "    </tr>\n",
       "  </thead>\n",
       "  <tbody>\n",
       "    <tr>\n",
       "      <th>0</th>\n",
       "      <td>64505.0</td>\n",
       "      <td>0.307488</td>\n",
       "      <td>0.198798</td>\n",
       "    </tr>\n",
       "    <tr>\n",
       "      <th>1</th>\n",
       "      <td>64506.0</td>\n",
       "      <td>0.658150</td>\n",
       "      <td>0.284287</td>\n",
       "    </tr>\n",
       "    <tr>\n",
       "      <th>2</th>\n",
       "      <td>64507.0</td>\n",
       "      <td>0.291767</td>\n",
       "      <td>0.077589</td>\n",
       "    </tr>\n",
       "    <tr>\n",
       "      <th>3</th>\n",
       "      <td>64508.0</td>\n",
       "      <td>0.958103</td>\n",
       "      <td>0.263996</td>\n",
       "    </tr>\n",
       "    <tr>\n",
       "      <th>4</th>\n",
       "      <td>64509.0</td>\n",
       "      <td>0.997934</td>\n",
       "      <td>0.159986</td>\n",
       "    </tr>\n",
       "    <tr>\n",
       "      <th>...</th>\n",
       "      <td>...</td>\n",
       "      <td>...</td>\n",
       "      <td>...</td>\n",
       "    </tr>\n",
       "    <tr>\n",
       "      <th>160968</th>\n",
       "      <td>16240.0</td>\n",
       "      <td>0.007548</td>\n",
       "      <td>0.218275</td>\n",
       "    </tr>\n",
       "    <tr>\n",
       "      <th>160969</th>\n",
       "      <td>16241.0</td>\n",
       "      <td>0.698243</td>\n",
       "      <td>0.006574</td>\n",
       "    </tr>\n",
       "    <tr>\n",
       "      <th>160970</th>\n",
       "      <td>16242.0</td>\n",
       "      <td>0.073364</td>\n",
       "      <td>0.015904</td>\n",
       "    </tr>\n",
       "    <tr>\n",
       "      <th>160971</th>\n",
       "      <td>16243.0</td>\n",
       "      <td>0.293911</td>\n",
       "      <td>0.126814</td>\n",
       "    </tr>\n",
       "    <tr>\n",
       "      <th>160972</th>\n",
       "      <td>16244.0</td>\n",
       "      <td>0.472732</td>\n",
       "      <td>0.055247</td>\n",
       "    </tr>\n",
       "  </tbody>\n",
       "</table>\n",
       "<p>160973 rows × 3 columns</p>\n",
       "</div>"
      ],
      "text/plain": [
       "          RowId  is_clicked  is_installed\n",
       "0       64505.0    0.307488      0.198798\n",
       "1       64506.0    0.658150      0.284287\n",
       "2       64507.0    0.291767      0.077589\n",
       "3       64508.0    0.958103      0.263996\n",
       "4       64509.0    0.997934      0.159986\n",
       "...         ...         ...           ...\n",
       "160968  16240.0    0.007548      0.218275\n",
       "160969  16241.0    0.698243      0.006574\n",
       "160970  16242.0    0.073364      0.015904\n",
       "160971  16243.0    0.293911      0.126814\n",
       "160972  16244.0    0.472732      0.055247\n",
       "\n",
       "[160973 rows x 3 columns]"
      ]
     },
     "execution_count": 10,
     "metadata": {},
     "output_type": "execute_result"
    }
   ],
   "source": [
    "xgb_output"
   ]
  },
  {
   "cell_type": "code",
   "execution_count": 15,
   "id": "e027526d-d5ac-4766-b2dd-d10e8cee6efb",
   "metadata": {},
   "outputs": [],
   "source": [
    "num = 2*xgb_output.is_installed.values * cat_output.is_installed.values"
   ]
  },
  {
   "cell_type": "code",
   "execution_count": 16,
   "id": "c75bbc68-6867-46e5-aed2-a46865fa53f5",
   "metadata": {},
   "outputs": [],
   "source": [
    "denom = xgb_output.is_installed.values + cat_output.is_installed.values"
   ]
  },
  {
   "cell_type": "code",
   "execution_count": 17,
   "id": "678a3a14-6ffd-4415-ab7c-538e2770e5d7",
   "metadata": {},
   "outputs": [
    {
     "data": {
      "text/plain": [
       "1.8255178997523607"
      ]
     },
     "execution_count": 17,
     "metadata": {},
     "output_type": "execute_result"
    }
   ],
   "source": [
    "num.max()"
   ]
  },
  {
   "cell_type": "code",
   "execution_count": 18,
   "id": "106d2af4-10fe-47e4-a098-68f96ef05587",
   "metadata": {},
   "outputs": [
    {
     "data": {
      "text/plain": [
       "1.9107817400222102"
      ]
     },
     "execution_count": 18,
     "metadata": {},
     "output_type": "execute_result"
    }
   ],
   "source": [
    "denom.max()"
   ]
  },
  {
   "cell_type": "code",
   "execution_count": 19,
   "id": "32cdc919-3b24-4cee-a763-eef12a970ba5",
   "metadata": {},
   "outputs": [],
   "source": [
    "f1 = num/denom"
   ]
  },
  {
   "cell_type": "code",
   "execution_count": 21,
   "id": "b2a64b70-66d7-4f2c-b21b-e68659cabdc5",
   "metadata": {},
   "outputs": [
    {
     "data": {
      "text/plain": [
       "0.0007104690133270357"
      ]
     },
     "execution_count": 21,
     "metadata": {},
     "output_type": "execute_result"
    }
   ],
   "source": [
    "f1.min()"
   ]
  },
  {
   "cell_type": "code",
   "execution_count": 22,
   "id": "507dec1c-87e1-4401-908b-f63aaab09e5c",
   "metadata": {},
   "outputs": [
    {
     "data": {
      "text/plain": [
       "array([0.17430754, 0.30464561, 0.07360014, ..., 0.02822787, 0.14070988,\n",
       "       0.05517355])"
      ]
     },
     "execution_count": 22,
     "metadata": {},
     "output_type": "execute_result"
    }
   ],
   "source": [
    "f1"
   ]
  },
  {
   "cell_type": "code",
   "execution_count": 23,
   "id": "8bfb9e82-f0c4-4941-855d-41962ff0582f",
   "metadata": {},
   "outputs": [
    {
     "name": "stdout",
     "output_type": "stream",
     "text": [
      "Saved the test result to csv file as f1_xgb_catb_best_2023-05-27 15:32:56.902811.csv\n",
      "Saved the model config to json file as f1_xgb_catb_best_2023-05-27 15:32:56.902811.json\n"
     ]
    },
    {
     "data": {
      "text/plain": [
       "<utils.TestResults at 0x153191db6250>"
      ]
     },
     "execution_count": 23,
     "metadata": {},
     "output_type": "execute_result"
    }
   ],
   "source": [
    "TestResults(row_id=xgb_output.RowId,is_click=np.random.random(f1.shape[0]),\n",
    "            is_install=f1,model_name=\"f1_xgb_catb_best\",config={'f_b':1})"
   ]
  },
  {
   "cell_type": "code",
   "execution_count": null,
   "id": "9899b3ae-bd86-4cdd-a36f-1a3405dee88a",
   "metadata": {},
   "outputs": [],
   "source": []
  }
 ],
 "metadata": {
  "kernelspec": {
   "display_name": "Python 3 (ipykernel)",
   "language": "python",
   "name": "python3"
  },
  "language_info": {
   "codemirror_mode": {
    "name": "ipython",
    "version": 3
   },
   "file_extension": ".py",
   "mimetype": "text/x-python",
   "name": "python",
   "nbconvert_exporter": "python",
   "pygments_lexer": "ipython3",
   "version": "3.9.16"
  }
 },
 "nbformat": 4,
 "nbformat_minor": 5
}
