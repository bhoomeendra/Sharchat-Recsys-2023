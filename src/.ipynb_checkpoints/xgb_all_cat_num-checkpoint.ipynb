{
 "cells": [
  {
   "cell_type": "code",
   "execution_count": 1,
   "id": "edb9178a-fd4f-4ee0-87d6-351aa616b4de",
   "metadata": {},
   "outputs": [],
   "source": [
    "from utils import TestResults,TrainSplit\n",
    "from xgboost import XGBClassifier\n",
    "from sklearn.metrics import f1_score, log_loss\n",
    "\n",
    "import numpy as np\n",
    "import optuna"
   ]
  },
  {
   "cell_type": "code",
   "execution_count": 2,
   "id": "132281bb-153a-4220-bacf-63f42ecb63b3",
   "metadata": {},
   "outputs": [
    {
     "name": "stdout",
     "output_type": "stream",
     "text": [
      "Loading the data\n",
      "Categorial Feature Imputed\n"
     ]
    },
    {
     "name": "stderr",
     "output_type": "stream",
     "text": [
      "NUM IMPUTE: 100%|████████████████████████████████████████████████████████████████████████████████████████████████████████████████████████| 11/11 [00:00<00:00, 54.18it/s]\n"
     ]
    },
    {
     "name": "stdout",
     "output_type": "stream",
     "text": [
      "Spliting the Data based on time\n",
      "X_train:(3387880, 80), X_test:(97972, 80) , y_train:(3387880, 2) , y_test:(97972, 2)\n"
     ]
    }
   ],
   "source": [
    "X_train, X_test, y_train, y_test = TrainSplit().get_split()"
   ]
  },
  {
   "cell_type": "code",
   "execution_count": 3,
   "id": "ddcb0790-a17f-4e73-8a65-f608f272734c",
   "metadata": {},
   "outputs": [],
   "source": [
    "cat_feat = TrainSplit.CATEGORIES + TrainSplit.BINARY\n",
    "num_feat = TrainSplit.NUMERICAL\n",
    "all_feat = cat_feat + num_feat"
   ]
  },
  {
   "cell_type": "code",
   "execution_count": 4,
   "id": "e31a977d-1afc-400a-852f-fa189ba64593",
   "metadata": {},
   "outputs": [],
   "source": [
    "def objective(trail):\n",
    "    params = {\n",
    "        'max_depth':trail.suggest_int('max_depth',3,8),\n",
    "        'learning_rate':trail.suggest_float('learning_rate',0.05,0.3),\n",
    "        'n_estimators':trail.suggest_int('n_estimators',100,650),\n",
    "        'tree_method':'gpu_hist',\n",
    "        'objective':'binary:logistic'\n",
    "    }\n",
    "    # print(use_features)\n",
    "    target = TrainSplit.IS_INSTALLED[0]\n",
    "    model = XGBClassifier(**params)\n",
    "    model.fit(X_train[use_features],y_train[target])\n",
    "    y_pred = model.predict(X_test[use_features])\n",
    "    score = log_loss(y_test[target],y_pred)\n",
    "    # print(model.feature_names_in_)\n",
    "    return score"
   ]
  },
  {
   "cell_type": "code",
   "execution_count": 14,
   "id": "26c01192-d70f-400b-8370-e0a457b19cbd",
   "metadata": {},
   "outputs": [],
   "source": [
    "params_click = {'max_depth': 4, 'learning_rate': 0.08751617649545007, 'n_estimators': 549}"
   ]
  },
  {
   "cell_type": "code",
   "execution_count": 6,
   "id": "1bc79e7a-6a71-4aa4-b83c-22f5817d3478",
   "metadata": {
    "collapsed": true,
    "jupyter": {
     "outputs_hidden": true
    },
    "tags": []
   },
   "outputs": [
    {
     "name": "stderr",
     "output_type": "stream",
     "text": [
      "\u001b[32m[I 2023-05-24 03:32:45,567]\u001b[0m A new study created in memory with name: install_log_loss\u001b[0m\n",
      "\u001b[32m[I 2023-05-24 03:32:53,883]\u001b[0m Trial 0 finished with value: 6.3915016938015645 and parameters: {'max_depth': 3, 'learning_rate': 0.08271949323619097, 'n_estimators': 304}. Best is trial 0 with value: 6.3915016938015645.\u001b[0m\n",
      "\u001b[32m[I 2023-05-24 03:33:02,464]\u001b[0m Trial 1 finished with value: 6.3188824055966135 and parameters: {'max_depth': 3, 'learning_rate': 0.1624819641702333, 'n_estimators': 407}. Best is trial 1 with value: 6.3188824055966135.\u001b[0m\n",
      "\u001b[32m[I 2023-05-24 03:33:11,412]\u001b[0m Trial 2 finished with value: 6.305488341793212 and parameters: {'max_depth': 5, 'learning_rate': 0.11920574126675722, 'n_estimators': 309}. Best is trial 2 with value: 6.305488341793212.\u001b[0m\n",
      "\u001b[32m[I 2023-05-24 03:33:20,143]\u001b[0m Trial 3 finished with value: 6.271646099116423 and parameters: {'max_depth': 5, 'learning_rate': 0.15740168923044817, 'n_estimators': 301}. Best is trial 3 with value: 6.271646099116423.\u001b[0m\n",
      "\u001b[32m[I 2023-05-24 03:33:29,371]\u001b[0m Trial 4 finished with value: 6.261422046406431 and parameters: {'max_depth': 7, 'learning_rate': 0.09854054258261537, 'n_estimators': 245}. Best is trial 4 with value: 6.261422046406431.\u001b[0m\n",
      "\u001b[32m[I 2023-05-24 03:33:37,840]\u001b[0m Trial 5 finished with value: 6.28716038922524 and parameters: {'max_depth': 6, 'learning_rate': 0.1864105689593044, 'n_estimators': 239}. Best is trial 4 with value: 6.261422046406431.\u001b[0m\n",
      "\u001b[32m[I 2023-05-24 03:33:44,991]\u001b[0m Trial 6 finished with value: 6.284689894595107 and parameters: {'max_depth': 4, 'learning_rate': 0.26612849343468725, 'n_estimators': 240}. Best is trial 4 with value: 6.261422046406431.\u001b[0m\n",
      "\u001b[32m[I 2023-05-24 03:33:50,855]\u001b[0m Trial 7 finished with value: 6.407020888965451 and parameters: {'max_depth': 5, 'learning_rate': 0.19021715692416824, 'n_estimators': 130}. Best is trial 4 with value: 6.261422046406431.\u001b[0m\n",
      "\u001b[32m[I 2023-05-24 03:33:57,185]\u001b[0m Trial 8 finished with value: 6.307959350597172 and parameters: {'max_depth': 6, 'learning_rate': 0.25819614723335294, 'n_estimators': 135}. Best is trial 4 with value: 6.261422046406431.\u001b[0m\n",
      "\u001b[32m[I 2023-05-24 03:34:02,123]\u001b[0m Trial 9 finished with value: 6.466590431966018 and parameters: {'max_depth': 3, 'learning_rate': 0.09043897121935064, 'n_estimators': 113}. Best is trial 4 with value: 6.261422046406431.\u001b[0m\n",
      "\u001b[32m[I 2023-05-24 03:34:21,988]\u001b[0m Trial 10 finished with value: 6.306551748106855 and parameters: {'max_depth': 8, 'learning_rate': 0.06125966949206866, 'n_estimators': 568}. Best is trial 4 with value: 6.261422046406431.\u001b[0m\n",
      "\u001b[32m[I 2023-05-24 03:34:37,590]\u001b[0m Trial 11 finished with value: 6.407381163276059 and parameters: {'max_depth': 8, 'learning_rate': 0.1342849863961938, 'n_estimators': 426}. Best is trial 4 with value: 6.261422046406431.\u001b[0m\n",
      "\u001b[32m[I 2023-05-24 03:34:53,664]\u001b[0m Trial 12 finished with value: 6.2906836231024945 and parameters: {'max_depth': 7, 'learning_rate': 0.0562013542608705, 'n_estimators': 488}. Best is trial 4 with value: 6.261422046406431.\u001b[0m\n",
      "\u001b[32m[I 2023-05-24 03:35:04,318]\u001b[0m Trial 13 finished with value: 6.390103281148202 and parameters: {'max_depth': 7, 'learning_rate': 0.12378560145065758, 'n_estimators': 285}. Best is trial 4 with value: 6.261422046406431.\u001b[0m\n",
      "\u001b[32m[I 2023-05-24 03:35:23,829]\u001b[0m Trial 14 finished with value: 6.409144820587011 and parameters: {'max_depth': 7, 'learning_rate': 0.1542421385024682, 'n_estimators': 637}. Best is trial 4 with value: 6.261422046406431.\u001b[0m\n",
      "\u001b[32m[I 2023-05-24 03:35:31,355]\u001b[0m Trial 15 finished with value: 6.248730869761388 and parameters: {'max_depth': 5, 'learning_rate': 0.21726747146652647, 'n_estimators': 218}. Best is trial 15 with value: 6.248730869761388.\u001b[0m\n",
      "\u001b[32m[I 2023-05-24 03:35:39,045]\u001b[0m Trial 16 finished with value: 6.27376350154654 and parameters: {'max_depth': 6, 'learning_rate': 0.2187020063054348, 'n_estimators': 206}. Best is trial 15 with value: 6.248730869761388.\u001b[0m\n",
      "\u001b[32m[I 2023-05-24 03:35:45,430]\u001b[0m Trial 17 finished with value: 6.306896009575445 and parameters: {'max_depth': 4, 'learning_rate': 0.22852667294921652, 'n_estimators': 184}. Best is trial 15 with value: 6.248730869761388.\u001b[0m\n",
      "\u001b[32m[I 2023-05-24 03:35:54,438]\u001b[0m Trial 18 finished with value: 6.269179407740307 and parameters: {'max_depth': 4, 'learning_rate': 0.2871432301519985, 'n_estimators': 350}. Best is trial 15 with value: 6.248730869761388.\u001b[0m\n",
      "\u001b[32m[I 2023-05-24 03:36:02,960]\u001b[0m Trial 19 finished with value: 6.3277034752192325 and parameters: {'max_depth': 7, 'learning_rate': 0.2043426610018504, 'n_estimators': 207}. Best is trial 15 with value: 6.248730869761388.\u001b[0m\n",
      "\u001b[32m[I 2023-05-24 03:36:17,235]\u001b[0m Trial 20 finished with value: 6.386229591231975 and parameters: {'max_depth': 8, 'learning_rate': 0.17486995763902669, 'n_estimators': 380}. Best is trial 15 with value: 6.248730869761388.\u001b[0m\n",
      "\u001b[32m[I 2023-05-24 03:36:26,510]\u001b[0m Trial 21 finished with value: 6.259660633505037 and parameters: {'max_depth': 4, 'learning_rate': 0.29458400724031797, 'n_estimators': 354}. Best is trial 15 with value: 6.248730869761388.\u001b[0m\n",
      "\u001b[32m[I 2023-05-24 03:36:33,992]\u001b[0m Trial 22 finished with value: 6.248026244205809 and parameters: {'max_depth': 4, 'learning_rate': 0.2972844912008205, 'n_estimators': 257}. Best is trial 22 with value: 6.248026244205809.\u001b[0m\n",
      "\u001b[32m[I 2023-05-24 03:36:45,001]\u001b[0m Trial 23 finished with value: 6.271295969537024 and parameters: {'max_depth': 4, 'learning_rate': 0.29577496723764257, 'n_estimators': 458}. Best is trial 22 with value: 6.248026244205809.\u001b[0m\n",
      "\u001b[32m[I 2023-05-24 03:36:51,584]\u001b[0m Trial 24 finished with value: 6.321354679431415 and parameters: {'max_depth': 5, 'learning_rate': 0.2568913903782716, 'n_estimators': 164}. Best is trial 22 with value: 6.248026244205809.\u001b[0m\n",
      "\u001b[32m[I 2023-05-24 03:37:00,517]\u001b[0m Trial 25 finished with value: 6.2667116961780245 and parameters: {'max_depth': 4, 'learning_rate': 0.2959654256521102, 'n_estimators': 350}. Best is trial 22 with value: 6.248026244205809.\u001b[0m\n",
      "\u001b[32m[I 2023-05-24 03:37:12,243]\u001b[0m Trial 26 finished with value: 6.272000244148561 and parameters: {'max_depth': 4, 'learning_rate': 0.2767373605440104, 'n_estimators': 501}. Best is trial 22 with value: 6.248026244205809.\u001b[0m\n",
      "\u001b[32m[I 2023-05-24 03:37:20,820]\u001b[0m Trial 27 finished with value: 6.295268761579358 and parameters: {'max_depth': 5, 'learning_rate': 0.23870683470590354, 'n_estimators': 274}. Best is trial 22 with value: 6.248026244205809.\u001b[0m\n",
      "\u001b[32m[I 2023-05-24 03:37:28,850]\u001b[0m Trial 28 finished with value: 6.299847166827549 and parameters: {'max_depth': 3, 'learning_rate': 0.24762925679019487, 'n_estimators': 359}. Best is trial 22 with value: 6.248026244205809.\u001b[0m\n",
      "\u001b[32m[I 2023-05-24 03:37:36,588]\u001b[0m Trial 29 finished with value: 6.297026273288865 and parameters: {'max_depth': 3, 'learning_rate': 0.27568119321478973, 'n_estimators': 338}. Best is trial 22 with value: 6.248026244205809.\u001b[0m\n"
     ]
    }
   ],
   "source": [
    "use_features = cat_feat\n",
    "study_install = optuna.create_study(direction='minimize',study_name='install_log_loss')\n",
    "study_install.optimize(objective, n_trials=30)"
   ]
  },
  {
   "cell_type": "code",
   "execution_count": 15,
   "id": "bf25fcfa-43c8-4fab-8c2b-cdc0155cfb4b",
   "metadata": {
    "collapsed": true,
    "jupyter": {
     "outputs_hidden": true
    },
    "tags": []
   },
   "outputs": [
    {
     "name": "stderr",
     "output_type": "stream",
     "text": [
      "\u001b[32m[I 2023-05-24 03:40:53,185]\u001b[0m A new study created in memory with name: install_log_loss\u001b[0m\n",
      "\u001b[32m[I 2023-05-24 03:41:03,844]\u001b[0m Trial 0 finished with value: 6.315358649384043 and parameters: {'max_depth': 8, 'learning_rate': 0.28174304603908057, 'n_estimators': 340}. Best is trial 0 with value: 6.315358649384043.\u001b[0m\n",
      "\u001b[32m[I 2023-05-24 03:41:10,920]\u001b[0m Trial 1 finished with value: 6.270233575248056 and parameters: {'max_depth': 6, 'learning_rate': 0.17188265984298395, 'n_estimators': 237}. Best is trial 1 with value: 6.270233575248056.\u001b[0m\n",
      "\u001b[32m[I 2023-05-24 03:41:15,117]\u001b[0m Trial 2 finished with value: 6.287506152407862 and parameters: {'max_depth': 6, 'learning_rate': 0.25719682871806077, 'n_estimators': 101}. Best is trial 1 with value: 6.270233575248056.\u001b[0m\n",
      "\u001b[32m[I 2023-05-24 03:41:27,760]\u001b[0m Trial 3 finished with value: 6.26882451185115 and parameters: {'max_depth': 8, 'learning_rate': 0.20066101752937415, 'n_estimators': 407}. Best is trial 3 with value: 6.26882451185115.\u001b[0m\n",
      "\u001b[32m[I 2023-05-24 03:41:39,561]\u001b[0m Trial 4 finished with value: 6.311834787072111 and parameters: {'max_depth': 8, 'learning_rate': 0.10898577442592079, 'n_estimators': 347}. Best is trial 3 with value: 6.26882451185115.\u001b[0m\n",
      "\u001b[32m[I 2023-05-24 03:41:56,140]\u001b[0m Trial 5 finished with value: 6.2811640082338265 and parameters: {'max_depth': 7, 'learning_rate': 0.27160421788355643, 'n_estimators': 645}. Best is trial 3 with value: 6.26882451185115.\u001b[0m\n",
      "\u001b[32m[I 2023-05-24 03:42:05,371]\u001b[0m Trial 6 finished with value: 6.322406635175562 and parameters: {'max_depth': 3, 'learning_rate': 0.14020093420147056, 'n_estimators': 481}. Best is trial 3 with value: 6.26882451185115.\u001b[0m\n",
      "\u001b[32m[I 2023-05-24 03:42:13,771]\u001b[0m Trial 7 finished with value: 6.26106734639302 and parameters: {'max_depth': 5, 'learning_rate': 0.1352943687379382, 'n_estimators': 310}. Best is trial 7 with value: 6.26106734639302.\u001b[0m\n",
      "\u001b[32m[I 2023-05-24 03:42:31,092]\u001b[0m Trial 8 finished with value: 6.286450956552461 and parameters: {'max_depth': 8, 'learning_rate': 0.17013782138012795, 'n_estimators': 573}. Best is trial 7 with value: 6.26106734639302.\u001b[0m\n",
      "\u001b[32m[I 2023-05-24 03:42:39,110]\u001b[0m Trial 9 finished with value: 6.272699589220561 and parameters: {'max_depth': 7, 'learning_rate': 0.07381709913072458, 'n_estimators': 209}. Best is trial 7 with value: 6.26106734639302.\u001b[0m\n",
      "\u001b[32m[I 2023-05-24 03:42:45,495]\u001b[0m Trial 10 finished with value: 6.312887322281998 and parameters: {'max_depth': 4, 'learning_rate': 0.05835222678326199, 'n_estimators': 250}. Best is trial 7 with value: 6.26106734639302.\u001b[0m\n",
      "\u001b[32m[I 2023-05-24 03:42:56,484]\u001b[0m Trial 11 finished with value: 6.302666158739219 and parameters: {'max_depth': 5, 'learning_rate': 0.21970136248947406, 'n_estimators': 458}. Best is trial 7 with value: 6.26106734639302.\u001b[0m\n",
      "\u001b[32m[I 2023-05-24 03:43:07,357]\u001b[0m Trial 12 finished with value: 6.258599985774779 and parameters: {'max_depth': 5, 'learning_rate': 0.20090997306562572, 'n_estimators': 442}. Best is trial 12 with value: 6.258599985774779.\u001b[0m\n",
      "\u001b[32m[I 2023-05-24 03:43:19,873]\u001b[0m Trial 13 finished with value: 6.282922776812685 and parameters: {'max_depth': 5, 'learning_rate': 0.13436926599864088, 'n_estimators': 515}. Best is trial 12 with value: 6.258599985774779.\u001b[0m\n",
      "\u001b[32m[I 2023-05-24 03:43:27,759]\u001b[0m Trial 14 finished with value: 6.280104005261225 and parameters: {'max_depth': 4, 'learning_rate': 0.22636150633689284, 'n_estimators': 295}. Best is trial 12 with value: 6.258599985774779.\u001b[0m\n",
      "\u001b[32m[I 2023-05-24 03:43:36,824]\u001b[0m Trial 15 finished with value: 6.272700315593109 and parameters: {'max_depth': 4, 'learning_rate': 0.19453739789795793, 'n_estimators': 410}. Best is trial 12 with value: 6.258599985774779.\u001b[0m\n",
      "\u001b[32m[I 2023-05-24 03:43:41,831]\u001b[0m Trial 16 finished with value: 6.271290027972809 and parameters: {'max_depth': 5, 'learning_rate': 0.15141536991504131, 'n_estimators': 148}. Best is trial 12 with value: 6.258599985774779.\u001b[0m\n",
      "\u001b[32m[I 2023-05-24 03:43:52,277]\u001b[0m Trial 17 finished with value: 6.325931762518336 and parameters: {'max_depth': 3, 'learning_rate': 0.11150543764737009, 'n_estimators': 539}. Best is trial 12 with value: 6.258599985774779.\u001b[0m\n",
      "\u001b[32m[I 2023-05-24 03:44:03,122]\u001b[0m Trial 18 finished with value: 6.3351021945403625 and parameters: {'max_depth': 6, 'learning_rate': 0.25007441604991293, 'n_estimators': 427}. Best is trial 12 with value: 6.258599985774779.\u001b[0m\n",
      "\u001b[32m[I 2023-05-24 03:44:10,326]\u001b[0m Trial 19 finished with value: 6.280106029310573 and parameters: {'max_depth': 4, 'learning_rate': 0.29835166927234436, 'n_estimators': 296}. Best is trial 12 with value: 6.258599985774779.\u001b[0m\n",
      "\u001b[32m[I 2023-05-24 03:44:24,639]\u001b[0m Trial 20 finished with value: 6.245909453887391 and parameters: {'max_depth': 5, 'learning_rate': 0.18539658586808733, 'n_estimators': 603}. Best is trial 20 with value: 6.245909453887391.\u001b[0m\n",
      "\u001b[32m[I 2023-05-24 03:44:37,979]\u001b[0m Trial 21 finished with value: 6.29138453518044 and parameters: {'max_depth': 5, 'learning_rate': 0.18982330841634298, 'n_estimators': 588}. Best is trial 20 with value: 6.245909453887391.\u001b[0m\n",
      "\u001b[32m[I 2023-05-24 03:44:52,452]\u001b[0m Trial 22 finished with value: 6.288564580213028 and parameters: {'max_depth': 5, 'learning_rate': 0.15771916563701452, 'n_estimators': 628}. Best is trial 20 with value: 6.245909453887391.\u001b[0m\n",
      "\u001b[32m[I 2023-05-24 03:45:04,997]\u001b[0m Trial 23 finished with value: 6.293852467102932 and parameters: {'max_depth': 6, 'learning_rate': 0.21563140948321782, 'n_estimators': 493}. Best is trial 20 with value: 6.245909453887391.\u001b[0m\n",
      "\u001b[32m[I 2023-05-24 03:45:13,732]\u001b[0m Trial 24 finished with value: 6.2748166651911035 and parameters: {'max_depth': 4, 'learning_rate': 0.17899874053914794, 'n_estimators': 365}. Best is trial 20 with value: 6.245909453887391.\u001b[0m\n",
      "\u001b[32m[I 2023-05-24 03:45:23,321]\u001b[0m Trial 25 finished with value: 6.279752096477156 and parameters: {'max_depth': 7, 'learning_rate': 0.20669857629434912, 'n_estimators': 301}. Best is trial 20 with value: 6.245909453887391.\u001b[0m\n",
      "\u001b[32m[I 2023-05-24 03:45:36,024]\u001b[0m Trial 26 finished with value: 6.285744045779876 and parameters: {'max_depth': 5, 'learning_rate': 0.23316127217623325, 'n_estimators': 554}. Best is trial 20 with value: 6.245909453887391.\u001b[0m\n",
      "\u001b[32m[I 2023-05-24 03:45:51,095]\u001b[0m Trial 27 finished with value: 6.286449389546515 and parameters: {'max_depth': 6, 'learning_rate': 0.18404176030390498, 'n_estimators': 595}. Best is trial 20 with value: 6.245909453887391.\u001b[0m\n",
      "\u001b[32m[I 2023-05-24 03:46:00,909]\u001b[0m Trial 28 finished with value: 6.256133816733977 and parameters: {'max_depth': 4, 'learning_rate': 0.2059604305598447, 'n_estimators': 442}. Best is trial 20 with value: 6.245909453887391.\u001b[0m\n",
      "\u001b[32m[I 2023-05-24 03:46:09,960]\u001b[0m Trial 29 finished with value: 6.268470211750716 and parameters: {'max_depth': 3, 'learning_rate': 0.23798162847574852, 'n_estimators': 461}. Best is trial 20 with value: 6.245909453887391.\u001b[0m\n"
     ]
    }
   ],
   "source": [
    "use_features = num_feat\n",
    "study_install = optuna.create_study(direction='minimize',study_name='install_log_loss')\n",
    "study_install.optimize(objective, n_trials=30)"
   ]
  },
  {
   "cell_type": "code",
   "execution_count": 5,
   "id": "eafec4d3-aaee-4b62-b2cf-5a8d5a31d4d6",
   "metadata": {
    "collapsed": true,
    "jupyter": {
     "outputs_hidden": true
    },
    "tags": []
   },
   "outputs": [
    {
     "name": "stderr",
     "output_type": "stream",
     "text": [
      "\u001b[32m[I 2023-05-24 04:05:04,873]\u001b[0m A new study created in memory with name: install_log_loss\u001b[0m\n",
      "\u001b[32m[I 2023-05-24 04:05:22,293]\u001b[0m Trial 0 finished with value: 6.318549766088793 and parameters: {'max_depth': 5, 'learning_rate': 0.2928763449189305, 'n_estimators': 324}. Best is trial 0 with value: 6.318549766088793.\u001b[0m\n",
      "\u001b[32m[I 2023-05-24 04:05:42,973]\u001b[0m Trial 1 finished with value: 6.040388090388639 and parameters: {'max_depth': 7, 'learning_rate': 0.08824878478430669, 'n_estimators': 386}. Best is trial 1 with value: 6.040388090388639.\u001b[0m\n",
      "\u001b[32m[I 2023-05-24 04:06:09,938]\u001b[0m Trial 2 finished with value: 5.991743316300266 and parameters: {'max_depth': 7, 'learning_rate': 0.08064889339076119, 'n_estimators': 554}. Best is trial 2 with value: 5.991743316300266.\u001b[0m\n",
      "\u001b[32m[I 2023-05-24 04:06:30,543]\u001b[0m Trial 3 finished with value: 6.412001436964381 and parameters: {'max_depth': 6, 'learning_rate': 0.2351186779583629, 'n_estimators': 453}. Best is trial 2 with value: 5.991743316300266.\u001b[0m\n",
      "\u001b[32m[I 2023-05-24 04:06:40,974]\u001b[0m Trial 4 finished with value: 6.128870647511811 and parameters: {'max_depth': 6, 'learning_rate': 0.1809285082782826, 'n_estimators': 129}. Best is trial 2 with value: 5.991743316300266.\u001b[0m\n",
      "\u001b[32m[I 2023-05-24 04:06:59,817]\u001b[0m Trial 5 finished with value: 6.166237862463078 and parameters: {'max_depth': 3, 'learning_rate': 0.1550525673496626, 'n_estimators': 589}. Best is trial 2 with value: 5.991743316300266.\u001b[0m\n",
      "\u001b[32m[I 2023-05-24 04:07:22,915]\u001b[0m Trial 6 finished with value: 6.126056430071382 and parameters: {'max_depth': 6, 'learning_rate': 0.06574426777509139, 'n_estimators': 488}. Best is trial 2 with value: 5.991743316300266.\u001b[0m\n",
      "\u001b[32m[I 2023-05-24 04:07:38,594]\u001b[0m Trial 7 finished with value: 6.297400756752353 and parameters: {'max_depth': 6, 'learning_rate': 0.21391534100407195, 'n_estimators': 281}. Best is trial 2 with value: 5.991743316300266.\u001b[0m\n",
      "\u001b[32m[I 2023-05-24 04:08:03,112]\u001b[0m Trial 8 finished with value: 6.082344369493123 and parameters: {'max_depth': 5, 'learning_rate': 0.09679197613155303, 'n_estimators': 606}. Best is trial 2 with value: 5.991743316300266.\u001b[0m\n",
      "\u001b[32m[I 2023-05-24 04:08:36,202]\u001b[0m Trial 9 finished with value: 6.264620728811768 and parameters: {'max_depth': 8, 'learning_rate': 0.2807909711085086, 'n_estimators': 643}. Best is trial 2 with value: 5.991743316300266.\u001b[0m\n",
      "\u001b[32m[I 2023-05-24 04:09:03,768]\u001b[0m Trial 10 finished with value: 6.037579430922425 and parameters: {'max_depth': 8, 'learning_rate': 0.1244037830243451, 'n_estimators': 488}. Best is trial 2 with value: 5.991743316300266.\u001b[0m\n",
      "\u001b[32m[I 2023-05-24 04:09:31,976]\u001b[0m Trial 11 finished with value: 6.095035905243694 and parameters: {'max_depth': 8, 'learning_rate': 0.126909913379994, 'n_estimators': 515}. Best is trial 2 with value: 5.991743316300266.\u001b[0m\n",
      "\u001b[32m[I 2023-05-24 04:10:03,748]\u001b[0m Trial 12 finished with value: 6.046380635480076 and parameters: {'max_depth': 8, 'learning_rate': 0.052747114918670374, 'n_estimators': 532}. Best is trial 2 with value: 5.991743316300266.\u001b[0m\n",
      "\u001b[32m[I 2023-05-24 04:10:26,159]\u001b[0m Trial 13 finished with value: 6.260738044934326 and parameters: {'max_depth': 7, 'learning_rate': 0.12389190566955707, 'n_estimators': 415}. Best is trial 2 with value: 5.991743316300266.\u001b[0m\n",
      "\u001b[32m[I 2023-05-24 04:10:53,687]\u001b[0m Trial 14 finished with value: 5.99350814070419 and parameters: {'max_depth': 7, 'learning_rate': 0.10297513632782529, 'n_estimators': 556}. Best is trial 2 with value: 5.991743316300266.\u001b[0m\n",
      "\u001b[32m[I 2023-05-24 04:11:08,783]\u001b[0m Trial 15 finished with value: 6.110539797615137 and parameters: {'max_depth': 7, 'learning_rate': 0.08317202669324078, 'n_estimators': 216}. Best is trial 2 with value: 5.991743316300266.\u001b[0m\n",
      "\u001b[32m[I 2023-05-24 04:11:30,441]\u001b[0m Trial 16 finished with value: 6.231101797060525 and parameters: {'max_depth': 4, 'learning_rate': 0.05116747299481053, 'n_estimators': 571}. Best is trial 2 with value: 5.991743316300266.\u001b[0m\n",
      "\u001b[32m[I 2023-05-24 04:12:00,656]\u001b[0m Trial 17 finished with value: 6.012901948032595 and parameters: {'max_depth': 7, 'learning_rate': 0.10469484707468532, 'n_estimators': 636}. Best is trial 2 with value: 5.991743316300266.\u001b[0m\n",
      "\u001b[32m[I 2023-05-24 04:12:27,685]\u001b[0m Trial 18 finished with value: 6.195869727617124 and parameters: {'max_depth': 7, 'learning_rate': 0.15091147728084156, 'n_estimators': 551}. Best is trial 2 with value: 5.991743316300266.\u001b[0m\n",
      "\u001b[32m[I 2023-05-24 04:12:48,197]\u001b[0m Trial 19 finished with value: 6.197265928506883 and parameters: {'max_depth': 5, 'learning_rate': 0.07593975636897499, 'n_estimators': 429}. Best is trial 2 with value: 5.991743316300266.\u001b[0m\n",
      "\u001b[32m[I 2023-05-24 04:13:02,626]\u001b[0m Trial 20 finished with value: 6.237093403580692 and parameters: {'max_depth': 3, 'learning_rate': 0.1058557567012383, 'n_estimators': 324}. Best is trial 2 with value: 5.991743316300266.\u001b[0m\n",
      "\u001b[32m[I 2023-05-24 04:13:33,648]\u001b[0m Trial 21 finished with value: 6.028408084813596 and parameters: {'max_depth': 7, 'learning_rate': 0.1086224963238723, 'n_estimators': 646}. Best is trial 2 with value: 5.991743316300266.\u001b[0m\n",
      "\u001b[32m[I 2023-05-24 04:14:02,780]\u001b[0m Trial 22 finished with value: 5.976231874551218 and parameters: {'max_depth': 7, 'learning_rate': 0.08293390751160735, 'n_estimators': 600}. Best is trial 22 with value: 5.976231874551218.\u001b[0m\n",
      "\u001b[32m[I 2023-05-24 04:14:29,303]\u001b[0m Trial 23 finished with value: 6.053082890734932 and parameters: {'max_depth': 6, 'learning_rate': 0.07693099527178238, 'n_estimators': 572}. Best is trial 22 with value: 5.976231874551218.\u001b[0m\n",
      "\u001b[32m[I 2023-05-24 04:14:57,059]\u001b[0m Trial 24 finished with value: 6.030164511045025 and parameters: {'max_depth': 8, 'learning_rate': 0.0678364343097687, 'n_estimators': 477}. Best is trial 22 with value: 5.976231874551218.\u001b[0m\n",
      "\u001b[32m[I 2023-05-24 04:15:24,161]\u001b[0m Trial 25 finished with value: 6.055904069925739 and parameters: {'max_depth': 7, 'learning_rate': 0.08993494370414598, 'n_estimators': 522}. Best is trial 22 with value: 5.976231874551218.\u001b[0m\n",
      "\u001b[32m[I 2023-05-24 04:15:55,003]\u001b[0m Trial 26 finished with value: 5.968829286684158 and parameters: {'max_depth': 7, 'learning_rate': 0.05198517520669243, 'n_estimators': 606}. Best is trial 26 with value: 5.968829286684158.\u001b[0m\n",
      "\u001b[32m[I 2023-05-24 04:16:23,249]\u001b[0m Trial 27 finished with value: 6.141222043345893 and parameters: {'max_depth': 6, 'learning_rate': 0.05202038202935474, 'n_estimators': 595}. Best is trial 26 with value: 5.968829286684158.\u001b[0m\n",
      "\u001b[32m[I 2023-05-24 04:16:47,099]\u001b[0m Trial 28 finished with value: 6.240272310697443 and parameters: {'max_depth': 4, 'learning_rate': 0.062184199192976075, 'n_estimators': 617}. Best is trial 26 with value: 5.968829286684158.\u001b[0m\n",
      "\u001b[32m[I 2023-05-24 04:17:09,024]\u001b[0m Trial 29 finished with value: 6.003018802419088 and parameters: {'max_depth': 8, 'learning_rate': 0.07637202112076023, 'n_estimators': 328}. Best is trial 26 with value: 5.968829286684158.\u001b[0m\n"
     ]
    }
   ],
   "source": [
    "use_features = all_feat\n",
    "study_install = optuna.create_study(direction='minimize',study_name='install_log_loss')\n",
    "study_install.optimize(objective, n_trials=30)"
   ]
  },
  {
   "cell_type": "code",
   "execution_count": 6,
   "id": "67583f50-763c-404b-a46a-2b10ec7bb78a",
   "metadata": {},
   "outputs": [],
   "source": [
    "import pandas as pd\n",
    "test = pd.read_csv('../Data/test/000000000000.csv',sep='\\t')\n",
    "test['f_30'].fillna(test['f_30'].mode()[0],inplace=True)\n",
    "test['f_31'].fillna(test['f_31'].mode()[0],inplace=True)\n",
    "fmiss = \"f_43,f_51,f_58,f_59,f_64,f_65,f_66,f_67,f_68,f_69,f_70\".split(',')\n",
    "for f in fmiss:\n",
    "    test[f].fillna(test[f].mean(),inplace=True)"
   ]
  },
  {
   "cell_type": "code",
   "execution_count": 8,
   "id": "a3e5aefc-394c-4b00-a8e7-f7d88a6f01b2",
   "metadata": {},
   "outputs": [],
   "source": [
    "params_all_feat = {'max_depth': 7, 'learning_rate': 0.05198517520669243, 'n_estimators': 606,\n",
    "                   'tree_method':'gpu_hist','objective':'binary:logistic'}\n",
    "params_cat_feat = {'max_depth': 4, 'learning_rate': 0.2972844912008205, 'n_estimators': 257,\n",
    "                   'tree_method':'gpu_hist','objective':'binary:logistic'}\n",
    "params_num_feat = {'max_depth': 5, 'learning_rate': 0.18539658586808733, 'n_estimators': 603,\n",
    "                   'tree_method':'gpu_hist','objective':'binary:logistic'}"
   ]
  },
  {
   "cell_type": "code",
   "execution_count": 9,
   "id": "f9b73674-6b86-4147-bd43-da91d1a175b8",
   "metadata": {},
   "outputs": [
    {
     "data": {
      "text/plain": [
       "XGBClassifier(base_score=None, booster=None, callbacks=None,\n",
       "              colsample_bylevel=None, colsample_bynode=None,\n",
       "              colsample_bytree=None, early_stopping_rounds=None,\n",
       "              enable_categorical=False, eval_metric=None, feature_types=None,\n",
       "              gamma=None, gpu_id=None, grow_policy=None, importance_type=None,\n",
       "              interaction_constraints=None, learning_rate=0.05198517520669243,\n",
       "              max_bin=None, max_cat_threshold=None, max_cat_to_onehot=None,\n",
       "              max_delta_step=None, max_depth=7, max_leaves=None,\n",
       "              min_child_weight=None, missing=nan, monotone_constraints=None,\n",
       "              n_estimators=606, n_jobs=None, num_parallel_tree=None,\n",
       "              predictor=None, random_state=None, ...)"
      ]
     },
     "execution_count": 9,
     "metadata": {},
     "output_type": "execute_result"
    }
   ],
   "source": [
    "model_all_feat = XGBClassifier(**params_all_feat)\n",
    "model_all_feat.fit(X_train[all_feat],y_train[TrainSplit.IS_INSTALLED[0]])"
   ]
  },
  {
   "cell_type": "code",
   "execution_count": 15,
   "id": "435a653e-c773-4ad2-80e2-9fd58ec29df9",
   "metadata": {},
   "outputs": [],
   "source": [
    "install_pred_all = model_all_feat.predict_proba(test[all_feat])[:,1]"
   ]
  },
  {
   "cell_type": "code",
   "execution_count": 16,
   "id": "79ef6413-0239-4317-9615-d18d72b579f3",
   "metadata": {},
   "outputs": [],
   "source": [
    "# model_all_feat.classes_"
   ]
  },
  {
   "cell_type": "code",
   "execution_count": 17,
   "id": "735a45f9-a019-4cab-b461-0fee07ba841f",
   "metadata": {},
   "outputs": [
    {
     "data": {
      "text/plain": [
       "((160973,), (160973, 80))"
      ]
     },
     "execution_count": 17,
     "metadata": {},
     "output_type": "execute_result"
    }
   ],
   "source": [
    "install_pred_all.shape,test.shape"
   ]
  },
  {
   "cell_type": "code",
   "execution_count": 22,
   "id": "9518d30b-2661-499c-8094-5edfd09c537e",
   "metadata": {},
   "outputs": [
    {
     "name": "stdout",
     "output_type": "stream",
     "text": [
      "Saved the test result to csv file as xgb_all_feat_2023-05-24 04:52:42.147148.csv\n",
      "Saved the model config to json file as xgb_all_feat_2023-05-24 04:52:42.147148.json\n"
     ]
    },
    {
     "data": {
      "text/plain": [
       "<utils.TestResults at 0x14bd6970b6a0>"
      ]
     },
     "execution_count": 22,
     "metadata": {},
     "output_type": "execute_result"
    }
   ],
   "source": [
    "TestResults(row_id=test['f_0'],is_click=np.random.random(install_pred_all.shape[0]),\n",
    "            is_install=install_pred_all,model_name=\"xgb_all_feat\",config=params_all_feat)"
   ]
  },
  {
   "cell_type": "code",
   "execution_count": 23,
   "id": "b6d5d925-358b-4220-b657-0d44a8efe14b",
   "metadata": {},
   "outputs": [
    {
     "data": {
      "text/plain": [
       "XGBClassifier(base_score=None, booster=None, callbacks=None,\n",
       "              colsample_bylevel=None, colsample_bynode=None,\n",
       "              colsample_bytree=None, early_stopping_rounds=None,\n",
       "              enable_categorical=False, eval_metric=None, feature_types=None,\n",
       "              gamma=None, gpu_id=None, grow_policy=None, importance_type=None,\n",
       "              interaction_constraints=None, learning_rate=0.2972844912008205,\n",
       "              max_bin=None, max_cat_threshold=None, max_cat_to_onehot=None,\n",
       "              max_delta_step=None, max_depth=4, max_leaves=None,\n",
       "              min_child_weight=None, missing=nan, monotone_constraints=None,\n",
       "              n_estimators=257, n_jobs=None, num_parallel_tree=None,\n",
       "              predictor=None, random_state=None, ...)"
      ]
     },
     "execution_count": 23,
     "metadata": {},
     "output_type": "execute_result"
    }
   ],
   "source": [
    "model_cat_feat = XGBClassifier(**params_cat_feat)\n",
    "model_cat_feat.fit(X_train[cat_feat],y_train[TrainSplit.IS_INSTALLED[0]])"
   ]
  },
  {
   "cell_type": "code",
   "execution_count": 25,
   "id": "9574a067-8b57-4167-a95d-00cb1eccbcfc",
   "metadata": {},
   "outputs": [],
   "source": [
    "install_pred_cat = model_cat_feat.predict_proba(test[cat_feat])[:,1]"
   ]
  },
  {
   "cell_type": "code",
   "execution_count": 26,
   "id": "b644759e-d68a-4e59-a5f1-31429657a90e",
   "metadata": {},
   "outputs": [
    {
     "name": "stdout",
     "output_type": "stream",
     "text": [
      "Saved the test result to csv file as xgb_cat_feat_2023-05-24 05:00:57.320961.csv\n",
      "Saved the model config to json file as xgb_cat_feat_2023-05-24 05:00:57.320961.json\n"
     ]
    },
    {
     "data": {
      "text/plain": [
       "<utils.TestResults at 0x14bd6a938b80>"
      ]
     },
     "execution_count": 26,
     "metadata": {},
     "output_type": "execute_result"
    }
   ],
   "source": [
    "TestResults(row_id=test['f_0'],is_click=np.random.random(install_pred_cat.shape[0]),\n",
    "            is_install=install_pred_cat,model_name=\"xgb_cat_feat\",config=params_all_feat)"
   ]
  },
  {
   "cell_type": "code",
   "execution_count": 27,
   "id": "cced6462-e71f-4f72-a9bc-aaffea4eb817",
   "metadata": {},
   "outputs": [
    {
     "data": {
      "text/plain": [
       "XGBClassifier(base_score=None, booster=None, callbacks=None,\n",
       "              colsample_bylevel=None, colsample_bynode=None,\n",
       "              colsample_bytree=None, early_stopping_rounds=None,\n",
       "              enable_categorical=False, eval_metric=None, feature_types=None,\n",
       "              gamma=None, gpu_id=None, grow_policy=None, importance_type=None,\n",
       "              interaction_constraints=None, learning_rate=0.18539658586808733,\n",
       "              max_bin=None, max_cat_threshold=None, max_cat_to_onehot=None,\n",
       "              max_delta_step=None, max_depth=5, max_leaves=None,\n",
       "              min_child_weight=None, missing=nan, monotone_constraints=None,\n",
       "              n_estimators=603, n_jobs=None, num_parallel_tree=None,\n",
       "              predictor=None, random_state=None, ...)"
      ]
     },
     "execution_count": 27,
     "metadata": {},
     "output_type": "execute_result"
    }
   ],
   "source": [
    "model_num_feat = XGBClassifier(**params_num_feat)\n",
    "model_num_feat.fit(X_train[num_feat],y_train[TrainSplit.IS_INSTALLED[0]])"
   ]
  },
  {
   "cell_type": "code",
   "execution_count": 31,
   "id": "cfb05111-4fd6-4f7a-95aa-ce4ca0275aea",
   "metadata": {},
   "outputs": [],
   "source": [
    "install_pred_num = model_num_feat.predict_proba(test[num_feat])[:,1]"
   ]
  },
  {
   "cell_type": "code",
   "execution_count": 32,
   "id": "6cb6b4bd-ad51-4fa9-a23e-5be570382587",
   "metadata": {},
   "outputs": [
    {
     "name": "stdout",
     "output_type": "stream",
     "text": [
      "Saved the test result to csv file as xgb_num_feat_2023-05-24 05:04:15.918272.csv\n",
      "Saved the model config to json file as xgb_num_feat_2023-05-24 05:04:15.918272.json\n"
     ]
    },
    {
     "data": {
      "text/plain": [
       "<utils.TestResults at 0x14bd68b7f2b0>"
      ]
     },
     "execution_count": 32,
     "metadata": {},
     "output_type": "execute_result"
    }
   ],
   "source": [
    "TestResults(row_id=test['f_0'],is_click=np.random.random(install_pred_num.shape[0]),\n",
    "            is_install=install_pred_num,model_name=\"xgb_num_feat\",config=params_all_feat)"
   ]
  },
  {
   "cell_type": "code",
   "execution_count": null,
   "id": "bc8d95ab-17fb-4048-835a-9abc547dab10",
   "metadata": {},
   "outputs": [],
   "source": []
  }
 ],
 "metadata": {
  "kernelspec": {
   "display_name": "Python 3 (ipykernel)",
   "language": "python",
   "name": "python3"
  },
  "language_info": {
   "codemirror_mode": {
    "name": "ipython",
    "version": 3
   },
   "file_extension": ".py",
   "mimetype": "text/x-python",
   "name": "python",
   "nbconvert_exporter": "python",
   "pygments_lexer": "ipython3",
   "version": "3.9.16"
  }
 },
 "nbformat": 4,
 "nbformat_minor": 5
}
