{
 "cells": [
  {
   "cell_type": "markdown",
   "id": "8d7c885e-b42e-4da2-83ec-7a1c7e436e41",
   "metadata": {},
   "source": [
    "1. The first row is the header row that contains names f_0 to f_79 followed by is_clicked, is_installed.\n",
    "2. Each line consists of different columns that are tab separated.\n",
    "3. The data types of different columns are:\n",
    "   1. RowId(f_0)\n",
    "   2. Date(f_1)\n",
    "   3. Categorical features(f_2 to f_32)\n",
    "   4. Binary features(f_33 to f_41)\n",
    "   5. Numerical features(f_42 to f_79)\n",
    "   6. Labels(is_clicked, is_installed)"
   ]
  },
  {
   "cell_type": "code",
   "execution_count": 1,
   "id": "566b7817-4d0e-4034-856d-108505e3ad50",
   "metadata": {
    "tags": []
   },
   "outputs": [],
   "source": [
    "ROWID = ['f_0']\n",
    "DATE = ['f_1']\n",
    "CATEGORIES = [ f'f_{i}' for i in range(2,33) ]\n",
    "BINARY = [ f'f_{i}' for i in range(33,42) ]\n",
    "NUMERICAL = [ f'f_{i}' for i in range(42,80) ]\n",
    "IS_CLICKED = ['is_clicked']\n",
    "IS_INSTALLED =['is_installed']"
   ]
  },
  {
   "cell_type": "code",
   "execution_count": 2,
   "id": "eea22b3a-974a-42f2-846c-83953784c618",
   "metadata": {
    "tags": []
   },
   "outputs": [],
   "source": [
    "from glob import glob\n",
    "PATHS = glob(\"../Data/train/*\")"
   ]
  },
  {
   "cell_type": "code",
   "execution_count": 3,
   "id": "97dcc964-181f-4b60-94be-9550729c71d6",
   "metadata": {
    "tags": []
   },
   "outputs": [],
   "source": [
    "from tqdm import tqdm\n",
    "\n",
    "import pandas as pd\n",
    "import ipdb\n",
    "import tqdm\n",
    "import gc\n",
    "\n",
    "count_cat = { k:dict() for k in CATEGORIES }\n",
    "rows = list()\n",
    "dates = set()\n",
    "\n",
    "def get_unique(data):\n",
    "    for cat in CATEGORIES:\n",
    "        out = data[cat].value_counts()\n",
    "        # print(out,type(out))\n",
    "        # ipdb.set_trace()\n",
    "        keys = out.keys()\n",
    "        for k in keys:\n",
    "            if count_cat[cat].get(k) is None:\n",
    "                count_cat[cat][k] = out[k]\n",
    "            else:\n",
    "                count_cat[cat][k] += out[k]\n",
    "    for row in ROWID:\n",
    "        rows.extend(data[row].tolist())\n",
    "    \n",
    "    for date in DATE:\n",
    "        for a in data[date]:\n",
    "            dates.add(a)\n",
    "    # print(data.isnull().any(axis=1).value_counts())\n",
    "    count_is_only_clicked = 0 \n",
    "    count_is_only_installed = 0\n",
    "    count_is_both = 0\n",
    "    for idx in data.index:\n",
    "        if data[IS_CLICKED[0]][idx] and data[IS_INSTALLED[0]][idx]:\n",
    "            count_is_both+=1\n",
    "        elif data[IS_CLICKED[0]][idx]:\n",
    "            count_is_only_clicked +=1\n",
    "        elif data[IS_INSTALLED[0]][idx]:\n",
    "            count_is_only_installed +=1\n",
    "    return count_is_only_clicked, count_is_only_installed,count_is_both\n",
    "\n",
    "def generate_report():\n",
    "    count_is_only_clicked = 0\n",
    "    count_is_only_installed = 0\n",
    "    count_is_both = 0\n",
    "    total_rows = 0\n",
    "    for path in tqdm.tqdm(PATHS,desc=\"Report\"):\n",
    "        data = pd.read_csv(path,sep='\\t')\n",
    "        # print(data.head())\n",
    "        click,install,both = get_unique(data)\n",
    "        # print(\"Rows in Files\",len(data))\n",
    "        total_rows += len(data)\n",
    "        count_is_only_clicked += click\n",
    "        count_is_only_installed += install\n",
    "        count_is_both += both\n",
    "        del data\n",
    "        gc.collect()\n",
    "    print(\"Total Rows: \",total_rows)\n",
    "    print(\"Total Only Installs:\", count_is_only_installed)\n",
    "    print(\"Total Only Clicks:\", count_is_only_clicked)\n",
    "    print(\"Total Both Installed and Clicked:\",count_is_both)\n",
    "    print(\"Unique Dates\",len(dates))"
   ]
  },
  {
   "cell_type": "code",
   "execution_count": 4,
   "id": "ce7d6b76-1223-42f5-98bb-1fbf8ef53851",
   "metadata": {
    "tags": []
   },
   "outputs": [
    {
     "name": "stderr",
     "output_type": "stream",
     "text": [
      "Report: 100%|██████████████████████████████████████| 30/30 [01:28<00:00,  2.94s/it]"
     ]
    },
    {
     "name": "stdout",
     "output_type": "stream",
     "text": [
      "Total Rows:  3485852\n",
      "Total Only Installs: 358645\n",
      "Total Only Clicks: 518357\n",
      "Total Both Installed and Clicked: 247957\n",
      "Unique Dates 22\n"
     ]
    },
    {
     "name": "stderr",
     "output_type": "stream",
     "text": [
      "\n"
     ]
    }
   ],
   "source": [
    "generate_report()"
   ]
  },
  {
   "cell_type": "markdown",
   "id": "a2ce57ab-e8f5-4e27-b07b-4d06f439e4b6",
   "metadata": {
    "tags": []
   },
   "source": [
    "We have 34,85,852 rows in the Data. Out of which we have 606602 installed and 606602 clicked which is around 17% of the data.\n",
    "Total Rows:  3485852\n",
    "Total Only Installs: 358645\n",
    "Total Only Clicks: 518357\n",
    "Total Both Installed and Clicked: 247957\n",
    "Unique Dates 22"
   ]
  },
  {
   "cell_type": "markdown",
   "id": "67b681c4-a664-40fb-a223-a88bfe566324",
   "metadata": {},
   "source": [
    "Treat Unknow as a Category for Binary and Categorical features and for numerical use mean "
   ]
  },
  {
   "cell_type": "code",
   "execution_count": 5,
   "id": "4b05aa06-e3a1-49d1-b845-f0cf71c323d7",
   "metadata": {
    "tags": []
   },
   "outputs": [
    {
     "name": "stdout",
     "output_type": "stream",
     "text": [
      "f_2 136\n",
      "f_3 5\n",
      "f_4 633\n",
      "f_5 6\n",
      "f_6 5167\n",
      "f_7 1\n",
      "f_8 6\n",
      "f_9 7\n",
      "f_10 3\n",
      "f_11 24\n",
      "f_12 26\n",
      "f_13 329\n",
      "f_14 19\n",
      "f_15 5801\n",
      "f_16 10\n",
      "f_17 49\n",
      "f_18 901\n",
      "f_19 19\n",
      "f_20 55\n",
      "f_21 34\n",
      "f_22 24\n",
      "f_23 4\n",
      "f_24 4\n",
      "f_25 3\n",
      "f_26 2\n",
      "f_27 2\n",
      "f_28 2\n",
      "f_29 2\n",
      "f_30 2\n",
      "f_31 2\n",
      "f_32 4\n"
     ]
    }
   ],
   "source": [
    "for cat in CATEGORIES:\n",
    "    print(cat,len(count_cat[cat]))"
   ]
  },
  {
   "cell_type": "code",
   "execution_count": 6,
   "id": "27a5c5f3-6114-46ad-a073-e623523966c1",
   "metadata": {},
   "outputs": [],
   "source": [
    "import random\n",
    "\n",
    "class Imputation:\n",
    "    def __init__(self,distribution):\n",
    "        self.distro = distribution\n",
    "        self.most_frequent()\n",
    "        self.set_total()\n",
    "        \n",
    "    def most_frequent(self):\n",
    "        kmax,vmax = None,0\n",
    "        for k,v in self.distro:\n",
    "            if v>vmax:\n",
    "                vmax=v\n",
    "                kmax=k\n",
    "        self.mode = kmax\n",
    "    \n",
    "    def set_total(self):\n",
    "        total = 0\n",
    "        for k,v in self.distro:\n",
    "            total+=v\n",
    "        self.total = total\n",
    "    \n",
    "    def get_prob_cat(self):\n",
    "            x = random.uniform(0,1)\n",
    "            till = 0\n",
    "            for k,v in self.distro:\n",
    "                till+=v\n",
    "                if x<=(till/self.total):\n",
    "                    return k          \n",
    "    \n",
    "    def get_cat(self,method):\n",
    "        if method=='mode':\n",
    "            return self.mode\n",
    "        elif method=='prob':\n",
    "            return self.get_prob_cat()      "
   ]
  },
  {
   "cell_type": "markdown",
   "id": "1e394e49-c2b4-47df-8749-a25a8daf4920",
   "metadata": {},
   "source": [
    "# Combine dataframes"
   ]
  },
  {
   "cell_type": "code",
   "execution_count": 7,
   "id": "19357caf-d7c8-418c-b241-a0db1be52b68",
   "metadata": {
    "tags": []
   },
   "outputs": [
    {
     "name": "stderr",
     "output_type": "stream",
     "text": [
      "Loading DFs: 100%|█████████████████████████████████| 30/30 [00:22<00:00,  1.32it/s]\n"
     ]
    }
   ],
   "source": [
    "dfs = []\n",
    "count = 0\n",
    "ml = []\n",
    "for path in tqdm.tqdm(PATHS,desc=\"Loading DFs\"):\n",
    "    dfs.append(pd.read_csv(path,sep='\\t'))\n",
    "    count+=1\n",
    "    if count>30:\n",
    "        count =0\n",
    "        ml.append(pd.concat(dfs,ignore_index=True))\n",
    "        dfs = []\n",
    "        gc.collect()"
   ]
  },
  {
   "cell_type": "code",
   "execution_count": 8,
   "id": "94e1f45b-5c53-4ad8-9ab4-fad6b67597b7",
   "metadata": {},
   "outputs": [],
   "source": [
    "ml = pd.concat(dfs,ignore_index=True)"
   ]
  },
  {
   "cell_type": "code",
   "execution_count": 15,
   "id": "fcb165b9-f5eb-4415-8fbc-9bcd1c1b4403",
   "metadata": {},
   "outputs": [],
   "source": [
    "ml.to_csv('../Data/miss_combine.csv',index=False)"
   ]
  },
  {
   "cell_type": "code",
   "execution_count": 16,
   "id": "106ddff4-851e-4bf2-8e1d-a3879dd3edaf",
   "metadata": {},
   "outputs": [],
   "source": [
    "del ml"
   ]
  },
  {
   "cell_type": "code",
   "execution_count": 10,
   "id": "cd99852e-cace-437a-af22-de39e1b11ab2",
   "metadata": {},
   "outputs": [
    {
     "data": {
      "text/plain": [
       "30"
      ]
     },
     "execution_count": 10,
     "metadata": {},
     "output_type": "execute_result"
    }
   ],
   "source": [
    "len(dfs)"
   ]
  },
  {
   "cell_type": "code",
   "execution_count": 11,
   "id": "5dd18a2b-00f5-41c5-9464-3b8d8f1bcbb2",
   "metadata": {},
   "outputs": [],
   "source": [
    "del dfs"
   ]
  },
  {
   "cell_type": "code",
   "execution_count": 12,
   "id": "7c57089a-635c-463c-b076-3609616f5aba",
   "metadata": {},
   "outputs": [
    {
     "name": "stdout",
     "output_type": "stream",
     "text": [
      "f_2 [False]\n",
      "f_3 [False]\n",
      "f_4 [False]\n",
      "f_5 [False]\n",
      "f_6 [False]\n",
      "f_7 [False]\n",
      "f_8 [False]\n",
      "f_9 [False]\n",
      "f_10 [False]\n",
      "f_11 [False]\n",
      "f_12 [False]\n",
      "f_13 [False]\n",
      "f_14 [False]\n",
      "f_15 [False]\n",
      "f_16 [False]\n",
      "f_17 [False]\n",
      "f_18 [False]\n",
      "f_19 [False]\n",
      "f_20 [False]\n",
      "f_21 [False]\n",
      "f_22 [False]\n",
      "f_23 [False]\n",
      "f_24 [False]\n",
      "f_25 [False]\n",
      "f_26 [False]\n",
      "f_27 [False]\n",
      "f_28 [False]\n",
      "f_29 [False]\n",
      "f_30 [False  True]\n",
      "f_31 [False  True]\n",
      "f_32 [False]\n"
     ]
    }
   ],
   "source": [
    "for cat in CATEGORIES:\n",
    "    print(cat,ml[cat].isnull().unique())"
   ]
  },
  {
   "cell_type": "code",
   "execution_count": 13,
   "id": "2e4ed34f-c162-4477-a688-71f1509ecc54",
   "metadata": {},
   "outputs": [
    {
     "data": {
      "text/plain": [
       "{0.0: 1816733, 1.0: 2151}"
      ]
     },
     "execution_count": 13,
     "metadata": {},
     "output_type": "execute_result"
    }
   ],
   "source": [
    "count_cat['f_30']"
   ]
  },
  {
   "cell_type": "code",
   "execution_count": 14,
   "id": "2525d06b-267d-4ace-88fb-f9147794f1aa",
   "metadata": {},
   "outputs": [
    {
     "data": {
      "text/plain": [
       "{0.0: 1817977, 1.0: 907}"
      ]
     },
     "execution_count": 14,
     "metadata": {},
     "output_type": "execute_result"
    }
   ],
   "source": [
    "count_cat['f_31']"
   ]
  },
  {
   "cell_type": "markdown",
   "id": "25e51a95-95cf-4ab8-98b2-0cf96d8d01b3",
   "metadata": {},
   "source": [
    "# Majority "
   ]
  },
  {
   "cell_type": "code",
   "execution_count": 84,
   "id": "9f5d834d-1105-42d9-b4f1-6f29043d1db2",
   "metadata": {},
   "outputs": [],
   "source": [
    "ml[0].loc[ml['f_31'].isnull(),'f_31'] = 0\n",
    "ml[0].loc[ml[0]['f_30'].isnull(),'f_30'] = 0"
   ]
  },
  {
   "cell_type": "code",
   "execution_count": 85,
   "id": "46306f6c-77b2-4f7e-b07f-2287ffb97cc4",
   "metadata": {},
   "outputs": [
    {
     "data": {
      "text/plain": [
       "False    3485852\n",
       "Name: f_31, dtype: int64"
      ]
     },
     "execution_count": 85,
     "metadata": {},
     "output_type": "execute_result"
    }
   ],
   "source": [
    "ml[0]['f_31'].isnull().value_counts()"
   ]
  },
  {
   "cell_type": "code",
   "execution_count": 31,
   "id": "bf42ebae-44c8-4c96-a477-2405f347a181",
   "metadata": {},
   "outputs": [
    {
     "data": {
      "text/plain": [
       "False    1818884\n",
       "True     1666968\n",
       "Name: f_30, dtype: int64"
      ]
     },
     "execution_count": 31,
     "metadata": {},
     "output_type": "execute_result"
    }
   ],
   "source": [
    "ml[0]['f_30'].isnull().value_counts()"
   ]
  },
  {
   "cell_type": "markdown",
   "id": "734f1f02-ed06-489a-8c2e-7326708530c5",
   "metadata": {},
   "source": [
    "ALL Binary are non Null"
   ]
  },
  {
   "cell_type": "code",
   "execution_count": 32,
   "id": "62a9980a-c676-4e37-a318-4abfc34eff4c",
   "metadata": {},
   "outputs": [
    {
     "name": "stdout",
     "output_type": "stream",
     "text": [
      "f_33 [False]\n",
      "f_34 [False]\n",
      "f_35 [False]\n",
      "f_36 [False]\n",
      "f_37 [False]\n",
      "f_38 [False]\n",
      "f_39 [False]\n",
      "f_40 [False]\n",
      "f_41 [False]\n"
     ]
    }
   ],
   "source": [
    "for cat in BINARY:\n",
    "    print(cat,ml[0][cat].isnull().unique())"
   ]
  },
  {
   "cell_type": "code",
   "execution_count": 63,
   "id": "9b725979-f264-41a8-88ee-3f880be4d054",
   "metadata": {},
   "outputs": [
    {
     "name": "stdout",
     "output_type": "stream",
     "text": [
      "f_43,f_51,f_58,f_59,f_64,f_65,f_66,f_67,f_68,f_69,f_70,"
     ]
    }
   ],
   "source": [
    "for cat in NUMERICAL:\n",
    "    # print(len(ml[0][cat].isnull().value_counts()))\n",
    "    if len(ml[0][cat].isnull().value_counts())==2:\n",
    "        print(cat,end=',')\n",
    "    # print(10*\"##\")"
   ]
  },
  {
   "cell_type": "code",
   "execution_count": 64,
   "id": "fecd5300-8e3c-4968-be17-cef72653b622",
   "metadata": {},
   "outputs": [],
   "source": [
    "rep = \"f_43,f_51,f_58,f_59,f_64,f_65,f_66,f_67,f_68,f_69,f_70\".split(',')"
   ]
  },
  {
   "cell_type": "code",
   "execution_count": 65,
   "id": "52cd0a04-5f32-4610-9357-a251e901ed8b",
   "metadata": {},
   "outputs": [
    {
     "data": {
      "text/plain": [
       "['f_43',\n",
       " 'f_51',\n",
       " 'f_58',\n",
       " 'f_59',\n",
       " 'f_64',\n",
       " 'f_65',\n",
       " 'f_66',\n",
       " 'f_67',\n",
       " 'f_68',\n",
       " 'f_69',\n",
       " 'f_70']"
      ]
     },
     "execution_count": 65,
     "metadata": {},
     "output_type": "execute_result"
    }
   ],
   "source": [
    "rep"
   ]
  },
  {
   "cell_type": "code",
   "execution_count": 67,
   "id": "c0ec9396-63cf-4377-8762-06ba619f1db4",
   "metadata": {},
   "outputs": [
    {
     "name": "stdout",
     "output_type": "stream",
     "text": [
      "False    3304425\n",
      "True      181427\n",
      "Name: f_43, dtype: int64\n",
      "False    3304425\n",
      "True      181427\n",
      "Name: f_51, dtype: int64\n",
      "False    3304425\n",
      "True      181427\n",
      "Name: f_58, dtype: int64\n",
      "False    3304425\n",
      "True      181427\n",
      "Name: f_59, dtype: int64\n",
      "False    3304425\n",
      "True      181427\n",
      "Name: f_64, dtype: int64\n",
      "False    3304425\n",
      "True      181427\n",
      "Name: f_65, dtype: int64\n",
      "False    3304425\n",
      "True      181427\n",
      "Name: f_66, dtype: int64\n",
      "False    3304425\n",
      "True      181427\n",
      "Name: f_67, dtype: int64\n",
      "False    3304425\n",
      "True      181427\n",
      "Name: f_68, dtype: int64\n",
      "False    3304425\n",
      "True      181427\n",
      "Name: f_69, dtype: int64\n",
      "False    3304425\n",
      "True      181427\n",
      "Name: f_70, dtype: int64\n"
     ]
    }
   ],
   "source": [
    "for f in rep:\n",
    "    print(ml[0][f].isnull().value_counts())"
   ]
  },
  {
   "cell_type": "code",
   "execution_count": 78,
   "id": "1abdcd1d-b8d8-46df-b86a-6af3523f249b",
   "metadata": {},
   "outputs": [
    {
     "name": "stdout",
     "output_type": "stream",
     "text": [
      "Mean:  1.0899900684591426\n",
      "Max:  117.60245036343846\n",
      "Min:  0.0\n",
      "Std:  0.9193922295773653\n",
      "##########\n",
      "Mean:  9.612606605851425\n",
      "Max:  30.726135928853385\n",
      "Min:  1.1664909153687513e-06\n",
      "Std:  8.614143833972447\n",
      "##########\n",
      "Mean:  1.497333785168147\n",
      "Max:  68.8755609646012\n",
      "Min:  0.0\n",
      "Std:  0.6851057440347202\n",
      "##########\n",
      "Mean:  71.98649578462962\n",
      "Max:  4523.565856375785\n",
      "Min:  0.0\n",
      "Std:  425.94543545263224\n",
      "##########\n",
      "Mean:  1606620424.129997\n",
      "Max:  415706830424.0\n",
      "Min:  0.0\n",
      "Std:  22856238732.109543\n",
      "##########\n",
      "Mean:  1456.5924423045176\n",
      "Max:  245375.6659807956\n",
      "Min:  0.0\n",
      "Std:  3333.6232611059495\n",
      "##########\n",
      "Mean:  1.0706576280375653\n",
      "Max:  97.81664179648072\n",
      "Min:  0.0\n",
      "Std:  0.879662879475278\n",
      "##########\n",
      "Mean:  8.039026797699448\n",
      "Max:  14.87352756803166\n",
      "Min:  0.0\n",
      "Std:  0.9771120976978507\n",
      "##########\n",
      "Mean:  3.488874760474159\n",
      "Max:  64.96885037542945\n",
      "Min:  0.0\n",
      "Std:  10.198130282469457\n",
      "##########\n",
      "Mean:  5.381359761081607\n",
      "Max:  39.875441303703575\n",
      "Min:  0.0\n",
      "Std:  9.375841585954925\n",
      "##########\n",
      "Mean:  1.0463295556700554\n",
      "Max:  74.9569994558488\n",
      "Min:  0.0\n",
      "Std:  1.1032937314876157\n",
      "##########\n"
     ]
    }
   ],
   "source": [
    "for f in rep:\n",
    "    print(\"Mean: \",ml[0][f].mean())\n",
    "    print(\"Max: \",ml[0][f].max())\n",
    "    print(\"Min: \",ml[0][f].min())\n",
    "    print(\"Std: \",ml[0][f].std())\n",
    "    print(\"#\"*10)"
   ]
  },
  {
   "cell_type": "markdown",
   "id": "f7916f37-875a-446d-a767-94411d1fe154",
   "metadata": {},
   "source": [
    "## Mean Imputation"
   ]
  },
  {
   "cell_type": "code",
   "execution_count": 86,
   "id": "20743a71-50a8-495b-a730-578a93c93e53",
   "metadata": {},
   "outputs": [],
   "source": [
    "for f in rep:\n",
    "    val = ml[0][f].mean()\n",
    "    ml[0].loc[ml[0][f].isnull(),f] = val"
   ]
  },
  {
   "cell_type": "code",
   "execution_count": 87,
   "id": "6161ef8f-1a2c-48c6-90cc-141dbe1d109b",
   "metadata": {},
   "outputs": [
    {
     "name": "stdout",
     "output_type": "stream",
     "text": [
      "False    3485852\n",
      "Name: f_43, dtype: int64\n",
      "False    3485852\n",
      "Name: f_51, dtype: int64\n",
      "False    3485852\n",
      "Name: f_58, dtype: int64\n",
      "False    3485852\n",
      "Name: f_59, dtype: int64\n",
      "False    3485852\n",
      "Name: f_64, dtype: int64\n",
      "False    3485852\n",
      "Name: f_65, dtype: int64\n",
      "False    3485852\n",
      "Name: f_66, dtype: int64\n",
      "False    3485852\n",
      "Name: f_67, dtype: int64\n",
      "False    3485852\n",
      "Name: f_68, dtype: int64\n",
      "False    3485852\n",
      "Name: f_69, dtype: int64\n",
      "False    3485852\n",
      "Name: f_70, dtype: int64\n"
     ]
    }
   ],
   "source": [
    "for f in rep:\n",
    "    print(ml[0][f].isnull().value_counts())"
   ]
  },
  {
   "cell_type": "code",
   "execution_count": 88,
   "id": "82314536-8284-4229-8b41-0a98cdc7f1e9",
   "metadata": {},
   "outputs": [],
   "source": [
    "ml[0].to_csv('../Data/combine.csv',index=False)"
   ]
  },
  {
   "cell_type": "code",
   "execution_count": 1,
   "id": "5e5813fc-6859-4396-b0f6-ba15c7c81240",
   "metadata": {},
   "outputs": [],
   "source": [
    "import pandas as pd\n",
    "data = pd.read_csv('../Data/miss_combine.csv')"
   ]
  },
  {
   "cell_type": "code",
   "execution_count": 2,
   "id": "1cec185d-0b94-4548-bb86-7204c2cfe697",
   "metadata": {},
   "outputs": [
    {
     "data": {
      "text/html": [
       "<div>\n",
       "<style scoped>\n",
       "    .dataframe tbody tr th:only-of-type {\n",
       "        vertical-align: middle;\n",
       "    }\n",
       "\n",
       "    .dataframe tbody tr th {\n",
       "        vertical-align: top;\n",
       "    }\n",
       "\n",
       "    .dataframe thead th {\n",
       "        text-align: right;\n",
       "    }\n",
       "</style>\n",
       "<table border=\"1\" class=\"dataframe\">\n",
       "  <thead>\n",
       "    <tr style=\"text-align: right;\">\n",
       "      <th></th>\n",
       "      <th>f_0</th>\n",
       "      <th>f_1</th>\n",
       "      <th>f_2</th>\n",
       "      <th>f_3</th>\n",
       "      <th>f_4</th>\n",
       "      <th>f_5</th>\n",
       "      <th>f_6</th>\n",
       "      <th>f_7</th>\n",
       "      <th>f_8</th>\n",
       "      <th>f_9</th>\n",
       "      <th>...</th>\n",
       "      <th>f_72</th>\n",
       "      <th>f_73</th>\n",
       "      <th>f_74</th>\n",
       "      <th>f_75</th>\n",
       "      <th>f_76</th>\n",
       "      <th>f_77</th>\n",
       "      <th>f_78</th>\n",
       "      <th>f_79</th>\n",
       "      <th>is_clicked</th>\n",
       "      <th>is_installed</th>\n",
       "    </tr>\n",
       "  </thead>\n",
       "  <tbody>\n",
       "    <tr>\n",
       "      <th>0</th>\n",
       "      <td>2541275</td>\n",
       "      <td>49</td>\n",
       "      <td>30131</td>\n",
       "      <td>7152</td>\n",
       "      <td>16170</td>\n",
       "      <td>25604</td>\n",
       "      <td>25613</td>\n",
       "      <td>27941</td>\n",
       "      <td>21218</td>\n",
       "      <td>869</td>\n",
       "      <td>...</td>\n",
       "      <td>3.426729</td>\n",
       "      <td>0.571121</td>\n",
       "      <td>0.115692</td>\n",
       "      <td>1.156922</td>\n",
       "      <td>0.269948</td>\n",
       "      <td>0.0</td>\n",
       "      <td>0.000000</td>\n",
       "      <td>0.0</td>\n",
       "      <td>1</td>\n",
       "      <td>1</td>\n",
       "    </tr>\n",
       "    <tr>\n",
       "      <th>1</th>\n",
       "      <td>2541956</td>\n",
       "      <td>49</td>\n",
       "      <td>20095</td>\n",
       "      <td>563</td>\n",
       "      <td>22861</td>\n",
       "      <td>25604</td>\n",
       "      <td>22651</td>\n",
       "      <td>27941</td>\n",
       "      <td>19203</td>\n",
       "      <td>869</td>\n",
       "      <td>...</td>\n",
       "      <td>0.571121</td>\n",
       "      <td>0.571121</td>\n",
       "      <td>0.115692</td>\n",
       "      <td>1.156922</td>\n",
       "      <td>0.269948</td>\n",
       "      <td>0.0</td>\n",
       "      <td>0.000000</td>\n",
       "      <td>0.0</td>\n",
       "      <td>0</td>\n",
       "      <td>0</td>\n",
       "    </tr>\n",
       "    <tr>\n",
       "      <th>2</th>\n",
       "      <td>2542133</td>\n",
       "      <td>55</td>\n",
       "      <td>20095</td>\n",
       "      <td>563</td>\n",
       "      <td>22861</td>\n",
       "      <td>25604</td>\n",
       "      <td>21280</td>\n",
       "      <td>27941</td>\n",
       "      <td>21621</td>\n",
       "      <td>23218</td>\n",
       "      <td>...</td>\n",
       "      <td>0.000000</td>\n",
       "      <td>0.000000</td>\n",
       "      <td>0.000000</td>\n",
       "      <td>1.156922</td>\n",
       "      <td>0.038564</td>\n",
       "      <td>0.0</td>\n",
       "      <td>0.000000</td>\n",
       "      <td>0.0</td>\n",
       "      <td>0</td>\n",
       "      <td>1</td>\n",
       "    </tr>\n",
       "    <tr>\n",
       "      <th>3</th>\n",
       "      <td>2542375</td>\n",
       "      <td>57</td>\n",
       "      <td>17758</td>\n",
       "      <td>22294</td>\n",
       "      <td>29040</td>\n",
       "      <td>25604</td>\n",
       "      <td>15836</td>\n",
       "      <td>27941</td>\n",
       "      <td>21218</td>\n",
       "      <td>21533</td>\n",
       "      <td>...</td>\n",
       "      <td>5.711215</td>\n",
       "      <td>2.284486</td>\n",
       "      <td>0.115692</td>\n",
       "      <td>1.156922</td>\n",
       "      <td>0.269948</td>\n",
       "      <td>0.0</td>\n",
       "      <td>0.000000</td>\n",
       "      <td>0.0</td>\n",
       "      <td>0</td>\n",
       "      <td>0</td>\n",
       "    </tr>\n",
       "    <tr>\n",
       "      <th>4</th>\n",
       "      <td>2542442</td>\n",
       "      <td>47</td>\n",
       "      <td>11077</td>\n",
       "      <td>7152</td>\n",
       "      <td>18575</td>\n",
       "      <td>15908</td>\n",
       "      <td>16861</td>\n",
       "      <td>27941</td>\n",
       "      <td>21218</td>\n",
       "      <td>9638</td>\n",
       "      <td>...</td>\n",
       "      <td>1.142243</td>\n",
       "      <td>0.000000</td>\n",
       "      <td>0.038564</td>\n",
       "      <td>1.156922</td>\n",
       "      <td>0.269948</td>\n",
       "      <td>0.0</td>\n",
       "      <td>37.384575</td>\n",
       "      <td>0.0</td>\n",
       "      <td>0</td>\n",
       "      <td>0</td>\n",
       "    </tr>\n",
       "  </tbody>\n",
       "</table>\n",
       "<p>5 rows × 82 columns</p>\n",
       "</div>"
      ],
      "text/plain": [
       "       f_0  f_1    f_2    f_3    f_4    f_5    f_6    f_7    f_8    f_9  ...  \\\n",
       "0  2541275   49  30131   7152  16170  25604  25613  27941  21218    869  ...   \n",
       "1  2541956   49  20095    563  22861  25604  22651  27941  19203    869  ...   \n",
       "2  2542133   55  20095    563  22861  25604  21280  27941  21621  23218  ...   \n",
       "3  2542375   57  17758  22294  29040  25604  15836  27941  21218  21533  ...   \n",
       "4  2542442   47  11077   7152  18575  15908  16861  27941  21218   9638  ...   \n",
       "\n",
       "       f_72      f_73      f_74      f_75      f_76  f_77       f_78  f_79  \\\n",
       "0  3.426729  0.571121  0.115692  1.156922  0.269948   0.0   0.000000   0.0   \n",
       "1  0.571121  0.571121  0.115692  1.156922  0.269948   0.0   0.000000   0.0   \n",
       "2  0.000000  0.000000  0.000000  1.156922  0.038564   0.0   0.000000   0.0   \n",
       "3  5.711215  2.284486  0.115692  1.156922  0.269948   0.0   0.000000   0.0   \n",
       "4  1.142243  0.000000  0.038564  1.156922  0.269948   0.0  37.384575   0.0   \n",
       "\n",
       "   is_clicked  is_installed  \n",
       "0           1             1  \n",
       "1           0             0  \n",
       "2           0             1  \n",
       "3           0             0  \n",
       "4           0             0  \n",
       "\n",
       "[5 rows x 82 columns]"
      ]
     },
     "execution_count": 2,
     "metadata": {},
     "output_type": "execute_result"
    }
   ],
   "source": [
    "data.head()"
   ]
  },
  {
   "cell_type": "code",
   "execution_count": 3,
   "id": "5456f9ee-f1af-4e9f-ba2b-31f82897fdf7",
   "metadata": {},
   "outputs": [],
   "source": [
    "fmiss = \"f_30,f_31,f_43,f_51,f_58,f_59,f_64,f_65,f_66,f_67,f_68,f_69,f_70\".split(',')"
   ]
  },
  {
   "cell_type": "code",
   "execution_count": 4,
   "id": "2da2ff2b-1145-499d-83eb-0c83d2f894db",
   "metadata": {},
   "outputs": [],
   "source": [
    "fmiss = set(fmiss)"
   ]
  },
  {
   "cell_type": "code",
   "execution_count": 5,
   "id": "dde9a536-74fb-437e-a440-36a1d7bdc61c",
   "metadata": {},
   "outputs": [],
   "source": [
    "fall = {f'f_{i}' for i in range(0,80)}"
   ]
  },
  {
   "cell_type": "code",
   "execution_count": 6,
   "id": "dbfe0622-f083-4952-8d78-a5ab3fab9a0d",
   "metadata": {},
   "outputs": [],
   "source": [
    "fpst = list(fall-fmiss)"
   ]
  },
  {
   "cell_type": "code",
   "execution_count": 7,
   "id": "84bd8c7a-1dd1-4c87-92c7-a11582f0ea0c",
   "metadata": {},
   "outputs": [],
   "source": [
    "fall = list(fall)\n",
    "fmiss = list(fmiss)"
   ]
  },
  {
   "cell_type": "code",
   "execution_count": 8,
   "id": "1e840f1b-27b5-4517-9b41-2d316c6c109a",
   "metadata": {},
   "outputs": [
    {
     "data": {
      "text/plain": [
       "67"
      ]
     },
     "execution_count": 8,
     "metadata": {},
     "output_type": "execute_result"
    }
   ],
   "source": [
    "len(fpst)"
   ]
  },
  {
   "cell_type": "code",
   "execution_count": 9,
   "id": "05751a18-6ec0-41dc-bff6-546b25714db6",
   "metadata": {},
   "outputs": [],
   "source": [
    "from xgboost import XGBClassifier\n",
    "from xgboost import XGBRegressor\n",
    "\n",
    "class ImputerModel:\n",
    "    \n",
    "    def __init__(self,data,feature,fpst,method,model_params):\n",
    "        self.feature = feature\n",
    "        self.model_params = model_params\n",
    "        self.fpst = fpst\n",
    "        self.method = method\n",
    "        return self.train(data)\n",
    "        \n",
    "    def train(self,data):\n",
    "        print(f\"The model for feature {self.feature} is stating to train\")\n",
    "        null = data.loc[data[self.feature].isnull(),self.fpst]\n",
    "        traind = data.loc[~(data[self.feature].isnull()),self.fpst]\n",
    "        y_train = data.loc[~(data[self.feature].isnull()),self.feature]\n",
    "        print(traind.shape,y_train.shape)\n",
    "        print(null.shape)\n",
    "        print(traind.head())\n",
    "        print(null.head())\n",
    "        if self.method=='class':\n",
    "            self.model = XGBClassifier(**self.model_params)\n",
    "            self.model.fit(traind,y_train)\n",
    "            print(\"## Done Model Training Now prediction\")\n",
    "        else:\n",
    "            self.model = XGBRegressor(**self.model_params)\n",
    "            self.model.fit(traind,y_train)\n",
    "            print(\"## Done Model Training Now prediction\")\n",
    "            \n",
    "    def predict(self,data):\n",
    "        return self.model.predict(data)"
   ]
  },
  {
   "cell_type": "code",
   "execution_count": 10,
   "id": "69b6f087-623c-44d7-a751-29aa675ac960",
   "metadata": {},
   "outputs": [
    {
     "name": "stdout",
     "output_type": "stream",
     "text": [
      "The model for feature f_30 is stating to train\n",
      "(1818884, 67) (1818884,)\n",
      "(1666968, 67)\n",
      "        f_63   f_19  f_41   f_18  f_27  f_45      f_74      f_76   f_10  f_49  \\\n",
      "0   0.000000  25952     0  12020     0   0.0  0.115692  0.269948  22970   0.0   \n",
      "3   0.355221  25370     0  12020     0   0.0  0.115692  0.269948  22970   0.0   \n",
      "5   0.000000  26758     0  12020     0   0.0  0.115692  0.269948  19343   0.0   \n",
      "9   0.000000  16851     0  19937     0   0.0  0.000000  0.269948  19343   0.0   \n",
      "15  6.038759  26758     0  19937     0   0.0  0.115692  0.269948  22970   0.0   \n",
      "\n",
      "    ...    f_2  f_25  f_46   f_20    f_9    f_5    f_3        f_42   f_15  \\\n",
      "0   ...  30131     0   0.0  22762    869  25604   7152   13.728808  13801   \n",
      "3   ...  17758     0   0.0  14219  21533  25604  22294  130.732192  13801   \n",
      "5   ...  20095     0   0.0   4222   6675  25604    563   11.877733   4497   \n",
      "9   ...  26325     0   0.0  30153  23218  25604  22294    7.635686   2396   \n",
      "15  ...  20095     0   0.0   4222  23218  15908    563   11.183580   3682   \n",
      "\n",
      "    f_32  \n",
      "0      3  \n",
      "3      3  \n",
      "5      3  \n",
      "9      2  \n",
      "15     2  \n",
      "\n",
      "[5 rows x 67 columns]\n",
      "       f_63   f_19  f_41   f_18  f_27  f_45      f_74      f_76   f_10  f_49  \\\n",
      "1  2.131327  26758     0   5774     0   0.0  0.115692  0.269948  19343   0.0   \n",
      "2  0.000000  26758     0  12020     0   0.0  0.000000  0.038564  22970   0.0   \n",
      "4  2.486548  21743     0  12020     0   0.0  0.038564  0.269948  19343   0.0   \n",
      "6  0.000000  20534     0  21865     0   0.0  0.000000  0.269948  19343   0.0   \n",
      "7  0.355221  26758     0  28964     0   0.0  0.000000  0.269948  19343   0.0   \n",
      "\n",
      "   ...    f_2  f_25  f_46   f_20    f_9    f_5    f_3       f_42   f_15  f_32  \n",
      "1  ...  20095     0   0.0   4222    869  25604    563  20.708905  18094     3  \n",
      "2  ...  20095     0   0.0   4222  23218  25604    563   0.578461  13257     2  \n",
      "4  ...  11077     0   0.0  15610   9638  15908   7152   9.602453   7842     2  \n",
      "6  ...  12577     0   0.0  30939  31372  29304  22294  40.222323  32288     2  \n",
      "7  ...  20095     0   0.0   4222  14659  21545    563   6.478764  31231     3  \n",
      "\n",
      "[5 rows x 67 columns]\n",
      "## Done Model Training Now prediction\n"
     ]
    }
   ],
   "source": [
    "model = ImputerModel(data,'f_30',fpst,'class',{'learning_rate':0.05, 'n_estimators':100, 'objective':'binary:logistic','verbosity':2,'tree_method':'gpu_hist'})"
   ]
  },
  {
   "cell_type": "code",
   "execution_count": 12,
   "id": "a5533a67-08ed-42ac-ae23-cda524a1d0b3",
   "metadata": {},
   "outputs": [
    {
     "name": "stdout",
     "output_type": "stream",
     "text": [
      "The model for feature f_31 is stating to train\n",
      "(1818884, 67) (1818884,)\n",
      "(1666968, 67)\n",
      "        f_63   f_19  f_41   f_18  f_27  f_45      f_74      f_76   f_10  f_49  \\\n",
      "0   0.000000  25952     0  12020     0   0.0  0.115692  0.269948  22970   0.0   \n",
      "3   0.355221  25370     0  12020     0   0.0  0.115692  0.269948  22970   0.0   \n",
      "5   0.000000  26758     0  12020     0   0.0  0.115692  0.269948  19343   0.0   \n",
      "9   0.000000  16851     0  19937     0   0.0  0.000000  0.269948  19343   0.0   \n",
      "15  6.038759  26758     0  19937     0   0.0  0.115692  0.269948  22970   0.0   \n",
      "\n",
      "    ...    f_2  f_25  f_46   f_20    f_9    f_5    f_3        f_42   f_15  \\\n",
      "0   ...  30131     0   0.0  22762    869  25604   7152   13.728808  13801   \n",
      "3   ...  17758     0   0.0  14219  21533  25604  22294  130.732192  13801   \n",
      "5   ...  20095     0   0.0   4222   6675  25604    563   11.877733   4497   \n",
      "9   ...  26325     0   0.0  30153  23218  25604  22294    7.635686   2396   \n",
      "15  ...  20095     0   0.0   4222  23218  15908    563   11.183580   3682   \n",
      "\n",
      "    f_32  \n",
      "0      3  \n",
      "3      3  \n",
      "5      3  \n",
      "9      2  \n",
      "15     2  \n",
      "\n",
      "[5 rows x 67 columns]\n",
      "       f_63   f_19  f_41   f_18  f_27  f_45      f_74      f_76   f_10  f_49  \\\n",
      "1  2.131327  26758     0   5774     0   0.0  0.115692  0.269948  19343   0.0   \n",
      "2  0.000000  26758     0  12020     0   0.0  0.000000  0.038564  22970   0.0   \n",
      "4  2.486548  21743     0  12020     0   0.0  0.038564  0.269948  19343   0.0   \n",
      "6  0.000000  20534     0  21865     0   0.0  0.000000  0.269948  19343   0.0   \n",
      "7  0.355221  26758     0  28964     0   0.0  0.000000  0.269948  19343   0.0   \n",
      "\n",
      "   ...    f_2  f_25  f_46   f_20    f_9    f_5    f_3       f_42   f_15  f_32  \n",
      "1  ...  20095     0   0.0   4222    869  25604    563  20.708905  18094     3  \n",
      "2  ...  20095     0   0.0   4222  23218  25604    563   0.578461  13257     2  \n",
      "4  ...  11077     0   0.0  15610   9638  15908   7152   9.602453   7842     2  \n",
      "6  ...  12577     0   0.0  30939  31372  29304  22294  40.222323  32288     2  \n",
      "7  ...  20095     0   0.0   4222  14659  21545    563   6.478764  31231     3  \n",
      "\n",
      "[5 rows x 67 columns]\n",
      "## Done Model Training Now prediction\n"
     ]
    }
   ],
   "source": [
    "model_f_31 = ImputerModel(data,'f_31',fpst,'class',{'learning_rate':0.05, 'n_estimators':100, 'objective':'binary:logistic','verbosity':2,'tree_method':'gpu_hist'})"
   ]
  },
  {
   "cell_type": "code",
   "execution_count": 13,
   "id": "55b1133b-6a1e-40b7-b350-205179213b4b",
   "metadata": {},
   "outputs": [
    {
     "data": {
      "text/plain": [
       "558"
      ]
     },
     "execution_count": 13,
     "metadata": {},
     "output_type": "execute_result"
    }
   ],
   "source": [
    "import gc\n",
    "gc.collect()"
   ]
  },
  {
   "cell_type": "code",
   "execution_count": 14,
   "id": "5eb3c6de-bca9-4dc1-a501-e09ad428f62f",
   "metadata": {},
   "outputs": [],
   "source": [
    "out = model.predict(data.loc[data[\"f_30\"].isnull(),fpst])"
   ]
  },
  {
   "cell_type": "code",
   "execution_count": 15,
   "id": "3d62a1fd-7e59-43dd-99ab-21fbb511a7eb",
   "metadata": {},
   "outputs": [
    {
     "name": "stdout",
     "output_type": "stream",
     "text": [
      "(array([0, 1]), array([1659160,    7808]))\n"
     ]
    }
   ],
   "source": [
    "import numpy as np\n",
    "print(np.unique(out,return_counts=True))"
   ]
  },
  {
   "cell_type": "code",
   "execution_count": 16,
   "id": "7da897c3-f3dd-466d-880e-cb41dafb5b4e",
   "metadata": {},
   "outputs": [],
   "source": [
    "data.loc[data[\"f_30\"].isnull(),'f_30'] = out"
   ]
  },
  {
   "cell_type": "code",
   "execution_count": 17,
   "id": "f27a8eec-34e5-4401-99f5-365676cc84bd",
   "metadata": {},
   "outputs": [],
   "source": [
    "out = model_f_31.predict(data.loc[data[\"f_31\"].isnull(),fpst])"
   ]
  },
  {
   "cell_type": "code",
   "execution_count": 18,
   "id": "5ea6c911-ee2f-4c4b-97e3-aa2ffcd35444",
   "metadata": {},
   "outputs": [
    {
     "name": "stdout",
     "output_type": "stream",
     "text": [
      "(array([0, 1]), array([1662931,    4037]))\n"
     ]
    }
   ],
   "source": [
    "print(np.unique(out,return_counts=True))"
   ]
  },
  {
   "cell_type": "code",
   "execution_count": 19,
   "id": "27e58602-3d4b-44e3-ae20-91cc27edb33f",
   "metadata": {},
   "outputs": [],
   "source": [
    "data.loc[data[\"f_31\"].isnull(),'f_31'] = out"
   ]
  },
  {
   "cell_type": "code",
   "execution_count": 20,
   "id": "81ec7786-39e5-44e7-b2d9-da6800c92340",
   "metadata": {},
   "outputs": [],
   "source": [
    "fmiss.remove('f_31')"
   ]
  },
  {
   "cell_type": "code",
   "execution_count": 21,
   "id": "749626ab-f47a-4f4d-a57d-260b8939d417",
   "metadata": {},
   "outputs": [],
   "source": [
    "fmiss.remove('f_30')"
   ]
  },
  {
   "cell_type": "code",
   "execution_count": 22,
   "id": "5389f60b-116a-4ad0-8eeb-ae362e2480b4",
   "metadata": {},
   "outputs": [
    {
     "data": {
      "text/plain": [
       "['f_67',\n",
       " 'f_68',\n",
       " 'f_59',\n",
       " 'f_51',\n",
       " 'f_64',\n",
       " 'f_65',\n",
       " 'f_70',\n",
       " 'f_66',\n",
       " 'f_43',\n",
       " 'f_58',\n",
       " 'f_69']"
      ]
     },
     "execution_count": 22,
     "metadata": {},
     "output_type": "execute_result"
    }
   ],
   "source": [
    "fmiss"
   ]
  },
  {
   "cell_type": "code",
   "execution_count": 24,
   "id": "e8c95e9c-981c-4919-bc75-43b75405eeab",
   "metadata": {},
   "outputs": [],
   "source": [
    "models = []"
   ]
  },
  {
   "cell_type": "code",
   "execution_count": 25,
   "id": "d377e3cb-0e08-4e8c-ab83-74ad294c2f24",
   "metadata": {},
   "outputs": [],
   "source": [
    "models.append(model)\n",
    "models.append(model_f_31)"
   ]
  },
  {
   "cell_type": "code",
   "execution_count": 26,
   "id": "55d09924-afa1-4538-908a-a5d59c635bea",
   "metadata": {},
   "outputs": [
    {
     "data": {
      "text/plain": [
       "2"
      ]
     },
     "execution_count": 26,
     "metadata": {},
     "output_type": "execute_result"
    }
   ],
   "source": [
    "len(models)"
   ]
  },
  {
   "cell_type": "code",
   "execution_count": 27,
   "id": "e7ef094f-bc4b-45fd-84a6-420a1fb9ec72",
   "metadata": {},
   "outputs": [
    {
     "data": {
      "text/plain": [
       "2486"
      ]
     },
     "execution_count": 27,
     "metadata": {},
     "output_type": "execute_result"
    }
   ],
   "source": [
    "gc.collect()"
   ]
  },
  {
   "cell_type": "code",
   "execution_count": 30,
   "id": "c30a15a8-548e-4031-8b70-4f2a5fa36a5f",
   "metadata": {
    "collapsed": true,
    "jupyter": {
     "outputs_hidden": true
    },
    "tags": []
   },
   "outputs": [
    {
     "name": "stderr",
     "output_type": "stream",
     "text": [
      "Numerical Imputation:   0%|                                 | 0/11 [00:00<?, ?it/s]"
     ]
    },
    {
     "name": "stdout",
     "output_type": "stream",
     "text": [
      "The model for feature f_67 is stating to train\n",
      "(3304425, 67) (3304425,)\n",
      "(181427, 67)\n",
      "       f_63   f_19  f_41   f_18  f_27  f_45      f_74      f_76   f_10  f_49  \\\n",
      "0  0.000000  25952     0  12020     0   0.0  0.115692  0.269948  22970   0.0   \n",
      "1  2.131327  26758     0   5774     0   0.0  0.115692  0.269948  19343   0.0   \n",
      "2  0.000000  26758     0  12020     0   0.0  0.000000  0.038564  22970   0.0   \n",
      "4  2.486548  21743     0  12020     0   0.0  0.038564  0.269948  19343   0.0   \n",
      "5  0.000000  26758     0  12020     0   0.0  0.115692  0.269948  19343   0.0   \n",
      "\n",
      "   ...    f_2  f_25  f_46   f_20    f_9    f_5   f_3       f_42   f_15  f_32  \n",
      "0  ...  30131     0   0.0  22762    869  25604  7152  13.728808  13801     3  \n",
      "1  ...  20095     0   0.0   4222    869  25604   563  20.708905  18094     3  \n",
      "2  ...  20095     0   0.0   4222  23218  25604   563   0.578461  13257     2  \n",
      "4  ...  11077     0   0.0  15610   9638  15908  7152   9.602453   7842     2  \n",
      "5  ...  20095     0   0.0   4222   6675  25604   563  11.877733   4497     3  \n",
      "\n",
      "[5 rows x 67 columns]\n",
      "          f_63   f_19  f_41   f_18  f_27  f_45      f_74      f_76   f_10  \\\n",
      "3     0.355221  25370     0  12020     0   0.0  0.115692  0.269948  22970   \n",
      "125   0.000000  29982     0  21865     0   0.0  0.000000  0.000000  22970   \n",
      "150   0.000000  29982     0   5774     0   0.0  0.115692  0.269948  19343   \n",
      "152   0.000000  29982     0   8607     0   0.0  0.000000  0.000000  19343   \n",
      "173  11.722296  29982     0  19937     0   0.0  0.115692  0.269948  19343   \n",
      "\n",
      "     f_49  ...    f_2  f_25  f_46   f_20    f_9    f_5    f_3        f_42  \\\n",
      "3     0.0  ...  17758     0   0.0  14219  21533  25604  22294  130.732192   \n",
      "125   0.0  ...  27426     0   0.0   4740  23218  21545   7152    0.000000   \n",
      "150   0.0  ...   3346     0   0.0  27961    869  21545  22294    4.589124   \n",
      "152   0.0  ...  27426     0   0.0   4740  23218  25604  22294    0.000000   \n",
      "173   0.0  ...  27426     0   0.0   4740    869  25604   7779   35.710327   \n",
      "\n",
      "      f_15  f_32  \n",
      "3    13801     3  \n",
      "125  17418     2  \n",
      "150  30654     2  \n",
      "152  16209     2  \n",
      "173  24297     3  \n",
      "\n",
      "[5 rows x 67 columns]\n",
      "## Done Model Training Now prediction\n"
     ]
    },
    {
     "name": "stderr",
     "output_type": "stream",
     "text": [
      "Numerical Imputation:   9%|██▎                      | 1/11 [00:13<02:14, 13.45s/it]"
     ]
    },
    {
     "name": "stdout",
     "output_type": "stream",
     "text": [
      "The model for feature f_68 is stating to train\n",
      "(3304425, 67) (3304425,)\n",
      "(181427, 67)\n",
      "       f_63   f_19  f_41   f_18  f_27  f_45      f_74      f_76   f_10  f_49  \\\n",
      "0  0.000000  25952     0  12020     0   0.0  0.115692  0.269948  22970   0.0   \n",
      "1  2.131327  26758     0   5774     0   0.0  0.115692  0.269948  19343   0.0   \n",
      "2  0.000000  26758     0  12020     0   0.0  0.000000  0.038564  22970   0.0   \n",
      "4  2.486548  21743     0  12020     0   0.0  0.038564  0.269948  19343   0.0   \n",
      "5  0.000000  26758     0  12020     0   0.0  0.115692  0.269948  19343   0.0   \n",
      "\n",
      "   ...    f_2  f_25  f_46   f_20    f_9    f_5   f_3       f_42   f_15  f_32  \n",
      "0  ...  30131     0   0.0  22762    869  25604  7152  13.728808  13801     3  \n",
      "1  ...  20095     0   0.0   4222    869  25604   563  20.708905  18094     3  \n",
      "2  ...  20095     0   0.0   4222  23218  25604   563   0.578461  13257     2  \n",
      "4  ...  11077     0   0.0  15610   9638  15908  7152   9.602453   7842     2  \n",
      "5  ...  20095     0   0.0   4222   6675  25604   563  11.877733   4497     3  \n",
      "\n",
      "[5 rows x 67 columns]\n",
      "          f_63   f_19  f_41   f_18  f_27  f_45      f_74      f_76   f_10  \\\n",
      "3     0.355221  25370     0  12020     0   0.0  0.115692  0.269948  22970   \n",
      "125   0.000000  29982     0  21865     0   0.0  0.000000  0.000000  22970   \n",
      "150   0.000000  29982     0   5774     0   0.0  0.115692  0.269948  19343   \n",
      "152   0.000000  29982     0   8607     0   0.0  0.000000  0.000000  19343   \n",
      "173  11.722296  29982     0  19937     0   0.0  0.115692  0.269948  19343   \n",
      "\n",
      "     f_49  ...    f_2  f_25  f_46   f_20    f_9    f_5    f_3        f_42  \\\n",
      "3     0.0  ...  17758     0   0.0  14219  21533  25604  22294  130.732192   \n",
      "125   0.0  ...  27426     0   0.0   4740  23218  21545   7152    0.000000   \n",
      "150   0.0  ...   3346     0   0.0  27961    869  21545  22294    4.589124   \n",
      "152   0.0  ...  27426     0   0.0   4740  23218  25604  22294    0.000000   \n",
      "173   0.0  ...  27426     0   0.0   4740    869  25604   7779   35.710327   \n",
      "\n",
      "      f_15  f_32  \n",
      "3    13801     3  \n",
      "125  17418     2  \n",
      "150  30654     2  \n",
      "152  16209     2  \n",
      "173  24297     3  \n",
      "\n",
      "[5 rows x 67 columns]\n",
      "## Done Model Training Now prediction\n"
     ]
    },
    {
     "name": "stderr",
     "output_type": "stream",
     "text": [
      "Numerical Imputation:  18%|████▌                    | 2/11 [00:25<01:54, 12.76s/it]"
     ]
    },
    {
     "name": "stdout",
     "output_type": "stream",
     "text": [
      "The model for feature f_59 is stating to train\n",
      "(3304425, 67) (3304425,)\n",
      "(181427, 67)\n",
      "       f_63   f_19  f_41   f_18  f_27  f_45      f_74      f_76   f_10  f_49  \\\n",
      "0  0.000000  25952     0  12020     0   0.0  0.115692  0.269948  22970   0.0   \n",
      "1  2.131327  26758     0   5774     0   0.0  0.115692  0.269948  19343   0.0   \n",
      "2  0.000000  26758     0  12020     0   0.0  0.000000  0.038564  22970   0.0   \n",
      "4  2.486548  21743     0  12020     0   0.0  0.038564  0.269948  19343   0.0   \n",
      "5  0.000000  26758     0  12020     0   0.0  0.115692  0.269948  19343   0.0   \n",
      "\n",
      "   ...    f_2  f_25  f_46   f_20    f_9    f_5   f_3       f_42   f_15  f_32  \n",
      "0  ...  30131     0   0.0  22762    869  25604  7152  13.728808  13801     3  \n",
      "1  ...  20095     0   0.0   4222    869  25604   563  20.708905  18094     3  \n",
      "2  ...  20095     0   0.0   4222  23218  25604   563   0.578461  13257     2  \n",
      "4  ...  11077     0   0.0  15610   9638  15908  7152   9.602453   7842     2  \n",
      "5  ...  20095     0   0.0   4222   6675  25604   563  11.877733   4497     3  \n",
      "\n",
      "[5 rows x 67 columns]\n",
      "          f_63   f_19  f_41   f_18  f_27  f_45      f_74      f_76   f_10  \\\n",
      "3     0.355221  25370     0  12020     0   0.0  0.115692  0.269948  22970   \n",
      "125   0.000000  29982     0  21865     0   0.0  0.000000  0.000000  22970   \n",
      "150   0.000000  29982     0   5774     0   0.0  0.115692  0.269948  19343   \n",
      "152   0.000000  29982     0   8607     0   0.0  0.000000  0.000000  19343   \n",
      "173  11.722296  29982     0  19937     0   0.0  0.115692  0.269948  19343   \n",
      "\n",
      "     f_49  ...    f_2  f_25  f_46   f_20    f_9    f_5    f_3        f_42  \\\n",
      "3     0.0  ...  17758     0   0.0  14219  21533  25604  22294  130.732192   \n",
      "125   0.0  ...  27426     0   0.0   4740  23218  21545   7152    0.000000   \n",
      "150   0.0  ...   3346     0   0.0  27961    869  21545  22294    4.589124   \n",
      "152   0.0  ...  27426     0   0.0   4740  23218  25604  22294    0.000000   \n",
      "173   0.0  ...  27426     0   0.0   4740    869  25604   7779   35.710327   \n",
      "\n",
      "      f_15  f_32  \n",
      "3    13801     3  \n",
      "125  17418     2  \n",
      "150  30654     2  \n",
      "152  16209     2  \n",
      "173  24297     3  \n",
      "\n",
      "[5 rows x 67 columns]\n",
      "## Done Model Training Now prediction\n"
     ]
    },
    {
     "name": "stderr",
     "output_type": "stream",
     "text": [
      "Numerical Imputation:  27%|██████▊                  | 3/11 [00:37<01:37, 12.20s/it]"
     ]
    },
    {
     "name": "stdout",
     "output_type": "stream",
     "text": [
      "The model for feature f_51 is stating to train\n",
      "(3304425, 67) (3304425,)\n",
      "(181427, 67)\n",
      "       f_63   f_19  f_41   f_18  f_27  f_45      f_74      f_76   f_10  f_49  \\\n",
      "0  0.000000  25952     0  12020     0   0.0  0.115692  0.269948  22970   0.0   \n",
      "1  2.131327  26758     0   5774     0   0.0  0.115692  0.269948  19343   0.0   \n",
      "2  0.000000  26758     0  12020     0   0.0  0.000000  0.038564  22970   0.0   \n",
      "4  2.486548  21743     0  12020     0   0.0  0.038564  0.269948  19343   0.0   \n",
      "5  0.000000  26758     0  12020     0   0.0  0.115692  0.269948  19343   0.0   \n",
      "\n",
      "   ...    f_2  f_25  f_46   f_20    f_9    f_5   f_3       f_42   f_15  f_32  \n",
      "0  ...  30131     0   0.0  22762    869  25604  7152  13.728808  13801     3  \n",
      "1  ...  20095     0   0.0   4222    869  25604   563  20.708905  18094     3  \n",
      "2  ...  20095     0   0.0   4222  23218  25604   563   0.578461  13257     2  \n",
      "4  ...  11077     0   0.0  15610   9638  15908  7152   9.602453   7842     2  \n",
      "5  ...  20095     0   0.0   4222   6675  25604   563  11.877733   4497     3  \n",
      "\n",
      "[5 rows x 67 columns]\n",
      "          f_63   f_19  f_41   f_18  f_27  f_45      f_74      f_76   f_10  \\\n",
      "3     0.355221  25370     0  12020     0   0.0  0.115692  0.269948  22970   \n",
      "125   0.000000  29982     0  21865     0   0.0  0.000000  0.000000  22970   \n",
      "150   0.000000  29982     0   5774     0   0.0  0.115692  0.269948  19343   \n",
      "152   0.000000  29982     0   8607     0   0.0  0.000000  0.000000  19343   \n",
      "173  11.722296  29982     0  19937     0   0.0  0.115692  0.269948  19343   \n",
      "\n",
      "     f_49  ...    f_2  f_25  f_46   f_20    f_9    f_5    f_3        f_42  \\\n",
      "3     0.0  ...  17758     0   0.0  14219  21533  25604  22294  130.732192   \n",
      "125   0.0  ...  27426     0   0.0   4740  23218  21545   7152    0.000000   \n",
      "150   0.0  ...   3346     0   0.0  27961    869  21545  22294    4.589124   \n",
      "152   0.0  ...  27426     0   0.0   4740  23218  25604  22294    0.000000   \n",
      "173   0.0  ...  27426     0   0.0   4740    869  25604   7779   35.710327   \n",
      "\n",
      "      f_15  f_32  \n",
      "3    13801     3  \n",
      "125  17418     2  \n",
      "150  30654     2  \n",
      "152  16209     2  \n",
      "173  24297     3  \n",
      "\n",
      "[5 rows x 67 columns]\n",
      "## Done Model Training Now prediction\n"
     ]
    },
    {
     "name": "stderr",
     "output_type": "stream",
     "text": [
      "Numerical Imputation:  36%|█████████                | 4/11 [00:48<01:23, 11.91s/it]"
     ]
    },
    {
     "name": "stdout",
     "output_type": "stream",
     "text": [
      "The model for feature f_64 is stating to train\n",
      "(3304425, 67) (3304425,)\n",
      "(181427, 67)\n",
      "       f_63   f_19  f_41   f_18  f_27  f_45      f_74      f_76   f_10  f_49  \\\n",
      "0  0.000000  25952     0  12020     0   0.0  0.115692  0.269948  22970   0.0   \n",
      "1  2.131327  26758     0   5774     0   0.0  0.115692  0.269948  19343   0.0   \n",
      "2  0.000000  26758     0  12020     0   0.0  0.000000  0.038564  22970   0.0   \n",
      "4  2.486548  21743     0  12020     0   0.0  0.038564  0.269948  19343   0.0   \n",
      "5  0.000000  26758     0  12020     0   0.0  0.115692  0.269948  19343   0.0   \n",
      "\n",
      "   ...    f_2  f_25  f_46   f_20    f_9    f_5   f_3       f_42   f_15  f_32  \n",
      "0  ...  30131     0   0.0  22762    869  25604  7152  13.728808  13801     3  \n",
      "1  ...  20095     0   0.0   4222    869  25604   563  20.708905  18094     3  \n",
      "2  ...  20095     0   0.0   4222  23218  25604   563   0.578461  13257     2  \n",
      "4  ...  11077     0   0.0  15610   9638  15908  7152   9.602453   7842     2  \n",
      "5  ...  20095     0   0.0   4222   6675  25604   563  11.877733   4497     3  \n",
      "\n",
      "[5 rows x 67 columns]\n",
      "          f_63   f_19  f_41   f_18  f_27  f_45      f_74      f_76   f_10  \\\n",
      "3     0.355221  25370     0  12020     0   0.0  0.115692  0.269948  22970   \n",
      "125   0.000000  29982     0  21865     0   0.0  0.000000  0.000000  22970   \n",
      "150   0.000000  29982     0   5774     0   0.0  0.115692  0.269948  19343   \n",
      "152   0.000000  29982     0   8607     0   0.0  0.000000  0.000000  19343   \n",
      "173  11.722296  29982     0  19937     0   0.0  0.115692  0.269948  19343   \n",
      "\n",
      "     f_49  ...    f_2  f_25  f_46   f_20    f_9    f_5    f_3        f_42  \\\n",
      "3     0.0  ...  17758     0   0.0  14219  21533  25604  22294  130.732192   \n",
      "125   0.0  ...  27426     0   0.0   4740  23218  21545   7152    0.000000   \n",
      "150   0.0  ...   3346     0   0.0  27961    869  21545  22294    4.589124   \n",
      "152   0.0  ...  27426     0   0.0   4740  23218  25604  22294    0.000000   \n",
      "173   0.0  ...  27426     0   0.0   4740    869  25604   7779   35.710327   \n",
      "\n",
      "      f_15  f_32  \n",
      "3    13801     3  \n",
      "125  17418     2  \n",
      "150  30654     2  \n",
      "152  16209     2  \n",
      "173  24297     3  \n",
      "\n",
      "[5 rows x 67 columns]\n",
      "## Done Model Training Now prediction\n"
     ]
    },
    {
     "name": "stderr",
     "output_type": "stream",
     "text": [
      "Numerical Imputation:  45%|███████████▎             | 5/11 [01:00<01:11, 11.89s/it]"
     ]
    },
    {
     "name": "stdout",
     "output_type": "stream",
     "text": [
      "The model for feature f_65 is stating to train\n",
      "(3304425, 67) (3304425,)\n",
      "(181427, 67)\n",
      "       f_63   f_19  f_41   f_18  f_27  f_45      f_74      f_76   f_10  f_49  \\\n",
      "0  0.000000  25952     0  12020     0   0.0  0.115692  0.269948  22970   0.0   \n",
      "1  2.131327  26758     0   5774     0   0.0  0.115692  0.269948  19343   0.0   \n",
      "2  0.000000  26758     0  12020     0   0.0  0.000000  0.038564  22970   0.0   \n",
      "4  2.486548  21743     0  12020     0   0.0  0.038564  0.269948  19343   0.0   \n",
      "5  0.000000  26758     0  12020     0   0.0  0.115692  0.269948  19343   0.0   \n",
      "\n",
      "   ...    f_2  f_25  f_46   f_20    f_9    f_5   f_3       f_42   f_15  f_32  \n",
      "0  ...  30131     0   0.0  22762    869  25604  7152  13.728808  13801     3  \n",
      "1  ...  20095     0   0.0   4222    869  25604   563  20.708905  18094     3  \n",
      "2  ...  20095     0   0.0   4222  23218  25604   563   0.578461  13257     2  \n",
      "4  ...  11077     0   0.0  15610   9638  15908  7152   9.602453   7842     2  \n",
      "5  ...  20095     0   0.0   4222   6675  25604   563  11.877733   4497     3  \n",
      "\n",
      "[5 rows x 67 columns]\n",
      "          f_63   f_19  f_41   f_18  f_27  f_45      f_74      f_76   f_10  \\\n",
      "3     0.355221  25370     0  12020     0   0.0  0.115692  0.269948  22970   \n",
      "125   0.000000  29982     0  21865     0   0.0  0.000000  0.000000  22970   \n",
      "150   0.000000  29982     0   5774     0   0.0  0.115692  0.269948  19343   \n",
      "152   0.000000  29982     0   8607     0   0.0  0.000000  0.000000  19343   \n",
      "173  11.722296  29982     0  19937     0   0.0  0.115692  0.269948  19343   \n",
      "\n",
      "     f_49  ...    f_2  f_25  f_46   f_20    f_9    f_5    f_3        f_42  \\\n",
      "3     0.0  ...  17758     0   0.0  14219  21533  25604  22294  130.732192   \n",
      "125   0.0  ...  27426     0   0.0   4740  23218  21545   7152    0.000000   \n",
      "150   0.0  ...   3346     0   0.0  27961    869  21545  22294    4.589124   \n",
      "152   0.0  ...  27426     0   0.0   4740  23218  25604  22294    0.000000   \n",
      "173   0.0  ...  27426     0   0.0   4740    869  25604   7779   35.710327   \n",
      "\n",
      "      f_15  f_32  \n",
      "3    13801     3  \n",
      "125  17418     2  \n",
      "150  30654     2  \n",
      "152  16209     2  \n",
      "173  24297     3  \n",
      "\n",
      "[5 rows x 67 columns]\n",
      "## Done Model Training Now prediction\n"
     ]
    },
    {
     "name": "stderr",
     "output_type": "stream",
     "text": [
      "Numerical Imputation:  55%|█████████████▋           | 6/11 [01:12<00:59, 11.87s/it]"
     ]
    },
    {
     "name": "stdout",
     "output_type": "stream",
     "text": [
      "The model for feature f_70 is stating to train\n",
      "(3304425, 67) (3304425,)\n",
      "(181427, 67)\n",
      "       f_63   f_19  f_41   f_18  f_27  f_45      f_74      f_76   f_10  f_49  \\\n",
      "0  0.000000  25952     0  12020     0   0.0  0.115692  0.269948  22970   0.0   \n",
      "1  2.131327  26758     0   5774     0   0.0  0.115692  0.269948  19343   0.0   \n",
      "2  0.000000  26758     0  12020     0   0.0  0.000000  0.038564  22970   0.0   \n",
      "4  2.486548  21743     0  12020     0   0.0  0.038564  0.269948  19343   0.0   \n",
      "5  0.000000  26758     0  12020     0   0.0  0.115692  0.269948  19343   0.0   \n",
      "\n",
      "   ...    f_2  f_25  f_46   f_20    f_9    f_5   f_3       f_42   f_15  f_32  \n",
      "0  ...  30131     0   0.0  22762    869  25604  7152  13.728808  13801     3  \n",
      "1  ...  20095     0   0.0   4222    869  25604   563  20.708905  18094     3  \n",
      "2  ...  20095     0   0.0   4222  23218  25604   563   0.578461  13257     2  \n",
      "4  ...  11077     0   0.0  15610   9638  15908  7152   9.602453   7842     2  \n",
      "5  ...  20095     0   0.0   4222   6675  25604   563  11.877733   4497     3  \n",
      "\n",
      "[5 rows x 67 columns]\n",
      "          f_63   f_19  f_41   f_18  f_27  f_45      f_74      f_76   f_10  \\\n",
      "3     0.355221  25370     0  12020     0   0.0  0.115692  0.269948  22970   \n",
      "125   0.000000  29982     0  21865     0   0.0  0.000000  0.000000  22970   \n",
      "150   0.000000  29982     0   5774     0   0.0  0.115692  0.269948  19343   \n",
      "152   0.000000  29982     0   8607     0   0.0  0.000000  0.000000  19343   \n",
      "173  11.722296  29982     0  19937     0   0.0  0.115692  0.269948  19343   \n",
      "\n",
      "     f_49  ...    f_2  f_25  f_46   f_20    f_9    f_5    f_3        f_42  \\\n",
      "3     0.0  ...  17758     0   0.0  14219  21533  25604  22294  130.732192   \n",
      "125   0.0  ...  27426     0   0.0   4740  23218  21545   7152    0.000000   \n",
      "150   0.0  ...   3346     0   0.0  27961    869  21545  22294    4.589124   \n",
      "152   0.0  ...  27426     0   0.0   4740  23218  25604  22294    0.000000   \n",
      "173   0.0  ...  27426     0   0.0   4740    869  25604   7779   35.710327   \n",
      "\n",
      "      f_15  f_32  \n",
      "3    13801     3  \n",
      "125  17418     2  \n",
      "150  30654     2  \n",
      "152  16209     2  \n",
      "173  24297     3  \n",
      "\n",
      "[5 rows x 67 columns]\n",
      "## Done Model Training Now prediction\n"
     ]
    },
    {
     "name": "stderr",
     "output_type": "stream",
     "text": [
      "Numerical Imputation:  64%|███████████████▉         | 7/11 [01:23<00:46, 11.74s/it]"
     ]
    },
    {
     "name": "stdout",
     "output_type": "stream",
     "text": [
      "The model for feature f_66 is stating to train\n",
      "(3304425, 67) (3304425,)\n",
      "(181427, 67)\n",
      "       f_63   f_19  f_41   f_18  f_27  f_45      f_74      f_76   f_10  f_49  \\\n",
      "0  0.000000  25952     0  12020     0   0.0  0.115692  0.269948  22970   0.0   \n",
      "1  2.131327  26758     0   5774     0   0.0  0.115692  0.269948  19343   0.0   \n",
      "2  0.000000  26758     0  12020     0   0.0  0.000000  0.038564  22970   0.0   \n",
      "4  2.486548  21743     0  12020     0   0.0  0.038564  0.269948  19343   0.0   \n",
      "5  0.000000  26758     0  12020     0   0.0  0.115692  0.269948  19343   0.0   \n",
      "\n",
      "   ...    f_2  f_25  f_46   f_20    f_9    f_5   f_3       f_42   f_15  f_32  \n",
      "0  ...  30131     0   0.0  22762    869  25604  7152  13.728808  13801     3  \n",
      "1  ...  20095     0   0.0   4222    869  25604   563  20.708905  18094     3  \n",
      "2  ...  20095     0   0.0   4222  23218  25604   563   0.578461  13257     2  \n",
      "4  ...  11077     0   0.0  15610   9638  15908  7152   9.602453   7842     2  \n",
      "5  ...  20095     0   0.0   4222   6675  25604   563  11.877733   4497     3  \n",
      "\n",
      "[5 rows x 67 columns]\n",
      "          f_63   f_19  f_41   f_18  f_27  f_45      f_74      f_76   f_10  \\\n",
      "3     0.355221  25370     0  12020     0   0.0  0.115692  0.269948  22970   \n",
      "125   0.000000  29982     0  21865     0   0.0  0.000000  0.000000  22970   \n",
      "150   0.000000  29982     0   5774     0   0.0  0.115692  0.269948  19343   \n",
      "152   0.000000  29982     0   8607     0   0.0  0.000000  0.000000  19343   \n",
      "173  11.722296  29982     0  19937     0   0.0  0.115692  0.269948  19343   \n",
      "\n",
      "     f_49  ...    f_2  f_25  f_46   f_20    f_9    f_5    f_3        f_42  \\\n",
      "3     0.0  ...  17758     0   0.0  14219  21533  25604  22294  130.732192   \n",
      "125   0.0  ...  27426     0   0.0   4740  23218  21545   7152    0.000000   \n",
      "150   0.0  ...   3346     0   0.0  27961    869  21545  22294    4.589124   \n",
      "152   0.0  ...  27426     0   0.0   4740  23218  25604  22294    0.000000   \n",
      "173   0.0  ...  27426     0   0.0   4740    869  25604   7779   35.710327   \n",
      "\n",
      "      f_15  f_32  \n",
      "3    13801     3  \n",
      "125  17418     2  \n",
      "150  30654     2  \n",
      "152  16209     2  \n",
      "173  24297     3  \n",
      "\n",
      "[5 rows x 67 columns]\n",
      "## Done Model Training Now prediction\n"
     ]
    },
    {
     "name": "stderr",
     "output_type": "stream",
     "text": [
      "Numerical Imputation:  73%|██████████████████▏      | 8/11 [01:35<00:34, 11.57s/it]"
     ]
    },
    {
     "name": "stdout",
     "output_type": "stream",
     "text": [
      "The model for feature f_43 is stating to train\n",
      "(3304425, 67) (3304425,)\n",
      "(181427, 67)\n",
      "       f_63   f_19  f_41   f_18  f_27  f_45      f_74      f_76   f_10  f_49  \\\n",
      "0  0.000000  25952     0  12020     0   0.0  0.115692  0.269948  22970   0.0   \n",
      "1  2.131327  26758     0   5774     0   0.0  0.115692  0.269948  19343   0.0   \n",
      "2  0.000000  26758     0  12020     0   0.0  0.000000  0.038564  22970   0.0   \n",
      "4  2.486548  21743     0  12020     0   0.0  0.038564  0.269948  19343   0.0   \n",
      "5  0.000000  26758     0  12020     0   0.0  0.115692  0.269948  19343   0.0   \n",
      "\n",
      "   ...    f_2  f_25  f_46   f_20    f_9    f_5   f_3       f_42   f_15  f_32  \n",
      "0  ...  30131     0   0.0  22762    869  25604  7152  13.728808  13801     3  \n",
      "1  ...  20095     0   0.0   4222    869  25604   563  20.708905  18094     3  \n",
      "2  ...  20095     0   0.0   4222  23218  25604   563   0.578461  13257     2  \n",
      "4  ...  11077     0   0.0  15610   9638  15908  7152   9.602453   7842     2  \n",
      "5  ...  20095     0   0.0   4222   6675  25604   563  11.877733   4497     3  \n",
      "\n",
      "[5 rows x 67 columns]\n",
      "          f_63   f_19  f_41   f_18  f_27  f_45      f_74      f_76   f_10  \\\n",
      "3     0.355221  25370     0  12020     0   0.0  0.115692  0.269948  22970   \n",
      "125   0.000000  29982     0  21865     0   0.0  0.000000  0.000000  22970   \n",
      "150   0.000000  29982     0   5774     0   0.0  0.115692  0.269948  19343   \n",
      "152   0.000000  29982     0   8607     0   0.0  0.000000  0.000000  19343   \n",
      "173  11.722296  29982     0  19937     0   0.0  0.115692  0.269948  19343   \n",
      "\n",
      "     f_49  ...    f_2  f_25  f_46   f_20    f_9    f_5    f_3        f_42  \\\n",
      "3     0.0  ...  17758     0   0.0  14219  21533  25604  22294  130.732192   \n",
      "125   0.0  ...  27426     0   0.0   4740  23218  21545   7152    0.000000   \n",
      "150   0.0  ...   3346     0   0.0  27961    869  21545  22294    4.589124   \n",
      "152   0.0  ...  27426     0   0.0   4740  23218  25604  22294    0.000000   \n",
      "173   0.0  ...  27426     0   0.0   4740    869  25604   7779   35.710327   \n",
      "\n",
      "      f_15  f_32  \n",
      "3    13801     3  \n",
      "125  17418     2  \n",
      "150  30654     2  \n",
      "152  16209     2  \n",
      "173  24297     3  \n",
      "\n",
      "[5 rows x 67 columns]\n",
      "## Done Model Training Now prediction\n"
     ]
    },
    {
     "name": "stderr",
     "output_type": "stream",
     "text": [
      "Numerical Imputation:  82%|████████████████████▍    | 9/11 [01:46<00:23, 11.51s/it]"
     ]
    },
    {
     "name": "stdout",
     "output_type": "stream",
     "text": [
      "The model for feature f_58 is stating to train\n",
      "(3304425, 67) (3304425,)\n",
      "(181427, 67)\n",
      "       f_63   f_19  f_41   f_18  f_27  f_45      f_74      f_76   f_10  f_49  \\\n",
      "0  0.000000  25952     0  12020     0   0.0  0.115692  0.269948  22970   0.0   \n",
      "1  2.131327  26758     0   5774     0   0.0  0.115692  0.269948  19343   0.0   \n",
      "2  0.000000  26758     0  12020     0   0.0  0.000000  0.038564  22970   0.0   \n",
      "4  2.486548  21743     0  12020     0   0.0  0.038564  0.269948  19343   0.0   \n",
      "5  0.000000  26758     0  12020     0   0.0  0.115692  0.269948  19343   0.0   \n",
      "\n",
      "   ...    f_2  f_25  f_46   f_20    f_9    f_5   f_3       f_42   f_15  f_32  \n",
      "0  ...  30131     0   0.0  22762    869  25604  7152  13.728808  13801     3  \n",
      "1  ...  20095     0   0.0   4222    869  25604   563  20.708905  18094     3  \n",
      "2  ...  20095     0   0.0   4222  23218  25604   563   0.578461  13257     2  \n",
      "4  ...  11077     0   0.0  15610   9638  15908  7152   9.602453   7842     2  \n",
      "5  ...  20095     0   0.0   4222   6675  25604   563  11.877733   4497     3  \n",
      "\n",
      "[5 rows x 67 columns]\n",
      "          f_63   f_19  f_41   f_18  f_27  f_45      f_74      f_76   f_10  \\\n",
      "3     0.355221  25370     0  12020     0   0.0  0.115692  0.269948  22970   \n",
      "125   0.000000  29982     0  21865     0   0.0  0.000000  0.000000  22970   \n",
      "150   0.000000  29982     0   5774     0   0.0  0.115692  0.269948  19343   \n",
      "152   0.000000  29982     0   8607     0   0.0  0.000000  0.000000  19343   \n",
      "173  11.722296  29982     0  19937     0   0.0  0.115692  0.269948  19343   \n",
      "\n",
      "     f_49  ...    f_2  f_25  f_46   f_20    f_9    f_5    f_3        f_42  \\\n",
      "3     0.0  ...  17758     0   0.0  14219  21533  25604  22294  130.732192   \n",
      "125   0.0  ...  27426     0   0.0   4740  23218  21545   7152    0.000000   \n",
      "150   0.0  ...   3346     0   0.0  27961    869  21545  22294    4.589124   \n",
      "152   0.0  ...  27426     0   0.0   4740  23218  25604  22294    0.000000   \n",
      "173   0.0  ...  27426     0   0.0   4740    869  25604   7779   35.710327   \n",
      "\n",
      "      f_15  f_32  \n",
      "3    13801     3  \n",
      "125  17418     2  \n",
      "150  30654     2  \n",
      "152  16209     2  \n",
      "173  24297     3  \n",
      "\n",
      "[5 rows x 67 columns]\n",
      "## Done Model Training Now prediction\n"
     ]
    },
    {
     "name": "stderr",
     "output_type": "stream",
     "text": [
      "Numerical Imputation:  91%|█████████████████████▊  | 10/11 [01:58<00:11, 11.65s/it]"
     ]
    },
    {
     "name": "stdout",
     "output_type": "stream",
     "text": [
      "The model for feature f_69 is stating to train\n",
      "(3304425, 67) (3304425,)\n",
      "(181427, 67)\n",
      "       f_63   f_19  f_41   f_18  f_27  f_45      f_74      f_76   f_10  f_49  \\\n",
      "0  0.000000  25952     0  12020     0   0.0  0.115692  0.269948  22970   0.0   \n",
      "1  2.131327  26758     0   5774     0   0.0  0.115692  0.269948  19343   0.0   \n",
      "2  0.000000  26758     0  12020     0   0.0  0.000000  0.038564  22970   0.0   \n",
      "4  2.486548  21743     0  12020     0   0.0  0.038564  0.269948  19343   0.0   \n",
      "5  0.000000  26758     0  12020     0   0.0  0.115692  0.269948  19343   0.0   \n",
      "\n",
      "   ...    f_2  f_25  f_46   f_20    f_9    f_5   f_3       f_42   f_15  f_32  \n",
      "0  ...  30131     0   0.0  22762    869  25604  7152  13.728808  13801     3  \n",
      "1  ...  20095     0   0.0   4222    869  25604   563  20.708905  18094     3  \n",
      "2  ...  20095     0   0.0   4222  23218  25604   563   0.578461  13257     2  \n",
      "4  ...  11077     0   0.0  15610   9638  15908  7152   9.602453   7842     2  \n",
      "5  ...  20095     0   0.0   4222   6675  25604   563  11.877733   4497     3  \n",
      "\n",
      "[5 rows x 67 columns]\n",
      "          f_63   f_19  f_41   f_18  f_27  f_45      f_74      f_76   f_10  \\\n",
      "3     0.355221  25370     0  12020     0   0.0  0.115692  0.269948  22970   \n",
      "125   0.000000  29982     0  21865     0   0.0  0.000000  0.000000  22970   \n",
      "150   0.000000  29982     0   5774     0   0.0  0.115692  0.269948  19343   \n",
      "152   0.000000  29982     0   8607     0   0.0  0.000000  0.000000  19343   \n",
      "173  11.722296  29982     0  19937     0   0.0  0.115692  0.269948  19343   \n",
      "\n",
      "     f_49  ...    f_2  f_25  f_46   f_20    f_9    f_5    f_3        f_42  \\\n",
      "3     0.0  ...  17758     0   0.0  14219  21533  25604  22294  130.732192   \n",
      "125   0.0  ...  27426     0   0.0   4740  23218  21545   7152    0.000000   \n",
      "150   0.0  ...   3346     0   0.0  27961    869  21545  22294    4.589124   \n",
      "152   0.0  ...  27426     0   0.0   4740  23218  25604  22294    0.000000   \n",
      "173   0.0  ...  27426     0   0.0   4740    869  25604   7779   35.710327   \n",
      "\n",
      "      f_15  f_32  \n",
      "3    13801     3  \n",
      "125  17418     2  \n",
      "150  30654     2  \n",
      "152  16209     2  \n",
      "173  24297     3  \n",
      "\n",
      "[5 rows x 67 columns]\n",
      "## Done Model Training Now prediction\n"
     ]
    },
    {
     "name": "stderr",
     "output_type": "stream",
     "text": [
      "Numerical Imputation: 100%|████████████████████████| 11/11 [02:09<00:00, 11.81s/it]\n"
     ]
    }
   ],
   "source": [
    "from tqdm import tqdm\n",
    "num_imp_model = []\n",
    "for cat in tqdm(fmiss,desc=\"Numerical Imputation\"):\n",
    "    model = ImputerModel(data,cat,fpst,'reg',{'learning_rate':0.05, 'n_estimators':100, \n",
    "                                              'objective':'reg:absoluteerror','verbosity':2,\n",
    "                                              'tree_method':'gpu_hist'})\n",
    "    num_imp_model.append(model)\n",
    "    test = data.loc[data[cat].isnull(),fpst]\n",
    "    out = model.predict(test)\n",
    "    data.loc[data[cat].isnull(),cat] = out\n",
    "    gc.collect()"
   ]
  },
  {
   "cell_type": "code",
   "execution_count": 32,
   "id": "2b063ef8-17ac-4995-b83e-156796226871",
   "metadata": {
    "collapsed": true,
    "jupyter": {
     "outputs_hidden": true
    },
    "tags": []
   },
   "outputs": [
    {
     "name": "stdout",
     "output_type": "stream",
     "text": [
      "0\n",
      "0\n",
      "0\n",
      "0\n",
      "0\n",
      "0\n",
      "0\n",
      "0\n",
      "0\n",
      "0\n",
      "0\n",
      "0\n",
      "0\n",
      "0\n",
      "0\n",
      "0\n",
      "0\n",
      "0\n",
      "0\n",
      "0\n",
      "0\n",
      "0\n",
      "0\n",
      "0\n",
      "0\n",
      "0\n",
      "0\n",
      "0\n",
      "0\n",
      "0\n",
      "0\n",
      "0\n",
      "0\n",
      "0\n",
      "0\n",
      "0\n",
      "0\n",
      "0\n",
      "0\n",
      "0\n",
      "0\n",
      "0\n",
      "0\n",
      "0\n",
      "0\n",
      "0\n",
      "0\n",
      "0\n",
      "0\n",
      "0\n",
      "0\n",
      "0\n",
      "0\n",
      "0\n",
      "0\n",
      "0\n",
      "0\n",
      "0\n",
      "0\n",
      "0\n",
      "0\n",
      "0\n",
      "0\n",
      "0\n",
      "0\n",
      "0\n",
      "0\n",
      "0\n",
      "0\n",
      "0\n",
      "0\n",
      "0\n",
      "0\n",
      "0\n",
      "0\n",
      "0\n",
      "0\n",
      "0\n",
      "0\n",
      "0\n",
      "0\n",
      "0\n"
     ]
    }
   ],
   "source": [
    "for k in data.isnull().sum():\n",
    "    print(k)"
   ]
  },
  {
   "cell_type": "code",
   "execution_count": 34,
   "id": "f986d88f-d10c-494c-b0ad-354b9e21fca7",
   "metadata": {},
   "outputs": [],
   "source": [
    "data.to_csv('../Data/imputed_value.csv',index=False)"
   ]
  },
  {
   "cell_type": "code",
   "execution_count": 35,
   "id": "942f1356-b5f6-48e8-8e9d-17f3be868b4a",
   "metadata": {},
   "outputs": [],
   "source": [
    "del data"
   ]
  },
  {
   "cell_type": "code",
   "execution_count": 37,
   "id": "abaad060-7199-4b48-a893-1629725b1cef",
   "metadata": {},
   "outputs": [
    {
     "data": {
      "text/plain": [
       "0"
      ]
     },
     "execution_count": 37,
     "metadata": {},
     "output_type": "execute_result"
    }
   ],
   "source": [
    "gc.collect()"
   ]
  },
  {
   "cell_type": "code",
   "execution_count": 38,
   "id": "d5e693c5-81b8-4b60-b978-41b22dd4c4b6",
   "metadata": {},
   "outputs": [],
   "source": [
    "import pickle as pkl"
   ]
  },
  {
   "cell_type": "code",
   "execution_count": 45,
   "id": "f58369fb-270d-4802-8b3f-49ce739a1733",
   "metadata": {},
   "outputs": [],
   "source": [
    "file = open('../Data/num_imp.pkl','wb')"
   ]
  },
  {
   "cell_type": "code",
   "execution_count": 47,
   "id": "a7d9b06f-6434-4db9-a76b-d2e012de7976",
   "metadata": {},
   "outputs": [],
   "source": [
    "pkl.dump(num_imp_model,file)"
   ]
  },
  {
   "cell_type": "code",
   "execution_count": 48,
   "id": "8fceeb39-063d-4dde-b879-9e3f075dd27c",
   "metadata": {},
   "outputs": [],
   "source": [
    "file.close()"
   ]
  },
  {
   "cell_type": "code",
   "execution_count": 49,
   "id": "69b5498e-e137-4348-9322-4f1845c203cb",
   "metadata": {},
   "outputs": [],
   "source": [
    "file = open('../Data/cat_imp.pkl','wb')\n",
    "pkl.dump([model,model_f_31],file)\n",
    "file.close()"
   ]
  },
  {
   "cell_type": "code",
   "execution_count": null,
   "id": "5417caf5-39ad-4b3b-8bc9-e5ce5d8fc9c4",
   "metadata": {},
   "outputs": [],
   "source": []
  }
 ],
 "metadata": {
  "kernelspec": {
   "display_name": "Python 3 (ipykernel)",
   "language": "python",
   "name": "python3"
  },
  "language_info": {
   "codemirror_mode": {
    "name": "ipython",
    "version": 3
   },
   "file_extension": ".py",
   "mimetype": "text/x-python",
   "name": "python",
   "nbconvert_exporter": "python",
   "pygments_lexer": "ipython3",
   "version": "3.9.16"
  }
 },
 "nbformat": 4,
 "nbformat_minor": 5
}
