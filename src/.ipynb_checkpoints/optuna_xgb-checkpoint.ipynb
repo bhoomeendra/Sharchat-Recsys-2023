{
 "cells": [
  {
   "cell_type": "code",
   "execution_count": 1,
   "id": "15f9ab1f-a8b6-4564-b42c-7c83164e989c",
   "metadata": {},
   "outputs": [],
   "source": [
    "import pandas as pd\n",
    "from sklearn.model_selection import train_test_split\n",
    "import numpy as np\n",
    "from tqdm import tqdm\n",
    "from xgboost import XGBClassifier\n",
    "from sklearn.metrics import f1_score, log_loss\n",
    "import optuna\n",
    "\n",
    "\n",
    "class Train_Split:\n",
    "    \n",
    "    ROWID = ['f_0']\n",
    "    DATE = ['f_1']\n",
    "    CATEGORIES = [ f'f_{i}' for i in range(2,33) ]\n",
    "    BINARY = [ f'f_{i}' for i in range(33,42) ]\n",
    "    NUMERICAL = [ f'f_{i}' for i in range(42,80) ]\n",
    "    IS_CLICKED = ['is_clicked']\n",
    "    IS_INSTALLED =['is_installed']\n",
    "\n",
    "    def __init__(self, val_type='random', class_type='binary',split_date=66,impute=True):\n",
    "\n",
    "        print(\"Loading the data\")\n",
    "        self.data = pd.read_csv('../Data/miss_combine.csv')\n",
    "        self.impute = impute\n",
    "        self.val_type = val_type\n",
    "        self.class_type = class_type\n",
    "        self.split_date = split_date\n",
    "        self.X_train = None\n",
    "        self.X_test = None\n",
    "        self.y_train = None\n",
    "        self.y_test = None\n",
    "        self.impute_data()\n",
    "        self.train_test_split()\n",
    "\n",
    "    def impute_data(self):\n",
    "        if self.impute:\n",
    "            self.data['f_30'].fillna(self.data['f_30'].mode()[0],inplace=True)\n",
    "            self.data['f_31'].fillna(self.data['f_31'].mode()[0],inplace=True)\n",
    "            fmiss = \"f_43,f_51,f_58,f_59,f_64,f_65,f_66,f_67,f_68,f_69,f_70\".split(',')\n",
    "            for f in tqdm(fmiss,desc=\"NUM IMPUTE\"):\n",
    "                self.data[f].fillna(self.data[f].mean(),inplace=True)\n",
    "\n",
    "    def get_split(self):\n",
    "        return self.X_train, self.X_test, self.y_train, self.y_test\n",
    "\n",
    "    def train_test_split(self):\n",
    "        print(f\"Spliting the Data based on {self.val_type}\")\n",
    "        if self.val_type == 'random':\n",
    "            self.random_split()\n",
    "        elif self.val_type == 'time':\n",
    "            self.time_split()\n",
    "        elif self.val_type == 'No':\n",
    "            self.final_split()\n",
    "        else:\n",
    "            raise Exception('Invalid validation type')\n",
    "    \n",
    "    # def get_label(self,data):\n",
    "    #     '''\n",
    "    #     data: Numpy array\n",
    "    #     '''\n",
    "    #     if self.class_type == 'binary':\n",
    "    #         return data\n",
    "    #     elif self.class_type == 'multi':\n",
    "    #         labels = []\n",
    "    #         for a, b in zip(data[:,0], data[:,1]):\n",
    "    #             if a==0 and b==0:# None\n",
    "    #                 labels.append(0)\n",
    "    #             elif a==1 and b==0:# Clicked\n",
    "    #                 labels.append(1)\n",
    "    #             elif a==0 and b==1:# Installed\n",
    "    #                 labels.append(2)\n",
    "    #             elif a==1 and b==1:# Clicked and Installed\n",
    "    #                 labels.append(3)\n",
    "    #         return np.array(labels)\n",
    "\n",
    "    def random_split(self):\n",
    "        \"\"\"\n",
    "        Randomly split the data into train and test set\n",
    "        \"\"\"\n",
    "        y = self.data[Train_Split.IS_CLICKED + Train_Split.IS_INSTALLED]\n",
    "        X = self.data.drop(Train_Split.IS_CLICKED + Train_Split.IS_INSTALLED, axis=1)\n",
    "        self.X_train, self.X_test, self.y_train, self.y_test = train_test_split(X, y, test_size=0.2, random_state=42)\n",
    "    \n",
    "    def time_split(self):\n",
    "        \"\"\"\n",
    "        Split the data into train and test set based on Date\n",
    "        \"\"\"\n",
    "        self.X_train = self.data[self.data[Train_Split.DATE[0]] < self.split_date ].drop(Train_Split.IS_CLICKED + Train_Split.IS_INSTALLED, axis=1)\n",
    "        self.X_test = self.data[self.data[Train_Split.DATE[0]] >= self.split_date ].drop(Train_Split.IS_CLICKED + Train_Split.IS_INSTALLED, axis=1)\n",
    "        self.y_train = self.data[self.data[Train_Split.DATE[0]] < self.split_date ][Train_Split.IS_CLICKED + Train_Split.IS_INSTALLED]\n",
    "        self.y_test = self.data[self.data[Train_Split.DATE[0]] >= self.split_date ][Train_Split.IS_CLICKED + Train_Split.IS_INSTALLED]\n",
    "        print(f\"X_train:{self.X_train.shape}, X_test:{self.X_test.shape} , y_train:{self.y_train.shape} , y_test:{self.y_test.shape}\")\n",
    "\n",
    "    def final_split(self):\n",
    "        self.X_train = self.data.drop(Train_Split.IS_CLICKED + Train_Split.IS_INSTALLED, axis=1).values\n",
    "        self.y_train = self.get_label(self.data[Train_Split.IS_CLICKED + Train_Split.IS_INSTALLED].values)\n",
    "        self.X_test = None\n",
    "        self.y_test = None"
   ]
  },
  {
   "cell_type": "code",
   "execution_count": 2,
   "id": "be17ba45-b890-42ae-94b3-affa0052f8ff",
   "metadata": {},
   "outputs": [
    {
     "name": "stdout",
     "output_type": "stream",
     "text": [
      "Loading the data\n"
     ]
    },
    {
     "name": "stderr",
     "output_type": "stream",
     "text": [
      "NUM IMPUTE: 100%|█████████████████████████████████████████████████████████████████████████████████████████████████████████████| 11/11 [00:00<00:00, 46.73it/s]\n"
     ]
    },
    {
     "name": "stdout",
     "output_type": "stream",
     "text": [
      "Spliting the Data based on time\n",
      "X_train:(3387880, 80), X_test:(97972, 80) , y_train:(3387880, 2) , y_test:(97972, 2)\n"
     ]
    }
   ],
   "source": [
    "train = Train_Split(val_type='time',class_type='binary',split_date=66,impute=True)\n",
    "X_train, X_test, y_train, y_test = train.get_split()"
   ]
  },
  {
   "cell_type": "code",
   "execution_count": 4,
   "id": "69d59ce5-b067-46c1-8464-72c20ea86794",
   "metadata": {},
   "outputs": [
    {
     "data": {
      "text/plain": [
       "0"
      ]
     },
     "execution_count": 4,
     "metadata": {},
     "output_type": "execute_result"
    }
   ],
   "source": [
    "import gc\n",
    "gc.collect()"
   ]
  },
  {
   "cell_type": "code",
   "execution_count": 5,
   "id": "8ca9cb42-e357-4481-961b-8c5e5f4ce10c",
   "metadata": {},
   "outputs": [],
   "source": [
    "use_features = Train_Split.CATEGORIES + Train_Split.NUMERICAL + Train_Split.BINARY"
   ]
  },
  {
   "cell_type": "code",
   "execution_count": 6,
   "id": "93637ac9-0f1e-4b93-9156-9902bd7491cb",
   "metadata": {},
   "outputs": [],
   "source": [
    "model_for = 'install'"
   ]
  },
  {
   "cell_type": "code",
   "execution_count": 7,
   "id": "7f1780f0-2e9b-46a3-ae82-474d16bb42ba",
   "metadata": {},
   "outputs": [],
   "source": [
    "def objective(trail):\n",
    "    params = {\n",
    "        'max_depth':trail.suggest_int('max_depth',5,8),\n",
    "        'learning_rate':trail.suggest_float('learning_rate',0.05,0.3),\n",
    "        'n_estimators':trail.suggest_int('n_estimators',100,650),\n",
    "        # 'gamma':trail.suggest_loguniform('gamma',0.01,1),\n",
    "        # 'colsample_bytree':trail.suggest_loguniform('colsample_bytree',0.7,1),\n",
    "        'tree_method':'gpu_hist',\n",
    "        'objective':'binary:logistic'\n",
    "    }\n",
    "    target = Train_Split.IS_CLICKED[0]\n",
    "    if model_for == 'install':\n",
    "        target = Train_Split.IS_INSTALLED[0]\n",
    "    # print(target)\n",
    "    model = XGBClassifier(**params)\n",
    "    # print(\"Training the model\")\n",
    "    model.fit(X_train[use_features],y_train[target])\n",
    "    # print(\"Training Done\")\n",
    "    y_pred = model.predict(X_test[use_features])\n",
    "    f1 = log_loss(y_test[target],y_pred)\n",
    "    # print(f\"F1 Score: {f1}\")\n",
    "    # print(gc.collect())\n",
    "    return f1"
   ]
  },
  {
   "cell_type": "code",
   "execution_count": null,
   "id": "fdd8b261-81e6-40ba-920c-bc5b801e64a3",
   "metadata": {
    "tags": []
   },
   "outputs": [
    {
     "name": "stderr",
     "output_type": "stream",
     "text": [
      "\u001b[32m[I 2023-05-20 17:11:06,280]\u001b[0m A new study created in memory with name: install_log_loss\u001b[0m\n"
     ]
    },
    {
     "name": "stdout",
     "output_type": "stream",
     "text": [
      "The MODEL is For :install\n"
     ]
    },
    {
     "name": "stderr",
     "output_type": "stream",
     "text": [
      "\u001b[32m[I 2023-05-20 17:11:20,733]\u001b[0m Trial 0 finished with value: 6.137694720562499 and parameters: {'max_depth': 7, 'learning_rate': 0.16102449679449166, 'n_estimators': 140}. Best is trial 0 with value: 6.137694720562499.\u001b[0m\n",
      "\u001b[32m[I 2023-05-20 17:11:38,516]\u001b[0m Trial 1 finished with value: 6.101020231715404 and parameters: {'max_depth': 6, 'learning_rate': 0.07311763789389246, 'n_estimators': 297}. Best is trial 1 with value: 6.101020231715404.\u001b[0m\n",
      "\u001b[32m[I 2023-05-20 17:11:58,880]\u001b[0m Trial 2 finished with value: 6.1666035070336465 and parameters: {'max_depth': 8, 'learning_rate': 0.1463907261753371, 'n_estimators': 295}. Best is trial 1 with value: 6.101020231715404.\u001b[0m\n",
      "\u001b[32m[I 2023-05-20 17:12:27,591]\u001b[0m Trial 3 finished with value: 6.024532485108871 and parameters: {'max_depth': 7, 'learning_rate': 0.1325302878245357, 'n_estimators': 577}. Best is trial 3 with value: 6.024532485108871.\u001b[0m\n",
      "\u001b[32m[I 2023-05-20 17:12:57,344]\u001b[0m Trial 4 finished with value: 5.971996694262477 and parameters: {'max_depth': 7, 'learning_rate': 0.05797862743693445, 'n_estimators': 581}. Best is trial 4 with value: 5.971996694262477.\u001b[0m\n",
      "\u001b[32m[I 2023-05-20 17:13:25,791]\u001b[0m Trial 5 finished with value: 5.998442241667483 and parameters: {'max_depth': 6, 'learning_rate': 0.20600783547025253, 'n_estimators': 626}. Best is trial 4 with value: 5.971996694262477.\u001b[0m\n",
      "\u001b[32m[I 2023-05-20 17:13:45,315]\u001b[0m Trial 6 finished with value: 6.049571425725254 and parameters: {'max_depth': 8, 'learning_rate': 0.2294955718591946, 'n_estimators': 282}. Best is trial 4 with value: 5.971996694262477.\u001b[0m\n",
      "\u001b[32m[I 2023-05-20 17:14:12,998]\u001b[0m Trial 7 finished with value: 6.00583793307608 and parameters: {'max_depth': 8, 'learning_rate': 0.05126756261279651, 'n_estimators': 440}. Best is trial 4 with value: 5.971996694262477.\u001b[0m\n",
      "\u001b[32m[I 2023-05-20 17:14:39,607]\u001b[0m Trial 8 finished with value: 6.160268512324242 and parameters: {'max_depth': 7, 'learning_rate': 0.10832609691467755, 'n_estimators': 515}. Best is trial 4 with value: 5.971996694262477.\u001b[0m\n",
      "\u001b[32m[I 2023-05-20 17:15:10,728]\u001b[0m Trial 9 finished with value: 6.062954944884474 and parameters: {'max_depth': 8, 'learning_rate': 0.0679762668572212, 'n_estimators': 529}. Best is trial 4 with value: 5.971996694262477.\u001b[0m\n",
      "\u001b[32m[I 2023-05-20 17:15:30,322]\u001b[0m Trial 10 finished with value: 6.2790675237008 and parameters: {'max_depth': 5, 'learning_rate': 0.2921081531280031, 'n_estimators': 422}. Best is trial 4 with value: 5.971996694262477.\u001b[0m\n",
      "\u001b[32m[I 2023-05-20 17:15:58,834]\u001b[0m Trial 11 finished with value: 6.1345311978530885 and parameters: {'max_depth': 6, 'learning_rate': 0.20497386950911328, 'n_estimators': 645}. Best is trial 4 with value: 5.971996694262477.\u001b[0m\n",
      "\u001b[32m[I 2023-05-20 17:16:24,629]\u001b[0m Trial 12 finished with value: 6.132053398690026 and parameters: {'max_depth': 5, 'learning_rate': 0.19204437121568987, 'n_estimators': 647}. Best is trial 4 with value: 5.971996694262477.\u001b[0m\n",
      "\u001b[32m[I 2023-05-20 17:16:51,041]\u001b[0m Trial 13 finished with value: 6.26214428445593 and parameters: {'max_depth': 6, 'learning_rate': 0.10778412876655027, 'n_estimators': 559}. Best is trial 4 with value: 5.971996694262477.\u001b[0m\n",
      "\u001b[32m[I 2023-05-20 17:17:13,905]\u001b[0m Trial 14 finished with value: 6.027010635215974 and parameters: {'max_depth': 6, 'learning_rate': 0.22997041167171084, 'n_estimators': 491}. Best is trial 4 with value: 5.971996694262477.\u001b[0m\n",
      "\u001b[32m[I 2023-05-20 17:17:43,007]\u001b[0m Trial 15 finished with value: 6.116902574034135 and parameters: {'max_depth': 7, 'learning_rate': 0.16470681043528082, 'n_estimators': 609}. Best is trial 4 with value: 5.971996694262477.\u001b[0m\n",
      "\u001b[32m[I 2023-05-20 17:18:00,958]\u001b[0m Trial 16 finished with value: 6.159906891367902 and parameters: {'max_depth': 5, 'learning_rate': 0.10358000875796067, 'n_estimators': 372}. Best is trial 4 with value: 5.971996694262477.\u001b[0m\n",
      "\u001b[32m[I 2023-05-20 17:18:12,785]\u001b[0m Trial 17 finished with value: 6.332304047072374 and parameters: {'max_depth': 6, 'learning_rate': 0.18343363511507205, 'n_estimators': 145}. Best is trial 4 with value: 5.971996694262477.\u001b[0m\n",
      "\u001b[32m[I 2023-05-20 17:18:35,782]\u001b[0m Trial 18 finished with value: 6.0086645967877 and parameters: {'max_depth': 7, 'learning_rate': 0.13557024045619198, 'n_estimators': 437}. Best is trial 4 with value: 5.971996694262477.\u001b[0m\n",
      "\u001b[32m[I 2023-05-20 17:19:02,491]\u001b[0m Trial 19 finished with value: 6.243812504149473 and parameters: {'max_depth': 6, 'learning_rate': 0.08505830283280302, 'n_estimators': 585}. Best is trial 4 with value: 5.971996694262477.\u001b[0m\n",
      "\u001b[32m[I 2023-05-20 17:19:29,416]\u001b[0m Trial 20 finished with value: 6.05801366997208 and parameters: {'max_depth': 7, 'learning_rate': 0.05077236868707971, 'n_estimators': 493}. Best is trial 4 with value: 5.971996694262477.\u001b[0m\n",
      "\u001b[32m[I 2023-05-20 17:19:56,826]\u001b[0m Trial 21 finished with value: 6.011832200241764 and parameters: {'max_depth': 8, 'learning_rate': 0.05442580667600542, 'n_estimators': 444}. Best is trial 4 with value: 5.971996694262477.\u001b[0m\n",
      "\u001b[32m[I 2023-05-20 17:20:19,637]\u001b[0m Trial 22 finished with value: 6.1225305029026575 and parameters: {'max_depth': 8, 'learning_rate': 0.07115298911222742, 'n_estimators': 350}. Best is trial 4 with value: 5.971996694262477.\u001b[0m\n",
      "\u001b[32m[I 2023-05-20 17:20:37,681]\u001b[0m Trial 23 finished with value: 6.172237940609146 and parameters: {'max_depth': 8, 'learning_rate': 0.08732887259019544, 'n_estimators': 227}. Best is trial 4 with value: 5.971996694262477.\u001b[0m\n"
     ]
    }
   ],
   "source": [
    "model_for = 'install'\n",
    "print(f\"The MODEL is For :{model_for}\")\n",
    "study_install = optuna.create_study(direction='minimize',study_name='install_log_loss')\n",
    "study_install.optimize(objective, n_trials=30)"
   ]
  },
  {
   "cell_type": "code",
   "execution_count": null,
   "id": "bf35783e-3029-45bc-b3df-1483d171e229",
   "metadata": {
    "tags": []
   },
   "outputs": [],
   "source": [
    "model_for = 'click'\n",
    "study_click = optuna.create_study(direction='minimize',study_name=model_for)\n",
    "study_click.optimize(objective, n_trials=30)"
   ]
  },
  {
   "cell_type": "code",
   "execution_count": null,
   "id": "94995f1a-287c-474c-9dc2-d4723a08175d",
   "metadata": {},
   "outputs": [],
   "source": [
    "X = pd.concat([X_train,X_test])"
   ]
  },
  {
   "cell_type": "code",
   "execution_count": null,
   "id": "71fb80f6-e8fe-446f-ba99-6f8b3f47ee4c",
   "metadata": {},
   "outputs": [],
   "source": [
    "y = pd.concat([y_train,y_test])"
   ]
  },
  {
   "cell_type": "code",
   "execution_count": null,
   "id": "e32ef3cc-8394-492a-b23b-c2deb9526db4",
   "metadata": {},
   "outputs": [],
   "source": [
    "params = study_click.best_params\n",
    "params['tree_method']= 'gpu_hist'\n",
    "params['objective'] = 'binary:logistic'\n",
    "clk_model = XGBClassifier(**params)\n",
    "clk_model.fit(X[use_features],y[Train_Split.IS_CLICKED])"
   ]
  },
  {
   "cell_type": "code",
   "execution_count": null,
   "id": "f36018ee-0d59-47ea-a003-ca6fb99d6520",
   "metadata": {},
   "outputs": [],
   "source": [
    "params = study_install.best_params\n",
    "params['tree_method']= 'gpu_hist'\n",
    "params['objective'] = 'binary:logistic'\n",
    "install_model = XGBClassifier(**params)\n",
    "install_model.fit(X[use_features],y[Train_Split.IS_INSTALLED])"
   ]
  },
  {
   "cell_type": "code",
   "execution_count": null,
   "id": "1a2a80f8-73df-4ddf-beb7-3828e0f99ae8",
   "metadata": {},
   "outputs": [],
   "source": [
    "test = pd.read_csv('../Data/test/000000000000.csv',sep='\\t')"
   ]
  },
  {
   "cell_type": "code",
   "execution_count": null,
   "id": "f59f4e6e-e865-424d-be25-f926298dd4a6",
   "metadata": {},
   "outputs": [],
   "source": [
    "test['f_30'].fillna(test['f_30'].mode()[0],inplace=True)\n",
    "test['f_31'].fillna(test['f_31'].mode()[0],inplace=True)"
   ]
  },
  {
   "cell_type": "code",
   "execution_count": null,
   "id": "cae1b77e-62d2-42d4-a549-72491db83b39",
   "metadata": {},
   "outputs": [],
   "source": [
    "fmiss = \"f_43,f_51,f_58,f_59,f_64,f_65,f_66,f_67,f_68,f_69,f_70\".split(',')\n",
    "for f in fmiss:\n",
    "    test[f].fillna(test[f].mean(),inplace=True)"
   ]
  },
  {
   "cell_type": "code",
   "execution_count": null,
   "id": "24a43c5b-1db0-4e6a-8644-c0c6799ec7da",
   "metadata": {},
   "outputs": [],
   "source": [
    "y_click_test = clk_model.predict_proba(test[use_features])"
   ]
  },
  {
   "cell_type": "code",
   "execution_count": null,
   "id": "918c2a49-97ce-456d-9ed8-9f97632e1838",
   "metadata": {},
   "outputs": [],
   "source": [
    "y_install_test = install_model.predict_proba(test[use_features])"
   ]
  },
  {
   "cell_type": "code",
   "execution_count": null,
   "id": "52ac179f-ba21-4aa1-9287-0ba418a8d532",
   "metadata": {},
   "outputs": [],
   "source": [
    "import numpy as np\n",
    "result = np.vstack([test['f_0'].to_numpy(dtype=int),y_click_test[:,1],y_install_test[:,1]]).T"
   ]
  },
  {
   "cell_type": "code",
   "execution_count": null,
   "id": "cc44b5e0-8cee-4a47-a510-1bd90e4cd24f",
   "metadata": {},
   "outputs": [],
   "source": [
    "result.shape"
   ]
  },
  {
   "cell_type": "code",
   "execution_count": null,
   "id": "96d46980-6b45-4785-adfd-1467c6c0bd1d",
   "metadata": {},
   "outputs": [],
   "source": [
    "final = pd.DataFrame(result,columns=['RowId','is_clicked','is_installed'])"
   ]
  },
  {
   "cell_type": "code",
   "execution_count": null,
   "id": "7a5e85c2-a7e7-49c0-abf6-c1644ab1bd23",
   "metadata": {},
   "outputs": [],
   "source": [
    "final.head()"
   ]
  },
  {
   "cell_type": "code",
   "execution_count": null,
   "id": "bf1a4686-747f-4ff0-8a9b-bc7ac0829fdf",
   "metadata": {},
   "outputs": [],
   "source": [
    "final['RowId']=final['RowId'].astype('int')"
   ]
  },
  {
   "cell_type": "code",
   "execution_count": null,
   "id": "cc8af78a-c952-4144-b787-30323c4a282f",
   "metadata": {},
   "outputs": [],
   "source": [
    "final.to_csv('../Data/final_results/xgb_optuna.csv', sep ='\\t', index=False)"
   ]
  },
  {
   "cell_type": "code",
   "execution_count": null,
   "id": "b0078df6-80a7-4472-ae63-64214a14301b",
   "metadata": {},
   "outputs": [],
   "source": []
  }
 ],
 "metadata": {
  "kernelspec": {
   "display_name": "Python 3 (ipykernel)",
   "language": "python",
   "name": "python3"
  },
  "language_info": {
   "codemirror_mode": {
    "name": "ipython",
    "version": 3
   },
   "file_extension": ".py",
   "mimetype": "text/x-python",
   "name": "python",
   "nbconvert_exporter": "python",
   "pygments_lexer": "ipython3",
   "version": "3.9.16"
  }
 },
 "nbformat": 4,
 "nbformat_minor": 5
}
