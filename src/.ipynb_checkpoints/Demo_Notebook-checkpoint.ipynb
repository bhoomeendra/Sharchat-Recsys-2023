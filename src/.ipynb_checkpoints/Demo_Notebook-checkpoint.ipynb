{
 "cells": [
  {
   "cell_type": "code",
   "execution_count": 5,
   "id": "4808dbae-c059-4874-9c7c-bb63a8dda411",
   "metadata": {},
   "outputs": [],
   "source": [
    "from utils import TrainSplit,TestResults"
   ]
  },
  {
   "cell_type": "code",
   "execution_count": 6,
   "id": "8c26fb6a-e5e2-4978-9253-5f5b85fb730b",
   "metadata": {},
   "outputs": [],
   "source": [
    "import pandas as pd\n",
    "import numpy as np"
   ]
  },
  {
   "cell_type": "code",
   "execution_count": 7,
   "id": "51473228-1270-4305-88f3-513c62c8ee3d",
   "metadata": {},
   "outputs": [
    {
     "name": "stdout",
     "output_type": "stream",
     "text": [
      "Saved the test result to csv file as random_xgb_full_feature_2023-05-23 04:10:24.114673.csv\n",
      "Saved the model config to json file as random_xgb_full_feature_2023-05-23 04:10:24.114673.json\n"
     ]
    }
   ],
   "source": [
    "test = TestResults(row_id=pd.Series([1,2,3,4],copy=False), is_click=np.random.rand(4), \n",
    "                   is_install=np.random.rand(4), model_name='random_xgb_full_feature',\n",
    "                   config= {'max_depth':6,\n",
    "                            'learning_rate':0.3,\n",
    "                            'n_estimators':532,\n",
    "                            'tree_method':'gpu_hist',\n",
    "                            'objective':'binary:logistic'\n",
    "                            })"
   ]
  },
  {
   "cell_type": "code",
   "execution_count": 8,
   "id": "f0a971f4-c53e-4afb-8723-f53959e1bf7b",
   "metadata": {},
   "outputs": [
    {
     "data": {
      "text/plain": [
       "['.ipynb_checkpoints',\n",
       " 'random_xgb_full_feature_2023-05-23 04:10:24.114673.json']"
      ]
     },
     "execution_count": 8,
     "metadata": {},
     "output_type": "execute_result"
    }
   ],
   "source": [
    "TrainSplit.get_config_list()"
   ]
  },
  {
   "cell_type": "code",
   "execution_count": 9,
   "id": "2f2e1b5f-86b8-4b36-8b9a-04f87d1aec09",
   "metadata": {},
   "outputs": [],
   "source": [
    "configs = TrainSplit.load_config(name='random_xgb_full_feature_2023-05-23 04:10:24.114673.json')"
   ]
  },
  {
   "cell_type": "code",
   "execution_count": null,
   "id": "7a7f2630-61df-48f4-8f3e-cb505704c716",
   "metadata": {},
   "outputs": [],
   "source": []
  }
 ],
 "metadata": {
  "kernelspec": {
   "display_name": "Python 3 (ipykernel)",
   "language": "python",
   "name": "python3"
  },
  "language_info": {
   "codemirror_mode": {
    "name": "ipython",
    "version": 3
   },
   "file_extension": ".py",
   "mimetype": "text/x-python",
   "name": "python",
   "nbconvert_exporter": "python",
   "pygments_lexer": "ipython3",
   "version": "3.9.16"
  }
 },
 "nbformat": 4,
 "nbformat_minor": 5
}
