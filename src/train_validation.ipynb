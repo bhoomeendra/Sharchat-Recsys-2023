{
 "cells": [
  {
   "cell_type": "code",
   "execution_count": 1,
   "id": "9f1a2951-31d2-4b4b-bd06-38059f2b4e6c",
   "metadata": {},
   "outputs": [],
   "source": [
    "ROWID = ['f_0']\n",
    "DATE = ['f_1']\n",
    "CATEGORIES = [ f'f_{i}' for i in range(2,33) ]\n",
    "BINARY = [ f'f_{i}' for i in range(33,42) ]\n",
    "NUMERICAL = [ f'f_{i}' for i in range(42,80) ]\n",
    "IS_CLICKED = ['is_clicked']\n",
    "IS_INSTALLED =['is_installed']"
   ]
  },
  {
   "cell_type": "code",
   "execution_count": 2,
   "id": "f2deae72-bd39-433a-98ee-4c65b8698a01",
   "metadata": {},
   "outputs": [],
   "source": [
    "import pandas as pd"
   ]
  },
  {
   "cell_type": "code",
   "execution_count": 3,
   "id": "e2fa85ae-2d5c-4f79-a02a-42bd90a85a48",
   "metadata": {},
   "outputs": [],
   "source": [
    "missing = pd.read_csv('../Data/miss_combine.csv')"
   ]
  },
  {
   "cell_type": "code",
   "execution_count": 4,
   "id": "c65010cc-5978-4984-ace3-ad2037435e76",
   "metadata": {},
   "outputs": [],
   "source": [
    "# for i,k in enumerate(missing.isnull().sum()):\n",
    "#     print(f\"f_{i} {k}\",end='#\\n')"
   ]
  },
  {
   "cell_type": "code",
   "execution_count": 5,
   "id": "c8befa17-a9b8-400e-afe1-6ccfbc26e1a2",
   "metadata": {},
   "outputs": [],
   "source": [
    "data_click = missing\n",
    "data_install = missing# missing[missing[DATE[0]]>55]"
   ]
  },
  {
   "cell_type": "code",
   "execution_count": 46,
   "id": "d8db6a04-6147-4703-a9bd-6f201e53adbe",
   "metadata": {},
   "outputs": [
    {
     "data": {
      "text/plain": [
       "3485852"
      ]
     },
     "execution_count": 46,
     "metadata": {},
     "output_type": "execute_result"
    }
   ],
   "source": [
    "len(data_click)"
   ]
  },
  {
   "cell_type": "code",
   "execution_count": 47,
   "id": "e1f40cc4-2a60-4172-96dc-d59941dffaaa",
   "metadata": {},
   "outputs": [
    {
     "data": {
      "text/plain": [
       "3485852"
      ]
     },
     "execution_count": 47,
     "metadata": {},
     "output_type": "execute_result"
    }
   ],
   "source": [
    "len(data_install)"
   ]
  },
  {
   "cell_type": "code",
   "execution_count": 48,
   "id": "e6194408-58c3-43cd-b699-541c04546171",
   "metadata": {},
   "outputs": [],
   "source": [
    "data_click['f_30'].fillna(data_click['f_30'].mode()[0],inplace=True)\n",
    "data_click['f_31'].fillna(data_click['f_31'].mode()[0],inplace=True)"
   ]
  },
  {
   "cell_type": "markdown",
   "id": "e01459f9-a37d-4477-aa64-5bfa182101e1",
   "metadata": {},
   "source": [
    "### CAT"
   ]
  },
  {
   "cell_type": "code",
   "execution_count": 6,
   "id": "72c16885-5a28-4e4d-86b1-e5715ba4e17f",
   "metadata": {},
   "outputs": [],
   "source": [
    "missing['f_30'].fillna(missing['f_30'].mode()[0],inplace=True)\n",
    "missing['f_31'].fillna(missing['f_31'].mode()[0],inplace=True)"
   ]
  },
  {
   "cell_type": "markdown",
   "id": "57152cf2-8c8b-4250-9ebd-aaf826f8943f",
   "metadata": {},
   "source": [
    "\n",
    "### NUM"
   ]
  },
  {
   "cell_type": "code",
   "execution_count": 7,
   "id": "dd3453da-9741-43eb-9e60-4d4255a3e691",
   "metadata": {},
   "outputs": [
    {
     "name": "stderr",
     "output_type": "stream",
     "text": [
      "NUM IMPUTE: 100%|████████████████████████████████████████████████████████████████████████████████████████████████████████████████████████| 11/11 [00:00<00:00, 43.88it/s]\n"
     ]
    }
   ],
   "source": [
    "from tqdm import tqdm\n",
    "fmiss = \"f_43,f_51,f_58,f_59,f_64,f_65,f_66,f_67,f_68,f_69,f_70\".split(',')\n",
    "for f in tqdm(fmiss,desc=\"NUM IMPUTE\"):\n",
    "    missing[f].fillna(missing[f].mean(),inplace=True)"
   ]
  },
  {
   "cell_type": "code",
   "execution_count": 8,
   "id": "73a6e787-d2b7-453f-b766-c6b66cf8e56f",
   "metadata": {},
   "outputs": [
    {
     "data": {
      "text/plain": [
       "Index(['f_0', 'f_1', 'f_2', 'f_3', 'f_4', 'f_5', 'f_6', 'f_7', 'f_8', 'f_9',\n",
       "       'f_10', 'f_11', 'f_12', 'f_13', 'f_14', 'f_15', 'f_16', 'f_17', 'f_18',\n",
       "       'f_19', 'f_20', 'f_21', 'f_22', 'f_23', 'f_24', 'f_25', 'f_26', 'f_27',\n",
       "       'f_28', 'f_29', 'f_30', 'f_31', 'f_32', 'f_33', 'f_34', 'f_35', 'f_36',\n",
       "       'f_37', 'f_38', 'f_39', 'f_40', 'f_41', 'f_42', 'f_43', 'f_44', 'f_45',\n",
       "       'f_46', 'f_47', 'f_48', 'f_49', 'f_50', 'f_51', 'f_52', 'f_53', 'f_54',\n",
       "       'f_55', 'f_56', 'f_57', 'f_58', 'f_59', 'f_60', 'f_61', 'f_62', 'f_63',\n",
       "       'f_64', 'f_65', 'f_66', 'f_67', 'f_68', 'f_69', 'f_70', 'f_71', 'f_72',\n",
       "       'f_73', 'f_74', 'f_75', 'f_76', 'f_77', 'f_78', 'f_79', 'is_clicked',\n",
       "       'is_installed'],\n",
       "      dtype='object')"
      ]
     },
     "execution_count": 8,
     "metadata": {},
     "output_type": "execute_result"
    }
   ],
   "source": [
    "missing.columns"
   ]
  },
  {
   "cell_type": "code",
   "execution_count": 9,
   "id": "ac41c7e1-53b2-445e-b8a2-8a95a8173c7d",
   "metadata": {},
   "outputs": [
    {
     "data": {
      "text/plain": [
       "0"
      ]
     },
     "execution_count": 9,
     "metadata": {},
     "output_type": "execute_result"
    }
   ],
   "source": [
    "max(data_install.isnull().sum())"
   ]
  },
  {
   "cell_type": "code",
   "execution_count": 10,
   "id": "6459cf8f-ee28-4a68-97d7-5a99ece09412",
   "metadata": {},
   "outputs": [],
   "source": [
    "data = missing"
   ]
  },
  {
   "cell_type": "code",
   "execution_count": null,
   "id": "b97751c1-e5b0-44e8-8221-5ef74a51e1a6",
   "metadata": {},
   "outputs": [],
   "source": [
    "data.groupby('f_1').sum()[IS_CLICKED+IS_INSTALLED]"
   ]
  },
  {
   "cell_type": "markdown",
   "id": "c5f71cdd-370f-4bba-a8f1-4ab0d2703300",
   "metadata": {},
   "source": [
    "### This is around 10% of the Data"
   ]
  },
  {
   "cell_type": "code",
   "execution_count": 7,
   "id": "da894252-2baf-4e79-a335-6b10efeaa5d0",
   "metadata": {},
   "outputs": [],
   "source": [
    "# click_validation = data_click[(data_click[DATE[0]]==66)]"
   ]
  },
  {
   "cell_type": "code",
   "execution_count": 11,
   "id": "6ffd40fc-619d-4dbd-a68a-f426e68af7e1",
   "metadata": {},
   "outputs": [],
   "source": [
    "click_train = data_click"
   ]
  },
  {
   "cell_type": "code",
   "execution_count": 12,
   "id": "daea192c-cc6e-4be8-b78e-97a4637e8f2b",
   "metadata": {},
   "outputs": [],
   "source": [
    "# install_validation = data_install[(data_click[DATE[0]]==66)]\n",
    "install_train = data_install#[data_install[DATE[0]]>55]"
   ]
  },
  {
   "cell_type": "code",
   "execution_count": null,
   "id": "bd0a249a-b2d2-44ae-8450-a843d073fc60",
   "metadata": {},
   "outputs": [],
   "source": []
  },
  {
   "cell_type": "code",
   "execution_count": 13,
   "id": "ad79911f-fcc5-4fa1-bba2-d42a0e1d458f",
   "metadata": {},
   "outputs": [
    {
     "data": {
      "text/plain": [
       "3485852"
      ]
     },
     "execution_count": 13,
     "metadata": {},
     "output_type": "execute_result"
    }
   ],
   "source": [
    "len(install_train)"
   ]
  },
  {
   "cell_type": "code",
   "execution_count": 14,
   "id": "0238904d-4203-4af0-ba23-3c3cca0b088c",
   "metadata": {},
   "outputs": [
    {
     "ename": "NameError",
     "evalue": "name 'install_validation' is not defined",
     "output_type": "error",
     "traceback": [
      "\u001b[0;31m---------------------------------------------------------------------------\u001b[0m",
      "\u001b[0;31mNameError\u001b[0m                                 Traceback (most recent call last)",
      "Cell \u001b[0;32mIn[14], line 1\u001b[0m\n\u001b[0;32m----> 1\u001b[0m \u001b[38;5;28mlen\u001b[39m(\u001b[43minstall_validation\u001b[49m)\n",
      "\u001b[0;31mNameError\u001b[0m: name 'install_validation' is not defined"
     ]
    }
   ],
   "source": [
    "len(install_validation)"
   ]
  },
  {
   "cell_type": "code",
   "execution_count": 14,
   "id": "3de0d8eb-e587-477c-88e4-4cc1040cdbdf",
   "metadata": {},
   "outputs": [
    {
     "data": {
      "text/plain": [
       "3485852"
      ]
     },
     "execution_count": 14,
     "metadata": {},
     "output_type": "execute_result"
    }
   ],
   "source": [
    "len(click_train)"
   ]
  },
  {
   "cell_type": "code",
   "execution_count": 15,
   "id": "172a1fb7-9978-4390-a6a1-1c5fa3dc0bce",
   "metadata": {},
   "outputs": [
    {
     "ename": "NameError",
     "evalue": "name 'click_validation' is not defined",
     "output_type": "error",
     "traceback": [
      "\u001b[0;31m---------------------------------------------------------------------------\u001b[0m",
      "\u001b[0;31mNameError\u001b[0m                                 Traceback (most recent call last)",
      "Cell \u001b[0;32mIn[15], line 1\u001b[0m\n\u001b[0;32m----> 1\u001b[0m \u001b[38;5;28mlen\u001b[39m(\u001b[43mclick_validation\u001b[49m)\n",
      "\u001b[0;31mNameError\u001b[0m: name 'click_validation' is not defined"
     ]
    }
   ],
   "source": [
    "len(click_validation)"
   ]
  },
  {
   "cell_type": "code",
   "execution_count": 16,
   "id": "cba2ac64-f52c-4f0d-89a2-369912627470",
   "metadata": {},
   "outputs": [
    {
     "data": {
      "text/plain": [
       "3485852"
      ]
     },
     "execution_count": 16,
     "metadata": {},
     "output_type": "execute_result"
    }
   ],
   "source": [
    "len(data_click)"
   ]
  },
  {
   "cell_type": "code",
   "execution_count": 57,
   "id": "845b82a5-8af1-4735-a00e-17ec36693e5a",
   "metadata": {},
   "outputs": [],
   "source": [
    "click_feat_list = CATEGORIES + BINARY + NUMERICAL#['f_43','f_48','f_50','f_66','f_68','f_69','f_70','f_72','f_73']\n",
    "install_feat_list = CATEGORIES + BINARY + NUMERICAL#['f_58','f_59','f_50','f_68']"
   ]
  },
  {
   "cell_type": "code",
   "execution_count": 20,
   "id": "d92d6c3c-bb6d-42e0-a885-3a12502aa179",
   "metadata": {},
   "outputs": [],
   "source": [
    "use_feat = []\n",
    "# use_feat.extend(DATE)\n",
    "use_feat.extend(CATEGORIES)\n",
    "use_feat.extend(BINARY)\n",
    "use_feat.extend(NUMERICAL)"
   ]
  },
  {
   "cell_type": "code",
   "execution_count": 20,
   "id": "c45e52f5-6911-46a3-a2fb-5ec2a4a8d383",
   "metadata": {},
   "outputs": [
    {
     "data": {
      "text/plain": [
       "78"
      ]
     },
     "execution_count": 20,
     "metadata": {},
     "output_type": "execute_result"
    }
   ],
   "source": [
    "len(use_feat)"
   ]
  },
  {
   "cell_type": "code",
   "execution_count": 17,
   "id": "93f9a8cd-e895-402e-8b46-45037c345606",
   "metadata": {},
   "outputs": [
    {
     "ename": "NameError",
     "evalue": "name 'train' is not defined",
     "output_type": "error",
     "traceback": [
      "\u001b[0;31m---------------------------------------------------------------------------\u001b[0m",
      "\u001b[0;31mNameError\u001b[0m                                 Traceback (most recent call last)",
      "Cell \u001b[0;32mIn[17], line 1\u001b[0m\n\u001b[0;32m----> 1\u001b[0m y_click \u001b[38;5;241m=\u001b[39m \u001b[43mtrain\u001b[49m[IS_CLICKED[\u001b[38;5;241m0\u001b[39m]]\n\u001b[1;32m      2\u001b[0m y_install \u001b[38;5;241m=\u001b[39m train[IS_INSTALLED[\u001b[38;5;241m0\u001b[39m]]\n\u001b[1;32m      3\u001b[0m X \u001b[38;5;241m=\u001b[39m train[use_feat]\n",
      "\u001b[0;31mNameError\u001b[0m: name 'train' is not defined"
     ]
    }
   ],
   "source": [
    "y_click = train[IS_CLICKED[0]]\n",
    "y_install = train[IS_INSTALLED[0]]\n",
    "X = train[use_feat]"
   ]
  },
  {
   "cell_type": "code",
   "execution_count": null,
   "id": "48e0bdce-9dfc-41cd-822b-1894a5fae994",
   "metadata": {},
   "outputs": [],
   "source": [
    "X.columns"
   ]
  },
  {
   "cell_type": "code",
   "execution_count": 18,
   "id": "8d2b4f7b-4d58-4f17-afe0-067aceeb07c7",
   "metadata": {},
   "outputs": [],
   "source": [
    "from xgboost import XGBClassifier\n",
    "# from sklearn.ensemble import RandomForestClassifier\n",
    "# from sklearn.metrics import roc_auc_score\n",
    "# from sklearn.naive_bayes import ComplementNB,MultinomialNB\n",
    "# from sklearn.linear_model import LogisticRegression"
   ]
  },
  {
   "cell_type": "markdown",
   "id": "8feb76af-4e9a-4faf-bf16-f2458bba3a1e",
   "metadata": {},
   "source": [
    "# Naive Bayes"
   ]
  },
  {
   "cell_type": "code",
   "execution_count": null,
   "id": "cdf31685-14ea-4a89-a584-dabd98fd7db4",
   "metadata": {},
   "outputs": [],
   "source": [
    "model_click = MultinomialNB(alpha=1)\n",
    "model_click.fit(X,y_click)\n",
    "print(\"Done Click\")\n",
    "model_install = MultinomialNB(alpha=1)\n",
    "model_install.fit(X,y_install)\n",
    "print(\"Done Install\")"
   ]
  },
  {
   "cell_type": "markdown",
   "id": "56a6b9bc-46b1-4366-91a5-c7f4427c49d3",
   "metadata": {},
   "source": [
    "## Logistic Regression"
   ]
  },
  {
   "cell_type": "code",
   "execution_count": null,
   "id": "f736591e-c0a3-4893-bc0e-2498f63fe714",
   "metadata": {},
   "outputs": [],
   "source": [
    "\n",
    "model_click = LogisticRegression(class_weight={1:2,0:1}).fit(train[NUMERICAL],y_click)\n",
    "model_install = LogisticRegression(class_weight={1:2,0:1}).fit(train[NUMERICAL],y_install)"
   ]
  },
  {
   "cell_type": "markdown",
   "id": "36f5f473-2318-451c-b82d-7656fae2ec40",
   "metadata": {},
   "source": [
    "## XGBoost"
   ]
  },
  {
   "cell_type": "code",
   "execution_count": 21,
   "id": "66898d1d-278b-4fe6-bcf9-4484921bc2f8",
   "metadata": {},
   "outputs": [
    {
     "data": {
      "text/plain": [
       "XGBClassifier(base_score=None, booster=None, callbacks=None,\n",
       "              colsample_bylevel=None, colsample_bynode=None,\n",
       "              colsample_bytree=None, early_stopping_rounds=None,\n",
       "              enable_categorical=False, eval_metric=None, feature_types=None,\n",
       "              gamma=None, gpu_id=None, grow_policy=None, importance_type=None,\n",
       "              interaction_constraints=None, learning_rate=0.1, max_bin=None,\n",
       "              max_cat_threshold=None, max_cat_to_onehot=None,\n",
       "              max_delta_step=None, max_depth=None, max_leaves=None,\n",
       "              min_child_weight=None, missing=nan, monotone_constraints=None,\n",
       "              n_estimators=100, n_jobs=None, num_parallel_tree=None,\n",
       "              predictor=None, random_state=None, ...)"
      ]
     },
     "execution_count": 21,
     "metadata": {},
     "output_type": "execute_result"
    }
   ],
   "source": [
    "model_click = XGBClassifier(learning_rate=0.1, n_estimators=100, objective='binary:logistic',\n",
    "                            verbosity=2,tree_method='gpu_hist')#,scale_pos_weight=3)\n",
    "model_click.fit(click_train[use_feat],click_train[IS_CLICKED])"
   ]
  },
  {
   "cell_type": "code",
   "execution_count": 18,
   "id": "1824d6f1-e660-4463-8448-c8b287413136",
   "metadata": {},
   "outputs": [
    {
     "name": "stderr",
     "output_type": "stream",
     "text": [
      "/tmp/ipykernel_23082/688394720.py:2: SettingWithCopyWarning: \n",
      "A value is trying to be set on a copy of a slice from a DataFrame.\n",
      "Try using .loc[row_indexer,col_indexer] = value instead\n",
      "\n",
      "See the caveats in the documentation: https://pandas.pydata.org/pandas-docs/stable/user_guide/indexing.html#returning-a-view-versus-a-copy\n",
      "  install_train.loc[:,['is_click_pred']] = y_click_pred\n",
      "/tmp/ipykernel_23082/688394720.py:2: FutureWarning: In a future version, `df.iloc[:, i] = newvals` will attempt to set the values inplace instead of always setting a new array. To retain the old behavior, use either `df[df.columns[i]] = newvals` or, if columns are non-unique, `df.isetitem(i, newvals)`\n",
      "  install_train.loc[:,['is_click_pred']] = y_click_pred\n"
     ]
    }
   ],
   "source": [
    "y_click_pred = model_click.predict(install_train[click_feat_list])\n",
    "install_train.loc[:,['is_click_pred']] = y_click_pred"
   ]
  },
  {
   "cell_type": "code",
   "execution_count": null,
   "id": "0510176d-f3b1-4815-ad7e-41bce92a5485",
   "metadata": {},
   "outputs": [],
   "source": [
    "train.columns"
   ]
  },
  {
   "cell_type": "code",
   "execution_count": 22,
   "id": "bccd5616-48f7-42d4-9a98-9b765c56c0ae",
   "metadata": {},
   "outputs": [
    {
     "data": {
      "text/plain": [
       "XGBClassifier(base_score=None, booster=None, callbacks=None,\n",
       "              colsample_bylevel=None, colsample_bynode=None,\n",
       "              colsample_bytree=None, early_stopping_rounds=None,\n",
       "              enable_categorical=False, eval_metric=None, feature_types=None,\n",
       "              gamma=None, gpu_id=None, grow_policy=None, importance_type=None,\n",
       "              interaction_constraints=None, learning_rate=0.1, max_bin=None,\n",
       "              max_cat_threshold=None, max_cat_to_onehot=None,\n",
       "              max_delta_step=None, max_depth=None, max_leaves=None,\n",
       "              min_child_weight=None, missing=nan, monotone_constraints=None,\n",
       "              n_estimators=100, n_jobs=None, num_parallel_tree=None,\n",
       "              predictor=None, random_state=None, ...)"
      ]
     },
     "execution_count": 22,
     "metadata": {},
     "output_type": "execute_result"
    }
   ],
   "source": [
    "model_install = XGBClassifier(learning_rate=0.1, n_estimators=100, objective='binary:logistic',\n",
    "                              verbosity=2,tree_method='gpu_hist')\n",
    "model_install.fit(install_train[use_feat],install_train[IS_INSTALLED])# +['is_click_pred']"
   ]
  },
  {
   "cell_type": "markdown",
   "id": "aad00bd6-4fcb-47af-8fbf-b7c3d1071a54",
   "metadata": {},
   "source": [
    "## Random Forest"
   ]
  },
  {
   "cell_type": "code",
   "execution_count": null,
   "id": "5d0c4104-594a-4c33-a51b-6c726ee855d9",
   "metadata": {},
   "outputs": [],
   "source": [
    "rf_install = RandomForestClassifier(n_estimators=100,n_jobs=-1)\n",
    "rf_install.fit(X,y_install)"
   ]
  },
  {
   "cell_type": "code",
   "execution_count": null,
   "id": "1784918e-5203-4222-bea6-75cb9775ccee",
   "metadata": {},
   "outputs": [],
   "source": [
    "model_install = rf_install"
   ]
  },
  {
   "cell_type": "code",
   "execution_count": null,
   "id": "4c2a6ac4-5229-41f4-a3a6-2c31f799d911",
   "metadata": {},
   "outputs": [],
   "source": [
    "model_click = RandomForestClassifier(n_estimators=100,n_jobs=-1)\n",
    "model_click.fit(X,y_click)"
   ]
  },
  {
   "cell_type": "code",
   "execution_count": null,
   "id": "4a1d2895-5d62-42db-a682-62fd6cb2a0b8",
   "metadata": {},
   "outputs": [],
   "source": [
    "X_val = validation[use_feat]"
   ]
  },
  {
   "cell_type": "code",
   "execution_count": null,
   "id": "e2fcb4b0-f997-4276-aec8-6f1848f8f6dc",
   "metadata": {},
   "outputs": [],
   "source": [
    "y_click_val = validation[IS_CLICKED[0]]\n",
    "y_install_val = validation[IS_INSTALLED[0]]"
   ]
  },
  {
   "cell_type": "code",
   "execution_count": null,
   "id": "65f51373-41b1-491a-9a99-58cf2ce32623",
   "metadata": {},
   "outputs": [],
   "source": [
    "y_click_pred = model_click.predict(validation[use_feat])\n",
    "y_install_pred = model_install.predict(validation[use_feat])"
   ]
  },
  {
   "cell_type": "markdown",
   "id": "a7705709-450a-413a-b284-60e292d43b4e",
   "metadata": {},
   "source": [
    "# Naive Baysem"
   ]
  },
  {
   "cell_type": "code",
   "execution_count": null,
   "id": "45fc0048-f3ef-4042-bd5b-8bbee8bd1c51",
   "metadata": {},
   "outputs": [],
   "source": [
    "y_click_pred = nb_click.predict(X_val)\n",
    "y_install_pred = nb_install.predict(X_val)"
   ]
  },
  {
   "cell_type": "markdown",
   "id": "d5844a57-fb43-4fc3-97dd-5e2730e1266d",
   "metadata": {},
   "source": [
    "## XGB"
   ]
  },
  {
   "cell_type": "code",
   "execution_count": 21,
   "id": "6237ee85-64dc-4381-9f6d-1cb95f83d312",
   "metadata": {},
   "outputs": [],
   "source": [
    "y_click_pred = model_click.predict(click_validation[click_feat_list])\n",
    "# validation['is_click_pred'] = y_click_pred\n",
    "y_install_pred = model_install.predict(install_validation[install_feat_list])"
   ]
  },
  {
   "cell_type": "code",
   "execution_count": 22,
   "id": "8876d387-d4b9-43c1-af6d-2d80c756d6f6",
   "metadata": {},
   "outputs": [
    {
     "data": {
      "text/plain": [
       "(array([0, 1]), array([65334, 32638]))"
      ]
     },
     "execution_count": 22,
     "metadata": {},
     "output_type": "execute_result"
    }
   ],
   "source": [
    "import numpy as np\n",
    "np.unique(y_click_pred,return_counts=True)"
   ]
  },
  {
   "cell_type": "code",
   "execution_count": 23,
   "id": "9cb20b16-b60d-4cae-b86a-c85dcc64a799",
   "metadata": {},
   "outputs": [
    {
     "data": {
      "text/plain": [
       "(array([0, 1]), array([92829,  5143]))"
      ]
     },
     "execution_count": 23,
     "metadata": {},
     "output_type": "execute_result"
    }
   ],
   "source": [
    "np.unique(y_install_pred,return_counts=True)"
   ]
  },
  {
   "cell_type": "code",
   "execution_count": 24,
   "id": "97946606-fc77-4d50-a729-a25239e233b2",
   "metadata": {},
   "outputs": [
    {
     "name": "stdout",
     "output_type": "stream",
     "text": [
      "0.6222965636646419\n"
     ]
    }
   ],
   "source": [
    "from sklearn.metrics import f1_score\n",
    "print(f1_score(click_validation[IS_CLICKED],y_click_pred))"
   ]
  },
  {
   "cell_type": "code",
   "execution_count": 25,
   "id": "f8d06c6f-785d-4349-a5b8-4c884e56f20c",
   "metadata": {},
   "outputs": [
    {
     "name": "stdout",
     "output_type": "stream",
     "text": [
      "0.25601973964094277\n"
     ]
    }
   ],
   "source": [
    "print(f1_score(install_validation[IS_INSTALLED],y_install_pred))"
   ]
  },
  {
   "cell_type": "markdown",
   "id": "ffe1cc32-d41e-4d52-9cc6-6c32f621be35",
   "metadata": {},
   "source": [
    "# Test"
   ]
  },
  {
   "cell_type": "code",
   "execution_count": 23,
   "id": "dfd3fd05-77aa-46bc-8289-df9370f5db72",
   "metadata": {},
   "outputs": [],
   "source": [
    "# import pandas as pd\n",
    "test = pd.read_csv('../Data/test/000000000000.csv',sep='\\t')"
   ]
  },
  {
   "cell_type": "markdown",
   "id": "028275e6-ca72-4c16-9320-7feebe182fb0",
   "metadata": {},
   "source": [
    "## Missing Value Imputation for Test"
   ]
  },
  {
   "cell_type": "code",
   "execution_count": 24,
   "id": "242c69ee-69f2-4efa-a714-0c804bd89aeb",
   "metadata": {},
   "outputs": [],
   "source": [
    "test['f_30'].fillna(install_train['f_30'].mode()[0],inplace=True)\n",
    "test['f_31'].fillna(install_train['f_31'].mode()[0],inplace=True)"
   ]
  },
  {
   "cell_type": "code",
   "execution_count": 25,
   "id": "f10e0b3f-8695-4ecd-9d11-acbe3e1d80fb",
   "metadata": {},
   "outputs": [],
   "source": [
    "for f in fmiss:\n",
    "    test[f].fillna(install_train[f].mean(),inplace=True)"
   ]
  },
  {
   "cell_type": "code",
   "execution_count": 26,
   "id": "0c8a0d07-ef36-48f0-ac64-719ddcb6e3d2",
   "metadata": {},
   "outputs": [
    {
     "data": {
      "text/plain": [
       "Index(['f_0', 'f_1', 'f_2', 'f_3', 'f_4', 'f_5', 'f_6', 'f_7', 'f_8', 'f_9',\n",
       "       'f_10', 'f_11', 'f_12', 'f_13', 'f_14', 'f_15', 'f_16', 'f_17', 'f_18',\n",
       "       'f_19', 'f_20', 'f_21', 'f_22', 'f_23', 'f_24', 'f_25', 'f_26', 'f_27',\n",
       "       'f_28', 'f_29', 'f_30', 'f_31', 'f_32', 'f_33', 'f_34', 'f_35', 'f_36',\n",
       "       'f_37', 'f_38', 'f_39', 'f_40', 'f_41', 'f_42', 'f_43', 'f_44', 'f_45',\n",
       "       'f_46', 'f_47', 'f_48', 'f_49', 'f_50', 'f_51', 'f_52', 'f_53', 'f_54',\n",
       "       'f_55', 'f_56', 'f_57', 'f_58', 'f_59', 'f_60', 'f_61', 'f_62', 'f_63',\n",
       "       'f_64', 'f_65', 'f_66', 'f_67', 'f_68', 'f_69', 'f_70', 'f_71', 'f_72',\n",
       "       'f_73', 'f_74', 'f_75', 'f_76', 'f_77', 'f_78', 'f_79'],\n",
       "      dtype='object')"
      ]
     },
     "execution_count": 26,
     "metadata": {},
     "output_type": "execute_result"
    }
   ],
   "source": [
    "test.columns"
   ]
  },
  {
   "cell_type": "code",
   "execution_count": 27,
   "id": "4c5d959e-e5e1-482e-8813-b6e4b0756bed",
   "metadata": {},
   "outputs": [],
   "source": [
    "k = test.isnull().sum()"
   ]
  },
  {
   "cell_type": "code",
   "execution_count": 28,
   "id": "f1ba8397-b274-454e-9896-bc2cdc9f558c",
   "metadata": {
    "tags": []
   },
   "outputs": [
    {
     "name": "stdout",
     "output_type": "stream",
     "text": [
      "f_0 0\n",
      "f_1 0\n",
      "f_2 0\n",
      "f_3 0\n",
      "f_4 0\n",
      "f_5 0\n",
      "f_6 0\n",
      "f_7 0\n",
      "f_8 0\n",
      "f_9 0\n",
      "f_10 0\n",
      "f_11 0\n",
      "f_12 0\n",
      "f_13 0\n",
      "f_14 0\n",
      "f_15 0\n",
      "f_16 0\n",
      "f_17 0\n",
      "f_18 0\n",
      "f_19 0\n",
      "f_20 0\n",
      "f_21 0\n",
      "f_22 0\n",
      "f_23 0\n",
      "f_24 0\n",
      "f_25 0\n",
      "f_26 0\n",
      "f_27 0\n",
      "f_28 0\n",
      "f_29 0\n",
      "f_30 0\n",
      "f_31 0\n",
      "f_32 0\n",
      "f_33 0\n",
      "f_34 0\n",
      "f_35 0\n",
      "f_36 0\n",
      "f_37 0\n",
      "f_38 0\n",
      "f_39 0\n",
      "f_40 0\n",
      "f_41 0\n",
      "f_42 0\n",
      "f_43 0\n",
      "f_44 0\n",
      "f_45 0\n",
      "f_46 0\n",
      "f_47 0\n",
      "f_48 0\n",
      "f_49 0\n",
      "f_50 0\n",
      "f_51 0\n",
      "f_52 0\n",
      "f_53 0\n",
      "f_54 0\n",
      "f_55 0\n",
      "f_56 0\n",
      "f_57 0\n",
      "f_58 0\n",
      "f_59 0\n",
      "f_60 0\n",
      "f_61 0\n",
      "f_62 0\n",
      "f_63 0\n",
      "f_64 0\n",
      "f_65 0\n",
      "f_66 0\n",
      "f_67 0\n",
      "f_68 0\n",
      "f_69 0\n",
      "f_70 0\n",
      "f_71 0\n",
      "f_72 0\n",
      "f_73 0\n",
      "f_74 0\n",
      "f_75 0\n",
      "f_76 0\n",
      "f_77 0\n",
      "f_78 0\n",
      "f_79 0\n"
     ]
    }
   ],
   "source": [
    "for i,a in enumerate(k):\n",
    "    print(f\"f_{i} {a}\")"
   ]
  },
  {
   "cell_type": "code",
   "execution_count": 30,
   "id": "e040aa9e-d8a0-4b3e-a900-6649ad6e5894",
   "metadata": {},
   "outputs": [],
   "source": [
    "y_click_test = model_click.predict_proba(test[use_feat])"
   ]
  },
  {
   "cell_type": "code",
   "execution_count": 24,
   "id": "04b80ba5-78f1-4421-b2ff-b1e2cdb221aa",
   "metadata": {},
   "outputs": [],
   "source": [
    "test['is_click_pred'] = model_click.predict(test[click_feat_list])"
   ]
  },
  {
   "cell_type": "code",
   "execution_count": 31,
   "id": "50855693-4184-45fb-bb47-b4057e200614",
   "metadata": {},
   "outputs": [],
   "source": [
    "y_install_test = model_install.predict_proba(test[use_feat])#+['is_click_pred']"
   ]
  },
  {
   "cell_type": "code",
   "execution_count": 32,
   "id": "a6f63313-2348-4a76-a824-f8953b308ebc",
   "metadata": {},
   "outputs": [],
   "source": [
    "# y_click_test = nb_click.predict(test[use_feat])\n",
    "# y_install_test = nb_install.predict(test[use_feat])"
   ]
  },
  {
   "cell_type": "code",
   "execution_count": 32,
   "id": "a89ea474-40aa-4255-ab79-df4d6de85aac",
   "metadata": {},
   "outputs": [],
   "source": [
    "import numpy as np\n",
    "result = np.vstack([test['f_0'].to_numpy(dtype=int),y_click_test[:,1],y_install_test[:,1]])"
   ]
  },
  {
   "cell_type": "code",
   "execution_count": 33,
   "id": "90fbfb51-0aae-4b19-8129-e1386339d21b",
   "metadata": {},
   "outputs": [
    {
     "data": {
      "text/plain": [
       "(3, 160973)"
      ]
     },
     "execution_count": 33,
     "metadata": {},
     "output_type": "execute_result"
    }
   ],
   "source": [
    "result.shape"
   ]
  },
  {
   "cell_type": "code",
   "execution_count": 34,
   "id": "a9442af8-d444-4037-a866-f7853872b6b7",
   "metadata": {},
   "outputs": [],
   "source": [
    "result = result.T"
   ]
  },
  {
   "cell_type": "code",
   "execution_count": 35,
   "id": "5ab4625c-bc89-4848-80b8-bb20e957c285",
   "metadata": {},
   "outputs": [
    {
     "data": {
      "text/plain": [
       "(160973, 3)"
      ]
     },
     "execution_count": 35,
     "metadata": {},
     "output_type": "execute_result"
    }
   ],
   "source": [
    "result.shape"
   ]
  },
  {
   "cell_type": "code",
   "execution_count": 36,
   "id": "6fba4018-2949-439c-9cca-97c91a19ca7c",
   "metadata": {},
   "outputs": [],
   "source": [
    "final = pd.DataFrame(result,columns=['RowId','is_clicked','is_installed'])"
   ]
  },
  {
   "cell_type": "code",
   "execution_count": 37,
   "id": "bdfe296e-9275-4506-9070-8caa5b23ec5a",
   "metadata": {},
   "outputs": [
    {
     "data": {
      "text/html": [
       "<div>\n",
       "<style scoped>\n",
       "    .dataframe tbody tr th:only-of-type {\n",
       "        vertical-align: middle;\n",
       "    }\n",
       "\n",
       "    .dataframe tbody tr th {\n",
       "        vertical-align: top;\n",
       "    }\n",
       "\n",
       "    .dataframe thead th {\n",
       "        text-align: right;\n",
       "    }\n",
       "</style>\n",
       "<table border=\"1\" class=\"dataframe\">\n",
       "  <thead>\n",
       "    <tr style=\"text-align: right;\">\n",
       "      <th></th>\n",
       "      <th>RowId</th>\n",
       "      <th>is_clicked</th>\n",
       "      <th>is_installed</th>\n",
       "    </tr>\n",
       "  </thead>\n",
       "  <tbody>\n",
       "    <tr>\n",
       "      <th>0</th>\n",
       "      <td>64505.0</td>\n",
       "      <td>0.281865</td>\n",
       "      <td>0.212022</td>\n",
       "    </tr>\n",
       "    <tr>\n",
       "      <th>1</th>\n",
       "      <td>64506.0</td>\n",
       "      <td>0.077323</td>\n",
       "      <td>0.255021</td>\n",
       "    </tr>\n",
       "    <tr>\n",
       "      <th>2</th>\n",
       "      <td>64507.0</td>\n",
       "      <td>0.277757</td>\n",
       "      <td>0.101083</td>\n",
       "    </tr>\n",
       "    <tr>\n",
       "      <th>3</th>\n",
       "      <td>64508.0</td>\n",
       "      <td>0.131246</td>\n",
       "      <td>0.233965</td>\n",
       "    </tr>\n",
       "    <tr>\n",
       "      <th>4</th>\n",
       "      <td>64509.0</td>\n",
       "      <td>0.334293</td>\n",
       "      <td>0.113833</td>\n",
       "    </tr>\n",
       "  </tbody>\n",
       "</table>\n",
       "</div>"
      ],
      "text/plain": [
       "     RowId  is_clicked  is_installed\n",
       "0  64505.0    0.281865      0.212022\n",
       "1  64506.0    0.077323      0.255021\n",
       "2  64507.0    0.277757      0.101083\n",
       "3  64508.0    0.131246      0.233965\n",
       "4  64509.0    0.334293      0.113833"
      ]
     },
     "execution_count": 37,
     "metadata": {},
     "output_type": "execute_result"
    }
   ],
   "source": [
    "final.head()"
   ]
  },
  {
   "cell_type": "code",
   "execution_count": 38,
   "id": "633cc590-c519-4547-9893-c729f08cb3f0",
   "metadata": {},
   "outputs": [],
   "source": [
    "final['RowId']=final['RowId'].astype('int')"
   ]
  },
  {
   "cell_type": "code",
   "execution_count": 39,
   "id": "948488b5-d6f9-4ccb-98f6-b3a97df0d7c0",
   "metadata": {},
   "outputs": [],
   "source": [
    "final.to_csv('../Data/xgb_100.csv', sep ='\\t', index=False)"
   ]
  },
  {
   "cell_type": "code",
   "execution_count": null,
   "id": "11a7b3ac-74f4-4b3b-9c5f-bfd7220db5e0",
   "metadata": {},
   "outputs": [],
   "source": []
  },
  {
   "cell_type": "code",
   "execution_count": null,
   "id": "3a32b7fc-7739-4060-821a-18de5a774fe7",
   "metadata": {},
   "outputs": [],
   "source": []
  },
  {
   "cell_type": "code",
   "execution_count": null,
   "id": "7498716a-6058-476f-b9f0-1e64ca7cd6a6",
   "metadata": {},
   "outputs": [],
   "source": []
  }
 ],
 "metadata": {
  "kernelspec": {
   "display_name": "Python 3 (ipykernel)",
   "language": "python",
   "name": "python3"
  },
  "language_info": {
   "codemirror_mode": {
    "name": "ipython",
    "version": 3
   },
   "file_extension": ".py",
   "mimetype": "text/x-python",
   "name": "python",
   "nbconvert_exporter": "python",
   "pygments_lexer": "ipython3",
   "version": "3.9.16"
  },
  "vscode": {
   "interpreter": {
    "hash": "916dbcbb3f70747c44a77c7bcd40155683ae19c65e1c03b4aa3499c5328201f1"
   }
  }
 },
 "nbformat": 4,
 "nbformat_minor": 5
}
