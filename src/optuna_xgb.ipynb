{
 "cells": [
  {
   "cell_type": "code",
   "execution_count": 1,
   "id": "15f9ab1f-a8b6-4564-b42c-7c83164e989c",
   "metadata": {},
   "outputs": [],
   "source": [
    "import pandas as pd\n",
    "from sklearn.model_selection import train_test_split\n",
    "import numpy as np\n",
    "from tqdm import tqdm\n",
    "from xgboost import XGBClassifier\n",
    "from sklearn.metrics import f1_score, log_loss\n",
    "import optuna\n",
    "\n",
    "\n",
    "class Train_Split:\n",
    "    \n",
    "    ROWID = ['f_0']\n",
    "    DATE = ['f_1']\n",
    "    CATEGORIES = [ f'f_{i}' for i in range(2,33) ]\n",
    "    BINARY = [ f'f_{i}' for i in range(33,42) ]\n",
    "    NUMERICAL = [ f'f_{i}' for i in range(42,80) ]\n",
    "    IS_CLICKED = ['is_clicked']\n",
    "    IS_INSTALLED =['is_installed']\n",
    "\n",
    "    def __init__(self, val_type='random', class_type='binary',split_date=66,impute=True):\n",
    "\n",
    "        print(\"Loading the data\")\n",
    "        self.data = pd.read_csv('../Data/miss_combine.csv')\n",
    "        self.impute = impute\n",
    "        self.val_type = val_type\n",
    "        self.class_type = class_type\n",
    "        self.split_date = split_date\n",
    "        self.X_train = None\n",
    "        self.X_test = None\n",
    "        self.y_train = None\n",
    "        self.y_test = None\n",
    "        self.impute_data()\n",
    "        self.train_test_split()\n",
    "\n",
    "    def impute_data(self):\n",
    "        if self.impute:\n",
    "            self.data['f_30'].fillna(self.data['f_30'].mode()[0],inplace=True)\n",
    "            self.data['f_31'].fillna(self.data['f_31'].mode()[0],inplace=True)\n",
    "            fmiss = \"f_43,f_51,f_58,f_59,f_64,f_65,f_66,f_67,f_68,f_69,f_70\".split(',')\n",
    "            for f in tqdm(fmiss,desc=\"NUM IMPUTE\"):\n",
    "                self.data[f].fillna(self.data[f].mean(),inplace=True)\n",
    "\n",
    "    def get_split(self):\n",
    "        return self.X_train, self.X_test, self.y_train, self.y_test\n",
    "\n",
    "    def train_test_split(self):\n",
    "        print(f\"Spliting the Data based on {self.val_type}\")\n",
    "        if self.val_type == 'random':\n",
    "            self.random_split()\n",
    "        elif self.val_type == 'time':\n",
    "            self.time_split()\n",
    "        elif self.val_type == 'No':\n",
    "            self.final_split()\n",
    "        else:\n",
    "            raise Exception('Invalid validation type')\n",
    "    \n",
    "    # def get_label(self,data):\n",
    "    #     '''\n",
    "    #     data: Numpy array\n",
    "    #     '''\n",
    "    #     if self.class_type == 'binary':\n",
    "    #         return data\n",
    "    #     elif self.class_type == 'multi':\n",
    "    #         labels = []\n",
    "    #         for a, b in zip(data[:,0], data[:,1]):\n",
    "    #             if a==0 and b==0:# None\n",
    "    #                 labels.append(0)\n",
    "    #             elif a==1 and b==0:# Clicked\n",
    "    #                 labels.append(1)\n",
    "    #             elif a==0 and b==1:# Installed\n",
    "    #                 labels.append(2)\n",
    "    #             elif a==1 and b==1:# Clicked and Installed\n",
    "    #                 labels.append(3)\n",
    "    #         return np.array(labels)\n",
    "\n",
    "    def random_split(self):\n",
    "        \"\"\"\n",
    "        Randomly split the data into train and test set\n",
    "        \"\"\"\n",
    "        y = self.data[Train_Split.IS_CLICKED + Train_Split.IS_INSTALLED]\n",
    "        X = self.data.drop(Train_Split.IS_CLICKED + Train_Split.IS_INSTALLED, axis=1)\n",
    "        self.X_train, self.X_test, self.y_train, self.y_test = train_test_split(X, y, test_size=0.2, random_state=42)\n",
    "    \n",
    "    def time_split(self):\n",
    "        \"\"\"\n",
    "        Split the data into train and test set based on Date\n",
    "        \"\"\"\n",
    "        self.X_train = self.data[self.data[Train_Split.DATE[0]] < self.split_date ].drop(Train_Split.IS_CLICKED + Train_Split.IS_INSTALLED, axis=1)\n",
    "        self.X_test = self.data[self.data[Train_Split.DATE[0]] >= self.split_date ].drop(Train_Split.IS_CLICKED + Train_Split.IS_INSTALLED, axis=1)\n",
    "        self.y_train = self.data[self.data[Train_Split.DATE[0]] < self.split_date ][Train_Split.IS_CLICKED + Train_Split.IS_INSTALLED]\n",
    "        self.y_test = self.data[self.data[Train_Split.DATE[0]] >= self.split_date ][Train_Split.IS_CLICKED + Train_Split.IS_INSTALLED]\n",
    "        print(f\"X_train:{self.X_train.shape}, X_test:{self.X_test.shape} , y_train:{self.y_train.shape} , y_test:{self.y_test.shape}\")\n",
    "\n",
    "    def final_split(self):\n",
    "        self.X_train = self.data.drop(Train_Split.IS_CLICKED + Train_Split.IS_INSTALLED, axis=1).values\n",
    "        self.y_train = self.get_label(self.data[Train_Split.IS_CLICKED + Train_Split.IS_INSTALLED].values)\n",
    "        self.X_test = None\n",
    "        self.y_test = None"
   ]
  },
  {
   "cell_type": "code",
   "execution_count": 2,
   "id": "be17ba45-b890-42ae-94b3-affa0052f8ff",
   "metadata": {},
   "outputs": [
    {
     "name": "stdout",
     "output_type": "stream",
     "text": [
      "Loading the data\n"
     ]
    },
    {
     "name": "stderr",
     "output_type": "stream",
     "text": [
      "NUM IMPUTE: 100%|█████████████████████████████████████████████████████████████████████████████████████████████████████████████| 11/11 [00:00<00:00, 43.21it/s]\n"
     ]
    },
    {
     "name": "stdout",
     "output_type": "stream",
     "text": [
      "Spliting the Data based on time\n",
      "X_train:(3387880, 80), X_test:(97972, 80) , y_train:(3387880, 2) , y_test:(97972, 2)\n"
     ]
    }
   ],
   "source": [
    "train = Train_Split(val_type='time',class_type='binary',split_date=66,impute=True)\n",
    "X_train, X_test, y_train, y_test = train.get_split()"
   ]
  },
  {
   "cell_type": "code",
   "execution_count": 83,
   "id": "110ca45a-339a-4bb3-8cd0-4cb92ed28ba7",
   "metadata": {},
   "outputs": [],
   "source": [
    "X_1 = X_train[X_train['f_1']>55]\n",
    "y_1 = y_train[X_train['f_1']>55]"
   ]
  },
  {
   "cell_type": "code",
   "execution_count": 85,
   "id": "ff46f313-5051-453b-a59c-df1c586b87ae",
   "metadata": {},
   "outputs": [
    {
     "data": {
      "text/plain": [
       "((1543247, 80), (1543247, 2))"
      ]
     },
     "execution_count": 85,
     "metadata": {},
     "output_type": "execute_result"
    }
   ],
   "source": [
    "X_1.shape,y_1.shape"
   ]
  },
  {
   "cell_type": "code",
   "execution_count": 86,
   "id": "69d59ce5-b067-46c1-8464-72c20ea86794",
   "metadata": {},
   "outputs": [
    {
     "data": {
      "text/plain": [
       "505"
      ]
     },
     "execution_count": 86,
     "metadata": {},
     "output_type": "execute_result"
    }
   ],
   "source": [
    "import gc\n",
    "gc.collect()"
   ]
  },
  {
   "cell_type": "code",
   "execution_count": 87,
   "id": "8ca9cb42-e357-4481-961b-8c5e5f4ce10c",
   "metadata": {},
   "outputs": [],
   "source": [
    "use_features = Train_Split.CATEGORIES  + Train_Split.BINARY + Train_Split.NUMERICAL\n",
    "#['f_24','f_2', 'f_68', 'f_59', 'f_19', 'f_40', 'f_4', 'f_22', 'f_50', 'f_37', 'f_51', 'f_70', 'f_6', 'f_20', 'f_66', 'f_69','f_1']\n"
   ]
  },
  {
   "cell_type": "code",
   "execution_count": 88,
   "id": "93637ac9-0f1e-4b93-9156-9902bd7491cb",
   "metadata": {},
   "outputs": [],
   "source": [
    "model_for = 'install'"
   ]
  },
  {
   "cell_type": "code",
   "execution_count": 93,
   "id": "7f1780f0-2e9b-46a3-ae82-474d16bb42ba",
   "metadata": {},
   "outputs": [],
   "source": [
    "def objective(trail):\n",
    "    params = {\n",
    "        'max_depth':trail.suggest_int('max_depth',3,8),\n",
    "        'learning_rate':trail.suggest_float('learning_rate',0.05,0.3),\n",
    "        'n_estimators':trail.suggest_int('n_estimators',100,650),\n",
    "        # 'gamma':trail.suggest_loguniform('gamma',0.01,1),\n",
    "        # 'colsample_bytree':trail.suggest_loguniform('colsample_bytree',0.7,1),\n",
    "        'tree_method':'gpu_hist',\n",
    "        'objective':'binary:logistic'\n",
    "    }\n",
    "    target = Train_Split.IS_CLICKED[0]\n",
    "    if model_for == 'install':\n",
    "        target = Train_Split.IS_INSTALLED[0]\n",
    "    print(target)\n",
    "    model = XGBClassifier(**params)\n",
    "    # print(\"Training the model\")\n",
    "    model.fit(X_1[use_features],y_1[target])\n",
    "    # print(\"Training Done\")\n",
    "    # print(model.feature_names_in_)\n",
    "    # print(model.feature_importances_)\n",
    "    y_pred = model.predict(X_test[use_features])\n",
    "    score = log_loss(y_test[target],y_pred)\n",
    "    # print(f\"F1 Score: {f1}\")\n",
    "    # print(gc.collect())\n",
    "    return score"
   ]
  },
  {
   "cell_type": "code",
   "execution_count": 94,
   "id": "fdd8b261-81e6-40ba-920c-bc5b801e64a3",
   "metadata": {
    "tags": []
   },
   "outputs": [
    {
     "name": "stderr",
     "output_type": "stream",
     "text": [
      "\u001b[32m[I 2023-05-21 02:04:13,033]\u001b[0m A new study created in memory with name: install_log_loss\u001b[0m\n"
     ]
    },
    {
     "name": "stdout",
     "output_type": "stream",
     "text": [
      "The MODEL is For :install\n",
      "is_installed\n"
     ]
    },
    {
     "name": "stderr",
     "output_type": "stream",
     "text": [
      "\u001b[32m[I 2023-05-21 02:04:23,286]\u001b[0m Trial 0 finished with value: 6.26214017922681 and parameters: {'max_depth': 5, 'learning_rate': 0.12604060245644888, 'n_estimators': 486}. Best is trial 0 with value: 6.26214017922681.\u001b[0m\n"
     ]
    },
    {
     "name": "stdout",
     "output_type": "stream",
     "text": [
      "is_installed\n"
     ]
    },
    {
     "name": "stderr",
     "output_type": "stream",
     "text": [
      "\u001b[32m[I 2023-05-21 02:04:32,066]\u001b[0m Trial 1 finished with value: 6.221954070301745 and parameters: {'max_depth': 6, 'learning_rate': 0.10355639080242214, 'n_estimators': 342}. Best is trial 1 with value: 6.221954070301745.\u001b[0m\n"
     ]
    },
    {
     "name": "stdout",
     "output_type": "stream",
     "text": [
      "is_installed\n"
     ]
    },
    {
     "name": "stderr",
     "output_type": "stream",
     "text": [
      "\u001b[32m[I 2023-05-21 02:04:38,701]\u001b[0m Trial 2 finished with value: 6.142641912554637 and parameters: {'max_depth': 7, 'learning_rate': 0.2555500890986713, 'n_estimators': 186}. Best is trial 2 with value: 6.142641912554637.\u001b[0m\n"
     ]
    },
    {
     "name": "stdout",
     "output_type": "stream",
     "text": [
      "is_installed\n"
     ]
    },
    {
     "name": "stderr",
     "output_type": "stream",
     "text": [
      "\u001b[32m[I 2023-05-21 02:04:48,248]\u001b[0m Trial 3 finished with value: 6.269903612708728 and parameters: {'max_depth': 5, 'learning_rate': 0.1232437898443851, 'n_estimators': 457}. Best is trial 2 with value: 6.142641912554637.\u001b[0m\n"
     ]
    },
    {
     "name": "stdout",
     "output_type": "stream",
     "text": [
      "is_installed\n"
     ]
    },
    {
     "name": "stderr",
     "output_type": "stream",
     "text": [
      "\u001b[32m[I 2023-05-21 02:04:56,267]\u001b[0m Trial 4 finished with value: 6.2579002163053365 and parameters: {'max_depth': 3, 'learning_rate': 0.08409050917510306, 'n_estimators': 474}. Best is trial 2 with value: 6.142641912554637.\u001b[0m\n"
     ]
    },
    {
     "name": "stdout",
     "output_type": "stream",
     "text": [
      "is_installed\n"
     ]
    },
    {
     "name": "stderr",
     "output_type": "stream",
     "text": [
      "\u001b[32m[I 2023-05-21 02:05:08,657]\u001b[0m Trial 5 finished with value: 6.078826563006255 and parameters: {'max_depth': 8, 'learning_rate': 0.14327126075451213, 'n_estimators': 424}. Best is trial 5 with value: 6.078826563006255.\u001b[0m\n"
     ]
    },
    {
     "name": "stdout",
     "output_type": "stream",
     "text": [
      "is_installed\n"
     ]
    },
    {
     "name": "stderr",
     "output_type": "stream",
     "text": [
      "\u001b[32m[I 2023-05-21 02:05:14,489]\u001b[0m Trial 6 finished with value: 6.411273363450029 and parameters: {'max_depth': 4, 'learning_rate': 0.2704164591559542, 'n_estimators': 225}. Best is trial 5 with value: 6.078826563006255.\u001b[0m\n"
     ]
    },
    {
     "name": "stdout",
     "output_type": "stream",
     "text": [
      "is_installed\n"
     ]
    },
    {
     "name": "stderr",
     "output_type": "stream",
     "text": [
      "\u001b[32m[I 2023-05-21 02:05:22,835]\u001b[0m Trial 7 finished with value: 6.375674278305857 and parameters: {'max_depth': 7, 'learning_rate': 0.29711042307953883, 'n_estimators': 261}. Best is trial 5 with value: 6.078826563006255.\u001b[0m\n"
     ]
    },
    {
     "name": "stdout",
     "output_type": "stream",
     "text": [
      "is_installed\n"
     ]
    },
    {
     "name": "stderr",
     "output_type": "stream",
     "text": [
      "\u001b[32m[I 2023-05-21 02:05:37,896]\u001b[0m Trial 8 finished with value: 6.385901946555611 and parameters: {'max_depth': 7, 'learning_rate': 0.11218627503188201, 'n_estimators': 627}. Best is trial 5 with value: 6.078826563006255.\u001b[0m\n"
     ]
    },
    {
     "name": "stdout",
     "output_type": "stream",
     "text": [
      "is_installed\n"
     ]
    },
    {
     "name": "stderr",
     "output_type": "stream",
     "text": [
      "\u001b[32m[I 2023-05-21 02:05:47,628]\u001b[0m Trial 9 finished with value: 6.469092021870403 and parameters: {'max_depth': 5, 'learning_rate': 0.24803818004209283, 'n_estimators': 459}. Best is trial 5 with value: 6.078826563006255.\u001b[0m\n"
     ]
    },
    {
     "name": "stdout",
     "output_type": "stream",
     "text": [
      "is_installed\n"
     ]
    },
    {
     "name": "stderr",
     "output_type": "stream",
     "text": [
      "\u001b[32m[I 2023-05-21 02:06:05,371]\u001b[0m Trial 10 finished with value: 6.122182405534095 and parameters: {'max_depth': 8, 'learning_rate': 0.05022219319434426, 'n_estimators': 612}. Best is trial 5 with value: 6.078826563006255.\u001b[0m\n"
     ]
    },
    {
     "name": "stdout",
     "output_type": "stream",
     "text": [
      "is_installed\n"
     ]
    },
    {
     "name": "stderr",
     "output_type": "stream",
     "text": [
      "\u001b[32m[I 2023-05-21 02:06:23,665]\u001b[0m Trial 11 finished with value: 6.077063460676576 and parameters: {'max_depth': 8, 'learning_rate': 0.055201173980057465, 'n_estimators': 650}. Best is trial 11 with value: 6.077063460676576.\u001b[0m\n"
     ]
    },
    {
     "name": "stdout",
     "output_type": "stream",
     "text": [
      "is_installed\n"
     ]
    },
    {
     "name": "stderr",
     "output_type": "stream",
     "text": [
      "\u001b[32m[I 2023-05-21 02:06:29,269]\u001b[0m Trial 12 finished with value: 6.206447256117131 and parameters: {'max_depth': 8, 'learning_rate': 0.16831146752298073, 'n_estimators': 105}. Best is trial 11 with value: 6.077063460676576.\u001b[0m\n"
     ]
    },
    {
     "name": "stdout",
     "output_type": "stream",
     "text": [
      "is_installed\n"
     ]
    },
    {
     "name": "stderr",
     "output_type": "stream",
     "text": [
      "\u001b[32m[I 2023-05-21 02:06:45,856]\u001b[0m Trial 13 finished with value: 6.171898616841584 and parameters: {'max_depth': 8, 'learning_rate': 0.05495977979478239, 'n_estimators': 565}. Best is trial 11 with value: 6.077063460676576.\u001b[0m\n"
     ]
    },
    {
     "name": "stdout",
     "output_type": "stream",
     "text": [
      "is_installed\n"
     ]
    },
    {
     "name": "stderr",
     "output_type": "stream",
     "text": [
      "\u001b[32m[I 2023-05-21 02:06:54,859]\u001b[0m Trial 14 finished with value: 6.436303440689028 and parameters: {'max_depth': 6, 'learning_rate': 0.16942626024325477, 'n_estimators': 350}. Best is trial 11 with value: 6.077063460676576.\u001b[0m\n"
     ]
    },
    {
     "name": "stdout",
     "output_type": "stream",
     "text": [
      "is_installed\n"
     ]
    },
    {
     "name": "stderr",
     "output_type": "stream",
     "text": [
      "\u001b[32m[I 2023-05-21 02:07:10,006]\u001b[0m Trial 15 finished with value: 6.288954170593218 and parameters: {'max_depth': 8, 'learning_rate': 0.20901824478961625, 'n_estimators': 552}. Best is trial 11 with value: 6.077063460676576.\u001b[0m\n"
     ]
    },
    {
     "name": "stdout",
     "output_type": "stream",
     "text": [
      "is_installed\n"
     ]
    },
    {
     "name": "stderr",
     "output_type": "stream",
     "text": [
      "\u001b[32m[I 2023-05-21 02:07:18,889]\u001b[0m Trial 16 finished with value: 6.380607971194686 and parameters: {'max_depth': 7, 'learning_rate': 0.1478692903752141, 'n_estimators': 300}. Best is trial 11 with value: 6.077063460676576.\u001b[0m\n"
     ]
    },
    {
     "name": "stdout",
     "output_type": "stream",
     "text": [
      "is_installed\n"
     ]
    },
    {
     "name": "stderr",
     "output_type": "stream",
     "text": [
      "\u001b[32m[I 2023-05-21 02:07:28,904]\u001b[0m Trial 17 finished with value: 6.211376786646413 and parameters: {'max_depth': 6, 'learning_rate': 0.07590659420875265, 'n_estimators': 394}. Best is trial 11 with value: 6.077063460676576.\u001b[0m\n"
     ]
    },
    {
     "name": "stdout",
     "output_type": "stream",
     "text": [
      "is_installed\n"
     ]
    },
    {
     "name": "stderr",
     "output_type": "stream",
     "text": [
      "\u001b[32m[I 2023-05-21 02:07:44,578]\u001b[0m Trial 18 finished with value: 6.3005881191720245 and parameters: {'max_depth': 8, 'learning_rate': 0.20221743059899544, 'n_estimators': 544}. Best is trial 11 with value: 6.077063460676576.\u001b[0m\n"
     ]
    },
    {
     "name": "stdout",
     "output_type": "stream",
     "text": [
      "is_installed\n"
     ]
    },
    {
     "name": "stderr",
     "output_type": "stream",
     "text": [
      "\u001b[32m[I 2023-05-21 02:07:59,804]\u001b[0m Trial 19 finished with value: 6.348881204836538 and parameters: {'max_depth': 7, 'learning_rate': 0.1434058889154375, 'n_estimators': 648}. Best is trial 11 with value: 6.077063460676576.\u001b[0m\n"
     ]
    },
    {
     "name": "stdout",
     "output_type": "stream",
     "text": [
      "is_installed\n"
     ]
    },
    {
     "name": "stderr",
     "output_type": "stream",
     "text": [
      "\u001b[32m[I 2023-05-21 02:08:07,300]\u001b[0m Trial 20 finished with value: 6.228283915111396 and parameters: {'max_depth': 3, 'learning_rate': 0.09401422928278289, 'n_estimators': 405}. Best is trial 11 with value: 6.077063460676576.\u001b[0m\n"
     ]
    },
    {
     "name": "stdout",
     "output_type": "stream",
     "text": [
      "is_installed\n"
     ]
    },
    {
     "name": "stderr",
     "output_type": "stream",
     "text": [
      "\u001b[32m[I 2023-05-21 02:08:24,782]\u001b[0m Trial 21 finished with value: 6.135583896292761 and parameters: {'max_depth': 8, 'learning_rate': 0.0548825499812397, 'n_estimators': 602}. Best is trial 11 with value: 6.077063460676576.\u001b[0m\n"
     ]
    },
    {
     "name": "stdout",
     "output_type": "stream",
     "text": [
      "is_installed\n"
     ]
    },
    {
     "name": "stderr",
     "output_type": "stream",
     "text": [
      "\u001b[32m[I 2023-05-21 02:08:41,516]\u001b[0m Trial 22 finished with value: 6.074946841749433 and parameters: {'max_depth': 8, 'learning_rate': 0.07168758532319397, 'n_estimators': 592}. Best is trial 22 with value: 6.074946841749433.\u001b[0m\n"
     ]
    },
    {
     "name": "stdout",
     "output_type": "stream",
     "text": [
      "is_installed\n"
     ]
    },
    {
     "name": "stderr",
     "output_type": "stream",
     "text": [
      "\u001b[32m[I 2023-05-21 02:08:54,997]\u001b[0m Trial 23 finished with value: 6.2709613467873035 and parameters: {'max_depth': 7, 'learning_rate': 0.07444907345783042, 'n_estimators': 520}. Best is trial 22 with value: 6.074946841749433.\u001b[0m\n"
     ]
    },
    {
     "name": "stdout",
     "output_type": "stream",
     "text": [
      "is_installed\n"
     ]
    },
    {
     "name": "stderr",
     "output_type": "stream",
     "text": [
      "\u001b[32m[I 2023-05-21 02:09:11,248]\u001b[0m Trial 24 finished with value: 6.213147577099021 and parameters: {'max_depth': 8, 'learning_rate': 0.09738295517139547, 'n_estimators': 588}. Best is trial 22 with value: 6.074946841749433.\u001b[0m\n"
     ]
    },
    {
     "name": "stdout",
     "output_type": "stream",
     "text": [
      "is_installed\n"
     ]
    },
    {
     "name": "stderr",
     "output_type": "stream",
     "text": [
      "\u001b[32m[I 2023-05-21 02:09:24,561]\u001b[0m Trial 25 finished with value: 6.273428854312351 and parameters: {'max_depth': 7, 'learning_rate': 0.07120921070118662, 'n_estimators': 509}. Best is trial 22 with value: 6.074946841749433.\u001b[0m\n"
     ]
    },
    {
     "name": "stdout",
     "output_type": "stream",
     "text": [
      "is_installed\n"
     ]
    },
    {
     "name": "stderr",
     "output_type": "stream",
     "text": [
      "\u001b[32m[I 2023-05-21 02:09:42,201]\u001b[0m Trial 26 finished with value: 6.102448156314094 and parameters: {'max_depth': 8, 'learning_rate': 0.08954295479639861, 'n_estimators': 643}. Best is trial 22 with value: 6.074946841749433.\u001b[0m\n"
     ]
    },
    {
     "name": "stdout",
     "output_type": "stream",
     "text": [
      "is_installed\n"
     ]
    },
    {
     "name": "stderr",
     "output_type": "stream",
     "text": [
      "\u001b[32m[I 2023-05-21 02:09:52,689]\u001b[0m Trial 27 finished with value: 6.305506476622447 and parameters: {'max_depth': 6, 'learning_rate': 0.11555941619302589, 'n_estimators': 434}. Best is trial 22 with value: 6.074946841749433.\u001b[0m\n"
     ]
    },
    {
     "name": "stdout",
     "output_type": "stream",
     "text": [
      "is_installed\n"
     ]
    },
    {
     "name": "stderr",
     "output_type": "stream",
     "text": [
      "\u001b[32m[I 2023-05-21 02:10:03,238]\u001b[0m Trial 28 finished with value: 6.206080664813805 and parameters: {'max_depth': 4, 'learning_rate': 0.07468875745736338, 'n_estimators': 577}. Best is trial 22 with value: 6.074946841749433.\u001b[0m\n"
     ]
    },
    {
     "name": "stdout",
     "output_type": "stream",
     "text": [
      "is_installed\n"
     ]
    },
    {
     "name": "stderr",
     "output_type": "stream",
     "text": [
      "\u001b[32m[I 2023-05-21 02:10:18,188]\u001b[0m Trial 29 finished with value: 6.230775654098192 and parameters: {'max_depth': 8, 'learning_rate': 0.13380145247881564, 'n_estimators': 531}. Best is trial 22 with value: 6.074946841749433.\u001b[0m\n"
     ]
    },
    {
     "name": "stdout",
     "output_type": "stream",
     "text": [
      "is_installed\n"
     ]
    },
    {
     "name": "stderr",
     "output_type": "stream",
     "text": [
      "\u001b[32m[I 2023-05-21 02:10:31,092]\u001b[0m Trial 30 finished with value: 6.2099776068130605 and parameters: {'max_depth': 7, 'learning_rate': 0.11118990524610242, 'n_estimators': 507}. Best is trial 22 with value: 6.074946841749433.\u001b[0m\n"
     ]
    },
    {
     "name": "stdout",
     "output_type": "stream",
     "text": [
      "is_installed\n"
     ]
    },
    {
     "name": "stderr",
     "output_type": "stream",
     "text": [
      "\u001b[32m[I 2023-05-21 02:10:48,762]\u001b[0m Trial 31 finished with value: 6.165910903351814 and parameters: {'max_depth': 8, 'learning_rate': 0.08796769475518135, 'n_estimators': 645}. Best is trial 22 with value: 6.074946841749433.\u001b[0m\n"
     ]
    },
    {
     "name": "stdout",
     "output_type": "stream",
     "text": [
      "is_installed\n"
     ]
    },
    {
     "name": "stderr",
     "output_type": "stream",
     "text": [
      "\u001b[32m[I 2023-05-21 02:11:05,431]\u001b[0m Trial 32 finished with value: 6.150750807244073 and parameters: {'max_depth': 8, 'learning_rate': 0.09750888729232449, 'n_estimators': 599}. Best is trial 22 with value: 6.074946841749433.\u001b[0m\n"
     ]
    },
    {
     "name": "stdout",
     "output_type": "stream",
     "text": [
      "is_installed\n"
     ]
    },
    {
     "name": "stderr",
     "output_type": "stream",
     "text": [
      "\u001b[32m[I 2023-05-21 02:11:23,519]\u001b[0m Trial 33 finished with value: 6.134884845034379 and parameters: {'max_depth': 8, 'learning_rate': 0.0648972157707115, 'n_estimators': 644}. Best is trial 22 with value: 6.074946841749433.\u001b[0m\n"
     ]
    },
    {
     "name": "stdout",
     "output_type": "stream",
     "text": [
      "is_installed\n"
     ]
    },
    {
     "name": "stderr",
     "output_type": "stream",
     "text": [
      "\u001b[32m[I 2023-05-21 02:11:37,886]\u001b[0m Trial 34 finished with value: 6.286131008160509 and parameters: {'max_depth': 7, 'learning_rate': 0.10529475248363981, 'n_estimators': 578}. Best is trial 22 with value: 6.074946841749433.\u001b[0m\n"
     ]
    },
    {
     "name": "stdout",
     "output_type": "stream",
     "text": [
      "is_installed\n"
     ]
    },
    {
     "name": "stderr",
     "output_type": "stream",
     "text": [
      "\u001b[32m[I 2023-05-21 02:11:55,138]\u001b[0m Trial 35 finished with value: 6.081650337550663 and parameters: {'max_depth': 8, 'learning_rate': 0.08339819711481322, 'n_estimators': 622}. Best is trial 22 with value: 6.074946841749433.\u001b[0m\n"
     ]
    },
    {
     "name": "stdout",
     "output_type": "stream",
     "text": [
      "is_installed\n"
     ]
    },
    {
     "name": "stderr",
     "output_type": "stream",
     "text": [
      "\u001b[32m[I 2023-05-21 02:12:05,223]\u001b[0m Trial 36 finished with value: 6.204680856545772 and parameters: {'max_depth': 7, 'learning_rate': 0.059921580692561496, 'n_estimators': 331}. Best is trial 22 with value: 6.074946841749433.\u001b[0m\n"
     ]
    },
    {
     "name": "stdout",
     "output_type": "stream",
     "text": [
      "is_installed\n"
     ]
    },
    {
     "name": "stderr",
     "output_type": "stream",
     "text": [
      "\u001b[32m[I 2023-05-21 02:12:14,653]\u001b[0m Trial 37 finished with value: 6.208209207676821 and parameters: {'max_depth': 4, 'learning_rate': 0.12584843703854695, 'n_estimators': 489}. Best is trial 22 with value: 6.074946841749433.\u001b[0m\n"
     ]
    },
    {
     "name": "stdout",
     "output_type": "stream",
     "text": [
      "is_installed\n"
     ]
    },
    {
     "name": "stderr",
     "output_type": "stream",
     "text": [
      "\u001b[32m[I 2023-05-21 02:12:21,071]\u001b[0m Trial 38 finished with value: 6.343575460608036 and parameters: {'max_depth': 6, 'learning_rate': 0.08112557026326543, 'n_estimators': 181}. Best is trial 22 with value: 6.074946841749433.\u001b[0m\n"
     ]
    },
    {
     "name": "stdout",
     "output_type": "stream",
     "text": [
      "is_installed\n"
     ]
    },
    {
     "name": "stderr",
     "output_type": "stream",
     "text": [
      "\u001b[32m[I 2023-05-21 02:12:36,318]\u001b[0m Trial 39 finished with value: 6.231829136040838 and parameters: {'max_depth': 7, 'learning_rate': 0.06550221034908366, 'n_estimators': 611}. Best is trial 22 with value: 6.074946841749433.\u001b[0m\n"
     ]
    },
    {
     "name": "stdout",
     "output_type": "stream",
     "text": [
      "is_installed\n"
     ]
    },
    {
     "name": "stderr",
     "output_type": "stream",
     "text": [
      "\u001b[32m[I 2023-05-21 02:12:46,634]\u001b[0m Trial 40 finished with value: 6.257203376810556 and parameters: {'max_depth': 5, 'learning_rate': 0.10399017830520296, 'n_estimators': 479}. Best is trial 22 with value: 6.074946841749433.\u001b[0m\n"
     ]
    },
    {
     "name": "stdout",
     "output_type": "stream",
     "text": [
      "is_installed\n"
     ]
    },
    {
     "name": "stderr",
     "output_type": "stream",
     "text": [
      "\u001b[32m[I 2023-05-21 02:13:03,735]\u001b[0m Trial 41 finished with value: 6.144758049953912 and parameters: {'max_depth': 8, 'learning_rate': 0.08975945890214311, 'n_estimators': 620}. Best is trial 22 with value: 6.074946841749433.\u001b[0m\n"
     ]
    },
    {
     "name": "stdout",
     "output_type": "stream",
     "text": [
      "is_installed\n"
     ]
    },
    {
     "name": "stderr",
     "output_type": "stream",
     "text": [
      "\u001b[32m[I 2023-05-21 02:13:21,229]\u001b[0m Trial 42 finished with value: 6.065784603862669 and parameters: {'max_depth': 8, 'learning_rate': 0.0855917644049105, 'n_estimators': 629}. Best is trial 42 with value: 6.065784603862669.\u001b[0m\n"
     ]
    },
    {
     "name": "stdout",
     "output_type": "stream",
     "text": [
      "is_installed\n"
     ]
    },
    {
     "name": "stderr",
     "output_type": "stream",
     "text": [
      "\u001b[32m[I 2023-05-21 02:13:38,022]\u001b[0m Trial 43 finished with value: 6.033698844547735 and parameters: {'max_depth': 8, 'learning_rate': 0.05129104038630489, 'n_estimators': 558}. Best is trial 43 with value: 6.033698844547735.\u001b[0m\n"
     ]
    },
    {
     "name": "stdout",
     "output_type": "stream",
     "text": [
      "is_installed\n"
     ]
    },
    {
     "name": "stderr",
     "output_type": "stream",
     "text": [
      "\u001b[32m[I 2023-05-21 02:13:54,352]\u001b[0m Trial 44 finished with value: 6.037928997359063 and parameters: {'max_depth': 8, 'learning_rate': 0.06276070047783043, 'n_estimators': 555}. Best is trial 43 with value: 6.033698844547735.\u001b[0m\n"
     ]
    },
    {
     "name": "stdout",
     "output_type": "stream",
     "text": [
      "is_installed\n"
     ]
    },
    {
     "name": "stderr",
     "output_type": "stream",
     "text": [
      "\u001b[32m[I 2023-05-21 02:14:11,271]\u001b[0m Trial 45 finished with value: 6.04603798182488 and parameters: {'max_depth': 8, 'learning_rate': 0.05326058267617299, 'n_estimators': 563}. Best is trial 43 with value: 6.033698844547735.\u001b[0m\n"
     ]
    },
    {
     "name": "stdout",
     "output_type": "stream",
     "text": [
      "is_installed\n"
     ]
    },
    {
     "name": "stderr",
     "output_type": "stream",
     "text": [
      "\u001b[32m[I 2023-05-21 02:14:25,999]\u001b[0m Trial 46 finished with value: 6.237116565887342 and parameters: {'max_depth': 7, 'learning_rate': 0.05170757587779564, 'n_estimators': 555}. Best is trial 43 with value: 6.033698844547735.\u001b[0m\n"
     ]
    },
    {
     "name": "stdout",
     "output_type": "stream",
     "text": [
      "is_installed\n"
     ]
    },
    {
     "name": "stderr",
     "output_type": "stream",
     "text": [
      "\u001b[32m[I 2023-05-21 02:14:41,949]\u001b[0m Trial 47 finished with value: 6.116545270505635 and parameters: {'max_depth': 8, 'learning_rate': 0.0630518214418549, 'n_estimators': 541}. Best is trial 43 with value: 6.033698844547735.\u001b[0m\n"
     ]
    },
    {
     "name": "stdout",
     "output_type": "stream",
     "text": [
      "is_installed\n"
     ]
    },
    {
     "name": "stderr",
     "output_type": "stream",
     "text": [
      "\u001b[32m[I 2023-05-21 02:14:56,486]\u001b[0m Trial 48 finished with value: 6.009722330866276 and parameters: {'max_depth': 8, 'learning_rate': 0.050657372906177604, 'n_estimators': 452}. Best is trial 48 with value: 6.009722330866276.\u001b[0m\n"
     ]
    },
    {
     "name": "stdout",
     "output_type": "stream",
     "text": [
      "is_installed\n"
     ]
    },
    {
     "name": "stderr",
     "output_type": "stream",
     "text": [
      "\u001b[32m[I 2023-05-21 02:15:10,597]\u001b[0m Trial 49 finished with value: 6.010431543178843 and parameters: {'max_depth': 8, 'learning_rate': 0.06333207093595607, 'n_estimators': 450}. Best is trial 48 with value: 6.009722330866276.\u001b[0m\n"
     ]
    }
   ],
   "source": [
    "model_for = 'install'\n",
    "print(f\"The MODEL is For :{model_for}\")\n",
    "study_install = optuna.create_study(direction='minimize',study_name='install_log_loss')\n",
    "study_install.optimize(objective, n_trials=50)"
   ]
  },
  {
   "cell_type": "code",
   "execution_count": 91,
   "id": "feacd540-7cb8-4f62-b358-49c9349c1b83",
   "metadata": {},
   "outputs": [
    {
     "data": {
      "text/plain": [
       "{'max_depth': 8, 'learning_rate': 0.07243965921786173, 'n_estimators': 396}"
      ]
     },
     "execution_count": 91,
     "metadata": {},
     "output_type": "execute_result"
    }
   ],
   "source": [
    "study_install.best_params"
   ]
  },
  {
   "cell_type": "code",
   "execution_count": 30,
   "id": "6c90acdd-61af-4b49-ab8d-e9bc306e6f35",
   "metadata": {},
   "outputs": [],
   "source": [
    "imp = \"0.17838217 0.00943216 0.01728662 0.00554243 0.01393594 0. 0.00235423 0.0077137  0.00542087 0.00716849 0.00452244 0.00160236 0.00750723 0.00121989 0.00470682 0.00147401 0.0022138  0.0241547 0.01138127 0.00751544 0.01613538 0.00981167 0.2898561  0. 0. 0. 0. 0. 0.00346196 0.00097365 0.0010202 0.00064199 0.00651024 0.00695342 0.00122922 0.01494968 0.00134197 0.00089351 0.02034765 0.00220879 0.0081035  0.00887755 0.00097518 0.00109279 0.00096075 0.00162583 0.00512414 0.00503206 0.01502846 0.01483065 0.00102621 0.00079396 0.00116319 0.00185047 0.00402559 0.0090543  0.00873815 0.06055596 0.00610948 0.00142578 0.00089418 0.00159682 0.00822201 0.00551445 0.01136009 0.0050891 0.06939875 0.01096893 0.01427525 0.00089395 0.00434032 0.00372613 0.00209797 0.00791273 0.00101883 0.00032105 0.00482761 0.00127782\"\n",
    "out = re.sub('\\s+',' ',imp)"
   ]
  },
  {
   "cell_type": "code",
   "execution_count": 32,
   "id": "3fffee53-fc17-420a-85f7-d0e268b409f3",
   "metadata": {},
   "outputs": [],
   "source": [
    "imp = np.array([float(x) for x in out.split()])"
   ]
  },
  {
   "cell_type": "code",
   "execution_count": 33,
   "id": "93c523a7-37fe-4d96-9532-346d02dec0bb",
   "metadata": {},
   "outputs": [
    {
     "data": {
      "text/plain": [
       "array([0.17838217, 0.00943216, 0.01728662, 0.00554243, 0.01393594,\n",
       "       0.        , 0.00235423, 0.0077137 , 0.00542087, 0.00716849,\n",
       "       0.00452244, 0.00160236, 0.00750723, 0.00121989, 0.00470682,\n",
       "       0.00147401, 0.0022138 , 0.0241547 , 0.01138127, 0.00751544,\n",
       "       0.01613538, 0.00981167, 0.2898561 , 0.        , 0.        ,\n",
       "       0.        , 0.        , 0.        , 0.00346196, 0.00097365,\n",
       "       0.0010202 , 0.00064199, 0.00651024, 0.00695342, 0.00122922,\n",
       "       0.01494968, 0.00134197, 0.00089351, 0.02034765, 0.00220879,\n",
       "       0.0081035 , 0.00887755, 0.00097518, 0.00109279, 0.00096075,\n",
       "       0.00162583, 0.00512414, 0.00503206, 0.01502846, 0.01483065,\n",
       "       0.00102621, 0.00079396, 0.00116319, 0.00185047, 0.00402559,\n",
       "       0.0090543 , 0.00873815, 0.06055596, 0.00610948, 0.00142578,\n",
       "       0.00089418, 0.00159682, 0.00822201, 0.00551445, 0.01136009,\n",
       "       0.0050891 , 0.06939875, 0.01096893, 0.01427525, 0.00089395,\n",
       "       0.00434032, 0.00372613, 0.00209797, 0.00791273, 0.00101883,\n",
       "       0.00032105, 0.00482761, 0.00127782])"
      ]
     },
     "execution_count": 33,
     "metadata": {},
     "output_type": "execute_result"
    }
   ],
   "source": [
    "imp"
   ]
  },
  {
   "cell_type": "code",
   "execution_count": 34,
   "id": "cecb2b34-e073-4065-a4a0-a2932be8065f",
   "metadata": {},
   "outputs": [],
   "source": [
    "feat = [f'f_{i}' for i in range(2,80)]"
   ]
  },
  {
   "cell_type": "code",
   "execution_count": 36,
   "id": "f316142e-547a-4ee0-adc5-5efe4767eafd",
   "metadata": {},
   "outputs": [],
   "source": [
    "feat_imp = []\n",
    "for x,y in zip(feat,imp):\n",
    "    feat_imp.append([x,y])"
   ]
  },
  {
   "cell_type": "code",
   "execution_count": 37,
   "id": "4496b96b-b3a3-4068-a1f0-12f9db9f25c8",
   "metadata": {},
   "outputs": [],
   "source": [
    "feat_imp.sort(key=lambda x:x[1],reverse=True)"
   ]
  },
  {
   "cell_type": "code",
   "execution_count": 42,
   "id": "e36d6e33-20db-46ff-8f33-0b987e8bf553",
   "metadata": {
    "collapsed": true,
    "jupyter": {
     "outputs_hidden": true
    },
    "tags": []
   },
   "outputs": [
    {
     "data": {
      "text/plain": [
       "[['f_24', 0.2898561],\n",
       " ['f_2', 0.17838217],\n",
       " ['f_68', 0.06939875],\n",
       " ['f_59', 0.06055596],\n",
       " ['f_19', 0.0241547],\n",
       " ['f_40', 0.02034765],\n",
       " ['f_4', 0.01728662],\n",
       " ['f_22', 0.01613538],\n",
       " ['f_50', 0.01502846],\n",
       " ['f_37', 0.01494968],\n",
       " ['f_51', 0.01483065],\n",
       " ['f_70', 0.01427525],\n",
       " ['f_6', 0.01393594],\n",
       " ['f_20', 0.01138127],\n",
       " ['f_66', 0.01136009],\n",
       " ['f_69', 0.01096893],\n",
       " ['f_23', 0.00981167],\n",
       " ['f_3', 0.00943216],\n",
       " ['f_57', 0.0090543],\n",
       " ['f_43', 0.00887755],\n",
       " ['f_58', 0.00873815],\n",
       " ['f_64', 0.00822201],\n",
       " ['f_42', 0.0081035],\n",
       " ['f_75', 0.00791273],\n",
       " ['f_9', 0.0077137],\n",
       " ['f_21', 0.00751544],\n",
       " ['f_14', 0.00750723],\n",
       " ['f_11', 0.00716849],\n",
       " ['f_35', 0.00695342],\n",
       " ['f_34', 0.00651024],\n",
       " ['f_60', 0.00610948],\n",
       " ['f_5', 0.00554243],\n",
       " ['f_65', 0.00551445],\n",
       " ['f_10', 0.00542087],\n",
       " ['f_48', 0.00512414],\n",
       " ['f_67', 0.0050891],\n",
       " ['f_49', 0.00503206],\n",
       " ['f_78', 0.00482761],\n",
       " ['f_16', 0.00470682],\n",
       " ['f_12', 0.00452244],\n",
       " ['f_72', 0.00434032],\n",
       " ['f_56', 0.00402559],\n",
       " ['f_73', 0.00372613],\n",
       " ['f_30', 0.00346196],\n",
       " ['f_8', 0.00235423],\n",
       " ['f_18', 0.0022138],\n",
       " ['f_41', 0.00220879],\n",
       " ['f_74', 0.00209797],\n",
       " ['f_55', 0.00185047],\n",
       " ['f_47', 0.00162583],\n",
       " ['f_13', 0.00160236],\n",
       " ['f_63', 0.00159682],\n",
       " ['f_17', 0.00147401],\n",
       " ['f_61', 0.00142578],\n",
       " ['f_38', 0.00134197],\n",
       " ['f_79', 0.00127782],\n",
       " ['f_36', 0.00122922],\n",
       " ['f_15', 0.00121989],\n",
       " ['f_54', 0.00116319],\n",
       " ['f_45', 0.00109279],\n",
       " ['f_52', 0.00102621],\n",
       " ['f_32', 0.0010202],\n",
       " ['f_76', 0.00101883],\n",
       " ['f_44', 0.00097518],\n",
       " ['f_31', 0.00097365],\n",
       " ['f_46', 0.00096075],\n",
       " ['f_62', 0.00089418],\n",
       " ['f_71', 0.00089395],\n",
       " ['f_39', 0.00089351],\n",
       " ['f_53', 0.00079396],\n",
       " ['f_33', 0.00064199],\n",
       " ['f_77', 0.00032105],\n",
       " ['f_7', 0.0],\n",
       " ['f_25', 0.0],\n",
       " ['f_26', 0.0],\n",
       " ['f_27', 0.0],\n",
       " ['f_28', 0.0],\n",
       " ['f_29', 0.0]]"
      ]
     },
     "execution_count": 42,
     "metadata": {},
     "output_type": "execute_result"
    }
   ],
   "source": [
    "use_feat = []\n",
    "feat_imp"
   ]
  },
  {
   "cell_type": "code",
   "execution_count": 45,
   "id": "bc09e78d-031e-4fce-875a-1456e118036b",
   "metadata": {},
   "outputs": [],
   "source": [
    "sel_feat = [a[0] for a in feat_imp if a[1]>0.01]"
   ]
  },
  {
   "cell_type": "code",
   "execution_count": 46,
   "id": "8e0b8ac3-1416-4e80-a6a7-76bf9e26c17e",
   "metadata": {},
   "outputs": [
    {
     "data": {
      "text/plain": [
       "['f_24',\n",
       " 'f_2',\n",
       " 'f_68',\n",
       " 'f_59',\n",
       " 'f_19',\n",
       " 'f_40',\n",
       " 'f_4',\n",
       " 'f_22',\n",
       " 'f_50',\n",
       " 'f_37',\n",
       " 'f_51',\n",
       " 'f_70',\n",
       " 'f_6',\n",
       " 'f_20',\n",
       " 'f_66',\n",
       " 'f_69']"
      ]
     },
     "execution_count": 46,
     "metadata": {},
     "output_type": "execute_result"
    }
   ],
   "source": [
    "sel_feat"
   ]
  },
  {
   "cell_type": "code",
   "execution_count": 28,
   "id": "864cc244-603d-49ca-9824-f958866b36f4",
   "metadata": {
    "collapsed": true,
    "jupyter": {
     "outputs_hidden": true
    },
    "tags": []
   },
   "outputs": [
    {
     "data": {
      "text/plain": [
       "[\"'f_2'\",\n",
       " \"'f_3'\",\n",
       " \"'f_4'\",\n",
       " \"'f_5'\",\n",
       " \"'f_6'\",\n",
       " \"'f_7'\",\n",
       " \"'f_8'\",\n",
       " \"'f_9'\",\n",
       " \"'f_10'\",\n",
       " \"'f_11'\",\n",
       " \"'f_12'\",\n",
       " \"'f_13'\",\n",
       " \"'f_14'\",\n",
       " \"'f_15'\",\n",
       " \"'f_16'\",\n",
       " \"'f_17'\",\n",
       " \"'f_18'\",\n",
       " \"'f_19'\",\n",
       " \"'f_20'\",\n",
       " \"'f_21'\",\n",
       " \"'f_22'\",\n",
       " \"'f_23'\",\n",
       " \"'f_24'\",\n",
       " \"'f_25'\",\n",
       " \"'f_26'\",\n",
       " \"'f_27'\",\n",
       " \"'f_28'\",\n",
       " \"'f_29'\",\n",
       " \"'f_30'\",\n",
       " \"'f_31'\",\n",
       " \"'f_32'\",\n",
       " \"'f_33'\",\n",
       " \"'f_34'\",\n",
       " \"'f_35'\",\n",
       " \"'f_36'\",\n",
       " \"'f_37'\",\n",
       " \"'f_38'\",\n",
       " \"'f_39'\",\n",
       " \"'f_40'\",\n",
       " \"'f_41'\",\n",
       " \"'f_42'\",\n",
       " \"'f_43'\",\n",
       " \"'f_44'\",\n",
       " \"'f_45'\",\n",
       " \"'f_46'\",\n",
       " \"'f_47'\",\n",
       " \"'f_48'\",\n",
       " \"'f_49'\",\n",
       " \"'f_50'\",\n",
       " \"'f_51'\",\n",
       " \"'f_52'\",\n",
       " \"'f_53'\",\n",
       " \"'f_54'\",\n",
       " \"'f_55'\",\n",
       " \"'f_56'\",\n",
       " \"'f_57'\",\n",
       " \"'f_58'\",\n",
       " \"'f_59'\",\n",
       " \"'f_60'\",\n",
       " \"'f_61'\",\n",
       " \"'f_62'\",\n",
       " \"'f_63'\",\n",
       " \"'f_64'\",\n",
       " \"'f_65'\",\n",
       " \"'f_66'\",\n",
       " \"'f_67'\",\n",
       " \"'f_68'\",\n",
       " \"'f_69'\",\n",
       " \"'f_70'\",\n",
       " \"'f_71'\",\n",
       " \"'f_72'\",\n",
       " \"'f_73'\",\n",
       " \"'f_74'\",\n",
       " \"'f_75'\",\n",
       " \"'f_76'\",\n",
       " \"'f_77'\",\n",
       " \"'f_78'\",\n",
       " \"'f_79'\"]"
      ]
     },
     "execution_count": 28,
     "metadata": {},
     "output_type": "execute_result"
    }
   ],
   "source": [
    "out"
   ]
  },
  {
   "cell_type": "code",
   "execution_count": 29,
   "id": "3e782c0a-8426-47b1-9e03-21630572fd25",
   "metadata": {},
   "outputs": [
    {
     "name": "stdout",
     "output_type": "stream",
     "text": [
      "Help on function sub in module re:\n",
      "\n",
      "sub(pattern, repl, string, count=0, flags=0)\n",
      "    Return the string obtained by replacing the leftmost\n",
      "    non-overlapping occurrences of the pattern in string by the\n",
      "    replacement repl.  repl can be either a string or a callable;\n",
      "    if a string, backslash escapes in it are processed.  If it is\n",
      "    a callable, it's passed the Match object and must return\n",
      "    a replacement string to be used.\n",
      "\n"
     ]
    }
   ],
   "source": [
    "import re\n",
    "s = \"0.21497796 0.01153717 0.02135733 0.00629702 0.01811617 0. 0.00287854 0.00986653 0.00634902 0.00833008 0.00577091 0.00193968 0.00845783 0.00142394 0.00575012 0.00178409 0.00252029 0.03162423 0.01419182 0.0109225  0.01585338 0.01828695 0.14107488 0. 0. 0. 0. 0. 0.0042021 0.00139228 0.00099792 0.00072804 0.00859207 0.00801966 0.00114426 0.01613013 0.00143669 0.00126554 0.02456514 0.00217038 0.00993669 0.00967928 0.00120302 0.00108286 0.00124789 0.00214677 0.00535804 0.00665624 0.01935415 0.01779572 0.00145307 0.00087535 0.00132587 0.00218426 0.00468974 0.01121161 0.01066885 0.07310767 0.00645644 0.00164837 0.00104059 0.0018528  0.00998066 0.00652136 0.01387253 0.00636589 0.0793817  0.0146549  0.01643551 0.00099639 0.00538003 0.00438112 0.00196106 0.00995385 0.00109404 0. 0.00632514 0.00176593\"\n",
    "help(re.sub)"
   ]
  },
  {
   "cell_type": "code",
   "execution_count": 19,
   "id": "6d9d3db8-e8f4-4665-abad-07e825a9ac5f",
   "metadata": {
    "collapsed": true,
    "jupyter": {
     "outputs_hidden": true
    },
    "tags": []
   },
   "outputs": [
    {
     "data": {
      "text/plain": [
       "['1.9438429e-01',\n",
       " '1.6285684e-02',\n",
       " '2.5130723e-02',\n",
       " '6.5109739e-03',\n",
       " '2.3423744e-02',\n",
       " '0.0000000e+00',\n",
       " '2.3214186e-03',\n",
       " '1.1480905e-02',\n",
       " '5.3082770e-03',\n",
       " '1.1682530e-02',\n",
       " '6.9747460e-03',\n",
       " '1.9848947e-03',\n",
       " '1.3027168e-02',\n",
       " '1.4560192e-03',\n",
       " '4.5677680e-03',\n",
       " '2.2417831e-03',\n",
       " '4.3391953e-03',\n",
       " '2.0857105e-02',\n",
       " '1.3643338e-02',\n",
       " '1.4366889e-02',\n",
       " '2.3184188e-02',\n",
       " '3.0816399e-02',\n",
       " '9.7623985e-04',\n",
       " '0.0000000e+00',\n",
       " '0.0000000e+00',\n",
       " '0.0000000e+00',\n",
       " '0.0000000e+00',\n",
       " '0.0000000e+00',\n",
       " '2.8751746e-03',\n",
       " '0.0000000e+00',\n",
       " '1.6775664e-03',\n",
       " '1.1767709e-04',\n",
       " '1.0563515e-02',\n",
       " '1.1739828e-02',\n",
       " '4.0201025e-04',\n",
       " '1.8141903e-02',\n",
       " '5.7640596e-04',\n",
       " '1.0956990e-03',\n",
       " '2.5143741e-02',\n",
       " '1.9552805e-03',\n",
       " '1.4696764e-02',\n",
       " '1.4745467e-02',\n",
       " '1.1228217e-02',\n",
       " '5.7176698e-04',\n",
       " '3.0037931e-03',\n",
       " '4.1578928e-04',\n",
       " '3.9065001e-03',\n",
       " '6.0447785e-03',\n",
       " '8.6019915e-03',\n",
       " '2.0537341e-02',\n",
       " '3.4810763e-02',\n",
       " '1.6497660e-03',\n",
       " '3.2469802e-04',\n",
       " '1.3316880e-03',\n",
       " '3.9778287e-03',\n",
       " '8.4029110e-03',\n",
       " '1.7682472e-02',\n",
       " '1.2115383e-02',\n",
       " '9.6811369e-02',\n",
       " '8.7314239e-03',\n",
       " '2.1953036e-03',\n",
       " '6.0775306e-04',\n",
       " '2.7536657e-03',\n",
       " '1.1391196e-02',\n",
       " '6.8791173e-03',\n",
       " '1.0252835e-02',\n",
       " '1.0899898e-02',\n",
       " '8.9778274e-02',\n",
       " '3.5672713e-02',\n",
       " '1.3331831e-02',\n",
       " '3.5270790e-04',\n",
       " '6.6323131e-03',\n",
       " '5.3751892e-03',\n",
       " '1.8607634e-03',\n",
       " '1.1401923e-02',\n",
       " '1.6486987e-03',\n",
       " '0.0000000e+00',\n",
       " '9.9377790e-03',\n",
       " '1.8427550e-04']"
      ]
     },
     "execution_count": 19,
     "metadata": {},
     "output_type": "execute_result"
    }
   ],
   "source": [
    "out[0].split()"
   ]
  },
  {
   "cell_type": "code",
   "execution_count": 8,
   "id": "e39b2c0a-32e7-4bb5-b45b-49858d1f7d3c",
   "metadata": {
    "collapsed": true,
    "jupyter": {
     "outputs_hidden": true
    },
    "tags": []
   },
   "outputs": [
    {
     "data": {
      "text/plain": [
       "['f_2',\n",
       " 'f_3',\n",
       " 'f_4',\n",
       " 'f_5',\n",
       " 'f_6',\n",
       " 'f_7',\n",
       " 'f_8',\n",
       " 'f_9',\n",
       " 'f_10',\n",
       " 'f_11',\n",
       " 'f_12',\n",
       " 'f_13',\n",
       " 'f_14',\n",
       " 'f_15',\n",
       " 'f_16',\n",
       " 'f_17',\n",
       " 'f_18',\n",
       " 'f_19',\n",
       " 'f_20',\n",
       " 'f_21',\n",
       " 'f_22',\n",
       " 'f_23',\n",
       " 'f_24',\n",
       " 'f_25',\n",
       " 'f_26',\n",
       " 'f_27',\n",
       " 'f_28',\n",
       " 'f_29',\n",
       " 'f_30',\n",
       " 'f_31',\n",
       " 'f_32',\n",
       " 'f_33',\n",
       " 'f_34',\n",
       " 'f_35',\n",
       " 'f_36',\n",
       " 'f_37',\n",
       " 'f_38',\n",
       " 'f_39',\n",
       " 'f_40',\n",
       " 'f_41']"
      ]
     },
     "execution_count": 8,
     "metadata": {},
     "output_type": "execute_result"
    }
   ],
   "source": [
    "use_features"
   ]
  },
  {
   "cell_type": "code",
   "execution_count": 81,
   "id": "7db5331e-e511-4640-9cfe-a75656e02cb6",
   "metadata": {},
   "outputs": [],
   "source": [
    "def objective_click(trail):\n",
    "    params = {\n",
    "        'max_depth':trail.suggest_int('max_depth',3,8),\n",
    "        'learning_rate':trail.suggest_float('learning_rate',0.02,0.3),\n",
    "        'n_estimators':trail.suggest_int('n_estimators',100,1000),\n",
    "        # 'gamma':trail.suggest_loguniform('gamma',0.01,1),\n",
    "        # 'colsample_bytree':trail.suggest_loguniform('colsample_bytree',0.7,1),\n",
    "        'tree_method':'gpu_hist',\n",
    "        # 'alpha': trail.suggest_float('alpha',0.1,10),\n",
    "        'objective':'binary:logistic'\n",
    "    }\n",
    "    target = Train_Split.IS_CLICKED[0]\n",
    "    if model_for == 'install':\n",
    "        target = Train_Split.IS_INSTALLED[0]\n",
    "    print(target)\n",
    "    model = XGBClassifier(**params)\n",
    "    model.fit(X_train[use_features],y_train[target])\n",
    "    y_pred = model.predict(X_test[use_features])\n",
    "    score = log_loss(y_test[target],y_pred)\n",
    "    return score"
   ]
  },
  {
   "cell_type": "code",
   "execution_count": 21,
   "id": "e056fb1b-91b1-4b6c-a915-292fb73a99a3",
   "metadata": {},
   "outputs": [],
   "source": [
    "best_till_now = {'max_depth': 4, 'learning_rate': 0.08751617649545007, 'n_estimators': 549}"
   ]
  },
  {
   "cell_type": "code",
   "execution_count": 22,
   "id": "bf35783e-3029-45bc-b3df-1483d171e229",
   "metadata": {
    "collapsed": true,
    "jupyter": {
     "outputs_hidden": true
    },
    "tags": []
   },
   "outputs": [
    {
     "name": "stderr",
     "output_type": "stream",
     "text": [
      "\u001b[32m[I 2023-05-20 19:50:21,911]\u001b[0m A new study created in memory with name: click\u001b[0m\n"
     ]
    },
    {
     "name": "stdout",
     "output_type": "stream",
     "text": [
      "is_clicked\n"
     ]
    },
    {
     "name": "stderr",
     "output_type": "stream",
     "text": [
      "\u001b[32m[I 2023-05-20 19:50:36,009]\u001b[0m Trial 0 finished with value: 9.248499371972907 and parameters: {'max_depth': 7, 'learning_rate': 0.08927040039177586, 'n_estimators': 502, 'alpha': 6.267046892953481}. Best is trial 0 with value: 9.248499371972907.\u001b[0m\n"
     ]
    },
    {
     "name": "stdout",
     "output_type": "stream",
     "text": [
      "is_clicked\n"
     ]
    },
    {
     "name": "stderr",
     "output_type": "stream",
     "text": [
      "\u001b[32m[I 2023-05-20 19:50:41,002]\u001b[0m Trial 1 finished with value: 9.754369844503136 and parameters: {'max_depth': 3, 'learning_rate': 0.0893329752430829, 'n_estimators': 237, 'alpha': 4.738167132530829}. Best is trial 0 with value: 9.248499371972907.\u001b[0m\n"
     ]
    },
    {
     "name": "stdout",
     "output_type": "stream",
     "text": [
      "is_clicked\n"
     ]
    },
    {
     "name": "stderr",
     "output_type": "stream",
     "text": [
      "\u001b[32m[I 2023-05-20 19:50:54,940]\u001b[0m Trial 2 finished with value: 9.49351958649039 and parameters: {'max_depth': 3, 'learning_rate': 0.13873625099855783, 'n_estimators': 902, 'alpha': 2.7818675624926223}. Best is trial 0 with value: 9.248499371972907.\u001b[0m\n"
     ]
    },
    {
     "name": "stdout",
     "output_type": "stream",
     "text": [
      "is_clicked\n"
     ]
    },
    {
     "name": "stderr",
     "output_type": "stream",
     "text": [
      "\u001b[32m[I 2023-05-20 19:51:05,323]\u001b[0m Trial 3 finished with value: 9.320420922919254 and parameters: {'max_depth': 6, 'learning_rate': 0.13557493508044577, 'n_estimators': 407, 'alpha': 1.3946565150043084}. Best is trial 0 with value: 9.248499371972907.\u001b[0m\n"
     ]
    },
    {
     "name": "stdout",
     "output_type": "stream",
     "text": [
      "is_clicked\n"
     ]
    },
    {
     "name": "stderr",
     "output_type": "stream",
     "text": [
      "\u001b[32m[I 2023-05-20 19:51:14,860]\u001b[0m Trial 4 finished with value: 9.462828159084165 and parameters: {'max_depth': 3, 'learning_rate': 0.07281143990400513, 'n_estimators': 572, 'alpha': 5.807544394345558}. Best is trial 0 with value: 9.248499371972907.\u001b[0m\n"
     ]
    },
    {
     "name": "stdout",
     "output_type": "stream",
     "text": [
      "is_clicked\n"
     ]
    },
    {
     "name": "stderr",
     "output_type": "stream",
     "text": [
      "\u001b[32m[I 2023-05-20 19:51:24,220]\u001b[0m Trial 5 finished with value: 9.330288822870736 and parameters: {'max_depth': 6, 'learning_rate': 0.21027758767234792, 'n_estimators': 358, 'alpha': 3.357160160786229}. Best is trial 0 with value: 9.248499371972907.\u001b[0m\n"
     ]
    },
    {
     "name": "stdout",
     "output_type": "stream",
     "text": [
      "is_clicked\n"
     ]
    },
    {
     "name": "stderr",
     "output_type": "stream",
     "text": [
      "\u001b[32m[I 2023-05-20 19:51:49,817]\u001b[0m Trial 6 finished with value: 9.397282402132259 and parameters: {'max_depth': 8, 'learning_rate': 0.2131245780537924, 'n_estimators': 861, 'alpha': 5.8015764585297855}. Best is trial 0 with value: 9.248499371972907.\u001b[0m\n"
     ]
    },
    {
     "name": "stdout",
     "output_type": "stream",
     "text": [
      "is_clicked\n"
     ]
    },
    {
     "name": "stderr",
     "output_type": "stream",
     "text": [
      "\u001b[32m[I 2023-05-20 19:52:02,326]\u001b[0m Trial 7 finished with value: 9.230521091940933 and parameters: {'max_depth': 7, 'learning_rate': 0.17695514226413217, 'n_estimators': 435, 'alpha': 8.81591202288747}. Best is trial 7 with value: 9.230521091940933.\u001b[0m\n"
     ]
    },
    {
     "name": "stdout",
     "output_type": "stream",
     "text": [
      "is_clicked\n"
     ]
    },
    {
     "name": "stderr",
     "output_type": "stream",
     "text": [
      "\u001b[32m[I 2023-05-20 19:52:15,838]\u001b[0m Trial 8 finished with value: 9.278467598273895 and parameters: {'max_depth': 5, 'learning_rate': 0.26087941596360414, 'n_estimators': 663, 'alpha': 0.8189691066080612}. Best is trial 7 with value: 9.230521091940933.\u001b[0m\n"
     ]
    },
    {
     "name": "stdout",
     "output_type": "stream",
     "text": [
      "is_clicked\n"
     ]
    },
    {
     "name": "stderr",
     "output_type": "stream",
     "text": [
      "\u001b[32m[I 2023-05-20 19:52:31,525]\u001b[0m Trial 9 finished with value: 9.295037990163424 and parameters: {'max_depth': 6, 'learning_rate': 0.16243939548160383, 'n_estimators': 662, 'alpha': 5.584500757468629}. Best is trial 7 with value: 9.230521091940933.\u001b[0m\n"
     ]
    },
    {
     "name": "stdout",
     "output_type": "stream",
     "text": [
      "is_clicked\n"
     ]
    },
    {
     "name": "stderr",
     "output_type": "stream",
     "text": [
      "\u001b[32m[I 2023-05-20 19:52:38,189]\u001b[0m Trial 10 finished with value: 9.328178382190998 and parameters: {'max_depth': 8, 'learning_rate': 0.27208403001394743, 'n_estimators': 162, 'alpha': 9.473122511133917}. Best is trial 7 with value: 9.230521091940933.\u001b[0m\n"
     ]
    },
    {
     "name": "stdout",
     "output_type": "stream",
     "text": [
      "is_clicked\n"
     ]
    },
    {
     "name": "stderr",
     "output_type": "stream",
     "text": [
      "\u001b[32m[I 2023-05-20 19:52:51,656]\u001b[0m Trial 11 finished with value: 9.24425931927505 and parameters: {'max_depth': 7, 'learning_rate': 0.03144281820139695, 'n_estimators': 429, 'alpha': 8.375457313968043}. Best is trial 7 with value: 9.230521091940933.\u001b[0m\n"
     ]
    },
    {
     "name": "stdout",
     "output_type": "stream",
     "text": [
      "is_clicked\n"
     ]
    },
    {
     "name": "stderr",
     "output_type": "stream",
     "text": [
      "\u001b[32m[I 2023-05-20 19:53:02,487]\u001b[0m Trial 12 finished with value: 9.319347967663123 and parameters: {'max_depth': 7, 'learning_rate': 0.03566164016611359, 'n_estimators': 327, 'alpha': 9.342497607834302}. Best is trial 7 with value: 9.230521091940933.\u001b[0m\n"
     ]
    },
    {
     "name": "stdout",
     "output_type": "stream",
     "text": [
      "is_clicked\n"
     ]
    },
    {
     "name": "stderr",
     "output_type": "stream",
     "text": [
      "\u001b[32m[I 2023-05-20 19:53:17,412]\u001b[0m Trial 13 finished with value: 9.248138918109536 and parameters: {'max_depth': 7, 'learning_rate': 0.027652444660004383, 'n_estimators': 485, 'alpha': 8.027671037831631}. Best is trial 7 with value: 9.230521091940933.\u001b[0m\n"
     ]
    },
    {
     "name": "stdout",
     "output_type": "stream",
     "text": [
      "is_clicked\n"
     ]
    },
    {
     "name": "stderr",
     "output_type": "stream",
     "text": [
      "\u001b[32m[I 2023-05-20 19:53:33,911]\u001b[0m Trial 14 finished with value: 9.452954619543569 and parameters: {'max_depth': 5, 'learning_rate': 0.02240421358446873, 'n_estimators': 727, 'alpha': 7.90180723164347}. Best is trial 7 with value: 9.230521091940933.\u001b[0m\n"
     ]
    },
    {
     "name": "stdout",
     "output_type": "stream",
     "text": [
      "is_clicked\n"
     ]
    },
    {
     "name": "stderr",
     "output_type": "stream",
     "text": [
      "\u001b[32m[I 2023-05-20 19:53:39,196]\u001b[0m Trial 15 finished with value: 9.236151795715818 and parameters: {'max_depth': 8, 'learning_rate': 0.17554590512542023, 'n_estimators': 107, 'alpha': 9.89484730810572}. Best is trial 7 with value: 9.230521091940933.\u001b[0m\n"
     ]
    },
    {
     "name": "stdout",
     "output_type": "stream",
     "text": [
      "is_clicked\n"
     ]
    },
    {
     "name": "stderr",
     "output_type": "stream",
     "text": [
      "\u001b[32m[I 2023-05-20 19:53:44,991]\u001b[0m Trial 16 finished with value: 9.457921252203233 and parameters: {'max_depth': 8, 'learning_rate': 0.1894060862600023, 'n_estimators': 125, 'alpha': 9.794405166267465}. Best is trial 7 with value: 9.230521091940933.\u001b[0m\n"
     ]
    },
    {
     "name": "stdout",
     "output_type": "stream",
     "text": [
      "is_clicked\n"
     ]
    },
    {
     "name": "stderr",
     "output_type": "stream",
     "text": [
      "\u001b[32m[I 2023-05-20 19:53:54,094]\u001b[0m Trial 17 finished with value: 9.35004185983912 and parameters: {'max_depth': 8, 'learning_rate': 0.23581568470512554, 'n_estimators': 253, 'alpha': 7.0736961027955125}. Best is trial 7 with value: 9.230521091940933.\u001b[0m\n"
     ]
    },
    {
     "name": "stdout",
     "output_type": "stream",
     "text": [
      "is_clicked\n"
     ]
    },
    {
     "name": "stderr",
     "output_type": "stream",
     "text": [
      "\u001b[32m[I 2023-05-20 19:54:12,217]\u001b[0m Trial 18 finished with value: 9.260489383533836 and parameters: {'max_depth': 4, 'learning_rate': 0.2871477119118311, 'n_estimators': 994, 'alpha': 9.848235826639572}. Best is trial 7 with value: 9.230521091940933.\u001b[0m\n"
     ]
    },
    {
     "name": "stdout",
     "output_type": "stream",
     "text": [
      "is_clicked\n"
     ]
    },
    {
     "name": "stderr",
     "output_type": "stream",
     "text": [
      "\u001b[32m[I 2023-05-20 19:54:20,509]\u001b[0m Trial 19 finished with value: 9.355327314605208 and parameters: {'max_depth': 7, 'learning_rate': 0.1718323874514926, 'n_estimators': 251, 'alpha': 8.768265859782922}. Best is trial 7 with value: 9.230521091940933.\u001b[0m\n"
     ]
    },
    {
     "name": "stdout",
     "output_type": "stream",
     "text": [
      "is_clicked\n"
     ]
    },
    {
     "name": "stderr",
     "output_type": "stream",
     "text": [
      "\u001b[32m[I 2023-05-20 19:54:25,898]\u001b[0m Trial 20 finished with value: 9.27422778225923 and parameters: {'max_depth': 8, 'learning_rate': 0.12791932239059522, 'n_estimators': 111, 'alpha': 7.078702265269721}. Best is trial 7 with value: 9.230521091940933.\u001b[0m\n"
     ]
    },
    {
     "name": "stdout",
     "output_type": "stream",
     "text": [
      "is_clicked\n"
     ]
    },
    {
     "name": "stderr",
     "output_type": "stream",
     "text": [
      "\u001b[32m[I 2023-05-20 19:54:38,327]\u001b[0m Trial 21 finished with value: 9.380710296329974 and parameters: {'max_depth': 7, 'learning_rate': 0.18032009629679302, 'n_estimators': 423, 'alpha': 8.387495659767191}. Best is trial 7 with value: 9.230521091940933.\u001b[0m\n"
     ]
    },
    {
     "name": "stdout",
     "output_type": "stream",
     "text": [
      "is_clicked\n"
     ]
    },
    {
     "name": "stderr",
     "output_type": "stream",
     "text": [
      "\u001b[32m[I 2023-05-20 19:54:55,662]\u001b[0m Trial 22 finished with value: 9.319021808377812 and parameters: {'max_depth': 7, 'learning_rate': 0.14924260871155415, 'n_estimators': 624, 'alpha': 8.608256651136369}. Best is trial 7 with value: 9.230521091940933.\u001b[0m\n"
     ]
    },
    {
     "name": "stdout",
     "output_type": "stream",
     "text": [
      "is_clicked\n"
     ]
    },
    {
     "name": "stderr",
     "output_type": "stream",
     "text": [
      "\u001b[32m[I 2023-05-20 19:55:04,996]\u001b[0m Trial 23 finished with value: 9.293273231051415 and parameters: {'max_depth': 6, 'learning_rate': 0.11822517451258291, 'n_estimators': 331, 'alpha': 9.944615346436024}. Best is trial 7 with value: 9.230521091940933.\u001b[0m\n"
     ]
    },
    {
     "name": "stdout",
     "output_type": "stream",
     "text": [
      "is_clicked\n"
     ]
    },
    {
     "name": "stderr",
     "output_type": "stream",
     "text": [
      "\u001b[32m[I 2023-05-20 19:55:20,670]\u001b[0m Trial 24 finished with value: 9.303506375660493 and parameters: {'max_depth': 8, 'learning_rate': 0.19234511520715927, 'n_estimators': 480, 'alpha': 8.94256919463412}. Best is trial 7 with value: 9.230521091940933.\u001b[0m\n"
     ]
    },
    {
     "name": "stdout",
     "output_type": "stream",
     "text": [
      "is_clicked\n"
     ]
    },
    {
     "name": "stderr",
     "output_type": "stream",
     "text": [
      "\u001b[32m[I 2023-05-20 19:55:28,157]\u001b[0m Trial 25 finished with value: 9.32571391890146 and parameters: {'max_depth': 7, 'learning_rate': 0.16549194880834517, 'n_estimators': 213, 'alpha': 7.526979734665835}. Best is trial 7 with value: 9.230521091940933.\u001b[0m\n"
     ]
    },
    {
     "name": "stdout",
     "output_type": "stream",
     "text": [
      "is_clicked\n"
     ]
    },
    {
     "name": "stderr",
     "output_type": "stream",
     "text": [
      "\u001b[32m[I 2023-05-20 19:55:44,820]\u001b[0m Trial 26 finished with value: 9.18222057932115 and parameters: {'max_depth': 5, 'learning_rate': 0.15074878324525845, 'n_estimators': 779, 'alpha': 8.906377941906895}. Best is trial 26 with value: 9.18222057932115.\u001b[0m\n"
     ]
    },
    {
     "name": "stdout",
     "output_type": "stream",
     "text": [
      "is_clicked\n"
     ]
    },
    {
     "name": "stderr",
     "output_type": "stream",
     "text": [
      "\u001b[32m[I 2023-05-20 19:56:00,850]\u001b[0m Trial 27 finished with value: 9.16176902975268 and parameters: {'max_depth': 4, 'learning_rate': 0.15388003689584331, 'n_estimators': 840, 'alpha': 9.449337038741552}. Best is trial 27 with value: 9.16176902975268.\u001b[0m\n"
     ]
    },
    {
     "name": "stdout",
     "output_type": "stream",
     "text": [
      "is_clicked\n"
     ]
    },
    {
     "name": "stderr",
     "output_type": "stream",
     "text": [
      "\u001b[32m[I 2023-05-20 19:56:16,274]\u001b[0m Trial 28 finished with value: 9.354970500766068 and parameters: {'max_depth': 4, 'learning_rate': 0.1526583543881208, 'n_estimators': 800, 'alpha': 8.921848422062654}. Best is trial 27 with value: 9.16176902975268.\u001b[0m\n"
     ]
    },
    {
     "name": "stdout",
     "output_type": "stream",
     "text": [
      "is_clicked\n"
     ]
    },
    {
     "name": "stderr",
     "output_type": "stream",
     "text": [
      "\u001b[32m[I 2023-05-20 19:56:31,227]\u001b[0m Trial 29 finished with value: 9.307727044821249 and parameters: {'max_depth': 4, 'learning_rate': 0.10489409554436074, 'n_estimators': 769, 'alpha': 6.766526109004945}. Best is trial 27 with value: 9.16176902975268.\u001b[0m\n"
     ]
    }
   ],
   "source": [
    "model_for = 'click'\n",
    "study_click = optuna.create_study(direction='minimize',study_name=model_for)\n",
    "study_click.optimize(objective_click, n_trials=30)"
   ]
  },
  {
   "cell_type": "code",
   "execution_count": 61,
   "id": "94995f1a-287c-474c-9dc2-d4723a08175d",
   "metadata": {},
   "outputs": [],
   "source": [
    "X = pd.concat([X_train,X_test])"
   ]
  },
  {
   "cell_type": "code",
   "execution_count": 62,
   "id": "71fb80f6-e8fe-446f-ba99-6f8b3f47ee4c",
   "metadata": {},
   "outputs": [],
   "source": [
    "y = pd.concat([y_train,y_test])"
   ]
  },
  {
   "cell_type": "code",
   "execution_count": 65,
   "id": "029660c3-082f-4ec0-8a73-416aab863ba6",
   "metadata": {},
   "outputs": [
    {
     "data": {
      "text/plain": [
       "78"
      ]
     },
     "execution_count": 65,
     "metadata": {},
     "output_type": "execute_result"
    }
   ],
   "source": [
    "len(use_features)"
   ]
  },
  {
   "cell_type": "code",
   "execution_count": 92,
   "id": "e32ef3cc-8394-492a-b23b-c2deb9526db4",
   "metadata": {},
   "outputs": [
    {
     "data": {
      "text/plain": [
       "XGBClassifier(base_score=None, booster=None, callbacks=None,\n",
       "              colsample_bylevel=None, colsample_bynode=None,\n",
       "              colsample_bytree=None, early_stopping_rounds=None,\n",
       "              enable_categorical=False, eval_metric=None, feature_types=None,\n",
       "              gamma=None, gpu_id=None, grow_policy=None, importance_type=None,\n",
       "              interaction_constraints=None, learning_rate=0.08751617649545007,\n",
       "              max_bin=None, max_cat_threshold=None, max_cat_to_onehot=None,\n",
       "              max_delta_step=None, max_depth=4, max_leaves=None,\n",
       "              min_child_weight=None, missing=nan, monotone_constraints=None,\n",
       "              n_estimators=549, n_jobs=None, num_parallel_tree=None,\n",
       "              predictor=None, random_state=None, ...)"
      ]
     },
     "execution_count": 92,
     "metadata": {},
     "output_type": "execute_result"
    }
   ],
   "source": [
    "params =  {'max_depth': 4, 'learning_rate': 0.08751617649545007, 'n_estimators': 549}\n",
    "params['tree_method']= 'gpu_hist'\n",
    "params['objective'] = 'binary:logistic'\n",
    "clk_model = XGBClassifier(**params)\n",
    "clk_model.fit(X[use_features],y[Train_Split.IS_CLICKED])"
   ]
  },
  {
   "cell_type": "code",
   "execution_count": null,
   "id": "1ceb63be-b541-4c8b-9a48-40cb98a36a94",
   "metadata": {},
   "outputs": [],
   "source": [
    "X_1"
   ]
  },
  {
   "cell_type": "code",
   "execution_count": 66,
   "id": "f36018ee-0d59-47ea-a003-ca6fb99d6520",
   "metadata": {},
   "outputs": [
    {
     "data": {
      "text/plain": [
       "XGBClassifier(base_score=None, booster=None, callbacks=None,\n",
       "              colsample_bylevel=None, colsample_bynode=None,\n",
       "              colsample_bytree=None, early_stopping_rounds=None,\n",
       "              enable_categorical=False, eval_metric=None, feature_types=None,\n",
       "              gamma=None, gpu_id=None, grow_policy=None, importance_type=None,\n",
       "              interaction_constraints=None, learning_rate=0.1177894283061201,\n",
       "              max_bin=None, max_cat_threshold=None, max_cat_to_onehot=None,\n",
       "              max_delta_step=None, max_depth=7, max_leaves=None,\n",
       "              min_child_weight=None, missing=nan, monotone_constraints=None,\n",
       "              n_estimators=332, n_jobs=None, num_parallel_tree=None,\n",
       "              predictor=None, random_state=None, ...)"
      ]
     },
     "execution_count": 66,
     "metadata": {},
     "output_type": "execute_result"
    }
   ],
   "source": [
    "params = {'max_depth': 8, 'learning_rate': 0.07243965921786173, 'n_estimators': 396}\n",
    "params['tree_method']= 'gpu_hist'\n",
    "params['objective'] = 'binary:logistic'\n",
    "install_model = XGBClassifier(**params)\n",
    "install_model.fit(X[use_features],y[Train_Split.IS_INSTALLED])"
   ]
  },
  {
   "cell_type": "code",
   "execution_count": 67,
   "id": "1a2a80f8-73df-4ddf-beb7-3828e0f99ae8",
   "metadata": {},
   "outputs": [],
   "source": [
    "test = pd.read_csv('../Data/test/000000000000.csv',sep='\\t')"
   ]
  },
  {
   "cell_type": "code",
   "execution_count": 68,
   "id": "f59f4e6e-e865-424d-be25-f926298dd4a6",
   "metadata": {},
   "outputs": [],
   "source": [
    "test['f_30'].fillna(test['f_30'].mode()[0],inplace=True)\n",
    "test['f_31'].fillna(test['f_31'].mode()[0],inplace=True)"
   ]
  },
  {
   "cell_type": "code",
   "execution_count": 69,
   "id": "cae1b77e-62d2-42d4-a549-72491db83b39",
   "metadata": {},
   "outputs": [],
   "source": [
    "fmiss = \"f_43,f_51,f_58,f_59,f_64,f_65,f_66,f_67,f_68,f_69,f_70\".split(',')\n",
    "for f in fmiss:\n",
    "    test[f].fillna(X[f].mean(),inplace=True)"
   ]
  },
  {
   "cell_type": "code",
   "execution_count": 70,
   "id": "24a43c5b-1db0-4e6a-8644-c0c6799ec7da",
   "metadata": {},
   "outputs": [],
   "source": [
    "y_click_test = clk_model.predict_proba(test[use_features])"
   ]
  },
  {
   "cell_type": "code",
   "execution_count": 71,
   "id": "918c2a49-97ce-456d-9ed8-9f97632e1838",
   "metadata": {},
   "outputs": [],
   "source": [
    "y_install_test = install_model.predict_proba(test[use_features])"
   ]
  },
  {
   "cell_type": "code",
   "execution_count": 72,
   "id": "52ac179f-ba21-4aa1-9287-0ba418a8d532",
   "metadata": {},
   "outputs": [],
   "source": [
    "import numpy as np\n",
    "result = np.vstack([test['f_0'].to_numpy(dtype=int),y_click_test[:,1],y_install_test[:,1]]).T"
   ]
  },
  {
   "cell_type": "code",
   "execution_count": 73,
   "id": "cc44b5e0-8cee-4a47-a510-1bd90e4cd24f",
   "metadata": {},
   "outputs": [
    {
     "data": {
      "text/plain": [
       "(160973, 3)"
      ]
     },
     "execution_count": 73,
     "metadata": {},
     "output_type": "execute_result"
    }
   ],
   "source": [
    "result.shape"
   ]
  },
  {
   "cell_type": "code",
   "execution_count": 74,
   "id": "96d46980-6b45-4785-adfd-1467c6c0bd1d",
   "metadata": {},
   "outputs": [],
   "source": [
    "final = pd.DataFrame(result,columns=['RowId','is_clicked','is_installed'])"
   ]
  },
  {
   "cell_type": "code",
   "execution_count": 75,
   "id": "7a5e85c2-a7e7-49c0-abf6-c1644ab1bd23",
   "metadata": {},
   "outputs": [
    {
     "data": {
      "text/html": [
       "<div>\n",
       "<style scoped>\n",
       "    .dataframe tbody tr th:only-of-type {\n",
       "        vertical-align: middle;\n",
       "    }\n",
       "\n",
       "    .dataframe tbody tr th {\n",
       "        vertical-align: top;\n",
       "    }\n",
       "\n",
       "    .dataframe thead th {\n",
       "        text-align: right;\n",
       "    }\n",
       "</style>\n",
       "<table border=\"1\" class=\"dataframe\">\n",
       "  <thead>\n",
       "    <tr style=\"text-align: right;\">\n",
       "      <th></th>\n",
       "      <th>RowId</th>\n",
       "      <th>is_clicked</th>\n",
       "      <th>is_installed</th>\n",
       "    </tr>\n",
       "  </thead>\n",
       "  <tbody>\n",
       "    <tr>\n",
       "      <th>0</th>\n",
       "      <td>64505.0</td>\n",
       "      <td>0.353222</td>\n",
       "      <td>0.203283</td>\n",
       "    </tr>\n",
       "    <tr>\n",
       "      <th>1</th>\n",
       "      <td>64506.0</td>\n",
       "      <td>0.082859</td>\n",
       "      <td>0.255049</td>\n",
       "    </tr>\n",
       "    <tr>\n",
       "      <th>2</th>\n",
       "      <td>64507.0</td>\n",
       "      <td>0.213517</td>\n",
       "      <td>0.050327</td>\n",
       "    </tr>\n",
       "    <tr>\n",
       "      <th>3</th>\n",
       "      <td>64508.0</td>\n",
       "      <td>0.142553</td>\n",
       "      <td>0.213543</td>\n",
       "    </tr>\n",
       "    <tr>\n",
       "      <th>4</th>\n",
       "      <td>64509.0</td>\n",
       "      <td>0.222590</td>\n",
       "      <td>0.264679</td>\n",
       "    </tr>\n",
       "  </tbody>\n",
       "</table>\n",
       "</div>"
      ],
      "text/plain": [
       "     RowId  is_clicked  is_installed\n",
       "0  64505.0    0.353222      0.203283\n",
       "1  64506.0    0.082859      0.255049\n",
       "2  64507.0    0.213517      0.050327\n",
       "3  64508.0    0.142553      0.213543\n",
       "4  64509.0    0.222590      0.264679"
      ]
     },
     "execution_count": 75,
     "metadata": {},
     "output_type": "execute_result"
    }
   ],
   "source": [
    "final.head()"
   ]
  },
  {
   "cell_type": "code",
   "execution_count": 76,
   "id": "bf1a4686-747f-4ff0-8a9b-bc7ac0829fdf",
   "metadata": {},
   "outputs": [],
   "source": [
    "final['RowId']=final['RowId'].astype('int')"
   ]
  },
  {
   "cell_type": "code",
   "execution_count": 77,
   "id": "cc8af78a-c952-4144-b787-30323c4a282f",
   "metadata": {},
   "outputs": [],
   "source": [
    "from datetime import datetime\n",
    "now = datetime.now()\n",
    "final.to_csv(f'../Data/final_results/xgb_optuna_log_loss_{now}.csv', sep ='\\t', index=False)"
   ]
  },
  {
   "cell_type": "code",
   "execution_count": null,
   "id": "388b2fbc-3601-433f-915f-34bd62a97dc2",
   "metadata": {},
   "outputs": [],
   "source": []
  }
 ],
 "metadata": {
  "kernelspec": {
   "display_name": "Python 3 (ipykernel)",
   "language": "python",
   "name": "python3"
  },
  "language_info": {
   "codemirror_mode": {
    "name": "ipython",
    "version": 3
   },
   "file_extension": ".py",
   "mimetype": "text/x-python",
   "name": "python",
   "nbconvert_exporter": "python",
   "pygments_lexer": "ipython3",
   "version": "3.9.16"
  }
 },
 "nbformat": 4,
 "nbformat_minor": 5
}
