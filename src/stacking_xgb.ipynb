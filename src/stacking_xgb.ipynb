{
 "cells": [
  {
   "cell_type": "code",
   "execution_count": 1,
   "id": "977544a5-2f87-49fd-bf3b-b6c940d979da",
   "metadata": {},
   "outputs": [],
   "source": [
    "from utils import TestResults,TrainSplit\n",
    "from xgboost import XGBClassifier\n",
    "from sklearn.metrics import f1_score, log_loss\n",
    "\n",
    "import numpy as np\n",
    "import optuna"
   ]
  },
  {
   "cell_type": "code",
   "execution_count": 2,
   "id": "27201c27-498c-4005-869b-ef9036799402",
   "metadata": {},
   "outputs": [
    {
     "name": "stdout",
     "output_type": "stream",
     "text": [
      "Loading the data\n",
      "Categorial Feature Imputed\n"
     ]
    },
    {
     "name": "stderr",
     "output_type": "stream",
     "text": [
      "NUM IMPUTE: 100%|████████████████████████████████████████████████████████████████████████████████████████████████████████████████████████| 11/11 [00:00<00:00, 52.81it/s]\n"
     ]
    },
    {
     "name": "stdout",
     "output_type": "stream",
     "text": [
      "Spliting the Data based on time\n",
      "X_train:(3387880, 80), X_test:(97972, 80) , y_train:(3387880, 2) , y_test:(97972, 2)\n"
     ]
    }
   ],
   "source": [
    "X_train, X_test, y_train, y_test = TrainSplit().get_split()"
   ]
  },
  {
   "cell_type": "code",
   "execution_count": 3,
   "id": "3dbd4f33-052a-4afa-857f-d401a0f62e3f",
   "metadata": {},
   "outputs": [],
   "source": [
    "cat_feat = TrainSplit.CATEGORIES + TrainSplit.BINARY\n",
    "num_feat = TrainSplit.NUMERICAL\n",
    "all_feat = cat_feat + num_feat"
   ]
  },
  {
   "cell_type": "code",
   "execution_count": 4,
   "id": "b0fa07a7-6f76-44a0-a833-1b06c42ad080",
   "metadata": {},
   "outputs": [],
   "source": [
    "params_all_feat = {'max_depth': 7, 'learning_rate': 0.05198517520669243, 'n_estimators': 606,\n",
    "                   'tree_method':'gpu_hist','objective':'binary:logistic'}\n",
    "params_cat_feat = {'max_depth': 4, 'learning_rate': 0.2972844912008205, 'n_estimators': 257,\n",
    "                   'tree_method':'gpu_hist','objective':'binary:logistic'}\n",
    "params_num_feat = {'max_depth': 5, 'learning_rate': 0.18539658586808733, 'n_estimators': 603,\n",
    "                   'tree_method':'gpu_hist','objective':'binary:logistic'}"
   ]
  },
  {
   "cell_type": "code",
   "execution_count": 5,
   "id": "8244202f-6a3d-4332-817b-f4777e982cb0",
   "metadata": {},
   "outputs": [
    {
     "data": {
      "text/plain": [
       "XGBClassifier(base_score=None, booster=None, callbacks=None,\n",
       "              colsample_bylevel=None, colsample_bynode=None,\n",
       "              colsample_bytree=None, early_stopping_rounds=None,\n",
       "              enable_categorical=False, eval_metric=None, feature_types=None,\n",
       "              gamma=None, gpu_id=None, grow_policy=None, importance_type=None,\n",
       "              interaction_constraints=None, learning_rate=0.05198517520669243,\n",
       "              max_bin=None, max_cat_threshold=None, max_cat_to_onehot=None,\n",
       "              max_delta_step=None, max_depth=7, max_leaves=None,\n",
       "              min_child_weight=None, missing=nan, monotone_constraints=None,\n",
       "              n_estimators=606, n_jobs=None, num_parallel_tree=None,\n",
       "              predictor=None, random_state=None, ...)"
      ]
     },
     "execution_count": 5,
     "metadata": {},
     "output_type": "execute_result"
    }
   ],
   "source": [
    "model_all_feat = XGBClassifier(**params_all_feat)\n",
    "model_all_feat.fit(X_train[all_feat],y_train[TrainSplit.IS_INSTALLED[0]])"
   ]
  },
  {
   "cell_type": "code",
   "execution_count": 6,
   "id": "5f40626c-8b3a-434a-9c9a-bb079360dde6",
   "metadata": {},
   "outputs": [],
   "source": [
    "import pandas as pd\n",
    "import numpy as np\n",
    "\n",
    "test = pd.read_csv('../Data/test/000000000000.csv',sep='\\t')\n",
    "test['f_30'].fillna(test['f_30'].mode()[0],inplace=True)\n",
    "test['f_31'].fillna(test['f_31'].mode()[0],inplace=True)\n",
    "fmiss = \"f_43,f_51,f_58,f_59,f_64,f_65,f_66,f_67,f_68,f_69,f_70\".split(',')\n",
    "for f in fmiss:\n",
    "    test[f].fillna(test[f].mean(),inplace=True)"
   ]
  },
  {
   "cell_type": "code",
   "execution_count": 7,
   "id": "9416243a-24dd-4fc1-85c9-ac86a9b1ef87",
   "metadata": {},
   "outputs": [],
   "source": [
    "install_pred_all = model_all_feat.predict_proba(test[all_feat])[:,1]"
   ]
  },
  {
   "cell_type": "code",
   "execution_count": 8,
   "id": "3a1a453f-d2ed-49d5-89f5-22af911c72cc",
   "metadata": {},
   "outputs": [
    {
     "data": {
      "text/plain": [
       "XGBClassifier(base_score=None, booster=None, callbacks=None,\n",
       "              colsample_bylevel=None, colsample_bynode=None,\n",
       "              colsample_bytree=None, early_stopping_rounds=None,\n",
       "              enable_categorical=False, eval_metric=None, feature_types=None,\n",
       "              gamma=None, gpu_id=None, grow_policy=None, importance_type=None,\n",
       "              interaction_constraints=None, learning_rate=0.2972844912008205,\n",
       "              max_bin=None, max_cat_threshold=None, max_cat_to_onehot=None,\n",
       "              max_delta_step=None, max_depth=4, max_leaves=None,\n",
       "              min_child_weight=None, missing=nan, monotone_constraints=None,\n",
       "              n_estimators=257, n_jobs=None, num_parallel_tree=None,\n",
       "              predictor=None, random_state=None, ...)"
      ]
     },
     "execution_count": 8,
     "metadata": {},
     "output_type": "execute_result"
    }
   ],
   "source": [
    "model_cat_feat = XGBClassifier(**params_cat_feat)\n",
    "model_cat_feat.fit(X_train[cat_feat],y_train[TrainSplit.IS_INSTALLED[0]])"
   ]
  },
  {
   "cell_type": "code",
   "execution_count": 9,
   "id": "3fe9ff1e-cb84-4b5b-9933-2527c31c5a26",
   "metadata": {},
   "outputs": [],
   "source": [
    "install_pred_cat = model_cat_feat.predict_proba(test[cat_feat])[:,1]"
   ]
  },
  {
   "cell_type": "code",
   "execution_count": 10,
   "id": "0f27e828-9eb3-4a95-88a9-0cf2daaf0f0e",
   "metadata": {},
   "outputs": [
    {
     "data": {
      "text/plain": [
       "array([0.30913222, 0.31705943, 0.02517575, ..., 0.17822418, 0.05227256,\n",
       "       0.12873745], dtype=float32)"
      ]
     },
     "execution_count": 10,
     "metadata": {},
     "output_type": "execute_result"
    }
   ],
   "source": [
    "install_pred_cat"
   ]
  },
  {
   "cell_type": "code",
   "execution_count": 11,
   "id": "b8dbb45b-ec35-4fb7-83b2-567a163ff68e",
   "metadata": {},
   "outputs": [
    {
     "data": {
      "text/plain": [
       "array([0.19879813, 0.28428742, 0.0775891 , ..., 0.015904  , 0.12681367,\n",
       "       0.05524745], dtype=float32)"
      ]
     },
     "execution_count": 11,
     "metadata": {},
     "output_type": "execute_result"
    }
   ],
   "source": [
    "install_pred_all"
   ]
  },
  {
   "cell_type": "code",
   "execution_count": 12,
   "id": "1fe04cde-b10a-439d-a338-47dc73ac1bbe",
   "metadata": {},
   "outputs": [
    {
     "data": {
      "text/plain": [
       "XGBClassifier(base_score=None, booster=None, callbacks=None,\n",
       "              colsample_bylevel=None, colsample_bynode=None,\n",
       "              colsample_bytree=None, early_stopping_rounds=None,\n",
       "              enable_categorical=False, eval_metric=None, feature_types=None,\n",
       "              gamma=None, gpu_id=None, grow_policy=None, importance_type=None,\n",
       "              interaction_constraints=None, learning_rate=0.18539658586808733,\n",
       "              max_bin=None, max_cat_threshold=None, max_cat_to_onehot=None,\n",
       "              max_delta_step=None, max_depth=5, max_leaves=None,\n",
       "              min_child_weight=None, missing=nan, monotone_constraints=None,\n",
       "              n_estimators=603, n_jobs=None, num_parallel_tree=None,\n",
       "              predictor=None, random_state=None, ...)"
      ]
     },
     "execution_count": 12,
     "metadata": {},
     "output_type": "execute_result"
    }
   ],
   "source": [
    "model_num_feat = XGBClassifier(**params_num_feat)\n",
    "model_num_feat.fit(X_train[num_feat],y_train[TrainSplit.IS_INSTALLED[0]])"
   ]
  },
  {
   "cell_type": "code",
   "execution_count": 13,
   "id": "51382036-473f-4eb4-aa91-44dddd90531a",
   "metadata": {},
   "outputs": [],
   "source": [
    "install_pred_num = model_num_feat.predict_proba(test[num_feat])[:,1]"
   ]
  },
  {
   "cell_type": "code",
   "execution_count": 14,
   "id": "1cdccbef-ff7f-489e-a2a8-10e75464e31b",
   "metadata": {},
   "outputs": [
    {
     "data": {
      "text/plain": [
       "array([0.08649381, 0.27345726, 0.2478346 , ..., 0.2819063 , 0.3294385 ,\n",
       "       0.01551908], dtype=float32)"
      ]
     },
     "execution_count": 14,
     "metadata": {},
     "output_type": "execute_result"
    }
   ],
   "source": [
    "install_pred_num"
   ]
  },
  {
   "cell_type": "code",
   "execution_count": 15,
   "id": "1a187b2c-8b00-42df-a4e7-684c9443a6a8",
   "metadata": {},
   "outputs": [],
   "source": [
    "stack_test = np.vstack([install_pred_all,install_pred_cat,install_pred_num]).T"
   ]
  },
  {
   "cell_type": "code",
   "execution_count": 16,
   "id": "b4152291-13f8-47f1-8f5b-e7be0326611d",
   "metadata": {},
   "outputs": [
    {
     "data": {
      "text/plain": [
       "(160973, 3)"
      ]
     },
     "execution_count": 16,
     "metadata": {},
     "output_type": "execute_result"
    }
   ],
   "source": [
    "stack_test.shape"
   ]
  },
  {
   "cell_type": "code",
   "execution_count": 17,
   "id": "da354f3e-e0a2-424a-ac78-a7ee13e214bd",
   "metadata": {},
   "outputs": [],
   "source": [
    "y_pred_all_pred = model_all_feat.predict_proba(X_train[all_feat])[:,1]\n",
    "y_pred_cat_pred = model_cat_feat.predict_proba(X_train[cat_feat])[:,1]\n",
    "y_pred_num_pred = model_num_feat.predict_proba(X_train[num_feat])[:,1]"
   ]
  },
  {
   "cell_type": "code",
   "execution_count": 18,
   "id": "708a79cd-74e4-4fbb-9b49-fc10d6ae6c33",
   "metadata": {},
   "outputs": [
    {
     "data": {
      "text/plain": [
       "array([0.0689008 , 0.24267854, 0.27915812, ..., 0.09421918, 0.3630598 ,\n",
       "       0.2659234 ], dtype=float32)"
      ]
     },
     "execution_count": 18,
     "metadata": {},
     "output_type": "execute_result"
    }
   ],
   "source": [
    "y_pred_all_pred"
   ]
  },
  {
   "cell_type": "code",
   "execution_count": 19,
   "id": "5386b578-07fe-4033-b553-c47d37cc4f47",
   "metadata": {},
   "outputs": [
    {
     "data": {
      "text/plain": [
       "array([0.03071583, 0.2652175 , 0.24187617, ..., 0.1443992 , 0.2510125 ,\n",
       "       0.27600548], dtype=float32)"
      ]
     },
     "execution_count": 19,
     "metadata": {},
     "output_type": "execute_result"
    }
   ],
   "source": [
    "y_pred_cat_pred"
   ]
  },
  {
   "cell_type": "code",
   "execution_count": 20,
   "id": "9d4229ae-ff58-45ea-a270-1e9142204e47",
   "metadata": {},
   "outputs": [
    {
     "data": {
      "text/plain": [
       "array([0.07044848, 0.20469281, 0.19933815, ..., 0.03526987, 0.3520708 ,\n",
       "       0.2862676 ], dtype=float32)"
      ]
     },
     "execution_count": 20,
     "metadata": {},
     "output_type": "execute_result"
    }
   ],
   "source": [
    "y_pred_num_pred"
   ]
  },
  {
   "cell_type": "code",
   "execution_count": 21,
   "id": "84b0d749-37f0-41ba-af62-b0ece2104b27",
   "metadata": {},
   "outputs": [
    {
     "data": {
      "text/plain": [
       "0          1\n",
       "1          0\n",
       "2          1\n",
       "3          0\n",
       "4          0\n",
       "          ..\n",
       "3485847    0\n",
       "3485848    0\n",
       "3485849    0\n",
       "3485850    0\n",
       "3485851    1\n",
       "Name: is_installed, Length: 3387880, dtype: int64"
      ]
     },
     "execution_count": 21,
     "metadata": {},
     "output_type": "execute_result"
    }
   ],
   "source": [
    "y_train[TrainSplit.IS_INSTALLED[0]]"
   ]
  },
  {
   "cell_type": "code",
   "execution_count": 22,
   "id": "3a9e82ee-ada6-4cd0-b524-11ca57a0e3ef",
   "metadata": {},
   "outputs": [],
   "source": [
    "y_pred_valid_all_pred = model_all_feat.predict_proba(X_test[all_feat])[:,1]\n",
    "y_pred_valid_cat_pred = model_cat_feat.predict_proba(X_test[cat_feat])[:,1]\n",
    "y_pred_valid_num_pred = model_num_feat.predict_proba(X_test[num_feat])[:,1]"
   ]
  },
  {
   "cell_type": "markdown",
   "id": "fc1d42cd-71a4-4400-9868-2f9dd418b675",
   "metadata": {},
   "source": [
    "# Dates can also be added here "
   ]
  },
  {
   "cell_type": "code",
   "execution_count": 37,
   "id": "731ecea3-6222-4d17-bf0b-65ebcf29b8a7",
   "metadata": {},
   "outputs": [],
   "source": [
    "X_stack_train = np.vstack([X_train['f_1'].to_numpy(),y_pred_all_pred,y_pred_cat_pred,y_pred_num_pred]).T\n",
    "X_stack_valid = np.vstack([X_test['f_1'].to_numpy(),y_pred_valid_all_pred,y_pred_valid_cat_pred,y_pred_valid_num_pred]).T"
   ]
  },
  {
   "cell_type": "code",
   "execution_count": 38,
   "id": "f8eb8e96-debf-4a9f-9f94-616712abc881",
   "metadata": {},
   "outputs": [
    {
     "data": {
      "text/plain": [
       "(3387880, 4)"
      ]
     },
     "execution_count": 38,
     "metadata": {},
     "output_type": "execute_result"
    }
   ],
   "source": [
    "X_stack_train.shape"
   ]
  },
  {
   "cell_type": "code",
   "execution_count": 39,
   "id": "4389967e-b8bf-43de-bcfd-4019ba8f6e68",
   "metadata": {},
   "outputs": [
    {
     "data": {
      "text/plain": [
       "(97972, 4)"
      ]
     },
     "execution_count": 39,
     "metadata": {},
     "output_type": "execute_result"
    }
   ],
   "source": [
    "X_stack_valid.shape"
   ]
  },
  {
   "cell_type": "code",
   "execution_count": null,
   "id": "5d21c844-775d-45ab-a06a-7c8c95a9ca51",
   "metadata": {},
   "outputs": [],
   "source": [
    "from sklearn.linear_model import LogisticRegression\n",
    "\n",
    "def objective(trail):\n",
    "    params = {  'C': trail.suggest_float('C',0.2,2),\n",
    "                'class_weight':'balanced',# Try None as well\n",
    "                'n_jobs': -1,\n",
    "                'max_iter':2000\n",
    "                # 'penalty': trail.suggest_categorical('penalty', [\"l1\", \"l2\", 'elasticnet']),\n",
    "             }\n",
    "    \n",
    "    target = TrainSplit.IS_INSTALLED[0]\n",
    "    model = LogisticRegression(**params)\n",
    "    model.fit(X_stack_train,y_train[TrainSplit.IS_INSTALLED[0]])\n",
    "    y_pred = model.predict(X_stack_valid)\n",
    "    score = log_loss(y_test[target],y_pred)\n",
    "    return score"
   ]
  },
  {
   "cell_type": "code",
   "execution_count": 40,
   "id": "3a0498aa-708b-417c-b199-f5f996e6bdb9",
   "metadata": {},
   "outputs": [],
   "source": [
    "def objective(trail):\n",
    "    params = {\n",
    "        'max_depth':trail.suggest_int('max_depth',3,8),\n",
    "        'learning_rate':trail.suggest_float('learning_rate',0.05,0.3),\n",
    "        'n_estimators':trail.suggest_int('n_estimators',10,650),\n",
    "        'tree_method':'gpu_hist',\n",
    "        'objective':'binary:logistic'\n",
    "    }\n",
    "    # print(use_features)\n",
    "    target = TrainSplit.IS_INSTALLED[0]\n",
    "    model = XGBClassifier(**params)\n",
    "    model.fit(X_stack_train,y_train[target])\n",
    "    y_pred = model.predict(X_stack_valid)\n",
    "    score = log_loss(y_test[target],y_pred)\n",
    "    # print(model.feature_names_in_)\n",
    "    return score"
   ]
  },
  {
   "cell_type": "code",
   "execution_count": 41,
   "id": "a842413a-063d-4674-b48a-4a8daa3589af",
   "metadata": {
    "collapsed": true,
    "jupyter": {
     "outputs_hidden": true
    },
    "tags": []
   },
   "outputs": [
    {
     "name": "stderr",
     "output_type": "stream",
     "text": [
      "\u001b[32m[I 2023-05-25 08:51:13,500]\u001b[0m A new study created in memory with name: stack_log_loss\u001b[0m\n",
      "\u001b[32m[I 2023-05-25 08:51:17,773]\u001b[0m Trial 0 finished with value: 6.049929463787792 and parameters: {'max_depth': 6, 'learning_rate': 0.20974285467002218, 'n_estimators': 390}. Best is trial 0 with value: 6.049929463787792.\u001b[0m\n",
      "\u001b[32m[I 2023-05-25 08:51:19,961]\u001b[0m Trial 1 finished with value: 6.061210246713174 and parameters: {'max_depth': 6, 'learning_rate': 0.2230584389267708, 'n_estimators': 163}. Best is trial 0 with value: 6.049929463787792.\u001b[0m\n",
      "\u001b[32m[I 2023-05-25 08:51:23,818]\u001b[0m Trial 2 finished with value: 6.034770722487274 and parameters: {'max_depth': 6, 'learning_rate': 0.1394877040182615, 'n_estimators': 357}. Best is trial 2 with value: 6.034770722487274.\u001b[0m\n",
      "\u001b[32m[I 2023-05-25 08:51:26,524]\u001b[0m Trial 3 finished with value: 6.053103196520324 and parameters: {'max_depth': 4, 'learning_rate': 0.12077593478049888, 'n_estimators': 325}. Best is trial 2 with value: 6.034770722487274.\u001b[0m\n",
      "\u001b[32m[I 2023-05-25 08:51:27,575]\u001b[0m Trial 4 finished with value: 6.026658302034461 and parameters: {'max_depth': 5, 'learning_rate': 0.06329716036772474, 'n_estimators': 47}. Best is trial 4 with value: 6.026658302034461.\u001b[0m\n",
      "\u001b[32m[I 2023-05-25 08:51:30,267]\u001b[0m Trial 5 finished with value: 6.056627426099273 and parameters: {'max_depth': 5, 'learning_rate': 0.1725671142207495, 'n_estimators': 278}. Best is trial 4 with value: 6.026658302034461.\u001b[0m\n",
      "\u001b[32m[I 2023-05-25 08:51:32,839]\u001b[0m Trial 6 finished with value: 6.050634799392941 and parameters: {'max_depth': 5, 'learning_rate': 0.08311120227745035, 'n_estimators': 246}. Best is trial 4 with value: 6.026658302034461.\u001b[0m\n",
      "\u001b[32m[I 2023-05-25 08:51:34,898]\u001b[0m Trial 7 finished with value: 6.047463604883584 and parameters: {'max_depth': 4, 'learning_rate': 0.2971434687243963, 'n_estimators': 231}. Best is trial 4 with value: 6.026658302034461.\u001b[0m\n",
      "\u001b[32m[I 2023-05-25 08:51:39,543]\u001b[0m Trial 8 finished with value: 6.046757428645036 and parameters: {'max_depth': 4, 'learning_rate': 0.08221155129781153, 'n_estimators': 644}. Best is trial 4 with value: 6.026658302034461.\u001b[0m\n",
      "\u001b[32m[I 2023-05-25 08:51:45,484]\u001b[0m Trial 9 finished with value: 6.048167300029383 and parameters: {'max_depth': 6, 'learning_rate': 0.09488520932784537, 'n_estimators': 590}. Best is trial 4 with value: 6.026658302034461.\u001b[0m\n",
      "\u001b[32m[I 2023-05-25 08:51:46,336]\u001b[0m Trial 10 finished with value: 6.05662933588777 and parameters: {'max_depth': 8, 'learning_rate': 0.05926631698414543, 'n_estimators': 11}. Best is trial 4 with value: 6.026658302034461.\u001b[0m\n",
      "\u001b[32m[I 2023-05-25 08:51:52,561]\u001b[0m Trial 11 finished with value: 6.04534629222985 and parameters: {'max_depth': 8, 'learning_rate': 0.135489817918788, 'n_estimators': 458}. Best is trial 4 with value: 6.026658302034461.\u001b[0m\n",
      "\u001b[32m[I 2023-05-25 08:51:53,551]\u001b[0m Trial 12 finished with value: 6.05839234027958 and parameters: {'max_depth': 7, 'learning_rate': 0.05475254237679326, 'n_estimators': 23}. Best is trial 4 with value: 6.026658302034461.\u001b[0m\n",
      "\u001b[32m[I 2023-05-25 08:51:54,837]\u001b[0m Trial 13 finished with value: 6.06755710006654 and parameters: {'max_depth': 3, 'learning_rate': 0.13153113253660287, 'n_estimators': 131}. Best is trial 4 with value: 6.026658302034461.\u001b[0m\n",
      "\u001b[32m[I 2023-05-25 08:52:00,414]\u001b[0m Trial 14 finished with value: 6.059449266370714 and parameters: {'max_depth': 7, 'learning_rate': 0.10456147002216096, 'n_estimators': 469}. Best is trial 4 with value: 6.026658302034461.\u001b[0m\n",
      "\u001b[32m[I 2023-05-25 08:52:02,171]\u001b[0m Trial 15 finished with value: 6.065793785538136 and parameters: {'max_depth': 5, 'learning_rate': 0.052867634273060765, 'n_estimators': 127}. Best is trial 4 with value: 6.026658302034461.\u001b[0m\n",
      "\u001b[32m[I 2023-05-25 08:52:07,165]\u001b[0m Trial 16 finished with value: 6.052398440380915 and parameters: {'max_depth': 7, 'learning_rate': 0.1499324084795263, 'n_estimators': 409}. Best is trial 4 with value: 6.026658302034461.\u001b[0m\n",
      "\u001b[32m[I 2023-05-25 08:52:10,425]\u001b[0m Trial 17 finished with value: 6.053807797591434 and parameters: {'max_depth': 3, 'learning_rate': 0.11407281620913653, 'n_estimators': 535}. Best is trial 4 with value: 6.026658302034461.\u001b[0m\n",
      "\u001b[32m[I 2023-05-25 08:52:14,353]\u001b[0m Trial 18 finished with value: 6.041821377085798 and parameters: {'max_depth': 6, 'learning_rate': 0.1590607948594804, 'n_estimators': 361}. Best is trial 4 with value: 6.026658302034461.\u001b[0m\n",
      "\u001b[32m[I 2023-05-25 08:52:15,735]\u001b[0m Trial 19 finished with value: 6.05944836860689 and parameters: {'max_depth': 5, 'learning_rate': 0.09082834109824647, 'n_estimators': 83}. Best is trial 4 with value: 6.026658302034461.\u001b[0m\n",
      "\u001b[32m[I 2023-05-25 08:52:17,670]\u001b[0m Trial 20 finished with value: 6.030188195686988 and parameters: {'max_depth': 4, 'learning_rate': 0.19040277056557592, 'n_estimators': 210}. Best is trial 4 with value: 6.026658302034461.\u001b[0m\n",
      "\u001b[32m[I 2023-05-25 08:52:19,588]\u001b[0m Trial 21 finished with value: 6.042174469285816 and parameters: {'max_depth': 4, 'learning_rate': 0.20414720599642647, 'n_estimators': 192}. Best is trial 4 with value: 6.026658302034461.\u001b[0m\n",
      "\u001b[32m[I 2023-05-25 08:52:22,570]\u001b[0m Trial 22 finished with value: 6.05239803230645 and parameters: {'max_depth': 5, 'learning_rate': 0.1730237644086155, 'n_estimators': 304}. Best is trial 4 with value: 6.026658302034461.\u001b[0m\n",
      "\u001b[32m[I 2023-05-25 08:52:23,646]\u001b[0m Trial 23 finished with value: 6.071082153955909 and parameters: {'max_depth': 3, 'learning_rate': 0.1491372361901141, 'n_estimators': 73}. Best is trial 4 with value: 6.026658302034461.\u001b[0m\n",
      "\u001b[32m[I 2023-05-25 08:52:25,833]\u001b[0m Trial 24 finished with value: 6.061211315868274 and parameters: {'max_depth': 4, 'learning_rate': 0.1884073391671023, 'n_estimators': 242}. Best is trial 4 with value: 6.026658302034461.\u001b[0m\n",
      "\u001b[32m[I 2023-05-25 08:52:28,421]\u001b[0m Trial 25 finished with value: 6.05275005535137 and parameters: {'max_depth': 6, 'learning_rate': 0.11437315205795927, 'n_estimators': 204}. Best is trial 4 with value: 6.026658302034461.\u001b[0m\n",
      "\u001b[32m[I 2023-05-25 08:52:29,708]\u001b[0m Trial 26 finished with value: 6.059447740172215 and parameters: {'max_depth': 5, 'learning_rate': 0.13292069111025806, 'n_estimators': 76}. Best is trial 4 with value: 6.026658302034461.\u001b[0m\n",
      "\u001b[32m[I 2023-05-25 08:52:35,154]\u001b[0m Trial 27 finished with value: 6.049224887201149 and parameters: {'max_depth': 7, 'learning_rate': 0.07156643792657916, 'n_estimators': 442}. Best is trial 4 with value: 6.026658302034461.\u001b[0m\n",
      "\u001b[32m[I 2023-05-25 08:52:38,038]\u001b[0m Trial 28 finished with value: 6.039353045250329 and parameters: {'max_depth': 4, 'learning_rate': 0.07200783654261533, 'n_estimators': 341}. Best is trial 4 with value: 6.026658302034461.\u001b[0m\n",
      "\u001b[32m[I 2023-05-25 08:52:42,241]\u001b[0m Trial 29 finished with value: 6.059095178469 and parameters: {'max_depth': 6, 'learning_rate': 0.1046116319514225, 'n_estimators': 386}. Best is trial 4 with value: 6.026658302034461.\u001b[0m\n"
     ]
    }
   ],
   "source": [
    "import optuna\n",
    "study_stack = optuna.create_study(direction='minimize',study_name='stack_log_loss')\n",
    "study_stack.optimize(objective, n_trials=30)"
   ]
  },
  {
   "cell_type": "code",
   "execution_count": 32,
   "id": "ddbf3d9b-4950-4654-a005-7d786f0d4043",
   "metadata": {},
   "outputs": [
    {
     "data": {
      "text/plain": [
       "XGBClassifier(base_score=None, booster=None, callbacks=None,\n",
       "              colsample_bylevel=None, colsample_bynode=None,\n",
       "              colsample_bytree=None, early_stopping_rounds=None,\n",
       "              enable_categorical=False, eval_metric=None, feature_types=None,\n",
       "              gamma=None, gpu_id=None, grow_policy=None, importance_type=None,\n",
       "              interaction_constraints=None, learning_rate=0.10151446144603166,\n",
       "              max_bin=None, max_cat_threshold=None, max_cat_to_onehot=None,\n",
       "              max_delta_step=None, max_depth=4, max_leaves=None,\n",
       "              min_child_weight=None, missing=nan, monotone_constraints=None,\n",
       "              n_estimators=23, n_jobs=None, num_parallel_tree=None,\n",
       "              predictor=None, random_state=None, ...)"
      ]
     },
     "execution_count": 32,
     "metadata": {},
     "output_type": "execute_result"
    }
   ],
   "source": [
    "params = {'max_depth': 4, 'learning_rate': 0.10151446144603166, 'n_estimators': 23,\n",
    "          'tree_method':'gpu_hist','objective':'binary:logistic'}\n",
    "model = XGBClassifier(**params)\n",
    "model.fit(X_stack_train,y_train[TrainSplit.IS_INSTALLED[0]])"
   ]
  },
  {
   "cell_type": "code",
   "execution_count": 33,
   "id": "2efdb5ae-f1c6-445f-bde5-0de6d48f5988",
   "metadata": {},
   "outputs": [],
   "source": [
    "install_pred = model.predict_proba(stack_test)[:,1]"
   ]
  },
  {
   "cell_type": "code",
   "execution_count": 34,
   "id": "cfa7e497-ee3e-4c4b-867e-e54cbc1afe06",
   "metadata": {},
   "outputs": [
    {
     "data": {
      "text/plain": [
       "(160973,)"
      ]
     },
     "execution_count": 34,
     "metadata": {},
     "output_type": "execute_result"
    }
   ],
   "source": [
    "install_pred.shape"
   ]
  },
  {
   "cell_type": "code",
   "execution_count": 35,
   "id": "1772cdbb-0d99-421a-a27c-852c9b9281c6",
   "metadata": {},
   "outputs": [
    {
     "name": "stdout",
     "output_type": "stream",
     "text": [
      "Saved the test result to csv file as xgb_stack_all_cat_num_xgb_2023-05-25 06:19:35.109117.csv\n",
      "Saved the model config to json file as xgb_stack_all_cat_num_xgb_2023-05-25 06:19:35.109117.json\n"
     ]
    },
    {
     "data": {
      "text/plain": [
       "<utils.TestResults at 0x149d7bd6ef70>"
      ]
     },
     "execution_count": 35,
     "metadata": {},
     "output_type": "execute_result"
    }
   ],
   "source": [
    "TestResults(row_id=test['f_0'],is_click=np.random.random(install_pred.shape[0]),\n",
    "            is_install=install_pred,model_name=\"xgb_stack_all_cat_num_xgb\",config=params)"
   ]
  },
  {
   "cell_type": "code",
   "execution_count": null,
   "id": "5657d90c-65a9-4bfc-9206-08d60d969f8c",
   "metadata": {},
   "outputs": [],
   "source": []
  }
 ],
 "metadata": {
  "kernelspec": {
   "display_name": "Python 3 (ipykernel)",
   "language": "python",
   "name": "python3"
  },
  "language_info": {
   "codemirror_mode": {
    "name": "ipython",
    "version": 3
   },
   "file_extension": ".py",
   "mimetype": "text/x-python",
   "name": "python",
   "nbconvert_exporter": "python",
   "pygments_lexer": "ipython3",
   "version": "3.9.16"
  }
 },
 "nbformat": 4,
 "nbformat_minor": 5
}
