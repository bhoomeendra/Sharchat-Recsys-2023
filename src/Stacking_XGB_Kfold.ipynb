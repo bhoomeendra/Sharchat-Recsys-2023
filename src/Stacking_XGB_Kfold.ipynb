{
 "cells": [
  {
   "cell_type": "code",
   "execution_count": 40,
   "id": "a140bf03-40bf-4c31-8dd5-f8fd5bf5de50",
   "metadata": {},
   "outputs": [],
   "source": [
    "from utils import TrainSplit,TestResults\n",
    "from xgboost import XGBClassifier\n",
    "from sklearn.model_selection import KFold\n",
    "from sklearn.metrics import log_loss\n",
    "from tqdm import tqdm\n",
    "\n",
    "import pandas as pd\n",
    "import random"
   ]
  },
  {
   "cell_type": "code",
   "execution_count": 28,
   "id": "07f1832a-3b72-49a1-9433-b7d1836b26a6",
   "metadata": {},
   "outputs": [
    {
     "name": "stdout",
     "output_type": "stream",
     "text": [
      "Loading the data\n",
      "Categorial Feature Imputed\n"
     ]
    },
    {
     "name": "stderr",
     "output_type": "stream",
     "text": [
      "NUM IMPUTE: 100%|█████████████████████████████████████| 11/11 [00:00<00:00, 47.77it/s]\n"
     ]
    },
    {
     "name": "stdout",
     "output_type": "stream",
     "text": [
      "Spliting the Data based on time\n",
      "X_train:(3387880, 80), X_test:(97972, 80) , y_train:(3387880, 2) , y_test:(97972, 2)\n"
     ]
    }
   ],
   "source": [
    "X_train, X_test, y_train, y_test = TrainSplit().get_split()"
   ]
  },
  {
   "cell_type": "code",
   "execution_count": 29,
   "id": "18ad2586-a598-4cfa-b505-ea6f3eae8f07",
   "metadata": {},
   "outputs": [
    {
     "data": {
      "text/plain": [
       "(pandas.core.frame.DataFrame, pandas.core.frame.DataFrame)"
      ]
     },
     "execution_count": 29,
     "metadata": {},
     "output_type": "execute_result"
    }
   ],
   "source": [
    "type(X_train),type(X_test)"
   ]
  },
  {
   "cell_type": "code",
   "execution_count": 30,
   "id": "9ebf1b29-0418-450c-a431-4b10ce45035a",
   "metadata": {},
   "outputs": [
    {
     "name": "stdout",
     "output_type": "stream",
     "text": [
      "(3485852, 80) (3485852, 2)\n"
     ]
    }
   ],
   "source": [
    "X = pd.concat([X_train,X_test],axis=0)\n",
    "y = pd.concat([y_train,y_test],axis=0)\n",
    "print(X.shape,y.shape)"
   ]
  },
  {
   "cell_type": "code",
   "execution_count": 31,
   "id": "57a828df-c475-4cad-bdf9-67e71bef114e",
   "metadata": {},
   "outputs": [
    {
     "data": {
      "text/plain": [
       "16573"
      ]
     },
     "execution_count": 31,
     "metadata": {},
     "output_type": "execute_result"
    }
   ],
   "source": [
    "import gc\n",
    "gc.collect()"
   ]
  },
  {
   "cell_type": "code",
   "execution_count": 32,
   "id": "22bfac24-5929-4a29-96cf-9e9cba733abe",
   "metadata": {},
   "outputs": [],
   "source": [
    "cat_feat = TrainSplit.CATEGORIES + TrainSplit.BINARY\n",
    "num_feat = TrainSplit.NUMERICAL\n",
    "all_feat = cat_feat + num_feat"
   ]
  },
  {
   "cell_type": "code",
   "execution_count": 37,
   "id": "8b7fd41f-48f0-452e-a0c1-821be170533a",
   "metadata": {},
   "outputs": [],
   "source": [
    "def get_model(train_idx,test_idx,feat):\n",
    "    X_tr = X.iloc[train_idx,:][feat]\n",
    "    X_ts = X.iloc[test_idx,:][feat]\n",
    "    y_tr = y.iloc[train_idx,:][TrainSplit.IS_INSTALLED[0]]\n",
    "    y_ts = y.iloc[test_idx,:][TrainSplit.IS_INSTALLED[0]]\n",
    "    params = {\"max_depth\": 7,\n",
    "              \"learning_rate\": 0.05198517520669243,\n",
    "              \"n_estimators\": 606,\n",
    "              \"tree_method\": \"gpu_hist\",\n",
    "              \"objective\": \"binary:logistic\"}\n",
    "    model = XGBClassifier(**params)\n",
    "    model.fit(X_tr,y_tr)\n",
    "    y_pred = model.predict(X_ts)\n",
    "    score = log_loss(y_ts,y_pred)\n",
    "    print(f\"The log loss is: {score}\")\n",
    "    return model"
   ]
  },
  {
   "cell_type": "code",
   "execution_count": 34,
   "id": "963a892d-8057-447f-9992-0c54ac51690e",
   "metadata": {},
   "outputs": [],
   "source": [
    "folds = KFold(n_splits=30)"
   ]
  },
  {
   "cell_type": "code",
   "execution_count": 43,
   "id": "47632c2d-2362-4830-9dc0-e931ffe5854c",
   "metadata": {},
   "outputs": [
    {
     "name": "stderr",
     "output_type": "stream",
     "text": [
      "Kfold:   3%|█▍                                         | 1/30 [00:23<11:22, 23.54s/it]"
     ]
    },
    {
     "name": "stdout",
     "output_type": "stream",
     "text": [
      "The log loss is: 4.377550450250412\n"
     ]
    },
    {
     "name": "stderr",
     "output_type": "stream",
     "text": [
      "Kfold:   7%|██▊                                        | 2/30 [00:47<11:13, 24.05s/it]"
     ]
    },
    {
     "name": "stdout",
     "output_type": "stream",
     "text": [
      "The log loss is: 4.496448348485517\n"
     ]
    },
    {
     "name": "stderr",
     "output_type": "stream",
     "text": [
      "Kfold:  10%|████▎                                      | 3/30 [01:13<11:07, 24.72s/it]"
     ]
    },
    {
     "name": "stdout",
     "output_type": "stream",
     "text": [
      "The log loss is: 4.488164173645464\n"
     ]
    },
    {
     "name": "stderr",
     "output_type": "stream",
     "text": [
      "Kfold:  13%|█████▋                                     | 4/30 [01:38<10:41, 24.66s/it]"
     ]
    },
    {
     "name": "stdout",
     "output_type": "stream",
     "text": [
      "The log loss is: 4.509268327457749\n"
     ]
    },
    {
     "name": "stderr",
     "output_type": "stream",
     "text": [
      "Kfold:  17%|███████▏                                   | 5/30 [02:01<10:09, 24.37s/it]"
     ]
    },
    {
     "name": "stdout",
     "output_type": "stream",
     "text": [
      "The log loss is: 4.401962499085821\n"
     ]
    },
    {
     "name": "stderr",
     "output_type": "stream",
     "text": [
      "Kfold:  20%|████████▌                                  | 6/30 [02:25<09:39, 24.15s/it]"
     ]
    },
    {
     "name": "stdout",
     "output_type": "stream",
     "text": [
      "The log loss is: 4.501538410499852\n"
     ]
    },
    {
     "name": "stderr",
     "output_type": "stream",
     "text": [
      "Kfold:  23%|██████████                                 | 7/30 [02:49<09:15, 24.17s/it]"
     ]
    },
    {
     "name": "stdout",
     "output_type": "stream",
     "text": [
      "The log loss is: 4.509565520793225\n"
     ]
    },
    {
     "name": "stderr",
     "output_type": "stream",
     "text": [
      "Kfold:  27%|███████████▍                               | 8/30 [03:14<08:58, 24.47s/it]"
     ]
    },
    {
     "name": "stdout",
     "output_type": "stream",
     "text": [
      "The log loss is: 4.5062960706718815\n"
     ]
    },
    {
     "name": "stderr",
     "output_type": "stream",
     "text": [
      "Kfold:  30%|████████████▉                              | 9/30 [03:38<08:30, 24.32s/it]"
     ]
    },
    {
     "name": "stdout",
     "output_type": "stream",
     "text": [
      "The log loss is: 4.544639254661187\n"
     ]
    },
    {
     "name": "stderr",
     "output_type": "stream",
     "text": [
      "Kfold:  33%|██████████████                            | 10/30 [04:03<08:09, 24.48s/it]"
     ]
    },
    {
     "name": "stdout",
     "output_type": "stream",
     "text": [
      "The log loss is: 4.52353558943634\n"
     ]
    },
    {
     "name": "stderr",
     "output_type": "stream",
     "text": [
      "Kfold:  37%|███████████████▍                          | 11/30 [04:28<07:48, 24.66s/it]"
     ]
    },
    {
     "name": "stdout",
     "output_type": "stream",
     "text": [
      "The log loss is: 4.513428669434193\n"
     ]
    },
    {
     "name": "stderr",
     "output_type": "stream",
     "text": [
      "Kfold:  40%|████████████████▊                         | 12/30 [04:55<07:37, 25.39s/it]"
     ]
    },
    {
     "name": "stdout",
     "output_type": "stream",
     "text": [
      "The log loss is: 4.364509167843118\n"
     ]
    },
    {
     "name": "stderr",
     "output_type": "stream",
     "text": [
      "Kfold:  43%|██████████████████▏                       | 13/30 [05:20<07:07, 25.13s/it]"
     ]
    },
    {
     "name": "stdout",
     "output_type": "stream",
     "text": [
      "The log loss is: 4.459330770382065\n"
     ]
    },
    {
     "name": "stderr",
     "output_type": "stream",
     "text": [
      "Kfold:  47%|███████████████████▌                      | 14/30 [05:45<06:41, 25.08s/it]"
     ]
    },
    {
     "name": "stdout",
     "output_type": "stream",
     "text": [
      "The log loss is: 4.344593402007989\n"
     ]
    },
    {
     "name": "stderr",
     "output_type": "stream",
     "text": [
      "Kfold:  50%|█████████████████████                     | 15/30 [06:10<06:17, 25.19s/it]"
     ]
    },
    {
     "name": "stdout",
     "output_type": "stream",
     "text": [
      "The log loss is: 4.444171240245725\n"
     ]
    },
    {
     "name": "stderr",
     "output_type": "stream",
     "text": [
      "Kfold:  53%|██████████████████████▍                   | 16/30 [06:36<05:53, 25.26s/it]"
     ]
    },
    {
     "name": "stdout",
     "output_type": "stream",
     "text": [
      "The log loss is: 4.4581423961679345\n"
     ]
    },
    {
     "name": "stderr",
     "output_type": "stream",
     "text": [
      "Kfold:  57%|███████████████████████▊                  | 17/30 [07:01<05:26, 25.13s/it]"
     ]
    },
    {
     "name": "stdout",
     "output_type": "stream",
     "text": [
      "The log loss is: 4.490838376906703\n"
     ]
    },
    {
     "name": "stderr",
     "output_type": "stream",
     "text": [
      "Kfold:  60%|█████████████████████████▏                | 18/30 [07:25<05:00, 25.00s/it]"
     ]
    },
    {
     "name": "stdout",
     "output_type": "stream",
     "text": [
      "The log loss is: 4.486378632629037\n"
     ]
    },
    {
     "name": "stderr",
     "output_type": "stream",
     "text": [
      "Kfold:  63%|██████████████████████████▌               | 19/30 [07:51<04:35, 25.08s/it]"
     ]
    },
    {
     "name": "stdout",
     "output_type": "stream",
     "text": [
      "The log loss is: 4.555341517864624\n"
     ]
    },
    {
     "name": "stderr",
     "output_type": "stream",
     "text": [
      "Kfold:  67%|████████████████████████████              | 20/30 [08:17<04:14, 25.40s/it]"
     ]
    },
    {
     "name": "stdout",
     "output_type": "stream",
     "text": [
      "The log loss is: 4.536020276330708\n"
     ]
    },
    {
     "name": "stderr",
     "output_type": "stream",
     "text": [
      "Kfold:  70%|█████████████████████████████▍            | 21/30 [08:42<03:49, 25.47s/it]"
     ]
    },
    {
     "name": "stdout",
     "output_type": "stream",
     "text": [
      "The log loss is: 4.388289011323501\n"
     ]
    },
    {
     "name": "stderr",
     "output_type": "stream",
     "text": [
      "Kfold:  73%|██████████████████████████████▊           | 22/30 [09:08<03:23, 25.48s/it]"
     ]
    },
    {
     "name": "stdout",
     "output_type": "stream",
     "text": [
      "The log loss is: 4.418310754393465\n"
     ]
    },
    {
     "name": "stderr",
     "output_type": "stream",
     "text": [
      "Kfold:  77%|████████████████████████████████▏         | 23/30 [09:34<03:00, 25.72s/it]"
     ]
    },
    {
     "name": "stdout",
     "output_type": "stream",
     "text": [
      "The log loss is: 4.372832074524777\n"
     ]
    },
    {
     "name": "stderr",
     "output_type": "stream",
     "text": [
      "Kfold:  80%|█████████████████████████████████▌        | 24/30 [10:00<02:35, 25.90s/it]"
     ]
    },
    {
     "name": "stdout",
     "output_type": "stream",
     "text": [
      "The log loss is: 4.52561725715369\n"
     ]
    },
    {
     "name": "stderr",
     "output_type": "stream",
     "text": [
      "Kfold:  83%|███████████████████████████████████       | 25/30 [10:27<02:10, 26.01s/it]"
     ]
    },
    {
     "name": "stdout",
     "output_type": "stream",
     "text": [
      "The log loss is: 4.40642110103229\n"
     ]
    },
    {
     "name": "stderr",
     "output_type": "stream",
     "text": [
      "Kfold:  87%|████████████████████████████████████▍     | 26/30 [10:52<01:43, 25.84s/it]"
     ]
    },
    {
     "name": "stdout",
     "output_type": "stream",
     "text": [
      "The log loss is: 4.387397045952336\n"
     ]
    },
    {
     "name": "stderr",
     "output_type": "stream",
     "text": [
      "Kfold:  90%|█████████████████████████████████████▊    | 27/30 [11:17<01:16, 25.46s/it]"
     ]
    },
    {
     "name": "stdout",
     "output_type": "stream",
     "text": [
      "The log loss is: 4.524130898230063\n"
     ]
    },
    {
     "name": "stderr",
     "output_type": "stream",
     "text": [
      "Kfold:  93%|███████████████████████████████████████▏  | 28/30 [11:43<00:51, 25.73s/it]"
     ]
    },
    {
     "name": "stdout",
     "output_type": "stream",
     "text": [
      "The log loss is: 4.397206690040851\n"
     ]
    },
    {
     "name": "stderr",
     "output_type": "stream",
     "text": [
      "Kfold:  97%|████████████████████████████████████████▌ | 29/30 [12:09<00:25, 25.65s/it]"
     ]
    },
    {
     "name": "stdout",
     "output_type": "stream",
     "text": [
      "The log loss is: 4.391855702950911\n"
     ]
    },
    {
     "name": "stderr",
     "output_type": "stream",
     "text": [
      "Kfold: 100%|██████████████████████████████████████████| 30/30 [12:35<00:00, 25.17s/it]"
     ]
    },
    {
     "name": "stdout",
     "output_type": "stream",
     "text": [
      "The log loss is: 6.011571773469271\n"
     ]
    },
    {
     "name": "stderr",
     "output_type": "stream",
     "text": [
      "\n"
     ]
    }
   ],
   "source": [
    "models = []\n",
    "feats =  []\n",
    "for train_idx,test_idx in tqdm(folds.split(X),desc=\"Kfold\",total=30):\n",
    "    selected = random.sample(all_feat,int(0.7*len(all_feat)))\n",
    "    feats.append(selected)\n",
    "    models.append(get_model(train_idx,test_idx,selected))"
   ]
  },
  {
   "cell_type": "code",
   "execution_count": 56,
   "id": "1f586677-c459-4402-9064-dbff07275c16",
   "metadata": {},
   "outputs": [
    {
     "name": "stderr",
     "output_type": "stream",
     "text": [
      "Pred: 100%|███████████████████████████████████████████| 30/30 [01:12<00:00,  2.40s/it]\n"
     ]
    }
   ],
   "source": [
    "X_meta = X[X[TrainSplit.DATE[0]]>57]\n",
    "y_meta = y[X[TrainSplit.DATE[0]]>57]\n",
    "\n",
    "predictions = list()\n",
    "\n",
    "for model,feat in tqdm(zip(models,feats),desc=\"Pred\",total=30):\n",
    "    y_pred = model.predict_proba(X_meta[feat])[:,1]\n",
    "    predictions.append(y_pred)"
   ]
  },
  {
   "cell_type": "code",
   "execution_count": 57,
   "id": "e3ee5838-7c28-45a2-a5d5-42ce644bd77d",
   "metadata": {},
   "outputs": [
    {
     "data": {
      "text/plain": [
       "(1274751,)"
      ]
     },
     "execution_count": 57,
     "metadata": {},
     "output_type": "execute_result"
    }
   ],
   "source": [
    "predictions[0].shape"
   ]
  },
  {
   "cell_type": "code",
   "execution_count": 67,
   "id": "4f27c80d-4128-4c91-a604-176a7170a026",
   "metadata": {},
   "outputs": [],
   "source": [
    "import numpy as np\n",
    "x_meta_train = np.vstack(predictions).T"
   ]
  },
  {
   "cell_type": "code",
   "execution_count": 69,
   "id": "55280889-c0b3-4de6-b52c-7e8d22872d6d",
   "metadata": {},
   "outputs": [
    {
     "data": {
      "text/plain": [
       "(1274751, 30)"
      ]
     },
     "execution_count": 69,
     "metadata": {},
     "output_type": "execute_result"
    }
   ],
   "source": [
    "x_meta_train.shape"
   ]
  },
  {
   "cell_type": "code",
   "execution_count": 72,
   "id": "81feea5b-50df-4b87-9ef1-8b205e0eb8bf",
   "metadata": {},
   "outputs": [
    {
     "data": {
      "text/plain": [
       "16         1\n",
       "17         1\n",
       "18         0\n",
       "21         0\n",
       "25         1\n",
       "          ..\n",
       "3485578    0\n",
       "3485664    0\n",
       "3485724    0\n",
       "3485743    0\n",
       "3485807    0\n",
       "Name: is_installed, Length: 1274751, dtype: int64"
      ]
     },
     "execution_count": 72,
     "metadata": {},
     "output_type": "execute_result"
    }
   ],
   "source": [
    "y_meta[TrainSplit.IS_INSTALLED[0]]"
   ]
  },
  {
   "cell_type": "code",
   "execution_count": 73,
   "id": "ba872a84-1e9d-4b70-9123-dbe9f78625c7",
   "metadata": {},
   "outputs": [
    {
     "data": {
      "text/plain": [
       "LogisticRegression()"
      ]
     },
     "execution_count": 73,
     "metadata": {},
     "output_type": "execute_result"
    }
   ],
   "source": [
    "from sklearn.linear_model import LogisticRegression\n",
    "final_model = LogisticRegression()\n",
    "final_model.fit(x_meta_train,y_meta[TrainSplit.IS_INSTALLED[0]])"
   ]
  },
  {
   "cell_type": "code",
   "execution_count": 74,
   "id": "569cae53-f1f8-4375-927a-462afe3e5c0d",
   "metadata": {},
   "outputs": [],
   "source": [
    "# def objective(trail):\n",
    "#     params = {\n",
    "#         'max_depth':trail.suggest_int('max_depth',2,6),\n",
    "#         'learning_rate':trail.suggest_float('learning_rate',0.05,0.3),\n",
    "#         'n_estimators':trail.suggest_int('n_estimators',10,300),\n",
    "#         'tree_method':'gpu_hist',\n",
    "#         'objective':'binary:logistic'\n",
    "#     }\n",
    "#     model = XGBClassifier(**params)\n",
    "#     model.fit(X_1[use_features],y_1[target])\n",
    "#     y_pred = model.predict(X_test[use_features])\n",
    "#     score = log_loss(y_test[target],y_pred)\n",
    "#     return score"
   ]
  },
  {
   "cell_type": "code",
   "execution_count": 75,
   "id": "529d03fa-fc26-4a8d-8ec5-a2521cfe3e95",
   "metadata": {},
   "outputs": [],
   "source": [
    "test = pd.read_csv('../Data/test/000000000000.csv',sep='\\t')\n",
    "test['f_30'].fillna(test['f_30'].mode()[0],inplace=True)\n",
    "test['f_31'].fillna(test['f_31'].mode()[0],inplace=True)\n",
    "fmiss = \"f_43,f_51,f_58,f_59,f_64,f_65,f_66,f_67,f_68,f_69,f_70\".split(',')\n",
    "for f in fmiss:\n",
    "    test[f].fillna(test[f].mean(),inplace=True)"
   ]
  },
  {
   "cell_type": "code",
   "execution_count": 76,
   "id": "be4d15e5-e162-4c80-afac-a1e17ca6705b",
   "metadata": {},
   "outputs": [
    {
     "name": "stderr",
     "output_type": "stream",
     "text": [
      "Test_Pred: 100%|██████████████████████████████████████| 30/30 [00:08<00:00,  3.54it/s]\n"
     ]
    }
   ],
   "source": [
    "results = list()\n",
    "\n",
    "for model,feat in tqdm(zip(models,feats),desc=\"Test_Pred\",total=30):\n",
    "    y_pred = model.predict_proba(test[feat])[:,1]\n",
    "    results.append(y_pred)"
   ]
  },
  {
   "cell_type": "code",
   "execution_count": 77,
   "id": "bb0cc8f0-c982-448c-bd3b-024a2cf36ffa",
   "metadata": {},
   "outputs": [],
   "source": [
    "import numpy as np\n",
    "x_test = np.vstack(results).T"
   ]
  },
  {
   "cell_type": "code",
   "execution_count": 88,
   "id": "90fc3278-c248-4b5b-9abb-dd1ce25f02c6",
   "metadata": {},
   "outputs": [],
   "source": [
    "y_test_out = final_model.predict_proba(x_test)[:,1]"
   ]
  },
  {
   "cell_type": "code",
   "execution_count": 89,
   "id": "795d19ae-a1a2-4db2-81f0-8106081f803a",
   "metadata": {},
   "outputs": [
    {
     "data": {
      "text/plain": [
       "array([0.14663191, 0.25971502, 0.05013334, ..., 0.03444524, 0.08274866,\n",
       "       0.04791832])"
      ]
     },
     "execution_count": 89,
     "metadata": {},
     "output_type": "execute_result"
    }
   ],
   "source": [
    "y_test_out"
   ]
  },
  {
   "cell_type": "code",
   "execution_count": 90,
   "id": "39680bec-fd8e-4043-aeb9-8b5e5319bbb6",
   "metadata": {},
   "outputs": [
    {
     "name": "stdout",
     "output_type": "stream",
     "text": [
      "Saved the test result to csv file as xgb_stacked_kfold_logistic_2023-06-05 16:33:18.291918.csv\n",
      "Saved the model config to json file as xgb_stacked_kfold_logistic_2023-06-05 16:33:18.291918.json\n"
     ]
    },
    {
     "data": {
      "text/plain": [
       "<utils.TestResults at 0x151a71140e50>"
      ]
     },
     "execution_count": 90,
     "metadata": {},
     "output_type": "execute_result"
    }
   ],
   "source": [
    "TestResults(row_id=test['f_0'],is_click=np.random.random(y_test_out.shape[0]),\n",
    "            is_install=y_test_out,model_name=\"xgb_stacked_kfold_logistic\",config={\"max_depth\": 7,\n",
    "              \"learning_rate\": 0.05198517520669243,\n",
    "              \"n_estimators\": 606,\n",
    "              \"tree_method\": \"gpu_hist\",\n",
    "              \"objective\": \"binary:logistic\"})"
   ]
  },
  {
   "cell_type": "code",
   "execution_count": null,
   "id": "130c34c8-7414-4f6a-ac9f-98330f3054df",
   "metadata": {},
   "outputs": [],
   "source": []
  }
 ],
 "metadata": {
  "kernelspec": {
   "display_name": "Python 3 (ipykernel)",
   "language": "python",
   "name": "python3"
  },
  "language_info": {
   "codemirror_mode": {
    "name": "ipython",
    "version": 3
   },
   "file_extension": ".py",
   "mimetype": "text/x-python",
   "name": "python",
   "nbconvert_exporter": "python",
   "pygments_lexer": "ipython3",
   "version": "3.9.16"
  }
 },
 "nbformat": 4,
 "nbformat_minor": 5
}
