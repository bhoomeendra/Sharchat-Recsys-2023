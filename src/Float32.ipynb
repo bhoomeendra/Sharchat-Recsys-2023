{
 "cells": [
  {
   "cell_type": "code",
   "execution_count": 1,
   "id": "6cc7a8e3-6a72-4285-b904-5d0751bd8c6b",
   "metadata": {},
   "outputs": [],
   "source": [
    "from utils import TestResults,TrainSplit\n",
    "from xgboost import XGBClassifier\n",
    "from sklearn.metrics import f1_score, log_loss\n",
    "\n",
    "import numpy as np\n",
    "import optuna"
   ]
  },
  {
   "cell_type": "code",
   "execution_count": 2,
   "id": "5b084a78-d353-4a43-b3b0-76d4c1da0e54",
   "metadata": {},
   "outputs": [],
   "source": [
    "import pandas as pd"
   ]
  },
  {
   "cell_type": "code",
   "execution_count": 3,
   "id": "57096865-7781-40f8-b41b-343a30b42623",
   "metadata": {},
   "outputs": [],
   "source": [
    "out = pd.read_csv(\"../Data/imputed_data.csv\")"
   ]
  },
  {
   "cell_type": "code",
   "execution_count": 6,
   "id": "6ef17044-6dd0-406d-854d-f6f53861561e",
   "metadata": {
    "collapsed": true,
    "jupyter": {
     "outputs_hidden": true
    },
    "tags": []
   },
   "outputs": [
    {
     "name": "stdout",
     "output_type": "stream",
     "text": [
      "Unnamed: 0 int64\n",
      "f_0 int64\n",
      "f_1 int64\n",
      "f_2 float64\n",
      "f_3 float64\n",
      "f_4 float64\n",
      "f_5 float64\n",
      "f_6 float64\n",
      "f_7 float64\n",
      "f_8 float64\n",
      "f_9 float64\n",
      "f_10 float64\n",
      "f_11 float64\n",
      "f_12 float64\n",
      "f_13 float64\n",
      "f_14 float64\n",
      "f_15 float64\n",
      "f_16 float64\n",
      "f_17 float64\n",
      "f_18 float64\n",
      "f_19 float64\n",
      "f_20 float64\n",
      "f_21 float64\n",
      "f_22 float64\n",
      "f_23 float64\n",
      "f_24 float64\n",
      "f_25 float64\n",
      "f_26 float64\n",
      "f_27 float64\n",
      "f_28 float64\n",
      "f_29 float64\n",
      "f_30 float64\n",
      "f_31 float64\n",
      "f_32 float64\n",
      "f_33 float64\n",
      "f_34 float64\n",
      "f_35 float64\n",
      "f_36 float64\n",
      "f_37 float64\n",
      "f_38 float64\n",
      "f_39 float64\n",
      "f_40 float64\n",
      "f_41 float64\n",
      "f_42 float64\n",
      "f_43 float64\n",
      "f_44 float64\n",
      "f_45 float64\n",
      "f_46 float64\n",
      "f_47 float64\n",
      "f_48 float64\n",
      "f_49 float64\n",
      "f_50 float64\n",
      "f_51 float64\n",
      "f_52 float64\n",
      "f_53 float64\n",
      "f_54 float64\n",
      "f_55 float64\n",
      "f_56 float64\n",
      "f_57 float64\n",
      "f_58 float64\n",
      "f_59 float64\n",
      "f_60 float64\n",
      "f_61 float64\n",
      "f_62 float64\n",
      "f_63 float64\n",
      "f_64 float64\n",
      "f_65 float64\n",
      "f_66 float64\n",
      "f_67 float64\n",
      "f_68 float64\n",
      "f_69 float64\n",
      "f_70 float64\n",
      "f_71 float64\n",
      "f_72 float64\n",
      "f_73 float64\n",
      "f_74 float64\n",
      "f_75 float64\n",
      "f_76 float64\n",
      "f_77 float64\n",
      "f_78 float64\n",
      "f_79 float64\n",
      "is_clicked int64\n",
      "is_installed int64\n"
     ]
    }
   ],
   "source": [
    "for k,v in out.dtypes.items():\n",
    "    print(k,v)"
   ]
  },
  {
   "cell_type": "code",
   "execution_count": 7,
   "id": "51b3a554-e89f-4b66-9195-73872ed3eed6",
   "metadata": {},
   "outputs": [],
   "source": [
    "types = dict()\n",
    "for i in range(2,80):\n",
    "    types[f'f_{i}'] = \"float32\""
   ]
  },
  {
   "cell_type": "code",
   "execution_count": 10,
   "id": "3a806a22-715c-4ef8-ae52-7df6541823c9",
   "metadata": {},
   "outputs": [],
   "source": [
    "out = out.astype(types)"
   ]
  },
  {
   "cell_type": "code",
   "execution_count": 12,
   "id": "cbfe8f86-9ebf-4e2e-a08f-eda74d580900",
   "metadata": {},
   "outputs": [
    {
     "data": {
      "text/plain": [
       "Unnamed: 0        int64\n",
       "f_0               int64\n",
       "f_1               int64\n",
       "f_2             float32\n",
       "f_3             float32\n",
       "                 ...   \n",
       "f_77            float32\n",
       "f_78            float32\n",
       "f_79            float32\n",
       "is_clicked        int64\n",
       "is_installed      int64\n",
       "Length: 83, dtype: object"
      ]
     },
     "execution_count": 12,
     "metadata": {},
     "output_type": "execute_result"
    }
   ],
   "source": [
    "out.dtypes"
   ]
  },
  {
   "cell_type": "code",
   "execution_count": null,
   "id": "d0020557-9a5e-40e1-bcea-700791727274",
   "metadata": {},
   "outputs": [],
   "source": [
    "out.to_csv(\"../Data/imputed_data_float32.csv\")"
   ]
  },
  {
   "cell_type": "code",
   "execution_count": null,
   "id": "a4752f2d-2a65-4b9f-af92-2a08d7b33360",
   "metadata": {},
   "outputs": [],
   "source": []
  }
 ],
 "metadata": {
  "kernelspec": {
   "display_name": "Python 3 (ipykernel)",
   "language": "python",
   "name": "python3"
  },
  "language_info": {
   "codemirror_mode": {
    "name": "ipython",
    "version": 3
   },
   "file_extension": ".py",
   "mimetype": "text/x-python",
   "name": "python",
   "nbconvert_exporter": "python",
   "pygments_lexer": "ipython3",
   "version": "3.9.16"
  }
 },
 "nbformat": 4,
 "nbformat_minor": 5
}
