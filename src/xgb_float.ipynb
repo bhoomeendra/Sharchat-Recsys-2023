{
 "cells": [
  {
   "cell_type": "code",
   "execution_count": 1,
   "id": "7e712284-3b01-4ef9-9bb9-a167c59d7180",
   "metadata": {},
   "outputs": [],
   "source": [
    "from utils import TestResults,TrainSplit\n",
    "from xgboost import XGBClassifier\n",
    "from sklearn.metrics import f1_score, log_loss\n",
    "\n",
    "import numpy as np\n",
    "import optuna"
   ]
  },
  {
   "cell_type": "code",
   "execution_count": 2,
   "id": "d7183cf5-3540-44e8-913b-8bf4d5f3edb6",
   "metadata": {},
   "outputs": [],
   "source": [
    "cat_feat = TrainSplit.CATEGORIES + TrainSplit.BINARY\n",
    "num_feat = TrainSplit.NUMERICAL\n",
    "all_feat = cat_feat + num_feat"
   ]
  },
  {
   "cell_type": "code",
   "execution_count": 3,
   "id": "57b643c7-28e5-40e9-bd8b-725d0eb41143",
   "metadata": {},
   "outputs": [],
   "source": [
    "import pandas as pd\n",
    "data = pd.read_csv(\"../Data/imputed_data_float32.csv\")"
   ]
  },
  {
   "cell_type": "code",
   "execution_count": 18,
   "id": "6728dca2-a63d-4930-8985-7e1e9f05db7f",
   "metadata": {},
   "outputs": [],
   "source": [
    "train = data[data[TrainSplit.DATE[0]] < 66]\n",
    "valid  =data[data[TrainSplit.DATE[0]] == 66]\n",
    "\n",
    "X_train = train[all_feat]\n",
    "X_val = valid[all_feat]\n",
    "y_train = train[TrainSplit.IS_INSTALLED[0]]\n",
    "y_val = valid[TrainSplit.IS_INSTALLED[0]]"
   ]
  },
  {
   "cell_type": "code",
   "execution_count": 20,
   "id": "8fa21a7b-c19e-466b-8613-23b6a4468e8a",
   "metadata": {},
   "outputs": [
    {
     "data": {
      "text/plain": [
       "13071"
      ]
     },
     "execution_count": 20,
     "metadata": {},
     "output_type": "execute_result"
    }
   ],
   "source": [
    "import gc\n",
    "gc.collect()"
   ]
  },
  {
   "cell_type": "code",
   "execution_count": 21,
   "id": "d16fd779-6f74-4205-99cc-2a7cc4e2398a",
   "metadata": {},
   "outputs": [
    {
     "data": {
      "text/plain": [
       "((3387880, 78), (3387880,))"
      ]
     },
     "execution_count": 21,
     "metadata": {},
     "output_type": "execute_result"
    }
   ],
   "source": [
    "X_train.shape,y_train.shape"
   ]
  },
  {
   "cell_type": "code",
   "execution_count": 22,
   "id": "a4b2c362-4031-4dac-bb32-b6ce1cfdbdde",
   "metadata": {},
   "outputs": [
    {
     "data": {
      "text/plain": [
       "((97972, 78), (97972,))"
      ]
     },
     "execution_count": 22,
     "metadata": {},
     "output_type": "execute_result"
    }
   ],
   "source": [
    "X_val.shape,y_val.shape"
   ]
  },
  {
   "cell_type": "code",
   "execution_count": 24,
   "id": "18bf1efe-f18f-4033-8be3-ff8494654622",
   "metadata": {},
   "outputs": [],
   "source": [
    "def objective(trail):\n",
    "    params = {\n",
    "        'max_depth':trail.suggest_int('max_depth',3,8),\n",
    "        'learning_rate':trail.suggest_float('learning_rate',0.05,0.3),\n",
    "        'n_estimators':trail.suggest_int('n_estimators',100,650),\n",
    "        'tree_method':'gpu_hist',\n",
    "        'objective':'binary:logistic'\n",
    "    }\n",
    "    # print(use_features)\n",
    "    target = TrainSplit.IS_INSTALLED[0]\n",
    "    model = XGBClassifier(**params)\n",
    "    model.fit(X_train[use_features],y_train)\n",
    "    y_pred = model.predict(X_val[use_features])\n",
    "    # print(y_pred.shape,y_val.shape)\n",
    "    score = log_loss(y_val,y_pred)\n",
    "    # print(model.feature_names_in_)\n",
    "    return score"
   ]
  },
  {
   "cell_type": "code",
   "execution_count": 25,
   "id": "6c5e9343-3701-4ff4-a595-1453106a61bc",
   "metadata": {
    "collapsed": true,
    "jupyter": {
     "outputs_hidden": true
    },
    "tags": []
   },
   "outputs": [
    {
     "name": "stderr",
     "output_type": "stream",
     "text": [
      "\u001b[32m[I 2023-05-27 19:55:13,235]\u001b[0m A new study created in memory with name: install_log_loss\u001b[0m\n",
      "\u001b[32m[I 2023-05-27 19:55:29,335]\u001b[0m Trial 0 finished with value: 5.972361098286672 and parameters: {'max_depth': 6, 'learning_rate': 0.23064216025780576, 'n_estimators': 641}. Best is trial 0 with value: 5.972361098286672.\u001b[0m\n",
      "\u001b[32m[I 2023-05-27 19:55:36,258]\u001b[0m Trial 1 finished with value: 5.9346286876467484 and parameters: {'max_depth': 5, 'learning_rate': 0.13581009901863916, 'n_estimators': 162}. Best is trial 1 with value: 5.9346286876467484.\u001b[0m\n",
      "\u001b[32m[I 2023-05-27 19:55:48,033]\u001b[0m Trial 2 finished with value: 5.852851666697129 and parameters: {'max_depth': 4, 'learning_rate': 0.2454055085592715, 'n_estimators': 546}. Best is trial 2 with value: 5.852851666697129.\u001b[0m\n",
      "\u001b[32m[I 2023-05-27 19:55:57,998]\u001b[0m Trial 3 finished with value: 5.903965409217137 and parameters: {'max_depth': 5, 'learning_rate': 0.22102000485607748, 'n_estimators': 224}. Best is trial 2 with value: 5.852851666697129.\u001b[0m\n",
      "\u001b[32m[I 2023-05-27 19:56:08,208]\u001b[0m Trial 4 finished with value: 5.876817562281003 and parameters: {'max_depth': 7, 'learning_rate': 0.1893358427911958, 'n_estimators': 228}. Best is trial 2 with value: 5.852851666697129.\u001b[0m\n",
      "\u001b[32m[I 2023-05-27 19:56:16,490]\u001b[0m Trial 5 finished with value: 5.97305398762063 and parameters: {'max_depth': 3, 'learning_rate': 0.11125028970522778, 'n_estimators': 317}. Best is trial 2 with value: 5.852851666697129.\u001b[0m\n",
      "\u001b[32m[I 2023-05-27 19:56:31,689]\u001b[0m Trial 6 finished with value: 5.870474724380378 and parameters: {'max_depth': 7, 'learning_rate': 0.13269007660890636, 'n_estimators': 477}. Best is trial 2 with value: 5.852851666697129.\u001b[0m\n",
      "\u001b[32m[I 2023-05-27 19:56:41,661]\u001b[0m Trial 7 finished with value: 5.871528051254727 and parameters: {'max_depth': 4, 'learning_rate': 0.2720114953011031, 'n_estimators': 367}. Best is trial 2 with value: 5.852851666697129.\u001b[0m\n",
      "\u001b[32m[I 2023-05-27 19:56:49,338]\u001b[0m Trial 8 finished with value: 5.945558157576783 and parameters: {'max_depth': 4, 'learning_rate': 0.23692297886385988, 'n_estimators': 181}. Best is trial 2 with value: 5.852851666697129.\u001b[0m\n",
      "\u001b[32m[I 2023-05-27 19:56:59,676]\u001b[0m Trial 9 finished with value: 5.8954970237200675 and parameters: {'max_depth': 5, 'learning_rate': 0.08133874940493334, 'n_estimators': 364}. Best is trial 2 with value: 5.852851666697129.\u001b[0m\n",
      "\u001b[32m[I 2023-05-27 19:57:10,852]\u001b[0m Trial 10 finished with value: 5.835573939637571 and parameters: {'max_depth': 3, 'learning_rate': 0.2857462909403974, 'n_estimators': 567}. Best is trial 10 with value: 5.835573939637571.\u001b[0m\n",
      "\u001b[32m[I 2023-05-27 19:57:21,729]\u001b[0m Trial 11 finished with value: 5.81547629025656 and parameters: {'max_depth': 3, 'learning_rate': 0.28609900151711026, 'n_estimators': 573}. Best is trial 11 with value: 5.81547629025656.\u001b[0m\n",
      "\u001b[32m[I 2023-05-27 19:57:32,135]\u001b[0m Trial 12 finished with value: 5.921940253262113 and parameters: {'max_depth': 3, 'learning_rate': 0.29481655150023445, 'n_estimators': 515}. Best is trial 11 with value: 5.81547629025656.\u001b[0m\n",
      "\u001b[32m[I 2023-05-27 19:57:44,110]\u001b[0m Trial 13 finished with value: 5.867652467872981 and parameters: {'max_depth': 3, 'learning_rate': 0.2883088416022256, 'n_estimators': 632}. Best is trial 11 with value: 5.81547629025656.\u001b[0m\n",
      "\u001b[32m[I 2023-05-27 19:57:59,568]\u001b[0m Trial 14 finished with value: 5.976591218452042 and parameters: {'max_depth': 8, 'learning_rate': 0.2986463741895097, 'n_estimators': 452}. Best is trial 11 with value: 5.81547629025656.\u001b[0m\n",
      "\u001b[32m[I 2023-05-27 19:58:10,491]\u001b[0m Trial 15 finished with value: 5.917009563801347 and parameters: {'max_depth': 3, 'learning_rate': 0.2587960379796775, 'n_estimators': 565}. Best is trial 11 with value: 5.81547629025656.\u001b[0m\n",
      "\u001b[32m[I 2023-05-27 19:58:20,700]\u001b[0m Trial 16 finished with value: 5.882812090614343 and parameters: {'max_depth': 4, 'learning_rate': 0.20143123194590032, 'n_estimators': 433}. Best is trial 11 with value: 5.81547629025656.\u001b[0m\n",
      "\u001b[32m[I 2023-05-27 19:58:35,865]\u001b[0m Trial 17 finished with value: 5.947690764861473 and parameters: {'max_depth': 6, 'learning_rate': 0.2632065510879424, 'n_estimators': 586}. Best is trial 11 with value: 5.81547629025656.\u001b[0m\n",
      "\u001b[32m[I 2023-05-27 19:58:46,066]\u001b[0m Trial 18 finished with value: 5.834158934676454 and parameters: {'max_depth': 3, 'learning_rate': 0.1709602703433531, 'n_estimators': 494}. Best is trial 11 with value: 5.81547629025656.\u001b[0m\n",
      "\u001b[32m[I 2023-05-27 19:58:59,114]\u001b[0m Trial 19 finished with value: 5.882459112675175 and parameters: {'max_depth': 4, 'learning_rate': 0.16701047041665398, 'n_estimators': 497}. Best is trial 11 with value: 5.81547629025656.\u001b[0m\n",
      "\u001b[32m[I 2023-05-27 19:59:07,970]\u001b[0m Trial 20 finished with value: 5.875757591954358 and parameters: {'max_depth': 3, 'learning_rate': 0.17667200447773276, 'n_estimators': 426}. Best is trial 11 with value: 5.81547629025656.\u001b[0m\n",
      "\u001b[32m[I 2023-05-27 19:59:19,583]\u001b[0m Trial 21 finished with value: 5.868712307615796 and parameters: {'max_depth': 3, 'learning_rate': 0.2740651439789311, 'n_estimators': 601}. Best is trial 11 with value: 5.81547629025656.\u001b[0m\n",
      "\u001b[32m[I 2023-05-27 19:59:31,567]\u001b[0m Trial 22 finished with value: 5.893385138456722 and parameters: {'max_depth': 4, 'learning_rate': 0.2076286773568406, 'n_estimators': 541}. Best is trial 11 with value: 5.81547629025656.\u001b[0m\n",
      "\u001b[32m[I 2023-05-27 19:59:43,062]\u001b[0m Trial 23 finished with value: 5.9067790635148025 and parameters: {'max_depth': 3, 'learning_rate': 0.24536729741337582, 'n_estimators': 599}. Best is trial 11 with value: 5.81547629025656.\u001b[0m\n",
      "\u001b[32m[I 2023-05-27 19:59:53,618]\u001b[0m Trial 24 finished with value: 5.8531974462027305 and parameters: {'max_depth': 3, 'learning_rate': 0.21276403443006764, 'n_estimators': 519}. Best is trial 11 with value: 5.81547629025656.\u001b[0m\n",
      "\u001b[32m[I 2023-05-27 20:00:03,446]\u001b[0m Trial 25 finished with value: 5.853904389621271 and parameters: {'max_depth': 4, 'learning_rate': 0.27862739296285943, 'n_estimators': 403}. Best is trial 11 with value: 5.81547629025656.\u001b[0m\n",
      "\u001b[32m[I 2023-05-27 20:00:15,744]\u001b[0m Trial 26 finished with value: 5.926881348621741 and parameters: {'max_depth': 5, 'learning_rate': 0.2521105349784121, 'n_estimators': 489}. Best is trial 11 with value: 5.81547629025656.\u001b[0m\n",
      "\u001b[32m[I 2023-05-27 20:00:28,056]\u001b[0m Trial 27 finished with value: 5.799613927263649 and parameters: {'max_depth': 3, 'learning_rate': 0.22733879227617648, 'n_estimators': 644}. Best is trial 27 with value: 5.799613927263649.\u001b[0m\n",
      "\u001b[32m[I 2023-05-27 20:00:41,543]\u001b[0m Trial 28 finished with value: 5.908903688862956 and parameters: {'max_depth': 4, 'learning_rate': 0.22722737020078398, 'n_estimators': 641}. Best is trial 27 with value: 5.799613927263649.\u001b[0m\n",
      "\u001b[32m[I 2023-05-27 20:00:47,103]\u001b[0m Trial 29 finished with value: 5.89761377323104 and parameters: {'max_depth': 6, 'learning_rate': 0.24208433401542848, 'n_estimators': 103}. Best is trial 27 with value: 5.799613927263649.\u001b[0m\n",
      "\u001b[32m[I 2023-05-27 20:00:58,761]\u001b[0m Trial 30 finished with value: 5.864480702059373 and parameters: {'max_depth': 3, 'learning_rate': 0.2239291808811204, 'n_estimators': 617}. Best is trial 27 with value: 5.799613927263649.\u001b[0m\n",
      "\u001b[32m[I 2023-05-27 20:01:11,280]\u001b[0m Trial 31 finished with value: 5.859194512759244 and parameters: {'max_depth': 3, 'learning_rate': 0.2844423877226792, 'n_estimators': 649}. Best is trial 27 with value: 5.799613927263649.\u001b[0m\n",
      "\u001b[32m[I 2023-05-27 20:01:22,707]\u001b[0m Trial 32 finished with value: 5.876112169545428 and parameters: {'max_depth': 3, 'learning_rate': 0.2707675880035118, 'n_estimators': 570}. Best is trial 27 with value: 5.799613927263649.\u001b[0m\n",
      "\u001b[32m[I 2023-05-27 20:01:34,903]\u001b[0m Trial 33 finished with value: 5.914184140636102 and parameters: {'max_depth': 4, 'learning_rate': 0.29890453199815614, 'n_estimators': 558}. Best is trial 27 with value: 5.799613927263649.\u001b[0m\n",
      "\u001b[32m[I 2023-05-27 20:01:45,901]\u001b[0m Trial 34 finished with value: 5.883874174766718 and parameters: {'max_depth': 3, 'learning_rate': 0.26146985610352497, 'n_estimators': 544}. Best is trial 27 with value: 5.799613927263649.\u001b[0m\n",
      "\u001b[32m[I 2023-05-27 20:02:00,263]\u001b[0m Trial 35 finished with value: 5.891277415552922 and parameters: {'max_depth': 5, 'learning_rate': 0.2370761948508199, 'n_estimators': 612}. Best is trial 27 with value: 5.799613927263649.\u001b[0m\n",
      "\u001b[32m[I 2023-05-27 20:02:08,764]\u001b[0m Trial 36 finished with value: 5.8465016466859145 and parameters: {'max_depth': 4, 'learning_rate': 0.25471471661245515, 'n_estimators': 325}. Best is trial 27 with value: 5.799613927263649.\u001b[0m\n",
      "\u001b[32m[I 2023-05-27 20:02:18,888]\u001b[0m Trial 37 finished with value: 5.871882914497926 and parameters: {'max_depth': 3, 'learning_rate': 0.28310796642107566, 'n_estimators': 469}. Best is trial 27 with value: 5.799613927263649.\u001b[0m\n",
      "\u001b[32m[I 2023-05-27 20:02:35,063]\u001b[0m Trial 38 finished with value: 5.9300535061868365 and parameters: {'max_depth': 7, 'learning_rate': 0.195385746249856, 'n_estimators': 522}. Best is trial 27 with value: 5.799613927263649.\u001b[0m\n",
      "\u001b[32m[I 2023-05-27 20:02:53,771]\u001b[0m Trial 39 finished with value: 5.991753526323385 and parameters: {'max_depth': 8, 'learning_rate': 0.21777690965095592, 'n_estimators': 580}. Best is trial 27 with value: 5.799613927263649.\u001b[0m\n",
      "\u001b[32m[I 2023-05-27 20:03:05,843]\u001b[0m Trial 40 finished with value: 5.83169442241798 and parameters: {'max_depth': 4, 'learning_rate': 0.18181048813235565, 'n_estimators': 542}. Best is trial 27 with value: 5.799613927263649.\u001b[0m\n",
      "\u001b[32m[I 2023-05-27 20:03:17,984]\u001b[0m Trial 41 finished with value: 5.881754168821513 and parameters: {'max_depth': 4, 'learning_rate': 0.1794757404528409, 'n_estimators': 537}. Best is trial 27 with value: 5.799613927263649.\u001b[0m\n",
      "\u001b[32m[I 2023-05-27 20:03:30,038]\u001b[0m Trial 42 finished with value: 5.865539252286879 and parameters: {'max_depth': 3, 'learning_rate': 0.1604428455817126, 'n_estimators': 622}. Best is trial 27 with value: 5.799613927263649.\u001b[0m\n",
      "\u001b[32m[I 2023-05-27 20:03:40,387]\u001b[0m Trial 43 finished with value: 5.81724092694623 and parameters: {'max_depth': 3, 'learning_rate': 0.18710528493958845, 'n_estimators': 500}. Best is trial 27 with value: 5.799613927263649.\u001b[0m\n",
      "\u001b[32m[I 2023-05-27 20:03:51,631]\u001b[0m Trial 44 finished with value: 5.911718804067208 and parameters: {'max_depth': 4, 'learning_rate': 0.15423001753464005, 'n_estimators': 500}. Best is trial 27 with value: 5.799613927263649.\u001b[0m\n",
      "\u001b[32m[I 2023-05-27 20:04:01,418]\u001b[0m Trial 45 finished with value: 5.865887480239272 and parameters: {'max_depth': 3, 'learning_rate': 0.18865704950858628, 'n_estimators': 459}. Best is trial 27 with value: 5.799613927263649.\u001b[0m\n",
      "\u001b[32m[I 2023-05-27 20:04:10,497]\u001b[0m Trial 46 finished with value: 5.929354960940789 and parameters: {'max_depth': 5, 'learning_rate': 0.2053209492908977, 'n_estimators': 306}. Best is trial 27 with value: 5.799613927263649.\u001b[0m\n",
      "\u001b[32m[I 2023-05-27 20:04:19,281]\u001b[0m Trial 47 finished with value: 5.9103060271926715 and parameters: {'max_depth': 3, 'learning_rate': 0.14670284109449502, 'n_estimators': 385}. Best is trial 27 with value: 5.799613927263649.\u001b[0m\n",
      "\u001b[32m[I 2023-05-27 20:04:31,894]\u001b[0m Trial 48 finished with value: 5.870477083050784 and parameters: {'max_depth': 4, 'learning_rate': 0.1881976503461885, 'n_estimators': 582}. Best is trial 27 with value: 5.799613927263649.\u001b[0m\n",
      "\u001b[32m[I 2023-05-27 20:04:42,382]\u001b[0m Trial 49 finished with value: 5.853548628614252 and parameters: {'max_depth': 3, 'learning_rate': 0.1670836883439775, 'n_estimators': 507}. Best is trial 27 with value: 5.799613927263649.\u001b[0m\n"
     ]
    }
   ],
   "source": [
    "use_features = all_feat\n",
    "study_install = optuna.create_study(direction='minimize',study_name='install_log_loss')\n",
    "study_install.optimize(objective, n_trials=50)"
   ]
  },
  {
   "cell_type": "code",
   "execution_count": 46,
   "id": "fc705b25-56f9-4133-8e0e-fa6433154c34",
   "metadata": {},
   "outputs": [
    {
     "data": {
      "text/plain": [
       "XGBClassifier(base_score=None, booster=None, callbacks=None,\n",
       "              colsample_bylevel=None, colsample_bynode=None,\n",
       "              colsample_bytree=None, early_stopping_rounds=None,\n",
       "              enable_categorical=False, eval_metric=None, feature_types=None,\n",
       "              gamma=None, gpu_id=None, grow_policy=None, importance_type=None,\n",
       "              interaction_constraints=None, learning_rate=0.13269007660890636,\n",
       "              max_bin=None, max_cat_threshold=None, max_cat_to_onehot=None,\n",
       "              max_delta_step=None, max_depth=7, max_leaves=None,\n",
       "              min_child_weight=None, missing=nan, monotone_constraints=None,\n",
       "              n_estimators=477, n_jobs=None, num_parallel_tree=None,\n",
       "              predictor=None, random_state=None, ...)"
      ]
     },
     "execution_count": 46,
     "metadata": {},
     "output_type": "execute_result"
    }
   ],
   "source": [
    "params = {'max_depth': 7, \n",
    "         'learning_rate': 0.13269007660890636, \n",
    "         'n_estimators': 477,\n",
    "         'tree_method':'gpu_hist',\n",
    "         'objective':'binary:logistic'}\n",
    "\n",
    "target = TrainSplit.IS_INSTALLED[0]\n",
    "model = XGBClassifier(**params)\n",
    "model.fit(X_train[use_features],y_train)"
   ]
  },
  {
   "cell_type": "code",
   "execution_count": 27,
   "id": "f3193d4c-bd7e-4ad7-bc7c-f2e2ccc0769a",
   "metadata": {},
   "outputs": [],
   "source": [
    "test = pd.read_csv('../Data/test/000000000000.csv',sep='\\t')"
   ]
  },
  {
   "cell_type": "code",
   "execution_count": 28,
   "id": "8c0d2138-2a80-402a-b095-147ffb835af2",
   "metadata": {},
   "outputs": [],
   "source": [
    "data = pd.read_csv(\"../Data/miss_combine.csv\")\n",
    "data.loc[data['f_30'].isnull(),'f_30'] = 3\n",
    "data.loc[data['f_31'].isnull(),'f_31'] = 3\n",
    "fmiss = \"f_43,f_51,f_58,f_59,f_64,f_65,f_66,f_67,f_68,f_69,f_70\".split(',')\n",
    "for f in fmiss:\n",
    "    data[f].fillna(data[f].mean(),inplace=True)\n",
    "feat_num_map = dict()\n",
    "for i in range(2,43):\n",
    "    out = data.groupby(f'f_{i}')[TrainSplit.IS_INSTALLED[0]].mean()\n",
    "    temp = dict()\n",
    "    for clas,prob in out.items():\n",
    "        temp[clas]=prob\n",
    "    feat_num_map[f\"f_{i}\"] = temp"
   ]
  },
  {
   "cell_type": "code",
   "execution_count": 30,
   "id": "7a943285-363c-4cf0-b628-984e188c1b30",
   "metadata": {},
   "outputs": [],
   "source": [
    "from tqdm import tqdm"
   ]
  },
  {
   "cell_type": "code",
   "execution_count": 31,
   "id": "aadacfdb-3a96-417c-9fc7-aa0a28d1a34e",
   "metadata": {},
   "outputs": [
    {
     "name": "stderr",
     "output_type": "stream",
     "text": [
      "replace: 100%|███████████████████████████████████████████████████████████████████████████████████████████████████████████████████████████| 41/41 [00:12<00:00,  3.37it/s]\n"
     ]
    }
   ],
   "source": [
    "for i in tqdm(range(2,43),desc=\"replace\"):\n",
    "    test[f'f_{i}'].replace(feat_num_map[f'f_{i}'],inplace=True)\n",
    "    gc.collect()"
   ]
  },
  {
   "cell_type": "code",
   "execution_count": 32,
   "id": "ed342459-648f-487d-b25d-80cb0f0e9fe8",
   "metadata": {},
   "outputs": [
    {
     "name": "stderr",
     "output_type": "stream",
     "text": [
      "replace: 100%|█████████████████████████████████████████████████████████████████████████████████████████████████████████████████████████| 41/41 [00:00<00:00, 1781.35it/s]\n"
     ]
    }
   ],
   "source": [
    "# Unkown class probablitys are set to 0.5 as we don't know\n",
    "for i in tqdm(range(2,43),desc=\"replace\"):\n",
    "    test.loc[test[f'f_{i}']>1,f'f_{i}'] = 0.5"
   ]
  },
  {
   "cell_type": "code",
   "execution_count": 33,
   "id": "f69e33ba-e299-48e6-a60f-77d56ce064b4",
   "metadata": {},
   "outputs": [],
   "source": [
    "fmiss = \"f_43,f_51,f_58,f_59,f_64,f_65,f_66,f_67,f_68,f_69,f_70\".split(',')\n",
    "for f in fmiss:\n",
    "    test[f].fillna(test[f].mean(),inplace=True)"
   ]
  },
  {
   "cell_type": "code",
   "execution_count": 47,
   "id": "82a16bec-7311-422e-a85e-ea68190363ca",
   "metadata": {},
   "outputs": [],
   "source": [
    "install_pred = model.predict_proba(test[all_feat])"
   ]
  },
  {
   "cell_type": "code",
   "execution_count": 48,
   "id": "9505bc06-75d0-46c3-b8b0-3fdd3489cf7d",
   "metadata": {},
   "outputs": [
    {
     "data": {
      "text/plain": [
       "array([0.38630268, 0.17128249, 0.03216574, ..., 0.06771537, 0.11223465,\n",
       "       0.10592999], dtype=float32)"
      ]
     },
     "execution_count": 48,
     "metadata": {},
     "output_type": "execute_result"
    }
   ],
   "source": [
    "install_pred[:,1]"
   ]
  },
  {
   "cell_type": "code",
   "execution_count": 49,
   "id": "2aa6aa62-5b17-45bc-9e71-66518d4cd12b",
   "metadata": {},
   "outputs": [
    {
     "name": "stdout",
     "output_type": "stream",
     "text": [
      "Saved the test result to csv file as xgb_float_all_feat_2023-05-27 22:10:08.560284.csv\n",
      "Saved the model config to json file as xgb_float_all_feat_2023-05-27 22:10:08.560284.json\n"
     ]
    },
    {
     "data": {
      "text/plain": [
       "<utils.TestResults at 0x14b9bb04adc0>"
      ]
     },
     "execution_count": 49,
     "metadata": {},
     "output_type": "execute_result"
    }
   ],
   "source": [
    "TestResults(row_id=test['f_0'],is_click=np.random.random(install_pred[:,1].shape[0]),\n",
    "            is_install=install_pred[:,1],model_name=\"xgb_float_all_feat\",config=params)"
   ]
  },
  {
   "cell_type": "code",
   "execution_count": 39,
   "id": "d7095041-aa95-4e97-bc8d-8977b7dba05e",
   "metadata": {},
   "outputs": [],
   "source": [
    "from catboost import CatBoostClassifier"
   ]
  },
  {
   "cell_type": "code",
   "execution_count": 44,
   "id": "9164483e-cc91-4595-8b57-adc2c4582119",
   "metadata": {},
   "outputs": [],
   "source": [
    "def objective_cat(trial):\n",
    "    params = {\n",
    "        'depth':trial.suggest_int('max_depth',3,10),\n",
    "        'iterations':trial.suggest_int('iterations',100,1000),\n",
    "        'learning_rate':trial.suggest_float('learning_rate',0.05,0.3),\n",
    "        'l2_leaf_reg': trial.suggest_float('l2_leaf_reg', 1, 10),\n",
    "        'boosting_type': trial.suggest_categorical('boosting_type', ['Ordered', 'Plain']),\n",
    "        'task_type':'GPU',\n",
    "        'silent': True\n",
    "    }\n",
    "    print(params)\n",
    "    model = CatBoostClassifier(**params)\n",
    "    model.fit(X_train[use_features],y_train)\n",
    "    y_pred = model.predict(X_val[use_features])\n",
    "    score = log_loss(y_val,y_pred)\n",
    "    # print(model.feature_names_in_)\n",
    "    gc.collect()\n",
    "    return score"
   ]
  },
  {
   "cell_type": "code",
   "execution_count": 45,
   "id": "a65399c6-d531-4060-a02c-164c7319f114",
   "metadata": {
    "collapsed": true,
    "jupyter": {
     "outputs_hidden": true
    },
    "tags": []
   },
   "outputs": [
    {
     "name": "stderr",
     "output_type": "stream",
     "text": [
      "\u001b[32m[I 2023-05-27 21:18:27,904]\u001b[0m A new study created in memory with name: install_log_loss\u001b[0m\n"
     ]
    },
    {
     "name": "stdout",
     "output_type": "stream",
     "text": [
      "{'depth': 4, 'iterations': 116, 'learning_rate': 0.190142909151987, 'l2_leaf_reg': 2.286103583872621, 'boosting_type': 'Ordered', 'task_type': 'GPU', 'silent': True}\n"
     ]
    },
    {
     "name": "stderr",
     "output_type": "stream",
     "text": [
      "\u001b[32m[I 2023-05-27 21:18:41,245]\u001b[0m Trial 0 finished with value: 6.029456620893724 and parameters: {'max_depth': 4, 'iterations': 116, 'learning_rate': 0.190142909151987, 'l2_leaf_reg': 2.286103583872621, 'boosting_type': 'Ordered'}. Best is trial 0 with value: 6.029456620893724.\u001b[0m\n"
     ]
    },
    {
     "name": "stdout",
     "output_type": "stream",
     "text": [
      "{'depth': 9, 'iterations': 400, 'learning_rate': 0.05781477572058101, 'l2_leaf_reg': 2.521728403447148, 'boosting_type': 'Plain', 'task_type': 'GPU', 'silent': True}\n"
     ]
    },
    {
     "name": "stderr",
     "output_type": "stream",
     "text": [
      "\u001b[32m[I 2023-05-27 21:19:00,957]\u001b[0m Trial 1 finished with value: 5.8482595011779726 and parameters: {'max_depth': 9, 'iterations': 400, 'learning_rate': 0.05781477572058101, 'l2_leaf_reg': 2.521728403447148, 'boosting_type': 'Plain'}. Best is trial 1 with value: 5.8482595011779726.\u001b[0m\n"
     ]
    },
    {
     "name": "stdout",
     "output_type": "stream",
     "text": [
      "{'depth': 7, 'iterations': 602, 'learning_rate': 0.23810342462625628, 'l2_leaf_reg': 3.365177424615899, 'boosting_type': 'Ordered', 'task_type': 'GPU', 'silent': True}\n"
     ]
    },
    {
     "name": "stderr",
     "output_type": "stream",
     "text": [
      "\u001b[32m[I 2023-05-27 21:20:28,817]\u001b[0m Trial 2 finished with value: 5.839096602210575 and parameters: {'max_depth': 7, 'iterations': 602, 'learning_rate': 0.23810342462625628, 'l2_leaf_reg': 3.365177424615899, 'boosting_type': 'Ordered'}. Best is trial 2 with value: 5.839096602210575.\u001b[0m\n"
     ]
    },
    {
     "name": "stdout",
     "output_type": "stream",
     "text": [
      "{'depth': 9, 'iterations': 550, 'learning_rate': 0.2932633391511759, 'l2_leaf_reg': 1.45589066427898, 'boosting_type': 'Plain', 'task_type': 'GPU', 'silent': True}\n"
     ]
    },
    {
     "name": "stderr",
     "output_type": "stream",
     "text": [
      "\u001b[32m[I 2023-05-27 21:20:54,965]\u001b[0m Trial 3 finished with value: 6.022424680590176 and parameters: {'max_depth': 9, 'iterations': 550, 'learning_rate': 0.2932633391511759, 'l2_leaf_reg': 1.45589066427898, 'boosting_type': 'Plain'}. Best is trial 2 with value: 5.839096602210575.\u001b[0m\n"
     ]
    },
    {
     "name": "stdout",
     "output_type": "stream",
     "text": [
      "{'depth': 3, 'iterations': 904, 'learning_rate': 0.1734051754626607, 'l2_leaf_reg': 6.833738856624877, 'boosting_type': 'Plain', 'task_type': 'GPU', 'silent': True}\n"
     ]
    },
    {
     "name": "stderr",
     "output_type": "stream",
     "text": [
      "\u001b[32m[I 2023-05-27 21:21:12,966]\u001b[0m Trial 4 finished with value: 5.863770755212766 and parameters: {'max_depth': 3, 'iterations': 904, 'learning_rate': 0.1734051754626607, 'l2_leaf_reg': 6.833738856624877, 'boosting_type': 'Plain'}. Best is trial 2 with value: 5.839096602210575.\u001b[0m\n"
     ]
    },
    {
     "name": "stdout",
     "output_type": "stream",
     "text": [
      "{'depth': 5, 'iterations': 486, 'learning_rate': 0.2087526282067716, 'l2_leaf_reg': 4.256182513224594, 'boosting_type': 'Plain', 'task_type': 'GPU', 'silent': True}\n"
     ]
    },
    {
     "name": "stderr",
     "output_type": "stream",
     "text": [
      "\u001b[32m[I 2023-05-27 21:21:26,845]\u001b[0m Trial 5 finished with value: 5.860245742130845 and parameters: {'max_depth': 5, 'iterations': 486, 'learning_rate': 0.2087526282067716, 'l2_leaf_reg': 4.256182513224594, 'boosting_type': 'Plain'}. Best is trial 2 with value: 5.839096602210575.\u001b[0m\n"
     ]
    },
    {
     "name": "stdout",
     "output_type": "stream",
     "text": [
      "{'depth': 6, 'iterations': 903, 'learning_rate': 0.05589639606494133, 'l2_leaf_reg': 7.863143039696604, 'boosting_type': 'Plain', 'task_type': 'GPU', 'silent': True}\n"
     ]
    },
    {
     "name": "stderr",
     "output_type": "stream",
     "text": [
      "\u001b[32m[I 2023-05-27 21:21:53,928]\u001b[0m Trial 6 finished with value: 5.884566411181532 and parameters: {'max_depth': 6, 'iterations': 903, 'learning_rate': 0.05589639606494133, 'l2_leaf_reg': 7.863143039696604, 'boosting_type': 'Plain'}. Best is trial 2 with value: 5.839096602210575.\u001b[0m\n"
     ]
    },
    {
     "name": "stdout",
     "output_type": "stream",
     "text": [
      "{'depth': 9, 'iterations': 936, 'learning_rate': 0.19388391776830127, 'l2_leaf_reg': 6.270251740396933, 'boosting_type': 'Ordered', 'task_type': 'GPU', 'silent': True}\n"
     ]
    },
    {
     "name": "stderr",
     "output_type": "stream",
     "text": [
      "\u001b[32m[I 2023-05-27 21:26:11,962]\u001b[0m Trial 7 finished with value: 6.015032098709006 and parameters: {'max_depth': 9, 'iterations': 936, 'learning_rate': 0.19388391776830127, 'l2_leaf_reg': 6.270251740396933, 'boosting_type': 'Ordered'}. Best is trial 2 with value: 5.839096602210575.\u001b[0m\n"
     ]
    },
    {
     "name": "stdout",
     "output_type": "stream",
     "text": [
      "{'depth': 6, 'iterations': 402, 'learning_rate': 0.13246405074902257, 'l2_leaf_reg': 8.110419728036462, 'boosting_type': 'Ordered', 'task_type': 'GPU', 'silent': True}\n"
     ]
    },
    {
     "name": "stderr",
     "output_type": "stream",
     "text": [
      "\u001b[32m[I 2023-05-27 21:27:03,355]\u001b[0m Trial 8 finished with value: 5.822876699005976 and parameters: {'max_depth': 6, 'iterations': 402, 'learning_rate': 0.13246405074902257, 'l2_leaf_reg': 8.110419728036462, 'boosting_type': 'Ordered'}. Best is trial 8 with value: 5.822876699005976.\u001b[0m\n"
     ]
    },
    {
     "name": "stdout",
     "output_type": "stream",
     "text": [
      "{'depth': 10, 'iterations': 190, 'learning_rate': 0.06755660069324594, 'l2_leaf_reg': 8.278350411578401, 'boosting_type': 'Ordered', 'task_type': 'GPU', 'silent': True}\n"
     ]
    },
    {
     "name": "stderr",
     "output_type": "stream",
     "text": [
      "\u001b[32m[I 2023-05-27 21:29:00,150]\u001b[0m Trial 9 finished with value: 5.85883281018801 and parameters: {'max_depth': 10, 'iterations': 190, 'learning_rate': 0.06755660069324594, 'l2_leaf_reg': 8.278350411578401, 'boosting_type': 'Ordered'}. Best is trial 8 with value: 5.822876699005976.\u001b[0m\n"
     ]
    },
    {
     "name": "stdout",
     "output_type": "stream",
     "text": [
      "{'depth': 7, 'iterations': 713, 'learning_rate': 0.11553950896157064, 'l2_leaf_reg': 9.066065312933416, 'boosting_type': 'Ordered', 'task_type': 'GPU', 'silent': True}\n"
     ]
    },
    {
     "name": "stderr",
     "output_type": "stream",
     "text": [
      "\u001b[32m[I 2023-05-27 21:30:53,343]\u001b[0m Trial 10 finished with value: 5.845440411328427 and parameters: {'max_depth': 7, 'iterations': 713, 'learning_rate': 0.11553950896157064, 'l2_leaf_reg': 9.066065312933416, 'boosting_type': 'Ordered'}. Best is trial 8 with value: 5.822876699005976.\u001b[0m\n"
     ]
    },
    {
     "name": "stdout",
     "output_type": "stream",
     "text": [
      "{'depth': 7, 'iterations': 339, 'learning_rate': 0.251399150262633, 'l2_leaf_reg': 9.855472218321516, 'boosting_type': 'Ordered', 'task_type': 'GPU', 'silent': True}\n"
     ]
    },
    {
     "name": "stderr",
     "output_type": "stream",
     "text": [
      "\u001b[32m[I 2023-05-27 21:31:49,743]\u001b[0m Trial 11 finished with value: 5.9645948898983905 and parameters: {'max_depth': 7, 'iterations': 339, 'learning_rate': 0.251399150262633, 'l2_leaf_reg': 9.855472218321516, 'boosting_type': 'Ordered'}. Best is trial 8 with value: 5.822876699005976.\u001b[0m\n"
     ]
    },
    {
     "name": "stdout",
     "output_type": "stream",
     "text": [
      "{'depth': 6, 'iterations': 698, 'learning_rate': 0.14150331013368278, 'l2_leaf_reg': 4.6496765970037925, 'boosting_type': 'Ordered', 'task_type': 'GPU', 'silent': True}\n"
     ]
    },
    {
     "name": "stderr",
     "output_type": "stream",
     "text": [
      "\u001b[32m[I 2023-05-27 21:33:15,840]\u001b[0m Trial 12 finished with value: 5.873991339289804 and parameters: {'max_depth': 6, 'iterations': 698, 'learning_rate': 0.14150331013368278, 'l2_leaf_reg': 4.6496765970037925, 'boosting_type': 'Ordered'}. Best is trial 8 with value: 5.822876699005976.\u001b[0m\n"
     ]
    },
    {
     "name": "stdout",
     "output_type": "stream",
     "text": [
      "{'depth': 8, 'iterations': 673, 'learning_rate': 0.22555903892829626, 'l2_leaf_reg': 5.295223931889128, 'boosting_type': 'Ordered', 'task_type': 'GPU', 'silent': True}\n"
     ]
    },
    {
     "name": "stderr",
     "output_type": "stream",
     "text": [
      "\u001b[32m[I 2023-05-27 21:35:26,075]\u001b[0m Trial 13 finished with value: 5.9667448648323225 and parameters: {'max_depth': 8, 'iterations': 673, 'learning_rate': 0.22555903892829626, 'l2_leaf_reg': 5.295223931889128, 'boosting_type': 'Ordered'}. Best is trial 8 with value: 5.822876699005976.\u001b[0m\n"
     ]
    },
    {
     "name": "stdout",
     "output_type": "stream",
     "text": [
      "{'depth': 5, 'iterations': 308, 'learning_rate': 0.14739989991277203, 'l2_leaf_reg': 3.647560905352215, 'boosting_type': 'Ordered', 'task_type': 'GPU', 'silent': True}\n"
     ]
    },
    {
     "name": "stderr",
     "output_type": "stream",
     "text": [
      "\u001b[32m[I 2023-05-27 21:35:59,003]\u001b[0m Trial 14 finished with value: 5.921581880578513 and parameters: {'max_depth': 5, 'iterations': 308, 'learning_rate': 0.14739989991277203, 'l2_leaf_reg': 3.647560905352215, 'boosting_type': 'Ordered'}. Best is trial 8 with value: 5.822876699005976.\u001b[0m\n"
     ]
    },
    {
     "name": "stdout",
     "output_type": "stream",
     "text": [
      "{'depth': 7, 'iterations': 463, 'learning_rate': 0.25381557231960683, 'l2_leaf_reg': 6.4250964503160635, 'boosting_type': 'Ordered', 'task_type': 'GPU', 'silent': True}\n"
     ]
    },
    {
     "name": "stderr",
     "output_type": "stream",
     "text": [
      "\u001b[32m[I 2023-05-27 21:37:11,933]\u001b[0m Trial 15 finished with value: 5.808434662265208 and parameters: {'max_depth': 7, 'iterations': 463, 'learning_rate': 0.25381557231960683, 'l2_leaf_reg': 6.4250964503160635, 'boosting_type': 'Ordered'}. Best is trial 15 with value: 5.808434662265208.\u001b[0m\n"
     ]
    },
    {
     "name": "stdout",
     "output_type": "stream",
     "text": [
      "{'depth': 5, 'iterations': 462, 'learning_rate': 0.29632470949332856, 'l2_leaf_reg': 6.990009101609993, 'boosting_type': 'Ordered', 'task_type': 'GPU', 'silent': True}\n"
     ]
    },
    {
     "name": "stderr",
     "output_type": "stream",
     "text": [
      "\u001b[32m[I 2023-05-27 21:37:59,498]\u001b[0m Trial 16 finished with value: 5.913476805466074 and parameters: {'max_depth': 5, 'iterations': 462, 'learning_rate': 0.29632470949332856, 'l2_leaf_reg': 6.990009101609993, 'boosting_type': 'Ordered'}. Best is trial 15 with value: 5.808434662265208.\u001b[0m\n"
     ]
    },
    {
     "name": "stdout",
     "output_type": "stream",
     "text": [
      "{'depth': 8, 'iterations': 258, 'learning_rate': 0.2649189433037357, 'l2_leaf_reg': 5.919668594880266, 'boosting_type': 'Ordered', 'task_type': 'GPU', 'silent': True}\n"
     ]
    },
    {
     "name": "stderr",
     "output_type": "stream",
     "text": [
      "\u001b[32m[I 2023-05-27 21:38:59,310]\u001b[0m Trial 17 finished with value: 5.913131336097068 and parameters: {'max_depth': 8, 'iterations': 258, 'learning_rate': 0.2649189433037357, 'l2_leaf_reg': 5.919668594880266, 'boosting_type': 'Ordered'}. Best is trial 15 with value: 5.808434662265208.\u001b[0m\n"
     ]
    },
    {
     "name": "stdout",
     "output_type": "stream",
     "text": [
      "{'depth': 6, 'iterations': 406, 'learning_rate': 0.2662539439762786, 'l2_leaf_reg': 7.885766824509438, 'boosting_type': 'Ordered', 'task_type': 'GPU', 'silent': True}\n"
     ]
    },
    {
     "name": "stderr",
     "output_type": "stream",
     "text": [
      "\u001b[32m[I 2023-05-27 21:39:50,904]\u001b[0m Trial 18 finished with value: 5.918416692925286 and parameters: {'max_depth': 6, 'iterations': 406, 'learning_rate': 0.2662539439762786, 'l2_leaf_reg': 7.885766824509438, 'boosting_type': 'Ordered'}. Best is trial 15 with value: 5.808434662265208.\u001b[0m\n"
     ]
    },
    {
     "name": "stdout",
     "output_type": "stream",
     "text": [
      "{'depth': 4, 'iterations': 778, 'learning_rate': 0.22121929438833843, 'l2_leaf_reg': 7.036500345424197, 'boosting_type': 'Ordered', 'task_type': 'GPU', 'silent': True}\n"
     ]
    },
    {
     "name": "stderr",
     "output_type": "stream",
     "text": [
      "\u001b[32m[I 2023-05-27 21:40:57,723]\u001b[0m Trial 19 finished with value: 5.822888606618871 and parameters: {'max_depth': 4, 'iterations': 778, 'learning_rate': 0.22121929438833843, 'l2_leaf_reg': 7.036500345424197, 'boosting_type': 'Ordered'}. Best is trial 15 with value: 5.808434662265208.\u001b[0m\n"
     ]
    },
    {
     "name": "stdout",
     "output_type": "stream",
     "text": [
      "{'depth': 8, 'iterations': 565, 'learning_rate': 0.09851162707960509, 'l2_leaf_reg': 5.0242840328910585, 'boosting_type': 'Ordered', 'task_type': 'GPU', 'silent': True}\n"
     ]
    },
    {
     "name": "stderr",
     "output_type": "stream",
     "text": [
      "\u001b[32m[I 2023-05-27 21:43:04,014]\u001b[0m Trial 20 finished with value: 5.82746347794219 and parameters: {'max_depth': 8, 'iterations': 565, 'learning_rate': 0.09851162707960509, 'l2_leaf_reg': 5.0242840328910585, 'boosting_type': 'Ordered'}. Best is trial 15 with value: 5.808434662265208.\u001b[0m\n"
     ]
    },
    {
     "name": "stdout",
     "output_type": "stream",
     "text": [
      "{'depth': 3, 'iterations': 729, 'learning_rate': 0.22111452612940474, 'l2_leaf_reg': 6.960586657939677, 'boosting_type': 'Ordered', 'task_type': 'GPU', 'silent': True}\n"
     ]
    },
    {
     "name": "stderr",
     "output_type": "stream",
     "text": [
      "\u001b[32m[I 2023-05-27 21:43:58,752]\u001b[0m Trial 21 finished with value: 5.859189256760133 and parameters: {'max_depth': 3, 'iterations': 729, 'learning_rate': 0.22111452612940474, 'l2_leaf_reg': 6.960586657939677, 'boosting_type': 'Ordered'}. Best is trial 15 with value: 5.808434662265208.\u001b[0m\n"
     ]
    },
    {
     "name": "stdout",
     "output_type": "stream",
     "text": [
      "{'depth': 4, 'iterations': 788, 'learning_rate': 0.23315651164136, 'l2_leaf_reg': 6.30949363835849, 'boosting_type': 'Ordered', 'task_type': 'GPU', 'silent': True}\n"
     ]
    },
    {
     "name": "stderr",
     "output_type": "stream",
     "text": [
      "\u001b[32m[I 2023-05-27 21:45:06,116]\u001b[0m Trial 22 finished with value: 5.862007758982447 and parameters: {'max_depth': 4, 'iterations': 788, 'learning_rate': 0.23315651164136, 'l2_leaf_reg': 6.30949363835849, 'boosting_type': 'Ordered'}. Best is trial 15 with value: 5.808434662265208.\u001b[0m\n"
     ]
    },
    {
     "name": "stdout",
     "output_type": "stream",
     "text": [
      "{'depth': 5, 'iterations': 816, 'learning_rate': 0.1725240203923315, 'l2_leaf_reg': 7.442667255086393, 'boosting_type': 'Ordered', 'task_type': 'GPU', 'silent': True}\n"
     ]
    },
    {
     "name": "stderr",
     "output_type": "stream",
     "text": [
      "\u001b[32m[I 2023-05-27 21:46:27,315]\u001b[0m Trial 23 finished with value: 5.8838650665446535 and parameters: {'max_depth': 5, 'iterations': 816, 'learning_rate': 0.1725240203923315, 'l2_leaf_reg': 7.442667255086393, 'boosting_type': 'Ordered'}. Best is trial 15 with value: 5.808434662265208.\u001b[0m\n"
     ]
    },
    {
     "name": "stdout",
     "output_type": "stream",
     "text": [
      "{'depth': 4, 'iterations': 452, 'learning_rate': 0.20689622449982245, 'l2_leaf_reg': 5.7049316165750135, 'boosting_type': 'Ordered', 'task_type': 'GPU', 'silent': True}\n"
     ]
    },
    {
     "name": "stderr",
     "output_type": "stream",
     "text": [
      "\u001b[32m[I 2023-05-27 21:47:07,298]\u001b[0m Trial 24 finished with value: 5.838738482533144 and parameters: {'max_depth': 4, 'iterations': 452, 'learning_rate': 0.20689622449982245, 'l2_leaf_reg': 5.7049316165750135, 'boosting_type': 'Ordered'}. Best is trial 15 with value: 5.808434662265208.\u001b[0m\n"
     ]
    },
    {
     "name": "stdout",
     "output_type": "stream",
     "text": [
      "{'depth': 6, 'iterations': 599, 'learning_rate': 0.24171028504119407, 'l2_leaf_reg': 9.00404901560525, 'boosting_type': 'Ordered', 'task_type': 'GPU', 'silent': True}\n"
     ]
    },
    {
     "name": "stderr",
     "output_type": "stream",
     "text": [
      "\u001b[32m[I 2023-05-27 21:48:20,533]\u001b[0m Trial 25 finished with value: 5.8239371508604885 and parameters: {'max_depth': 6, 'iterations': 599, 'learning_rate': 0.24171028504119407, 'l2_leaf_reg': 9.00404901560525, 'boosting_type': 'Ordered'}. Best is trial 15 with value: 5.808434662265208.\u001b[0m\n"
     ]
    },
    {
     "name": "stdout",
     "output_type": "stream",
     "text": [
      "{'depth': 7, 'iterations': 341, 'learning_rate': 0.26213394708626203, 'l2_leaf_reg': 6.703634268659147, 'boosting_type': 'Plain', 'task_type': 'GPU', 'silent': True}\n"
     ]
    },
    {
     "name": "stderr",
     "output_type": "stream",
     "text": [
      "\u001b[32m[I 2023-05-27 21:48:33,594]\u001b[0m Trial 26 finished with value: 5.898673833334067 and parameters: {'max_depth': 7, 'iterations': 341, 'learning_rate': 0.26213394708626203, 'l2_leaf_reg': 6.703634268659147, 'boosting_type': 'Plain'}. Best is trial 15 with value: 5.808434662265208.\u001b[0m\n"
     ]
    },
    {
     "name": "stdout",
     "output_type": "stream",
     "text": [
      "{'depth': 4, 'iterations': 506, 'learning_rate': 0.16013075791656997, 'l2_leaf_reg': 5.810370803793976, 'boosting_type': 'Ordered', 'task_type': 'GPU', 'silent': True}\n"
     ]
    },
    {
     "name": "stderr",
     "output_type": "stream",
     "text": [
      "\u001b[32m[I 2023-05-27 21:49:18,300]\u001b[0m Trial 27 finished with value: 5.881748064027514 and parameters: {'max_depth': 4, 'iterations': 506, 'learning_rate': 0.16013075791656997, 'l2_leaf_reg': 5.810370803793976, 'boosting_type': 'Ordered'}. Best is trial 15 with value: 5.808434662265208.\u001b[0m\n"
     ]
    },
    {
     "name": "stdout",
     "output_type": "stream",
     "text": [
      "{'depth': 3, 'iterations': 634, 'learning_rate': 0.18942477042859338, 'l2_leaf_reg': 7.58879106657224, 'boosting_type': 'Ordered', 'task_type': 'GPU', 'silent': True}\n"
     ]
    },
    {
     "name": "stderr",
     "output_type": "stream",
     "text": [
      "\u001b[32m[I 2023-05-27 21:50:06,531]\u001b[0m Trial 28 finished with value: 5.862360002387578 and parameters: {'max_depth': 3, 'iterations': 634, 'learning_rate': 0.18942477042859338, 'l2_leaf_reg': 7.58879106657224, 'boosting_type': 'Ordered'}. Best is trial 15 with value: 5.808434662265208.\u001b[0m\n"
     ]
    },
    {
     "name": "stdout",
     "output_type": "stream",
     "text": [
      "{'depth': 5, 'iterations': 153, 'learning_rate': 0.207405006580883, 'l2_leaf_reg': 8.378122902519893, 'boosting_type': 'Ordered', 'task_type': 'GPU', 'silent': True}\n"
     ]
    },
    {
     "name": "stderr",
     "output_type": "stream",
     "text": [
      "\u001b[32m[I 2023-05-27 21:50:24,655]\u001b[0m Trial 29 finished with value: 5.910302174969719 and parameters: {'max_depth': 5, 'iterations': 153, 'learning_rate': 0.207405006580883, 'l2_leaf_reg': 8.378122902519893, 'boosting_type': 'Ordered'}. Best is trial 15 with value: 5.808434662265208.\u001b[0m\n"
     ]
    },
    {
     "name": "stdout",
     "output_type": "stream",
     "text": [
      "{'depth': 8, 'iterations': 1000, 'learning_rate': 0.18893158552919337, 'l2_leaf_reg': 6.278246159505963, 'boosting_type': 'Ordered', 'task_type': 'GPU', 'silent': True}\n"
     ]
    },
    {
     "name": "stderr",
     "output_type": "stream",
     "text": [
      "\u001b[32m[I 2023-05-27 21:53:36,592]\u001b[0m Trial 30 finished with value: 5.87505952823618 and parameters: {'max_depth': 8, 'iterations': 1000, 'learning_rate': 0.18893158552919337, 'l2_leaf_reg': 6.278246159505963, 'boosting_type': 'Ordered'}. Best is trial 15 with value: 5.808434662265208.\u001b[0m\n"
     ]
    },
    {
     "name": "stdout",
     "output_type": "stream",
     "text": [
      "{'depth': 6, 'iterations': 800, 'learning_rate': 0.24170232180221574, 'l2_leaf_reg': 9.044662652330967, 'boosting_type': 'Ordered', 'task_type': 'GPU', 'silent': True}\n"
     ]
    },
    {
     "name": "stderr",
     "output_type": "stream",
     "text": [
      "\u001b[32m[I 2023-05-27 21:55:11,804]\u001b[0m Trial 31 finished with value: 5.904669177816337 and parameters: {'max_depth': 6, 'iterations': 800, 'learning_rate': 0.24170232180221574, 'l2_leaf_reg': 9.044662652330967, 'boosting_type': 'Ordered'}. Best is trial 15 with value: 5.808434662265208.\u001b[0m\n"
     ]
    },
    {
     "name": "stdout",
     "output_type": "stream",
     "text": [
      "{'depth': 6, 'iterations': 383, 'learning_rate': 0.25116103315353216, 'l2_leaf_reg': 7.318945078066728, 'boosting_type': 'Ordered', 'task_type': 'GPU', 'silent': True}\n"
     ]
    },
    {
     "name": "stderr",
     "output_type": "stream",
     "text": [
      "\u001b[32m[I 2023-05-27 21:56:00,360]\u001b[0m Trial 32 finished with value: 5.933572365505824 and parameters: {'max_depth': 6, 'iterations': 383, 'learning_rate': 0.25116103315353216, 'l2_leaf_reg': 7.318945078066728, 'boosting_type': 'Ordered'}. Best is trial 15 with value: 5.808434662265208.\u001b[0m\n"
     ]
    },
    {
     "name": "stdout",
     "output_type": "stream",
     "text": [
      "{'depth': 7, 'iterations': 592, 'learning_rate': 0.2257548615215574, 'l2_leaf_reg': 8.661236279863207, 'boosting_type': 'Ordered', 'task_type': 'GPU', 'silent': True}\n"
     ]
    },
    {
     "name": "stderr",
     "output_type": "stream",
     "text": [
      "\u001b[32m[I 2023-05-27 21:57:33,182]\u001b[0m Trial 33 finished with value: 5.9254638625678755 and parameters: {'max_depth': 7, 'iterations': 592, 'learning_rate': 0.2257548615215574, 'l2_leaf_reg': 8.661236279863207, 'boosting_type': 'Ordered'}. Best is trial 15 with value: 5.808434662265208.\u001b[0m\n"
     ]
    },
    {
     "name": "stdout",
     "output_type": "stream",
     "text": [
      "{'depth': 6, 'iterations': 524, 'learning_rate': 0.27769133283758035, 'l2_leaf_reg': 9.918639227777694, 'boosting_type': 'Plain', 'task_type': 'GPU', 'silent': True}\n"
     ]
    },
    {
     "name": "stderr",
     "output_type": "stream",
     "text": [
      "\u001b[32m[I 2023-05-27 21:57:49,762]\u001b[0m Trial 34 finished with value: 5.866942839324458 and parameters: {'max_depth': 6, 'iterations': 524, 'learning_rate': 0.27769133283758035, 'l2_leaf_reg': 9.918639227777694, 'boosting_type': 'Plain'}. Best is trial 15 with value: 5.808434662265208.\u001b[0m\n"
     ]
    },
    {
     "name": "stdout",
     "output_type": "stream",
     "text": [
      "{'depth': 4, 'iterations': 635, 'learning_rate': 0.2819501884694721, 'l2_leaf_reg': 8.141121996432163, 'boosting_type': 'Ordered', 'task_type': 'GPU', 'silent': True}\n"
     ]
    },
    {
     "name": "stderr",
     "output_type": "stream",
     "text": [
      "\u001b[32m[I 2023-05-27 21:58:44,468]\u001b[0m Trial 35 finished with value: 5.850021411930215 and parameters: {'max_depth': 4, 'iterations': 635, 'learning_rate': 0.2819501884694721, 'l2_leaf_reg': 8.141121996432163, 'boosting_type': 'Ordered'}. Best is trial 15 with value: 5.808434662265208.\u001b[0m\n"
     ]
    },
    {
     "name": "stdout",
     "output_type": "stream",
     "text": [
      "{'depth': 7, 'iterations': 415, 'learning_rate': 0.23665551333166313, 'l2_leaf_reg': 7.276480413089206, 'boosting_type': 'Plain', 'task_type': 'GPU', 'silent': True}\n"
     ]
    },
    {
     "name": "stderr",
     "output_type": "stream",
     "text": [
      "\u001b[32m[I 2023-05-27 21:58:59,868]\u001b[0m Trial 36 finished with value: 6.110208651659861 and parameters: {'max_depth': 7, 'iterations': 415, 'learning_rate': 0.23665551333166313, 'l2_leaf_reg': 7.276480413089206, 'boosting_type': 'Plain'}. Best is trial 15 with value: 5.808434662265208.\u001b[0m\n"
     ]
    },
    {
     "name": "stdout",
     "output_type": "stream",
     "text": [
      "{'depth': 5, 'iterations': 264, 'learning_rate': 0.24674803043169163, 'l2_leaf_reg': 7.789905395880793, 'boosting_type': 'Ordered', 'task_type': 'GPU', 'silent': True}\n"
     ]
    },
    {
     "name": "stderr",
     "output_type": "stream",
     "text": [
      "\u001b[32m[I 2023-05-27 21:59:28,633]\u001b[0m Trial 37 finished with value: 5.920173217094587 and parameters: {'max_depth': 5, 'iterations': 264, 'learning_rate': 0.24674803043169163, 'l2_leaf_reg': 7.789905395880793, 'boosting_type': 'Ordered'}. Best is trial 15 with value: 5.808434662265208.\u001b[0m\n"
     ]
    },
    {
     "name": "stdout",
     "output_type": "stream",
     "text": [
      "{'depth': 9, 'iterations': 860, 'learning_rate': 0.21780419528585684, 'l2_leaf_reg': 8.970093021111886, 'boosting_type': 'Plain', 'task_type': 'GPU', 'silent': True}\n"
     ]
    },
    {
     "name": "stderr",
     "output_type": "stream",
     "text": [
      "\u001b[32m[I 2023-05-27 22:00:08,161]\u001b[0m Trial 38 finished with value: 5.923000599017265 and parameters: {'max_depth': 9, 'iterations': 860, 'learning_rate': 0.21780419528585684, 'l2_leaf_reg': 8.970093021111886, 'boosting_type': 'Plain'}. Best is trial 15 with value: 5.808434662265208.\u001b[0m\n"
     ]
    },
    {
     "name": "stdout",
     "output_type": "stream",
     "text": [
      "{'depth': 3, 'iterations': 546, 'learning_rate': 0.28436778498202314, 'l2_leaf_reg': 6.541697863941554, 'boosting_type': 'Ordered', 'task_type': 'GPU', 'silent': True}\n"
     ]
    },
    {
     "name": "stderr",
     "output_type": "stream",
     "text": [
      "\u001b[32m[I 2023-05-27 22:00:50,078]\u001b[0m Trial 39 finished with value: 5.869057009804809 and parameters: {'max_depth': 3, 'iterations': 546, 'learning_rate': 0.28436778498202314, 'l2_leaf_reg': 6.541697863941554, 'boosting_type': 'Ordered'}. Best is trial 15 with value: 5.808434662265208.\u001b[0m\n"
     ]
    },
    {
     "name": "stdout",
     "output_type": "stream",
     "text": [
      "{'depth': 10, 'iterations': 756, 'learning_rate': 0.19927822505748627, 'l2_leaf_reg': 8.332224673332847, 'boosting_type': 'Ordered', 'task_type': 'GPU', 'silent': True}\n"
     ]
    },
    {
     "name": "stderr",
     "output_type": "stream",
     "text": [
      "\u001b[33m[W 2023-05-27 22:03:49,143]\u001b[0m Trial 40 failed with parameters: {'max_depth': 10, 'iterations': 756, 'learning_rate': 0.19927822505748627, 'l2_leaf_reg': 8.332224673332847, 'boosting_type': 'Ordered'} because of the following error: KeyboardInterrupt('').\u001b[0m\n",
      "Traceback (most recent call last):\n",
      "  File \"/home2/sisodiya.bhoomendra/venvs/python3.9_global/lib/python3.9/site-packages/optuna/study/_optimize.py\", line 200, in _run_trial\n",
      "    value_or_values = func(trial)\n",
      "  File \"/tmp/ipykernel_23234/3002279992.py\", line 13, in objective_cat\n",
      "    model.fit(X_train[use_features],y_train)\n",
      "  File \"/home2/sisodiya.bhoomendra/venvs/python3.9_global/lib/python3.9/site-packages/catboost/core.py\", line 5131, in fit\n",
      "    self._fit(X, y, cat_features, text_features, embedding_features, None, sample_weight, None, None, None, None, baseline, use_best_model,\n",
      "  File \"/home2/sisodiya.bhoomendra/venvs/python3.9_global/lib/python3.9/site-packages/catboost/core.py\", line 2357, in _fit\n",
      "    self._train(\n",
      "  File \"/home2/sisodiya.bhoomendra/venvs/python3.9_global/lib/python3.9/site-packages/catboost/core.py\", line 1761, in _train\n",
      "    self._object._train(train_pool, test_pool, params, allow_clear_pool, init_model._object if init_model else None)\n",
      "  File \"_catboost.pyx\", line 4624, in _catboost._CatBoost._train\n",
      "  File \"_catboost.pyx\", line 4673, in _catboost._CatBoost._train\n",
      "KeyboardInterrupt\n",
      "\u001b[33m[W 2023-05-27 22:03:49,161]\u001b[0m Trial 40 failed with value None.\u001b[0m\n"
     ]
    },
    {
     "ename": "KeyboardInterrupt",
     "evalue": "",
     "output_type": "error",
     "traceback": [
      "\u001b[0;31m---------------------------------------------------------------------------\u001b[0m",
      "\u001b[0;31mKeyboardInterrupt\u001b[0m                         Traceback (most recent call last)",
      "Cell \u001b[0;32mIn[45], line 3\u001b[0m\n\u001b[1;32m      1\u001b[0m use_features \u001b[38;5;241m=\u001b[39m all_feat\n\u001b[1;32m      2\u001b[0m study_install \u001b[38;5;241m=\u001b[39m optuna\u001b[38;5;241m.\u001b[39mcreate_study(direction\u001b[38;5;241m=\u001b[39m\u001b[38;5;124m'\u001b[39m\u001b[38;5;124mminimize\u001b[39m\u001b[38;5;124m'\u001b[39m,study_name\u001b[38;5;241m=\u001b[39m\u001b[38;5;124m'\u001b[39m\u001b[38;5;124minstall_log_loss\u001b[39m\u001b[38;5;124m'\u001b[39m)\n\u001b[0;32m----> 3\u001b[0m \u001b[43mstudy_install\u001b[49m\u001b[38;5;241;43m.\u001b[39;49m\u001b[43moptimize\u001b[49m\u001b[43m(\u001b[49m\u001b[43mobjective_cat\u001b[49m\u001b[43m,\u001b[49m\u001b[43m \u001b[49m\u001b[43mn_trials\u001b[49m\u001b[38;5;241;43m=\u001b[39;49m\u001b[38;5;241;43m50\u001b[39;49m\u001b[43m)\u001b[49m\n",
      "File \u001b[0;32m~/venvs/python3.9_global/lib/python3.9/site-packages/optuna/study/study.py:425\u001b[0m, in \u001b[0;36mStudy.optimize\u001b[0;34m(self, func, n_trials, timeout, n_jobs, catch, callbacks, gc_after_trial, show_progress_bar)\u001b[0m\n\u001b[1;32m    321\u001b[0m \u001b[38;5;28;01mdef\u001b[39;00m \u001b[38;5;21moptimize\u001b[39m(\n\u001b[1;32m    322\u001b[0m     \u001b[38;5;28mself\u001b[39m,\n\u001b[1;32m    323\u001b[0m     func: ObjectiveFuncType,\n\u001b[0;32m   (...)\u001b[0m\n\u001b[1;32m    330\u001b[0m     show_progress_bar: \u001b[38;5;28mbool\u001b[39m \u001b[38;5;241m=\u001b[39m \u001b[38;5;28;01mFalse\u001b[39;00m,\n\u001b[1;32m    331\u001b[0m ) \u001b[38;5;241m-\u001b[39m\u001b[38;5;241m>\u001b[39m \u001b[38;5;28;01mNone\u001b[39;00m:\n\u001b[1;32m    332\u001b[0m     \u001b[38;5;124;03m\"\"\"Optimize an objective function.\u001b[39;00m\n\u001b[1;32m    333\u001b[0m \n\u001b[1;32m    334\u001b[0m \u001b[38;5;124;03m    Optimization is done by choosing a suitable set of hyperparameter values from a given\u001b[39;00m\n\u001b[0;32m   (...)\u001b[0m\n\u001b[1;32m    422\u001b[0m \u001b[38;5;124;03m            If nested invocation of this method occurs.\u001b[39;00m\n\u001b[1;32m    423\u001b[0m \u001b[38;5;124;03m    \"\"\"\u001b[39;00m\n\u001b[0;32m--> 425\u001b[0m     \u001b[43m_optimize\u001b[49m\u001b[43m(\u001b[49m\n\u001b[1;32m    426\u001b[0m \u001b[43m        \u001b[49m\u001b[43mstudy\u001b[49m\u001b[38;5;241;43m=\u001b[39;49m\u001b[38;5;28;43mself\u001b[39;49m\u001b[43m,\u001b[49m\n\u001b[1;32m    427\u001b[0m \u001b[43m        \u001b[49m\u001b[43mfunc\u001b[49m\u001b[38;5;241;43m=\u001b[39;49m\u001b[43mfunc\u001b[49m\u001b[43m,\u001b[49m\n\u001b[1;32m    428\u001b[0m \u001b[43m        \u001b[49m\u001b[43mn_trials\u001b[49m\u001b[38;5;241;43m=\u001b[39;49m\u001b[43mn_trials\u001b[49m\u001b[43m,\u001b[49m\n\u001b[1;32m    429\u001b[0m \u001b[43m        \u001b[49m\u001b[43mtimeout\u001b[49m\u001b[38;5;241;43m=\u001b[39;49m\u001b[43mtimeout\u001b[49m\u001b[43m,\u001b[49m\n\u001b[1;32m    430\u001b[0m \u001b[43m        \u001b[49m\u001b[43mn_jobs\u001b[49m\u001b[38;5;241;43m=\u001b[39;49m\u001b[43mn_jobs\u001b[49m\u001b[43m,\u001b[49m\n\u001b[1;32m    431\u001b[0m \u001b[43m        \u001b[49m\u001b[43mcatch\u001b[49m\u001b[38;5;241;43m=\u001b[39;49m\u001b[38;5;28;43mtuple\u001b[39;49m\u001b[43m(\u001b[49m\u001b[43mcatch\u001b[49m\u001b[43m)\u001b[49m\u001b[43m \u001b[49m\u001b[38;5;28;43;01mif\u001b[39;49;00m\u001b[43m \u001b[49m\u001b[38;5;28;43misinstance\u001b[39;49m\u001b[43m(\u001b[49m\u001b[43mcatch\u001b[49m\u001b[43m,\u001b[49m\u001b[43m \u001b[49m\u001b[43mIterable\u001b[49m\u001b[43m)\u001b[49m\u001b[43m \u001b[49m\u001b[38;5;28;43;01melse\u001b[39;49;00m\u001b[43m \u001b[49m\u001b[43m(\u001b[49m\u001b[43mcatch\u001b[49m\u001b[43m,\u001b[49m\u001b[43m)\u001b[49m\u001b[43m,\u001b[49m\n\u001b[1;32m    432\u001b[0m \u001b[43m        \u001b[49m\u001b[43mcallbacks\u001b[49m\u001b[38;5;241;43m=\u001b[39;49m\u001b[43mcallbacks\u001b[49m\u001b[43m,\u001b[49m\n\u001b[1;32m    433\u001b[0m \u001b[43m        \u001b[49m\u001b[43mgc_after_trial\u001b[49m\u001b[38;5;241;43m=\u001b[39;49m\u001b[43mgc_after_trial\u001b[49m\u001b[43m,\u001b[49m\n\u001b[1;32m    434\u001b[0m \u001b[43m        \u001b[49m\u001b[43mshow_progress_bar\u001b[49m\u001b[38;5;241;43m=\u001b[39;49m\u001b[43mshow_progress_bar\u001b[49m\u001b[43m,\u001b[49m\n\u001b[1;32m    435\u001b[0m \u001b[43m    \u001b[49m\u001b[43m)\u001b[49m\n",
      "File \u001b[0;32m~/venvs/python3.9_global/lib/python3.9/site-packages/optuna/study/_optimize.py:66\u001b[0m, in \u001b[0;36m_optimize\u001b[0;34m(study, func, n_trials, timeout, n_jobs, catch, callbacks, gc_after_trial, show_progress_bar)\u001b[0m\n\u001b[1;32m     64\u001b[0m \u001b[38;5;28;01mtry\u001b[39;00m:\n\u001b[1;32m     65\u001b[0m     \u001b[38;5;28;01mif\u001b[39;00m n_jobs \u001b[38;5;241m==\u001b[39m \u001b[38;5;241m1\u001b[39m:\n\u001b[0;32m---> 66\u001b[0m         \u001b[43m_optimize_sequential\u001b[49m\u001b[43m(\u001b[49m\n\u001b[1;32m     67\u001b[0m \u001b[43m            \u001b[49m\u001b[43mstudy\u001b[49m\u001b[43m,\u001b[49m\n\u001b[1;32m     68\u001b[0m \u001b[43m            \u001b[49m\u001b[43mfunc\u001b[49m\u001b[43m,\u001b[49m\n\u001b[1;32m     69\u001b[0m \u001b[43m            \u001b[49m\u001b[43mn_trials\u001b[49m\u001b[43m,\u001b[49m\n\u001b[1;32m     70\u001b[0m \u001b[43m            \u001b[49m\u001b[43mtimeout\u001b[49m\u001b[43m,\u001b[49m\n\u001b[1;32m     71\u001b[0m \u001b[43m            \u001b[49m\u001b[43mcatch\u001b[49m\u001b[43m,\u001b[49m\n\u001b[1;32m     72\u001b[0m \u001b[43m            \u001b[49m\u001b[43mcallbacks\u001b[49m\u001b[43m,\u001b[49m\n\u001b[1;32m     73\u001b[0m \u001b[43m            \u001b[49m\u001b[43mgc_after_trial\u001b[49m\u001b[43m,\u001b[49m\n\u001b[1;32m     74\u001b[0m \u001b[43m            \u001b[49m\u001b[43mreseed_sampler_rng\u001b[49m\u001b[38;5;241;43m=\u001b[39;49m\u001b[38;5;28;43;01mFalse\u001b[39;49;00m\u001b[43m,\u001b[49m\n\u001b[1;32m     75\u001b[0m \u001b[43m            \u001b[49m\u001b[43mtime_start\u001b[49m\u001b[38;5;241;43m=\u001b[39;49m\u001b[38;5;28;43;01mNone\u001b[39;49;00m\u001b[43m,\u001b[49m\n\u001b[1;32m     76\u001b[0m \u001b[43m            \u001b[49m\u001b[43mprogress_bar\u001b[49m\u001b[38;5;241;43m=\u001b[39;49m\u001b[43mprogress_bar\u001b[49m\u001b[43m,\u001b[49m\n\u001b[1;32m     77\u001b[0m \u001b[43m        \u001b[49m\u001b[43m)\u001b[49m\n\u001b[1;32m     78\u001b[0m     \u001b[38;5;28;01melse\u001b[39;00m:\n\u001b[1;32m     79\u001b[0m         \u001b[38;5;28;01mif\u001b[39;00m n_jobs \u001b[38;5;241m==\u001b[39m \u001b[38;5;241m-\u001b[39m\u001b[38;5;241m1\u001b[39m:\n",
      "File \u001b[0;32m~/venvs/python3.9_global/lib/python3.9/site-packages/optuna/study/_optimize.py:163\u001b[0m, in \u001b[0;36m_optimize_sequential\u001b[0;34m(study, func, n_trials, timeout, catch, callbacks, gc_after_trial, reseed_sampler_rng, time_start, progress_bar)\u001b[0m\n\u001b[1;32m    160\u001b[0m         \u001b[38;5;28;01mbreak\u001b[39;00m\n\u001b[1;32m    162\u001b[0m \u001b[38;5;28;01mtry\u001b[39;00m:\n\u001b[0;32m--> 163\u001b[0m     frozen_trial \u001b[38;5;241m=\u001b[39m \u001b[43m_run_trial\u001b[49m\u001b[43m(\u001b[49m\u001b[43mstudy\u001b[49m\u001b[43m,\u001b[49m\u001b[43m \u001b[49m\u001b[43mfunc\u001b[49m\u001b[43m,\u001b[49m\u001b[43m \u001b[49m\u001b[43mcatch\u001b[49m\u001b[43m)\u001b[49m\n\u001b[1;32m    164\u001b[0m \u001b[38;5;28;01mfinally\u001b[39;00m:\n\u001b[1;32m    165\u001b[0m     \u001b[38;5;66;03m# The following line mitigates memory problems that can be occurred in some\u001b[39;00m\n\u001b[1;32m    166\u001b[0m     \u001b[38;5;66;03m# environments (e.g., services that use computing containers such as GitHub Actions).\u001b[39;00m\n\u001b[1;32m    167\u001b[0m     \u001b[38;5;66;03m# Please refer to the following PR for further details:\u001b[39;00m\n\u001b[1;32m    168\u001b[0m     \u001b[38;5;66;03m# https://github.com/optuna/optuna/pull/325.\u001b[39;00m\n\u001b[1;32m    169\u001b[0m     \u001b[38;5;28;01mif\u001b[39;00m gc_after_trial:\n",
      "File \u001b[0;32m~/venvs/python3.9_global/lib/python3.9/site-packages/optuna/study/_optimize.py:251\u001b[0m, in \u001b[0;36m_run_trial\u001b[0;34m(study, func, catch)\u001b[0m\n\u001b[1;32m    244\u001b[0m         \u001b[38;5;28;01massert\u001b[39;00m \u001b[38;5;28;01mFalse\u001b[39;00m, \u001b[38;5;124m\"\u001b[39m\u001b[38;5;124mShould not reach.\u001b[39m\u001b[38;5;124m\"\u001b[39m\n\u001b[1;32m    246\u001b[0m \u001b[38;5;28;01mif\u001b[39;00m (\n\u001b[1;32m    247\u001b[0m     frozen_trial\u001b[38;5;241m.\u001b[39mstate \u001b[38;5;241m==\u001b[39m TrialState\u001b[38;5;241m.\u001b[39mFAIL\n\u001b[1;32m    248\u001b[0m     \u001b[38;5;129;01mand\u001b[39;00m func_err \u001b[38;5;129;01mis\u001b[39;00m \u001b[38;5;129;01mnot\u001b[39;00m \u001b[38;5;28;01mNone\u001b[39;00m\n\u001b[1;32m    249\u001b[0m     \u001b[38;5;129;01mand\u001b[39;00m \u001b[38;5;129;01mnot\u001b[39;00m \u001b[38;5;28misinstance\u001b[39m(func_err, catch)\n\u001b[1;32m    250\u001b[0m ):\n\u001b[0;32m--> 251\u001b[0m     \u001b[38;5;28;01mraise\u001b[39;00m func_err\n\u001b[1;32m    252\u001b[0m \u001b[38;5;28;01mreturn\u001b[39;00m frozen_trial\n",
      "File \u001b[0;32m~/venvs/python3.9_global/lib/python3.9/site-packages/optuna/study/_optimize.py:200\u001b[0m, in \u001b[0;36m_run_trial\u001b[0;34m(study, func, catch)\u001b[0m\n\u001b[1;32m    198\u001b[0m \u001b[38;5;28;01mwith\u001b[39;00m get_heartbeat_thread(trial\u001b[38;5;241m.\u001b[39m_trial_id, study\u001b[38;5;241m.\u001b[39m_storage):\n\u001b[1;32m    199\u001b[0m     \u001b[38;5;28;01mtry\u001b[39;00m:\n\u001b[0;32m--> 200\u001b[0m         value_or_values \u001b[38;5;241m=\u001b[39m \u001b[43mfunc\u001b[49m\u001b[43m(\u001b[49m\u001b[43mtrial\u001b[49m\u001b[43m)\u001b[49m\n\u001b[1;32m    201\u001b[0m     \u001b[38;5;28;01mexcept\u001b[39;00m exceptions\u001b[38;5;241m.\u001b[39mTrialPruned \u001b[38;5;28;01mas\u001b[39;00m e:\n\u001b[1;32m    202\u001b[0m         \u001b[38;5;66;03m# TODO(mamu): Handle multi-objective cases.\u001b[39;00m\n\u001b[1;32m    203\u001b[0m         state \u001b[38;5;241m=\u001b[39m TrialState\u001b[38;5;241m.\u001b[39mPRUNED\n",
      "Cell \u001b[0;32mIn[44], line 13\u001b[0m, in \u001b[0;36mobjective_cat\u001b[0;34m(trial)\u001b[0m\n\u001b[1;32m     11\u001b[0m \u001b[38;5;28mprint\u001b[39m(params)\n\u001b[1;32m     12\u001b[0m model \u001b[38;5;241m=\u001b[39m CatBoostClassifier(\u001b[38;5;241m*\u001b[39m\u001b[38;5;241m*\u001b[39mparams)\n\u001b[0;32m---> 13\u001b[0m \u001b[43mmodel\u001b[49m\u001b[38;5;241;43m.\u001b[39;49m\u001b[43mfit\u001b[49m\u001b[43m(\u001b[49m\u001b[43mX_train\u001b[49m\u001b[43m[\u001b[49m\u001b[43muse_features\u001b[49m\u001b[43m]\u001b[49m\u001b[43m,\u001b[49m\u001b[43my_train\u001b[49m\u001b[43m)\u001b[49m\n\u001b[1;32m     14\u001b[0m y_pred \u001b[38;5;241m=\u001b[39m model\u001b[38;5;241m.\u001b[39mpredict(X_val[use_features])\n\u001b[1;32m     15\u001b[0m score \u001b[38;5;241m=\u001b[39m log_loss(y_val,y_pred)\n",
      "File \u001b[0;32m~/venvs/python3.9_global/lib/python3.9/site-packages/catboost/core.py:5131\u001b[0m, in \u001b[0;36mCatBoostClassifier.fit\u001b[0;34m(self, X, y, cat_features, text_features, embedding_features, sample_weight, baseline, use_best_model, eval_set, verbose, logging_level, plot, plot_file, column_description, verbose_eval, metric_period, silent, early_stopping_rounds, save_snapshot, snapshot_file, snapshot_interval, init_model, callbacks, log_cout, log_cerr)\u001b[0m\n\u001b[1;32m   5128\u001b[0m \u001b[38;5;28;01mif\u001b[39;00m \u001b[38;5;124m'\u001b[39m\u001b[38;5;124mloss_function\u001b[39m\u001b[38;5;124m'\u001b[39m \u001b[38;5;129;01min\u001b[39;00m params:\n\u001b[1;32m   5129\u001b[0m     CatBoostClassifier\u001b[38;5;241m.\u001b[39m_check_is_compatible_loss(params[\u001b[38;5;124m'\u001b[39m\u001b[38;5;124mloss_function\u001b[39m\u001b[38;5;124m'\u001b[39m])\n\u001b[0;32m-> 5131\u001b[0m \u001b[38;5;28;43mself\u001b[39;49m\u001b[38;5;241;43m.\u001b[39;49m\u001b[43m_fit\u001b[49m\u001b[43m(\u001b[49m\u001b[43mX\u001b[49m\u001b[43m,\u001b[49m\u001b[43m \u001b[49m\u001b[43my\u001b[49m\u001b[43m,\u001b[49m\u001b[43m \u001b[49m\u001b[43mcat_features\u001b[49m\u001b[43m,\u001b[49m\u001b[43m \u001b[49m\u001b[43mtext_features\u001b[49m\u001b[43m,\u001b[49m\u001b[43m \u001b[49m\u001b[43membedding_features\u001b[49m\u001b[43m,\u001b[49m\u001b[43m \u001b[49m\u001b[38;5;28;43;01mNone\u001b[39;49;00m\u001b[43m,\u001b[49m\u001b[43m \u001b[49m\u001b[43msample_weight\u001b[49m\u001b[43m,\u001b[49m\u001b[43m \u001b[49m\u001b[38;5;28;43;01mNone\u001b[39;49;00m\u001b[43m,\u001b[49m\u001b[43m \u001b[49m\u001b[38;5;28;43;01mNone\u001b[39;49;00m\u001b[43m,\u001b[49m\u001b[43m \u001b[49m\u001b[38;5;28;43;01mNone\u001b[39;49;00m\u001b[43m,\u001b[49m\u001b[43m \u001b[49m\u001b[38;5;28;43;01mNone\u001b[39;49;00m\u001b[43m,\u001b[49m\u001b[43m \u001b[49m\u001b[43mbaseline\u001b[49m\u001b[43m,\u001b[49m\u001b[43m \u001b[49m\u001b[43muse_best_model\u001b[49m\u001b[43m,\u001b[49m\n\u001b[1;32m   5132\u001b[0m \u001b[43m          \u001b[49m\u001b[43meval_set\u001b[49m\u001b[43m,\u001b[49m\u001b[43m \u001b[49m\u001b[43mverbose\u001b[49m\u001b[43m,\u001b[49m\u001b[43m \u001b[49m\u001b[43mlogging_level\u001b[49m\u001b[43m,\u001b[49m\u001b[43m \u001b[49m\u001b[43mplot\u001b[49m\u001b[43m,\u001b[49m\u001b[43m \u001b[49m\u001b[43mplot_file\u001b[49m\u001b[43m,\u001b[49m\u001b[43m \u001b[49m\u001b[43mcolumn_description\u001b[49m\u001b[43m,\u001b[49m\u001b[43m \u001b[49m\u001b[43mverbose_eval\u001b[49m\u001b[43m,\u001b[49m\u001b[43m \u001b[49m\u001b[43mmetric_period\u001b[49m\u001b[43m,\u001b[49m\n\u001b[1;32m   5133\u001b[0m \u001b[43m          \u001b[49m\u001b[43msilent\u001b[49m\u001b[43m,\u001b[49m\u001b[43m \u001b[49m\u001b[43mearly_stopping_rounds\u001b[49m\u001b[43m,\u001b[49m\u001b[43m \u001b[49m\u001b[43msave_snapshot\u001b[49m\u001b[43m,\u001b[49m\u001b[43m \u001b[49m\u001b[43msnapshot_file\u001b[49m\u001b[43m,\u001b[49m\u001b[43m \u001b[49m\u001b[43msnapshot_interval\u001b[49m\u001b[43m,\u001b[49m\u001b[43m \u001b[49m\u001b[43minit_model\u001b[49m\u001b[43m,\u001b[49m\u001b[43m \u001b[49m\u001b[43mcallbacks\u001b[49m\u001b[43m,\u001b[49m\u001b[43m \u001b[49m\u001b[43mlog_cout\u001b[49m\u001b[43m,\u001b[49m\u001b[43m \u001b[49m\u001b[43mlog_cerr\u001b[49m\u001b[43m)\u001b[49m\n\u001b[1;32m   5134\u001b[0m \u001b[38;5;28;01mreturn\u001b[39;00m \u001b[38;5;28mself\u001b[39m\n",
      "File \u001b[0;32m~/venvs/python3.9_global/lib/python3.9/site-packages/catboost/core.py:2357\u001b[0m, in \u001b[0;36mCatBoost._fit\u001b[0;34m(self, X, y, cat_features, text_features, embedding_features, pairs, sample_weight, group_id, group_weight, subgroup_id, pairs_weight, baseline, use_best_model, eval_set, verbose, logging_level, plot, plot_file, column_description, verbose_eval, metric_period, silent, early_stopping_rounds, save_snapshot, snapshot_file, snapshot_interval, init_model, callbacks, log_cout, log_cerr)\u001b[0m\n\u001b[1;32m   2353\u001b[0m allow_clear_pool \u001b[38;5;241m=\u001b[39m train_params[\u001b[38;5;124m\"\u001b[39m\u001b[38;5;124mallow_clear_pool\u001b[39m\u001b[38;5;124m\"\u001b[39m]\n\u001b[1;32m   2355\u001b[0m \u001b[38;5;28;01mwith\u001b[39;00m log_fixup(log_cout, log_cerr), \\\n\u001b[1;32m   2356\u001b[0m     plot_wrapper(plot, plot_file, \u001b[38;5;124m'\u001b[39m\u001b[38;5;124mTraining plots\u001b[39m\u001b[38;5;124m'\u001b[39m, [_get_train_dir(\u001b[38;5;28mself\u001b[39m\u001b[38;5;241m.\u001b[39mget_params())]):\n\u001b[0;32m-> 2357\u001b[0m     \u001b[38;5;28;43mself\u001b[39;49m\u001b[38;5;241;43m.\u001b[39;49m\u001b[43m_train\u001b[49m\u001b[43m(\u001b[49m\n\u001b[1;32m   2358\u001b[0m \u001b[43m        \u001b[49m\u001b[43mtrain_pool\u001b[49m\u001b[43m,\u001b[49m\n\u001b[1;32m   2359\u001b[0m \u001b[43m        \u001b[49m\u001b[43mtrain_params\u001b[49m\u001b[43m[\u001b[49m\u001b[38;5;124;43m\"\u001b[39;49m\u001b[38;5;124;43meval_sets\u001b[39;49m\u001b[38;5;124;43m\"\u001b[39;49m\u001b[43m]\u001b[49m\u001b[43m,\u001b[49m\n\u001b[1;32m   2360\u001b[0m \u001b[43m        \u001b[49m\u001b[43mparams\u001b[49m\u001b[43m,\u001b[49m\n\u001b[1;32m   2361\u001b[0m \u001b[43m        \u001b[49m\u001b[43mallow_clear_pool\u001b[49m\u001b[43m,\u001b[49m\n\u001b[1;32m   2362\u001b[0m \u001b[43m        \u001b[49m\u001b[43mtrain_params\u001b[49m\u001b[43m[\u001b[49m\u001b[38;5;124;43m\"\u001b[39;49m\u001b[38;5;124;43minit_model\u001b[39;49m\u001b[38;5;124;43m\"\u001b[39;49m\u001b[43m]\u001b[49m\n\u001b[1;32m   2363\u001b[0m \u001b[43m    \u001b[49m\u001b[43m)\u001b[49m\n\u001b[1;32m   2365\u001b[0m \u001b[38;5;66;03m# Have property feature_importance possibly set\u001b[39;00m\n\u001b[1;32m   2366\u001b[0m loss \u001b[38;5;241m=\u001b[39m \u001b[38;5;28mself\u001b[39m\u001b[38;5;241m.\u001b[39m_object\u001b[38;5;241m.\u001b[39m_get_loss_function_name()\n",
      "File \u001b[0;32m~/venvs/python3.9_global/lib/python3.9/site-packages/catboost/core.py:1761\u001b[0m, in \u001b[0;36m_CatBoostBase._train\u001b[0;34m(self, train_pool, test_pool, params, allow_clear_pool, init_model)\u001b[0m\n\u001b[1;32m   1760\u001b[0m \u001b[38;5;28;01mdef\u001b[39;00m \u001b[38;5;21m_train\u001b[39m(\u001b[38;5;28mself\u001b[39m, train_pool, test_pool, params, allow_clear_pool, init_model):\n\u001b[0;32m-> 1761\u001b[0m     \u001b[38;5;28;43mself\u001b[39;49m\u001b[38;5;241;43m.\u001b[39;49m\u001b[43m_object\u001b[49m\u001b[38;5;241;43m.\u001b[39;49m\u001b[43m_train\u001b[49m\u001b[43m(\u001b[49m\u001b[43mtrain_pool\u001b[49m\u001b[43m,\u001b[49m\u001b[43m \u001b[49m\u001b[43mtest_pool\u001b[49m\u001b[43m,\u001b[49m\u001b[43m \u001b[49m\u001b[43mparams\u001b[49m\u001b[43m,\u001b[49m\u001b[43m \u001b[49m\u001b[43mallow_clear_pool\u001b[49m\u001b[43m,\u001b[49m\u001b[43m \u001b[49m\u001b[43minit_model\u001b[49m\u001b[38;5;241;43m.\u001b[39;49m\u001b[43m_object\u001b[49m\u001b[43m \u001b[49m\u001b[38;5;28;43;01mif\u001b[39;49;00m\u001b[43m \u001b[49m\u001b[43minit_model\u001b[49m\u001b[43m \u001b[49m\u001b[38;5;28;43;01melse\u001b[39;49;00m\u001b[43m \u001b[49m\u001b[38;5;28;43;01mNone\u001b[39;49;00m\u001b[43m)\u001b[49m\n\u001b[1;32m   1762\u001b[0m     \u001b[38;5;28mself\u001b[39m\u001b[38;5;241m.\u001b[39m_set_trained_model_attributes()\n",
      "File \u001b[0;32m_catboost.pyx:4624\u001b[0m, in \u001b[0;36m_catboost._CatBoost._train\u001b[0;34m()\u001b[0m\n",
      "File \u001b[0;32m_catboost.pyx:4673\u001b[0m, in \u001b[0;36m_catboost._CatBoost._train\u001b[0;34m()\u001b[0m\n",
      "\u001b[0;31mKeyboardInterrupt\u001b[0m: "
     ]
    }
   ],
   "source": [
    "use_features = all_feat\n",
    "study_install = optuna.create_study(direction='minimize',study_name='install_log_loss')\n",
    "study_install.optimize(objective_cat, n_trials=50)"
   ]
  },
  {
   "cell_type": "code",
   "execution_count": null,
   "id": "8a884dbe-9a3d-4a1a-9622-344b701d17dc",
   "metadata": {},
   "outputs": [],
   "source": []
  }
 ],
 "metadata": {
  "kernelspec": {
   "display_name": "Python 3 (ipykernel)",
   "language": "python",
   "name": "python3"
  },
  "language_info": {
   "codemirror_mode": {
    "name": "ipython",
    "version": 3
   },
   "file_extension": ".py",
   "mimetype": "text/x-python",
   "name": "python",
   "nbconvert_exporter": "python",
   "pygments_lexer": "ipython3",
   "version": "3.9.16"
  }
 },
 "nbformat": 4,
 "nbformat_minor": 5
}
