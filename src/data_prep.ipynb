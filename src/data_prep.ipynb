{
 "cells": [
  {
   "cell_type": "code",
   "execution_count": 1,
   "id": "dd731b5c-39b9-48e1-aac8-eb80ea458d1e",
   "metadata": {},
   "outputs": [],
   "source": [
    "from utils import TestResults,TrainSplit\n",
    "import gc"
   ]
  },
  {
   "cell_type": "code",
   "execution_count": 2,
   "id": "b63a3302-cb0c-403b-b1f9-9fccf2554c05",
   "metadata": {},
   "outputs": [],
   "source": [
    "import pandas as pd\n",
    "data = pd.read_csv(\"../Data/miss_combine.csv\")"
   ]
  },
  {
   "cell_type": "code",
   "execution_count": 3,
   "id": "aca3f78d-25d6-4335-9d90-a646b4adcada",
   "metadata": {},
   "outputs": [
    {
     "data": {
      "text/html": [
       "<div>\n",
       "<style scoped>\n",
       "    .dataframe tbody tr th:only-of-type {\n",
       "        vertical-align: middle;\n",
       "    }\n",
       "\n",
       "    .dataframe tbody tr th {\n",
       "        vertical-align: top;\n",
       "    }\n",
       "\n",
       "    .dataframe thead th {\n",
       "        text-align: right;\n",
       "    }\n",
       "</style>\n",
       "<table border=\"1\" class=\"dataframe\">\n",
       "  <thead>\n",
       "    <tr style=\"text-align: right;\">\n",
       "      <th></th>\n",
       "      <th>f_0</th>\n",
       "      <th>f_1</th>\n",
       "      <th>f_2</th>\n",
       "      <th>f_3</th>\n",
       "      <th>f_4</th>\n",
       "      <th>f_5</th>\n",
       "      <th>f_6</th>\n",
       "      <th>f_7</th>\n",
       "      <th>f_8</th>\n",
       "      <th>f_9</th>\n",
       "      <th>...</th>\n",
       "      <th>f_72</th>\n",
       "      <th>f_73</th>\n",
       "      <th>f_74</th>\n",
       "      <th>f_75</th>\n",
       "      <th>f_76</th>\n",
       "      <th>f_77</th>\n",
       "      <th>f_78</th>\n",
       "      <th>f_79</th>\n",
       "      <th>is_clicked</th>\n",
       "      <th>is_installed</th>\n",
       "    </tr>\n",
       "  </thead>\n",
       "  <tbody>\n",
       "    <tr>\n",
       "      <th>0</th>\n",
       "      <td>2541275</td>\n",
       "      <td>49</td>\n",
       "      <td>30131</td>\n",
       "      <td>7152</td>\n",
       "      <td>16170</td>\n",
       "      <td>25604</td>\n",
       "      <td>25613</td>\n",
       "      <td>27941</td>\n",
       "      <td>21218</td>\n",
       "      <td>869</td>\n",
       "      <td>...</td>\n",
       "      <td>3.426729</td>\n",
       "      <td>0.571121</td>\n",
       "      <td>0.115692</td>\n",
       "      <td>1.156922</td>\n",
       "      <td>0.269948</td>\n",
       "      <td>0.0</td>\n",
       "      <td>0.000000</td>\n",
       "      <td>0.0</td>\n",
       "      <td>1</td>\n",
       "      <td>1</td>\n",
       "    </tr>\n",
       "    <tr>\n",
       "      <th>1</th>\n",
       "      <td>2541956</td>\n",
       "      <td>49</td>\n",
       "      <td>20095</td>\n",
       "      <td>563</td>\n",
       "      <td>22861</td>\n",
       "      <td>25604</td>\n",
       "      <td>22651</td>\n",
       "      <td>27941</td>\n",
       "      <td>19203</td>\n",
       "      <td>869</td>\n",
       "      <td>...</td>\n",
       "      <td>0.571121</td>\n",
       "      <td>0.571121</td>\n",
       "      <td>0.115692</td>\n",
       "      <td>1.156922</td>\n",
       "      <td>0.269948</td>\n",
       "      <td>0.0</td>\n",
       "      <td>0.000000</td>\n",
       "      <td>0.0</td>\n",
       "      <td>0</td>\n",
       "      <td>0</td>\n",
       "    </tr>\n",
       "    <tr>\n",
       "      <th>2</th>\n",
       "      <td>2542133</td>\n",
       "      <td>55</td>\n",
       "      <td>20095</td>\n",
       "      <td>563</td>\n",
       "      <td>22861</td>\n",
       "      <td>25604</td>\n",
       "      <td>21280</td>\n",
       "      <td>27941</td>\n",
       "      <td>21621</td>\n",
       "      <td>23218</td>\n",
       "      <td>...</td>\n",
       "      <td>0.000000</td>\n",
       "      <td>0.000000</td>\n",
       "      <td>0.000000</td>\n",
       "      <td>1.156922</td>\n",
       "      <td>0.038564</td>\n",
       "      <td>0.0</td>\n",
       "      <td>0.000000</td>\n",
       "      <td>0.0</td>\n",
       "      <td>0</td>\n",
       "      <td>1</td>\n",
       "    </tr>\n",
       "    <tr>\n",
       "      <th>3</th>\n",
       "      <td>2542375</td>\n",
       "      <td>57</td>\n",
       "      <td>17758</td>\n",
       "      <td>22294</td>\n",
       "      <td>29040</td>\n",
       "      <td>25604</td>\n",
       "      <td>15836</td>\n",
       "      <td>27941</td>\n",
       "      <td>21218</td>\n",
       "      <td>21533</td>\n",
       "      <td>...</td>\n",
       "      <td>5.711215</td>\n",
       "      <td>2.284486</td>\n",
       "      <td>0.115692</td>\n",
       "      <td>1.156922</td>\n",
       "      <td>0.269948</td>\n",
       "      <td>0.0</td>\n",
       "      <td>0.000000</td>\n",
       "      <td>0.0</td>\n",
       "      <td>0</td>\n",
       "      <td>0</td>\n",
       "    </tr>\n",
       "    <tr>\n",
       "      <th>4</th>\n",
       "      <td>2542442</td>\n",
       "      <td>47</td>\n",
       "      <td>11077</td>\n",
       "      <td>7152</td>\n",
       "      <td>18575</td>\n",
       "      <td>15908</td>\n",
       "      <td>16861</td>\n",
       "      <td>27941</td>\n",
       "      <td>21218</td>\n",
       "      <td>9638</td>\n",
       "      <td>...</td>\n",
       "      <td>1.142243</td>\n",
       "      <td>0.000000</td>\n",
       "      <td>0.038564</td>\n",
       "      <td>1.156922</td>\n",
       "      <td>0.269948</td>\n",
       "      <td>0.0</td>\n",
       "      <td>37.384575</td>\n",
       "      <td>0.0</td>\n",
       "      <td>0</td>\n",
       "      <td>0</td>\n",
       "    </tr>\n",
       "  </tbody>\n",
       "</table>\n",
       "<p>5 rows × 82 columns</p>\n",
       "</div>"
      ],
      "text/plain": [
       "       f_0  f_1    f_2    f_3    f_4    f_5    f_6    f_7    f_8    f_9  ...  \\\n",
       "0  2541275   49  30131   7152  16170  25604  25613  27941  21218    869  ...   \n",
       "1  2541956   49  20095    563  22861  25604  22651  27941  19203    869  ...   \n",
       "2  2542133   55  20095    563  22861  25604  21280  27941  21621  23218  ...   \n",
       "3  2542375   57  17758  22294  29040  25604  15836  27941  21218  21533  ...   \n",
       "4  2542442   47  11077   7152  18575  15908  16861  27941  21218   9638  ...   \n",
       "\n",
       "       f_72      f_73      f_74      f_75      f_76  f_77       f_78  f_79  \\\n",
       "0  3.426729  0.571121  0.115692  1.156922  0.269948   0.0   0.000000   0.0   \n",
       "1  0.571121  0.571121  0.115692  1.156922  0.269948   0.0   0.000000   0.0   \n",
       "2  0.000000  0.000000  0.000000  1.156922  0.038564   0.0   0.000000   0.0   \n",
       "3  5.711215  2.284486  0.115692  1.156922  0.269948   0.0   0.000000   0.0   \n",
       "4  1.142243  0.000000  0.038564  1.156922  0.269948   0.0  37.384575   0.0   \n",
       "\n",
       "   is_clicked  is_installed  \n",
       "0           1             1  \n",
       "1           0             0  \n",
       "2           0             1  \n",
       "3           0             0  \n",
       "4           0             0  \n",
       "\n",
       "[5 rows x 82 columns]"
      ]
     },
     "execution_count": 3,
     "metadata": {},
     "output_type": "execute_result"
    }
   ],
   "source": [
    "data.head()"
   ]
  },
  {
   "cell_type": "code",
   "execution_count": 4,
   "id": "35496105-76b7-44d7-9571-d7a61c6d7479",
   "metadata": {},
   "outputs": [],
   "source": [
    "data.loc[data['f_30'].isnull(),'f_30'] = 3\n",
    "data.loc[data['f_31'].isnull(),'f_31'] = 3"
   ]
  },
  {
   "cell_type": "code",
   "execution_count": 5,
   "id": "c9cfcf24-7638-467d-bedf-901b4b8cdfaa",
   "metadata": {},
   "outputs": [],
   "source": [
    "fmiss = \"f_43,f_51,f_58,f_59,f_64,f_65,f_66,f_67,f_68,f_69,f_70\".split(',')\n",
    "for f in fmiss:\n",
    "    data[f].fillna(data[f].mean(),inplace=True)"
   ]
  },
  {
   "cell_type": "code",
   "execution_count": 6,
   "id": "b2b05808-cf34-4699-b559-3fa2b41cc034",
   "metadata": {},
   "outputs": [],
   "source": [
    "feat_num_map = dict()\n",
    "for i in range(2,43):\n",
    "    out = data.groupby(f'f_{i}')[TrainSplit.IS_INSTALLED[0]].mean()\n",
    "    temp = dict()\n",
    "    for clas,prob in out.items():\n",
    "        temp[clas]=prob\n",
    "    feat_num_map[f\"f_{i}\"] = temp"
   ]
  },
  {
   "cell_type": "code",
   "execution_count": 7,
   "id": "de8a690b-4196-41cd-9b5f-096d1e78727a",
   "metadata": {},
   "outputs": [],
   "source": [
    "from tqdm import tqdm"
   ]
  },
  {
   "cell_type": "code",
   "execution_count": 8,
   "id": "9b46341b-3901-408b-80ba-9ab0d8488f27",
   "metadata": {},
   "outputs": [
    {
     "name": "stderr",
     "output_type": "stream",
     "text": [
      "replace: 100%|███████████████████████████████████████████████████████████████████████████████████████████████████████████████████████████| 41/41 [02:21<00:00,  3.45s/it]\n"
     ]
    }
   ],
   "source": [
    "for i in tqdm(range(2,43),desc=\"replace\"):\n",
    "    data[f'f_{i}'].replace(feat_num_map[f'f_{i}'],inplace=True)\n",
    "    gc.collect()"
   ]
  },
  {
   "cell_type": "code",
   "execution_count": 9,
   "id": "88f48345-552b-48dd-bca1-ae19d75f6a46",
   "metadata": {},
   "outputs": [],
   "source": [
    "data.to_csv(\"../Data/imputed_data.csv\")"
   ]
  },
  {
   "cell_type": "code",
   "execution_count": 10,
   "id": "8fdc6b36-c9fa-4fec-a191-7db3ea0584f4",
   "metadata": {},
   "outputs": [],
   "source": [
    "del data"
   ]
  },
  {
   "cell_type": "code",
   "execution_count": 11,
   "id": "67dc0dbb-a5ec-40a0-9c8f-ed296c399cd6",
   "metadata": {},
   "outputs": [
    {
     "data": {
      "text/plain": [
       "0"
      ]
     },
     "execution_count": 11,
     "metadata": {},
     "output_type": "execute_result"
    }
   ],
   "source": [
    "gc.collect()"
   ]
  },
  {
   "cell_type": "code",
   "execution_count": null,
   "id": "740c2557-d7a8-4144-9892-8f39162bca70",
   "metadata": {},
   "outputs": [],
   "source": []
  }
 ],
 "metadata": {
  "kernelspec": {
   "display_name": "Python 3 (ipykernel)",
   "language": "python",
   "name": "python3"
  },
  "language_info": {
   "codemirror_mode": {
    "name": "ipython",
    "version": 3
   },
   "file_extension": ".py",
   "mimetype": "text/x-python",
   "name": "python",
   "nbconvert_exporter": "python",
   "pygments_lexer": "ipython3",
   "version": "3.9.16"
  }
 },
 "nbformat": 4,
 "nbformat_minor": 5
}
