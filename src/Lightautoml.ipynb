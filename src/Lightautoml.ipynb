{
 "cells": [
  {
   "cell_type": "code",
   "execution_count": 1,
   "id": "45e0d556-f4b0-4d09-bde7-7dd67f01a4d1",
   "metadata": {},
   "outputs": [],
   "source": [
    "# Standard python libraries\n",
    "import os\n",
    "import time\n",
    "\n",
    "# Essential DS libraries\n",
    "import numpy as np\n",
    "import pandas as pd\n",
    "from sklearn.metrics import roc_auc_score\n",
    "from sklearn.model_selection import train_test_split\n",
    "import torch\n",
    "\n",
    "# LightAutoML presets, task and report generation\n",
    "from lightautoml.automl.presets.tabular_presets import TabularAutoML, TabularUtilizedAutoML\n",
    "from lightautoml.tasks import Task\n",
    "from lightautoml.report.report_deco import ReportDeco"
   ]
  },
  {
   "cell_type": "code",
   "execution_count": 9,
   "id": "0a6c9f20-f20c-452f-b11f-9c45d5d905a8",
   "metadata": {},
   "outputs": [],
   "source": [
    "ROWID = ['f_0']\n",
    "DATE = ['f_1']\n",
    "CATEGORIES = [ f'f_{i}' for i in range(2,33) ]\n",
    "BINARY = [ f'f_{i}' for i in range(33,42) ]\n",
    "NUMERICAL = [ f'f_{i}' for i in range(42,80) ]\n",
    "IS_CLICKED = ['is_clicked']\n",
    "IS_INSTALLED =['is_installed']"
   ]
  },
  {
   "cell_type": "code",
   "execution_count": 17,
   "id": "bcd2c58f-5a00-4176-964d-f4fbf5aee80d",
   "metadata": {},
   "outputs": [],
   "source": [
    "N_THREADS = 24\n",
    "N_FOLDS = 3\n",
    "RANDOM_STATE = 42\n",
    "TEST_SIZE = 0.2\n",
    "TIMEOUT = 30000\n",
    "TARGET_NAME = 'is_clicked'"
   ]
  },
  {
   "cell_type": "code",
   "execution_count": 3,
   "id": "42fac620-95ab-43e5-8359-168181b17e38",
   "metadata": {},
   "outputs": [],
   "source": [
    "DATASET_DIR = '../Data'\n",
    "DATASET_NAME = 'miss_combine.csv'\n",
    "DATASET_FULLNAME = os.path.join(DATASET_DIR, DATASET_NAME)"
   ]
  },
  {
   "cell_type": "code",
   "execution_count": 4,
   "id": "d8fc258c-ad89-4f68-83fc-038d1636bad6",
   "metadata": {},
   "outputs": [],
   "source": [
    "np.random.seed(RANDOM_STATE)\n",
    "torch.set_num_threads(N_THREADS)"
   ]
  },
  {
   "cell_type": "code",
   "execution_count": 5,
   "id": "7c1053c8-db33-40b3-b757-cb816bdb1ea7",
   "metadata": {},
   "outputs": [
    {
     "data": {
      "text/html": [
       "<div>\n",
       "<style scoped>\n",
       "    .dataframe tbody tr th:only-of-type {\n",
       "        vertical-align: middle;\n",
       "    }\n",
       "\n",
       "    .dataframe tbody tr th {\n",
       "        vertical-align: top;\n",
       "    }\n",
       "\n",
       "    .dataframe thead th {\n",
       "        text-align: right;\n",
       "    }\n",
       "</style>\n",
       "<table border=\"1\" class=\"dataframe\">\n",
       "  <thead>\n",
       "    <tr style=\"text-align: right;\">\n",
       "      <th></th>\n",
       "      <th>f_0</th>\n",
       "      <th>f_1</th>\n",
       "      <th>f_2</th>\n",
       "      <th>f_3</th>\n",
       "      <th>f_4</th>\n",
       "      <th>f_5</th>\n",
       "      <th>f_6</th>\n",
       "      <th>f_7</th>\n",
       "      <th>f_8</th>\n",
       "      <th>f_9</th>\n",
       "      <th>...</th>\n",
       "      <th>f_72</th>\n",
       "      <th>f_73</th>\n",
       "      <th>f_74</th>\n",
       "      <th>f_75</th>\n",
       "      <th>f_76</th>\n",
       "      <th>f_77</th>\n",
       "      <th>f_78</th>\n",
       "      <th>f_79</th>\n",
       "      <th>is_clicked</th>\n",
       "      <th>is_installed</th>\n",
       "    </tr>\n",
       "  </thead>\n",
       "  <tbody>\n",
       "    <tr>\n",
       "      <th>0</th>\n",
       "      <td>2541275</td>\n",
       "      <td>49</td>\n",
       "      <td>30131</td>\n",
       "      <td>7152</td>\n",
       "      <td>16170</td>\n",
       "      <td>25604</td>\n",
       "      <td>25613</td>\n",
       "      <td>27941</td>\n",
       "      <td>21218</td>\n",
       "      <td>869</td>\n",
       "      <td>...</td>\n",
       "      <td>3.426729</td>\n",
       "      <td>0.571121</td>\n",
       "      <td>0.115692</td>\n",
       "      <td>1.156922</td>\n",
       "      <td>0.269948</td>\n",
       "      <td>0.0</td>\n",
       "      <td>0.000000</td>\n",
       "      <td>0.0</td>\n",
       "      <td>1</td>\n",
       "      <td>1</td>\n",
       "    </tr>\n",
       "    <tr>\n",
       "      <th>1</th>\n",
       "      <td>2541956</td>\n",
       "      <td>49</td>\n",
       "      <td>20095</td>\n",
       "      <td>563</td>\n",
       "      <td>22861</td>\n",
       "      <td>25604</td>\n",
       "      <td>22651</td>\n",
       "      <td>27941</td>\n",
       "      <td>19203</td>\n",
       "      <td>869</td>\n",
       "      <td>...</td>\n",
       "      <td>0.571121</td>\n",
       "      <td>0.571121</td>\n",
       "      <td>0.115692</td>\n",
       "      <td>1.156922</td>\n",
       "      <td>0.269948</td>\n",
       "      <td>0.0</td>\n",
       "      <td>0.000000</td>\n",
       "      <td>0.0</td>\n",
       "      <td>0</td>\n",
       "      <td>0</td>\n",
       "    </tr>\n",
       "    <tr>\n",
       "      <th>2</th>\n",
       "      <td>2542133</td>\n",
       "      <td>55</td>\n",
       "      <td>20095</td>\n",
       "      <td>563</td>\n",
       "      <td>22861</td>\n",
       "      <td>25604</td>\n",
       "      <td>21280</td>\n",
       "      <td>27941</td>\n",
       "      <td>21621</td>\n",
       "      <td>23218</td>\n",
       "      <td>...</td>\n",
       "      <td>0.000000</td>\n",
       "      <td>0.000000</td>\n",
       "      <td>0.000000</td>\n",
       "      <td>1.156922</td>\n",
       "      <td>0.038564</td>\n",
       "      <td>0.0</td>\n",
       "      <td>0.000000</td>\n",
       "      <td>0.0</td>\n",
       "      <td>0</td>\n",
       "      <td>1</td>\n",
       "    </tr>\n",
       "    <tr>\n",
       "      <th>3</th>\n",
       "      <td>2542375</td>\n",
       "      <td>57</td>\n",
       "      <td>17758</td>\n",
       "      <td>22294</td>\n",
       "      <td>29040</td>\n",
       "      <td>25604</td>\n",
       "      <td>15836</td>\n",
       "      <td>27941</td>\n",
       "      <td>21218</td>\n",
       "      <td>21533</td>\n",
       "      <td>...</td>\n",
       "      <td>5.711215</td>\n",
       "      <td>2.284486</td>\n",
       "      <td>0.115692</td>\n",
       "      <td>1.156922</td>\n",
       "      <td>0.269948</td>\n",
       "      <td>0.0</td>\n",
       "      <td>0.000000</td>\n",
       "      <td>0.0</td>\n",
       "      <td>0</td>\n",
       "      <td>0</td>\n",
       "    </tr>\n",
       "    <tr>\n",
       "      <th>4</th>\n",
       "      <td>2542442</td>\n",
       "      <td>47</td>\n",
       "      <td>11077</td>\n",
       "      <td>7152</td>\n",
       "      <td>18575</td>\n",
       "      <td>15908</td>\n",
       "      <td>16861</td>\n",
       "      <td>27941</td>\n",
       "      <td>21218</td>\n",
       "      <td>9638</td>\n",
       "      <td>...</td>\n",
       "      <td>1.142243</td>\n",
       "      <td>0.000000</td>\n",
       "      <td>0.038564</td>\n",
       "      <td>1.156922</td>\n",
       "      <td>0.269948</td>\n",
       "      <td>0.0</td>\n",
       "      <td>37.384575</td>\n",
       "      <td>0.0</td>\n",
       "      <td>0</td>\n",
       "      <td>0</td>\n",
       "    </tr>\n",
       "  </tbody>\n",
       "</table>\n",
       "<p>5 rows × 82 columns</p>\n",
       "</div>"
      ],
      "text/plain": [
       "       f_0  f_1    f_2    f_3    f_4    f_5    f_6    f_7    f_8    f_9  ...  \\\n",
       "0  2541275   49  30131   7152  16170  25604  25613  27941  21218    869  ...   \n",
       "1  2541956   49  20095    563  22861  25604  22651  27941  19203    869  ...   \n",
       "2  2542133   55  20095    563  22861  25604  21280  27941  21621  23218  ...   \n",
       "3  2542375   57  17758  22294  29040  25604  15836  27941  21218  21533  ...   \n",
       "4  2542442   47  11077   7152  18575  15908  16861  27941  21218   9638  ...   \n",
       "\n",
       "       f_72      f_73      f_74      f_75      f_76  f_77       f_78  f_79  \\\n",
       "0  3.426729  0.571121  0.115692  1.156922  0.269948   0.0   0.000000   0.0   \n",
       "1  0.571121  0.571121  0.115692  1.156922  0.269948   0.0   0.000000   0.0   \n",
       "2  0.000000  0.000000  0.000000  1.156922  0.038564   0.0   0.000000   0.0   \n",
       "3  5.711215  2.284486  0.115692  1.156922  0.269948   0.0   0.000000   0.0   \n",
       "4  1.142243  0.000000  0.038564  1.156922  0.269948   0.0  37.384575   0.0   \n",
       "\n",
       "   is_clicked  is_installed  \n",
       "0           1             1  \n",
       "1           0             0  \n",
       "2           0             1  \n",
       "3           0             0  \n",
       "4           0             0  \n",
       "\n",
       "[5 rows x 82 columns]"
      ]
     },
     "execution_count": 5,
     "metadata": {},
     "output_type": "execute_result"
    }
   ],
   "source": [
    "data = pd.read_csv('../Data/miss_combine.csv')\n",
    "data.head()"
   ]
  },
  {
   "cell_type": "markdown",
   "id": "4c869983-bd40-4f7c-aa69-5711b6255ee1",
   "metadata": {},
   "source": [
    "## Imputation"
   ]
  },
  {
   "cell_type": "code",
   "execution_count": 7,
   "id": "728d1915-a674-41a7-be8c-48d40299e617",
   "metadata": {},
   "outputs": [
    {
     "name": "stderr",
     "output_type": "stream",
     "text": [
      "NUM IMPUTE: 100%|█████████████████████████████████████| 11/11 [00:00<00:00, 40.52it/s]\n"
     ]
    }
   ],
   "source": [
    "from tqdm import tqdm\n",
    "\n",
    "data['f_30'].fillna(data['f_30'].mode()[0],inplace=True)\n",
    "data['f_31'].fillna(data['f_31'].mode()[0],inplace=True)\n",
    "fmiss = \"f_43,f_51,f_58,f_59,f_64,f_65,f_66,f_67,f_68,f_69,f_70\".split(',')\n",
    "for f in tqdm(fmiss,desc=\"NUM IMPUTE\"):\n",
    "    data[f].fillna(data[f].mean(),inplace=True)"
   ]
  },
  {
   "cell_type": "code",
   "execution_count": 11,
   "id": "11345dc4-3a85-4b8b-9696-18330311c44b",
   "metadata": {},
   "outputs": [
    {
     "name": "stdout",
     "output_type": "stream",
     "text": [
      "Data splitted. Parts sizes: tr_data = (2788681, 82), te_data = (697171, 82)\n"
     ]
    },
    {
     "data": {
      "text/html": [
       "<div>\n",
       "<style scoped>\n",
       "    .dataframe tbody tr th:only-of-type {\n",
       "        vertical-align: middle;\n",
       "    }\n",
       "\n",
       "    .dataframe tbody tr th {\n",
       "        vertical-align: top;\n",
       "    }\n",
       "\n",
       "    .dataframe thead th {\n",
       "        text-align: right;\n",
       "    }\n",
       "</style>\n",
       "<table border=\"1\" class=\"dataframe\">\n",
       "  <thead>\n",
       "    <tr style=\"text-align: right;\">\n",
       "      <th></th>\n",
       "      <th>f_0</th>\n",
       "      <th>f_1</th>\n",
       "      <th>f_2</th>\n",
       "      <th>f_3</th>\n",
       "      <th>f_4</th>\n",
       "      <th>f_5</th>\n",
       "      <th>f_6</th>\n",
       "      <th>f_7</th>\n",
       "      <th>f_8</th>\n",
       "      <th>f_9</th>\n",
       "      <th>...</th>\n",
       "      <th>f_72</th>\n",
       "      <th>f_73</th>\n",
       "      <th>f_74</th>\n",
       "      <th>f_75</th>\n",
       "      <th>f_76</th>\n",
       "      <th>f_77</th>\n",
       "      <th>f_78</th>\n",
       "      <th>f_79</th>\n",
       "      <th>is_clicked</th>\n",
       "      <th>is_installed</th>\n",
       "    </tr>\n",
       "  </thead>\n",
       "  <tbody>\n",
       "    <tr>\n",
       "      <th>93993</th>\n",
       "      <td>3201672</td>\n",
       "      <td>49</td>\n",
       "      <td>12577</td>\n",
       "      <td>22294</td>\n",
       "      <td>2059</td>\n",
       "      <td>21545</td>\n",
       "      <td>4018</td>\n",
       "      <td>27941</td>\n",
       "      <td>18800</td>\n",
       "      <td>869</td>\n",
       "      <td>...</td>\n",
       "      <td>5.711215</td>\n",
       "      <td>3.997850</td>\n",
       "      <td>0.115692</td>\n",
       "      <td>1.156922</td>\n",
       "      <td>0.269948</td>\n",
       "      <td>0.0</td>\n",
       "      <td>0.0</td>\n",
       "      <td>0.0</td>\n",
       "      <td>0</td>\n",
       "      <td>0</td>\n",
       "    </tr>\n",
       "    <tr>\n",
       "      <th>976084</th>\n",
       "      <td>1079823</td>\n",
       "      <td>61</td>\n",
       "      <td>14378</td>\n",
       "      <td>22294</td>\n",
       "      <td>11449</td>\n",
       "      <td>25604</td>\n",
       "      <td>14544</td>\n",
       "      <td>27941</td>\n",
       "      <td>21218</td>\n",
       "      <td>9638</td>\n",
       "      <td>...</td>\n",
       "      <td>1.142243</td>\n",
       "      <td>0.000000</td>\n",
       "      <td>0.115692</td>\n",
       "      <td>1.156922</td>\n",
       "      <td>0.269948</td>\n",
       "      <td>0.0</td>\n",
       "      <td>0.0</td>\n",
       "      <td>0.0</td>\n",
       "      <td>1</td>\n",
       "      <td>0</td>\n",
       "    </tr>\n",
       "    <tr>\n",
       "      <th>796623</th>\n",
       "      <td>3224317</td>\n",
       "      <td>48</td>\n",
       "      <td>20095</td>\n",
       "      <td>563</td>\n",
       "      <td>31686</td>\n",
       "      <td>21545</td>\n",
       "      <td>590</td>\n",
       "      <td>27941</td>\n",
       "      <td>18800</td>\n",
       "      <td>23218</td>\n",
       "      <td>...</td>\n",
       "      <td>1.142243</td>\n",
       "      <td>1.142243</td>\n",
       "      <td>0.115692</td>\n",
       "      <td>1.156922</td>\n",
       "      <td>0.269948</td>\n",
       "      <td>0.0</td>\n",
       "      <td>0.0</td>\n",
       "      <td>0.0</td>\n",
       "      <td>0</td>\n",
       "      <td>1</td>\n",
       "    </tr>\n",
       "    <tr>\n",
       "      <th>1635437</th>\n",
       "      <td>3434437</td>\n",
       "      <td>59</td>\n",
       "      <td>17769</td>\n",
       "      <td>22294</td>\n",
       "      <td>3192</td>\n",
       "      <td>19072</td>\n",
       "      <td>3715</td>\n",
       "      <td>27941</td>\n",
       "      <td>19606</td>\n",
       "      <td>6675</td>\n",
       "      <td>...</td>\n",
       "      <td>1.142243</td>\n",
       "      <td>0.571121</td>\n",
       "      <td>0.115692</td>\n",
       "      <td>1.156922</td>\n",
       "      <td>0.269948</td>\n",
       "      <td>0.0</td>\n",
       "      <td>0.0</td>\n",
       "      <td>0.0</td>\n",
       "      <td>1</td>\n",
       "      <td>1</td>\n",
       "    </tr>\n",
       "    <tr>\n",
       "      <th>2015105</th>\n",
       "      <td>667997</td>\n",
       "      <td>47</td>\n",
       "      <td>30131</td>\n",
       "      <td>22294</td>\n",
       "      <td>32544</td>\n",
       "      <td>21545</td>\n",
       "      <td>8148</td>\n",
       "      <td>27941</td>\n",
       "      <td>19606</td>\n",
       "      <td>9638</td>\n",
       "      <td>...</td>\n",
       "      <td>0.000000</td>\n",
       "      <td>0.000000</td>\n",
       "      <td>0.115692</td>\n",
       "      <td>1.156922</td>\n",
       "      <td>0.269948</td>\n",
       "      <td>0.0</td>\n",
       "      <td>0.0</td>\n",
       "      <td>0.0</td>\n",
       "      <td>0</td>\n",
       "      <td>0</td>\n",
       "    </tr>\n",
       "  </tbody>\n",
       "</table>\n",
       "<p>5 rows × 82 columns</p>\n",
       "</div>"
      ],
      "text/plain": [
       "             f_0  f_1    f_2    f_3    f_4    f_5    f_6    f_7    f_8    f_9  \\\n",
       "93993    3201672   49  12577  22294   2059  21545   4018  27941  18800    869   \n",
       "976084   1079823   61  14378  22294  11449  25604  14544  27941  21218   9638   \n",
       "796623   3224317   48  20095    563  31686  21545    590  27941  18800  23218   \n",
       "1635437  3434437   59  17769  22294   3192  19072   3715  27941  19606   6675   \n",
       "2015105   667997   47  30131  22294  32544  21545   8148  27941  19606   9638   \n",
       "\n",
       "         ...      f_72      f_73      f_74      f_75      f_76  f_77  f_78  \\\n",
       "93993    ...  5.711215  3.997850  0.115692  1.156922  0.269948   0.0   0.0   \n",
       "976084   ...  1.142243  0.000000  0.115692  1.156922  0.269948   0.0   0.0   \n",
       "796623   ...  1.142243  1.142243  0.115692  1.156922  0.269948   0.0   0.0   \n",
       "1635437  ...  1.142243  0.571121  0.115692  1.156922  0.269948   0.0   0.0   \n",
       "2015105  ...  0.000000  0.000000  0.115692  1.156922  0.269948   0.0   0.0   \n",
       "\n",
       "         f_79  is_clicked  is_installed  \n",
       "93993     0.0           0             0  \n",
       "976084    0.0           1             0  \n",
       "796623    0.0           0             1  \n",
       "1635437   0.0           1             1  \n",
       "2015105   0.0           0             0  \n",
       "\n",
       "[5 rows x 82 columns]"
      ]
     },
     "execution_count": 11,
     "metadata": {},
     "output_type": "execute_result"
    }
   ],
   "source": [
    "tr_data, te_data = train_test_split(\n",
    "    data,\n",
    "    test_size=TEST_SIZE,\n",
    "    stratify=data[TARGET_NAME],\n",
    "    random_state=RANDOM_STATE\n",
    ")\n",
    "\n",
    "print(f'Data splitted. Parts sizes: tr_data = {tr_data.shape}, te_data = {te_data.shape}')\n",
    "\n",
    "tr_data.head()"
   ]
  },
  {
   "cell_type": "code",
   "execution_count": 18,
   "id": "e94085cc-b031-45b3-ae54-19637f8d5c3d",
   "metadata": {},
   "outputs": [],
   "source": [
    "task = Task('binary')\n",
    "\n",
    "roles = {\n",
    "    'target': TARGET_NAME,\n",
    "    'drop': ['f_0','is_installed']\n",
    "}"
   ]
  },
  {
   "cell_type": "code",
   "execution_count": 19,
   "id": "ac100239-a0bc-41b7-995e-03a3689e327f",
   "metadata": {},
   "outputs": [],
   "source": [
    "automl = TabularAutoML(\n",
    "    task = task,\n",
    "    timeout = TIMEOUT,\n",
    "    cpu_limit = N_THREADS,\n",
    "    reader_params = {'n_jobs': N_THREADS, 'cv': N_FOLDS, 'random_state': RANDOM_STATE}\n",
    ")"
   ]
  },
  {
   "cell_type": "code",
   "execution_count": 20,
   "id": "b87d79bb-5074-4fee-a58f-736f9c3fbb32",
   "metadata": {},
   "outputs": [
    {
     "name": "stdout",
     "output_type": "stream",
     "text": [
      "[22:48:48] Stdout logging level is INFO.\n",
      "[22:48:48] Task: binary\n",
      "\n",
      "[22:48:48] Start automl preset with listed constraints:\n",
      "[22:48:48] - time: 30000.00 seconds\n",
      "[22:48:48] - CPU: 24 cores\n",
      "[22:48:48] - memory: 16 GB\n",
      "\n",
      "[22:48:48] \u001b[1mTrain data shape: (2788681, 82)\u001b[0m\n",
      "\n",
      "[22:49:01] Layer \u001b[1m1\u001b[0m train process start. Time left 29987.46 secs\n",
      "[22:51:41] Start fitting \u001b[1mLvl_0_Pipe_0_Mod_0_LinearL2\u001b[0m ...\n",
      "[22:53:52] Fitting \u001b[1mLvl_0_Pipe_0_Mod_0_LinearL2\u001b[0m finished. score = \u001b[1m0.8390470114588647\u001b[0m\n",
      "[22:53:52] \u001b[1mLvl_0_Pipe_0_Mod_0_LinearL2\u001b[0m fitting and predicting completed\n",
      "[22:53:52] Time left 29696.41 secs\n",
      "\n",
      "[22:55:37] \u001b[1mSelector_LightGBM\u001b[0m fitting and predicting completed\n",
      "[22:59:12] Start fitting \u001b[1mLvl_0_Pipe_1_Mod_0_LightGBM\u001b[0m ...\n",
      "[23:04:26] Fitting \u001b[1mLvl_0_Pipe_1_Mod_0_LightGBM\u001b[0m finished. score = \u001b[1m0.8703582974179124\u001b[0m\n",
      "[23:04:26] \u001b[1mLvl_0_Pipe_1_Mod_0_LightGBM\u001b[0m fitting and predicting completed\n",
      "[23:04:26] Start hyperparameters optimization for \u001b[1mLvl_0_Pipe_1_Mod_1_Tuned_LightGBM\u001b[0m ... Time budget is 300.00 secs\n",
      "[23:11:18] Hyperparameters optimization for \u001b[1mLvl_0_Pipe_1_Mod_1_Tuned_LightGBM\u001b[0m completed\n",
      "[23:11:18] Start fitting \u001b[1mLvl_0_Pipe_1_Mod_1_Tuned_LightGBM\u001b[0m ...\n",
      "[23:18:13] Fitting \u001b[1mLvl_0_Pipe_1_Mod_1_Tuned_LightGBM\u001b[0m finished. score = \u001b[1m0.8706693006885178\u001b[0m\n",
      "[23:18:13] \u001b[1mLvl_0_Pipe_1_Mod_1_Tuned_LightGBM\u001b[0m fitting and predicting completed\n",
      "[23:18:14] Start fitting \u001b[1mLvl_0_Pipe_1_Mod_2_CatBoost\u001b[0m ...\n"
     ]
    },
    {
     "name": "stderr",
     "output_type": "stream",
     "text": [
      "TBB Warning: The number of workers is currently limited to 25. The request for 39 workers is ignored. Further requests for more workers will be silently ignored until the limit changes.\n",
      "\n",
      "Default metric period is 5 because AUC is/are not implemented for GPU\n",
      "Default metric period is 5 because AUC is/are not implemented for GPU\n",
      "Default metric period is 5 because AUC is/are not implemented for GPU\n"
     ]
    },
    {
     "name": "stdout",
     "output_type": "stream",
     "text": [
      "[23:21:14] Fitting \u001b[1mLvl_0_Pipe_1_Mod_2_CatBoost\u001b[0m finished. score = \u001b[1m0.8666007322957252\u001b[0m\n",
      "[23:21:14] \u001b[1mLvl_0_Pipe_1_Mod_2_CatBoost\u001b[0m fitting and predicting completed\n",
      "[23:21:14] Start hyperparameters optimization for \u001b[1mLvl_0_Pipe_1_Mod_3_Tuned_CatBoost\u001b[0m ... Time budget is 300.00 secs\n"
     ]
    },
    {
     "name": "stderr",
     "output_type": "stream",
     "text": [
      "Default metric period is 5 because AUC is/are not implemented for GPU\n",
      "Default metric period is 5 because AUC is/are not implemented for GPU\n",
      "Default metric period is 5 because AUC is/are not implemented for GPU\n",
      "Default metric period is 5 because AUC is/are not implemented for GPU\n",
      "Default metric period is 5 because AUC is/are not implemented for GPU\n",
      "Default metric period is 5 because AUC is/are not implemented for GPU\n"
     ]
    },
    {
     "name": "stdout",
     "output_type": "stream",
     "text": [
      "[23:27:01] Hyperparameters optimization for \u001b[1mLvl_0_Pipe_1_Mod_3_Tuned_CatBoost\u001b[0m completed\n",
      "[23:27:01] Start fitting \u001b[1mLvl_0_Pipe_1_Mod_3_Tuned_CatBoost\u001b[0m ...\n"
     ]
    },
    {
     "name": "stderr",
     "output_type": "stream",
     "text": [
      "Default metric period is 5 because AUC is/are not implemented for GPU\n",
      "Default metric period is 5 because AUC is/are not implemented for GPU\n",
      "Default metric period is 5 because AUC is/are not implemented for GPU\n"
     ]
    },
    {
     "name": "stdout",
     "output_type": "stream",
     "text": [
      "[23:30:38] Fitting \u001b[1mLvl_0_Pipe_1_Mod_3_Tuned_CatBoost\u001b[0m finished. score = \u001b[1m0.8684865328261325\u001b[0m\n",
      "[23:30:38] \u001b[1mLvl_0_Pipe_1_Mod_3_Tuned_CatBoost\u001b[0m fitting and predicting completed\n",
      "[23:30:38] Time left 27489.98 secs\n",
      "\n",
      "[23:30:38] \u001b[1mLayer 1 training completed.\u001b[0m\n",
      "\n",
      "[23:30:39] Blending: optimization starts with equal weights and score \u001b[1m0.8687050580540939\u001b[0m\n",
      "[23:31:13] Blending: iteration \u001b[1m0\u001b[0m: score = \u001b[1m0.8711547960071095\u001b[0m, weights = \u001b[1m[0.         0.31884772 0.5385006  0.         0.14265174]\u001b[0m\n",
      "[23:31:46] Blending: iteration \u001b[1m1\u001b[0m: score = \u001b[1m0.8711591959434202\u001b[0m, weights = \u001b[1m[0.         0.36634642 0.4950008  0.         0.13865277]\u001b[0m\n",
      "[23:32:19] Blending: iteration \u001b[1m2\u001b[0m: score = \u001b[1m0.8711591980573493\u001b[0m, weights = \u001b[1m[0.        0.3650221 0.4955125 0.        0.1394654]\u001b[0m\n",
      "[23:32:51] Blending: iteration \u001b[1m3\u001b[0m: score = \u001b[1m0.8711591978256757\u001b[0m, weights = \u001b[1m[0.         0.36400992 0.4963024  0.         0.13968773]\u001b[0m\n",
      "[23:33:23] Blending: iteration \u001b[1m4\u001b[0m: score = \u001b[1m0.8711591971917594\u001b[0m, weights = \u001b[1m[0.         0.36394528 0.49635282 0.         0.13970193]\u001b[0m\n",
      "[23:33:23] \u001b[1mAutoml preset training completed in 2674.83 seconds\u001b[0m\n",
      "\n",
      "[23:33:23] Model description:\n",
      "Final prediction for new objects (level 0) = \n",
      "\t 0.36395 * (3 averaged models Lvl_0_Pipe_1_Mod_0_LightGBM) +\n",
      "\t 0.49635 * (3 averaged models Lvl_0_Pipe_1_Mod_1_Tuned_LightGBM) +\n",
      "\t 0.13970 * (3 averaged models Lvl_0_Pipe_1_Mod_3_Tuned_CatBoost) \n",
      "\n",
      "CPU times: user 8h 8min 32s, sys: 8min 7s, total: 8h 16min 39s\n",
      "Wall time: 44min 34s\n"
     ]
    }
   ],
   "source": [
    "%%time\n",
    "oof_pred = automl.fit_predict(tr_data, roles = roles, verbose = 1)"
   ]
  },
  {
   "cell_type": "code",
   "execution_count": 21,
   "id": "e9ec45bf-ecfe-45f5-aefa-eebb41ea29fa",
   "metadata": {},
   "outputs": [
    {
     "name": "stdout",
     "output_type": "stream",
     "text": [
      "Prediction for te_data:\n",
      "array([[0.0317101 ],\n",
      "       [0.0729503 ],\n",
      "       [0.08340527],\n",
      "       ...,\n",
      "       [0.02408476],\n",
      "       [0.84660566],\n",
      "       [0.06643729]], dtype=float32)\n",
      "Shape = (697171, 1)\n",
      "CPU times: user 8min 18s, sys: 3.02 s, total: 8min 21s\n",
      "Wall time: 46.1 s\n"
     ]
    }
   ],
   "source": [
    "%%time\n",
    "\n",
    "te_pred = automl.predict(te_data)\n",
    "print(f'Prediction for te_data:\\n{te_pred}\\nShape = {te_pred.shape}')"
   ]
  },
  {
   "cell_type": "code",
   "execution_count": 22,
   "id": "0c6c3713-c3c0-4e21-bcbc-a389ce01e2e7",
   "metadata": {},
   "outputs": [],
   "source": [
    "test = pd.read_csv('../Data/test/000000000000.csv',sep='\\t')\n",
    "test['f_30'].fillna(test['f_30'].mode()[0],inplace=True)\n",
    "test['f_31'].fillna(test['f_31'].mode()[0],inplace=True)\n",
    "for f in fmiss:\n",
    "    test[f].fillna(test[f].mean(),inplace=True)"
   ]
  },
  {
   "cell_type": "code",
   "execution_count": 24,
   "id": "f1c659f3-c522-4d13-a293-c9e9780ae2e1",
   "metadata": {},
   "outputs": [],
   "source": [
    "feat = ['f_1', 'f_2', 'f_3', 'f_4', 'f_5', 'f_6', 'f_7', 'f_8', 'f_9',\n",
    " 'f_10', 'f_11', 'f_12', 'f_13', 'f_14', 'f_15', 'f_16', 'f_17', 'f_18',\n",
    " 'f_19', 'f_20', 'f_21', 'f_22', 'f_23', 'f_24', 'f_25', 'f_26', 'f_27',\n",
    " 'f_28', 'f_29', 'f_30', 'f_31', 'f_32', 'f_33', 'f_34', 'f_35', 'f_36',\n",
    " 'f_37', 'f_38', 'f_39', 'f_40', 'f_41', 'f_42', 'f_43', 'f_44', 'f_45',\n",
    " 'f_46', 'f_47', 'f_48', 'f_49', 'f_50', 'f_51', 'f_52', 'f_53', 'f_54',\n",
    " 'f_55', 'f_56', 'f_57', 'f_58', 'f_59', 'f_60', 'f_61', 'f_62', 'f_63',\n",
    " 'f_64', 'f_65', 'f_66', 'f_67', 'f_68', 'f_69', 'f_70', 'f_71', 'f_72',\n",
    " 'f_73', 'f_74', 'f_75', 'f_76', 'f_77', 'f_78', 'f_79']"
   ]
  },
  {
   "cell_type": "code",
   "execution_count": 25,
   "id": "83a97716-18fa-44f6-a71b-8b3861b410e8",
   "metadata": {},
   "outputs": [],
   "source": [
    "test_pred_click = automl.predict(test[feat])"
   ]
  },
  {
   "cell_type": "code",
   "execution_count": 26,
   "id": "c9d545d4-12d4-47bc-994b-b1240d58bc44",
   "metadata": {},
   "outputs": [
    {
     "data": {
      "text/plain": [
       "(160973, 1)"
      ]
     },
     "execution_count": 26,
     "metadata": {},
     "output_type": "execute_result"
    }
   ],
   "source": [
    "test_pred_click.shape"
   ]
  },
  {
   "cell_type": "code",
   "execution_count": 27,
   "id": "7ad937d5-d1de-4734-ac56-4372263096d5",
   "metadata": {},
   "outputs": [
    {
     "data": {
      "text/plain": [
       "array([[0.49451855],\n",
       "       [0.13921647],\n",
       "       [0.31095907],\n",
       "       ...,\n",
       "       [0.2254554 ],\n",
       "       [0.47794285],\n",
       "       [0.99840707]], dtype=float32)"
      ]
     },
     "execution_count": 27,
     "metadata": {},
     "output_type": "execute_result"
    }
   ],
   "source": [
    "test_pred_click"
   ]
  },
  {
   "cell_type": "code",
   "execution_count": 30,
   "id": "aef648e7-0885-46ca-b936-262eea579a76",
   "metadata": {},
   "outputs": [],
   "source": [
    "N_THREADS = 24\n",
    "N_FOLDS = 3\n",
    "RANDOM_STATE = 42\n",
    "TEST_SIZE = 0.1\n",
    "TIMEOUT = 30000\n",
    "TARGET_NAME = 'is_installed'"
   ]
  },
  {
   "cell_type": "code",
   "execution_count": 31,
   "id": "dcd2a085-bb67-4a4e-8b4d-ad4faf00f3b9",
   "metadata": {},
   "outputs": [
    {
     "name": "stdout",
     "output_type": "stream",
     "text": [
      "Data splitted. Parts sizes: tr_data = (3137266, 82), te_data = (348586, 82)\n"
     ]
    },
    {
     "data": {
      "text/html": [
       "<div>\n",
       "<style scoped>\n",
       "    .dataframe tbody tr th:only-of-type {\n",
       "        vertical-align: middle;\n",
       "    }\n",
       "\n",
       "    .dataframe tbody tr th {\n",
       "        vertical-align: top;\n",
       "    }\n",
       "\n",
       "    .dataframe thead th {\n",
       "        text-align: right;\n",
       "    }\n",
       "</style>\n",
       "<table border=\"1\" class=\"dataframe\">\n",
       "  <thead>\n",
       "    <tr style=\"text-align: right;\">\n",
       "      <th></th>\n",
       "      <th>f_0</th>\n",
       "      <th>f_1</th>\n",
       "      <th>f_2</th>\n",
       "      <th>f_3</th>\n",
       "      <th>f_4</th>\n",
       "      <th>f_5</th>\n",
       "      <th>f_6</th>\n",
       "      <th>f_7</th>\n",
       "      <th>f_8</th>\n",
       "      <th>f_9</th>\n",
       "      <th>...</th>\n",
       "      <th>f_72</th>\n",
       "      <th>f_73</th>\n",
       "      <th>f_74</th>\n",
       "      <th>f_75</th>\n",
       "      <th>f_76</th>\n",
       "      <th>f_77</th>\n",
       "      <th>f_78</th>\n",
       "      <th>f_79</th>\n",
       "      <th>is_clicked</th>\n",
       "      <th>is_installed</th>\n",
       "    </tr>\n",
       "  </thead>\n",
       "  <tbody>\n",
       "    <tr>\n",
       "      <th>3485143</th>\n",
       "      <td>746725</td>\n",
       "      <td>55</td>\n",
       "      <td>27426</td>\n",
       "      <td>22294</td>\n",
       "      <td>24261</td>\n",
       "      <td>25604</td>\n",
       "      <td>3973</td>\n",
       "      <td>27941</td>\n",
       "      <td>19606</td>\n",
       "      <td>23218</td>\n",
       "      <td>...</td>\n",
       "      <td>1.142243</td>\n",
       "      <td>0.000000</td>\n",
       "      <td>0.115692</td>\n",
       "      <td>1.156922</td>\n",
       "      <td>0.269948</td>\n",
       "      <td>0.0</td>\n",
       "      <td>0.0</td>\n",
       "      <td>0.0</td>\n",
       "      <td>0</td>\n",
       "      <td>0</td>\n",
       "    </tr>\n",
       "    <tr>\n",
       "      <th>349435</th>\n",
       "      <td>131359</td>\n",
       "      <td>60</td>\n",
       "      <td>20095</td>\n",
       "      <td>563</td>\n",
       "      <td>22861</td>\n",
       "      <td>19475</td>\n",
       "      <td>21280</td>\n",
       "      <td>27941</td>\n",
       "      <td>18800</td>\n",
       "      <td>14659</td>\n",
       "      <td>...</td>\n",
       "      <td>0.000000</td>\n",
       "      <td>0.000000</td>\n",
       "      <td>0.000000</td>\n",
       "      <td>0.000000</td>\n",
       "      <td>0.000000</td>\n",
       "      <td>0.0</td>\n",
       "      <td>0.0</td>\n",
       "      <td>0.0</td>\n",
       "      <td>0</td>\n",
       "      <td>0</td>\n",
       "    </tr>\n",
       "    <tr>\n",
       "      <th>1622325</th>\n",
       "      <td>88112</td>\n",
       "      <td>65</td>\n",
       "      <td>20095</td>\n",
       "      <td>563</td>\n",
       "      <td>22861</td>\n",
       "      <td>15908</td>\n",
       "      <td>21280</td>\n",
       "      <td>27941</td>\n",
       "      <td>18800</td>\n",
       "      <td>31372</td>\n",
       "      <td>...</td>\n",
       "      <td>1.142243</td>\n",
       "      <td>0.571121</td>\n",
       "      <td>0.115692</td>\n",
       "      <td>1.156922</td>\n",
       "      <td>0.269948</td>\n",
       "      <td>0.0</td>\n",
       "      <td>0.0</td>\n",
       "      <td>0.0</td>\n",
       "      <td>0</td>\n",
       "      <td>1</td>\n",
       "    </tr>\n",
       "    <tr>\n",
       "      <th>1871046</th>\n",
       "      <td>3449110</td>\n",
       "      <td>46</td>\n",
       "      <td>3346</td>\n",
       "      <td>22294</td>\n",
       "      <td>6767</td>\n",
       "      <td>25604</td>\n",
       "      <td>1159</td>\n",
       "      <td>27941</td>\n",
       "      <td>19203</td>\n",
       "      <td>14659</td>\n",
       "      <td>...</td>\n",
       "      <td>0.000000</td>\n",
       "      <td>0.000000</td>\n",
       "      <td>0.000000</td>\n",
       "      <td>0.000000</td>\n",
       "      <td>0.000000</td>\n",
       "      <td>0.0</td>\n",
       "      <td>0.0</td>\n",
       "      <td>0.0</td>\n",
       "      <td>0</td>\n",
       "      <td>0</td>\n",
       "    </tr>\n",
       "    <tr>\n",
       "      <th>2020768</th>\n",
       "      <td>404023</td>\n",
       "      <td>65</td>\n",
       "      <td>27426</td>\n",
       "      <td>22294</td>\n",
       "      <td>32095</td>\n",
       "      <td>19475</td>\n",
       "      <td>16299</td>\n",
       "      <td>27941</td>\n",
       "      <td>21621</td>\n",
       "      <td>31372</td>\n",
       "      <td>...</td>\n",
       "      <td>0.000000</td>\n",
       "      <td>0.000000</td>\n",
       "      <td>0.000000</td>\n",
       "      <td>1.156922</td>\n",
       "      <td>0.269948</td>\n",
       "      <td>0.0</td>\n",
       "      <td>0.0</td>\n",
       "      <td>0.0</td>\n",
       "      <td>0</td>\n",
       "      <td>0</td>\n",
       "    </tr>\n",
       "  </tbody>\n",
       "</table>\n",
       "<p>5 rows × 82 columns</p>\n",
       "</div>"
      ],
      "text/plain": [
       "             f_0  f_1    f_2    f_3    f_4    f_5    f_6    f_7    f_8    f_9  \\\n",
       "3485143   746725   55  27426  22294  24261  25604   3973  27941  19606  23218   \n",
       "349435    131359   60  20095    563  22861  19475  21280  27941  18800  14659   \n",
       "1622325    88112   65  20095    563  22861  15908  21280  27941  18800  31372   \n",
       "1871046  3449110   46   3346  22294   6767  25604   1159  27941  19203  14659   \n",
       "2020768   404023   65  27426  22294  32095  19475  16299  27941  21621  31372   \n",
       "\n",
       "         ...      f_72      f_73      f_74      f_75      f_76  f_77  f_78  \\\n",
       "3485143  ...  1.142243  0.000000  0.115692  1.156922  0.269948   0.0   0.0   \n",
       "349435   ...  0.000000  0.000000  0.000000  0.000000  0.000000   0.0   0.0   \n",
       "1622325  ...  1.142243  0.571121  0.115692  1.156922  0.269948   0.0   0.0   \n",
       "1871046  ...  0.000000  0.000000  0.000000  0.000000  0.000000   0.0   0.0   \n",
       "2020768  ...  0.000000  0.000000  0.000000  1.156922  0.269948   0.0   0.0   \n",
       "\n",
       "         f_79  is_clicked  is_installed  \n",
       "3485143   0.0           0             0  \n",
       "349435    0.0           0             0  \n",
       "1622325   0.0           0             1  \n",
       "1871046   0.0           0             0  \n",
       "2020768   0.0           0             0  \n",
       "\n",
       "[5 rows x 82 columns]"
      ]
     },
     "execution_count": 31,
     "metadata": {},
     "output_type": "execute_result"
    }
   ],
   "source": [
    "tr_data, te_data = train_test_split(\n",
    "    data,\n",
    "    test_size=TEST_SIZE,\n",
    "    stratify=data[TARGET_NAME],\n",
    "    random_state=RANDOM_STATE\n",
    ")\n",
    "\n",
    "print(f'Data splitted. Parts sizes: tr_data = {tr_data.shape}, te_data = {te_data.shape}')\n",
    "\n",
    "tr_data.head()"
   ]
  },
  {
   "cell_type": "code",
   "execution_count": 32,
   "id": "103dd9ea-be58-4f60-8af9-c9efe68edf25",
   "metadata": {},
   "outputs": [],
   "source": [
    "task = Task('binary')\n",
    "\n",
    "roles = {\n",
    "    'target': TARGET_NAME,\n",
    "    'drop': ['f_0','is_clicked']\n",
    "}"
   ]
  },
  {
   "cell_type": "code",
   "execution_count": 33,
   "id": "fc46a8a3-d4c4-4bbb-8cc5-ccfa47be5bce",
   "metadata": {},
   "outputs": [],
   "source": [
    "automl = TabularAutoML(\n",
    "    task = task,\n",
    "    timeout = TIMEOUT,\n",
    "    cpu_limit = N_THREADS,\n",
    "    reader_params = {'n_jobs': N_THREADS, 'cv': N_FOLDS, 'random_state': RANDOM_STATE}\n",
    ")"
   ]
  },
  {
   "cell_type": "code",
   "execution_count": 34,
   "id": "9ccf13c9-aa23-4ffc-beac-5c9ab7df90ae",
   "metadata": {},
   "outputs": [
    {
     "name": "stdout",
     "output_type": "stream",
     "text": [
      "[23:52:58] Stdout logging level is INFO.\n",
      "[23:52:58] Task: binary\n",
      "\n",
      "[23:52:58] Start automl preset with listed constraints:\n",
      "[23:52:58] - time: 30000.00 seconds\n",
      "[23:52:58] - CPU: 24 cores\n",
      "[23:52:58] - memory: 16 GB\n",
      "\n",
      "[23:52:58] \u001b[1mTrain data shape: (3137266, 82)\u001b[0m\n",
      "\n",
      "[23:53:17] Layer \u001b[1m1\u001b[0m train process start. Time left 29980.80 secs\n",
      "[23:56:16] Start fitting \u001b[1mLvl_0_Pipe_0_Mod_0_LinearL2\u001b[0m ...\n",
      "[23:59:18] Fitting \u001b[1mLvl_0_Pipe_0_Mod_0_LinearL2\u001b[0m finished. score = \u001b[1m0.8456481992823612\u001b[0m\n",
      "[23:59:18] \u001b[1mLvl_0_Pipe_0_Mod_0_LinearL2\u001b[0m fitting and predicting completed\n",
      "[23:59:18] Time left 29620.25 secs\n",
      "\n",
      "[00:01:44] \u001b[1mSelector_LightGBM\u001b[0m fitting and predicting completed\n",
      "[00:05:56] Start fitting \u001b[1mLvl_0_Pipe_1_Mod_0_LightGBM\u001b[0m ...\n",
      "[00:14:49] Fitting \u001b[1mLvl_0_Pipe_1_Mod_0_LightGBM\u001b[0m finished. score = \u001b[1m0.8821181574375545\u001b[0m\n",
      "[00:14:49] \u001b[1mLvl_0_Pipe_1_Mod_0_LightGBM\u001b[0m fitting and predicting completed\n",
      "[00:14:49] Start hyperparameters optimization for \u001b[1mLvl_0_Pipe_1_Mod_1_Tuned_LightGBM\u001b[0m ... Time budget is 300.00 secs\n",
      "[00:21:59] Hyperparameters optimization for \u001b[1mLvl_0_Pipe_1_Mod_1_Tuned_LightGBM\u001b[0m completed\n",
      "[00:21:59] Start fitting \u001b[1mLvl_0_Pipe_1_Mod_1_Tuned_LightGBM\u001b[0m ...\n",
      "[00:33:15] Fitting \u001b[1mLvl_0_Pipe_1_Mod_1_Tuned_LightGBM\u001b[0m finished. score = \u001b[1m0.8826653283894894\u001b[0m\n",
      "[00:33:15] \u001b[1mLvl_0_Pipe_1_Mod_1_Tuned_LightGBM\u001b[0m fitting and predicting completed\n",
      "[00:33:15] Start fitting \u001b[1mLvl_0_Pipe_1_Mod_2_CatBoost\u001b[0m ...\n"
     ]
    },
    {
     "name": "stderr",
     "output_type": "stream",
     "text": [
      "Default metric period is 5 because AUC is/are not implemented for GPU\n",
      "Default metric period is 5 because AUC is/are not implemented for GPU\n",
      "Default metric period is 5 because AUC is/are not implemented for GPU\n"
     ]
    },
    {
     "name": "stdout",
     "output_type": "stream",
     "text": [
      "[00:36:25] Fitting \u001b[1mLvl_0_Pipe_1_Mod_2_CatBoost\u001b[0m finished. score = \u001b[1m0.8768268250578473\u001b[0m\n",
      "[00:36:25] \u001b[1mLvl_0_Pipe_1_Mod_2_CatBoost\u001b[0m fitting and predicting completed\n",
      "[00:36:25] Start hyperparameters optimization for \u001b[1mLvl_0_Pipe_1_Mod_3_Tuned_CatBoost\u001b[0m ... Time budget is 300.00 secs\n"
     ]
    },
    {
     "name": "stderr",
     "output_type": "stream",
     "text": [
      "Default metric period is 5 because AUC is/are not implemented for GPU\n",
      "Default metric period is 5 because AUC is/are not implemented for GPU\n",
      "Default metric period is 5 because AUC is/are not implemented for GPU\n",
      "Default metric period is 5 because AUC is/are not implemented for GPU\n",
      "Default metric period is 5 because AUC is/are not implemented for GPU\n"
     ]
    },
    {
     "name": "stdout",
     "output_type": "stream",
     "text": [
      "[00:41:59] Hyperparameters optimization for \u001b[1mLvl_0_Pipe_1_Mod_3_Tuned_CatBoost\u001b[0m completed\n",
      "[00:41:59] Start fitting \u001b[1mLvl_0_Pipe_1_Mod_3_Tuned_CatBoost\u001b[0m ...\n"
     ]
    },
    {
     "name": "stderr",
     "output_type": "stream",
     "text": [
      "Default metric period is 5 because AUC is/are not implemented for GPU\n",
      "Default metric period is 5 because AUC is/are not implemented for GPU\n",
      "Default metric period is 5 because AUC is/are not implemented for GPU\n"
     ]
    },
    {
     "name": "stdout",
     "output_type": "stream",
     "text": [
      "[00:45:52] Fitting \u001b[1mLvl_0_Pipe_1_Mod_3_Tuned_CatBoost\u001b[0m finished. score = \u001b[1m0.8782814941443563\u001b[0m\n",
      "[00:45:52] \u001b[1mLvl_0_Pipe_1_Mod_3_Tuned_CatBoost\u001b[0m fitting and predicting completed\n",
      "[00:45:52] Time left 26826.18 secs\n",
      "\n",
      "[00:45:52] \u001b[1mLayer 1 training completed.\u001b[0m\n",
      "\n",
      "[00:45:53] Blending: optimization starts with equal weights and score \u001b[1m0.8797322000920119\u001b[0m\n",
      "[00:46:31] Blending: iteration \u001b[1m0\u001b[0m: score = \u001b[1m0.8831237705233866\u001b[0m, weights = \u001b[1m[0.         0.34372616 0.6562738  0.         0.        ]\u001b[0m\n",
      "[00:47:09] Blending: iteration \u001b[1m1\u001b[0m: score = \u001b[1m0.8831334070770801\u001b[0m, weights = \u001b[1m[0.         0.40243042 0.5975696  0.         0.        ]\u001b[0m\n",
      "[00:47:47] Blending: iteration \u001b[1m2\u001b[0m: score = \u001b[1m0.8831334070770801\u001b[0m, weights = \u001b[1m[0.         0.40243042 0.5975696  0.         0.        ]\u001b[0m\n",
      "[00:47:47] Blending: no score update. Terminated\n",
      "\n",
      "[00:47:47] \u001b[1mAutoml preset training completed in 3288.59 seconds\u001b[0m\n",
      "\n",
      "[00:47:47] Model description:\n",
      "Final prediction for new objects (level 0) = \n",
      "\t 0.40243 * (3 averaged models Lvl_0_Pipe_1_Mod_0_LightGBM) +\n",
      "\t 0.59757 * (3 averaged models Lvl_0_Pipe_1_Mod_1_Tuned_LightGBM) \n",
      "\n",
      "CPU times: user 11h 19min 45s, sys: 10min 8s, total: 11h 29min 54s\n",
      "Wall time: 54min 48s\n"
     ]
    }
   ],
   "source": [
    "%%time\n",
    "oof_pred = automl.fit_predict(tr_data, roles = roles, verbose = 1)"
   ]
  },
  {
   "cell_type": "code",
   "execution_count": 35,
   "id": "514b3070-42fc-46ef-8130-bc988ad3a25e",
   "metadata": {},
   "outputs": [],
   "source": [
    "test_install_pred = automl.predict(test[feat])"
   ]
  },
  {
   "cell_type": "code",
   "execution_count": 44,
   "id": "7a1eb909-826b-41e3-8dae-d173937cbab1",
   "metadata": {},
   "outputs": [
    {
     "data": {
      "text/plain": [
       "((160973, 1), lightautoml.dataset.np_pd_dataset.NumpyDataset)"
      ]
     },
     "execution_count": 44,
     "metadata": {},
     "output_type": "execute_result"
    }
   ],
   "source": [
    "test_install_pred.shape,type(test_install_pred)"
   ]
  },
  {
   "cell_type": "code",
   "execution_count": 45,
   "id": "3a66c57d-0378-44c4-bb91-e7866550810d",
   "metadata": {},
   "outputs": [],
   "source": [
    "test_install_pred = test_install_pred.to_numpy()\n",
    "test_pred_click = test_pred_click.to_numpy()"
   ]
  },
  {
   "cell_type": "code",
   "execution_count": 50,
   "id": "238bb1a2-ac64-4e3d-922e-e8bf00f18ee9",
   "metadata": {},
   "outputs": [
    {
     "data": {
      "text/plain": [
       "((160973, 1), method)"
      ]
     },
     "execution_count": 50,
     "metadata": {},
     "output_type": "execute_result"
    }
   ],
   "source": [
    "test_install_pred.shape,type(test_install_pred.to_numpy)"
   ]
  },
  {
   "cell_type": "code",
   "execution_count": 61,
   "id": "e3b19984-d5f0-402f-a11b-3bbdf94380f0",
   "metadata": {},
   "outputs": [],
   "source": [
    "inst = test_install_pred.data"
   ]
  },
  {
   "cell_type": "code",
   "execution_count": 63,
   "id": "95fff020-e946-4c3f-ad0a-0b772edfe6a6",
   "metadata": {},
   "outputs": [
    {
     "data": {
      "text/plain": [
       "(160973, 1)"
      ]
     },
     "execution_count": 63,
     "metadata": {},
     "output_type": "execute_result"
    }
   ],
   "source": [
    "inst.shape"
   ]
  },
  {
   "cell_type": "code",
   "execution_count": 58,
   "id": "c189d675-ffbd-41ae-83fa-e98bcca3cbe8",
   "metadata": {},
   "outputs": [
    {
     "ename": "AssertionError",
     "evalue": "Numpy dataset support only np.ndarray features",
     "output_type": "error",
     "traceback": [
      "\u001b[0;31m---------------------------------------------------------------------------\u001b[0m",
      "\u001b[0;31mAssertionError\u001b[0m                            Traceback (most recent call last)",
      "Cell \u001b[0;32mIn[58], line 1\u001b[0m\n\u001b[0;32m----> 1\u001b[0m \u001b[43mnp\u001b[49m\u001b[38;5;241;43m.\u001b[39;49m\u001b[43marray\u001b[49m\u001b[43m(\u001b[49m\u001b[43minst\u001b[49m\u001b[43m)\u001b[49m\n",
      "File \u001b[0;32m~/venvs/python3.9_global/lib/python3.9/site-packages/lightautoml/dataset/base.py:155\u001b[0m, in \u001b[0;36mLAMLDataset.__getitem__\u001b[0;34m(self, k)\u001b[0m\n\u001b[1;32m    152\u001b[0m     dataset\u001b[38;5;241m.\u001b[39m_initialize(\u001b[38;5;28mself\u001b[39m\u001b[38;5;241m.\u001b[39mtask, \u001b[38;5;241m*\u001b[39m\u001b[38;5;241m*\u001b[39mparams)\n\u001b[1;32m    153\u001b[0m     data \u001b[38;5;241m=\u001b[39m \u001b[38;5;28mself\u001b[39m\u001b[38;5;241m.\u001b[39m_get_rows(data, rows)\n\u001b[0;32m--> 155\u001b[0m \u001b[43mdataset\u001b[49m\u001b[38;5;241;43m.\u001b[39;49m\u001b[43mset_data\u001b[49m\u001b[43m(\u001b[49m\u001b[43mdata\u001b[49m\u001b[43m,\u001b[49m\u001b[43m \u001b[49m\u001b[43mfeatures\u001b[49m\u001b[43m,\u001b[49m\u001b[43m \u001b[49m\u001b[43mroles\u001b[49m\u001b[43m)\u001b[49m\n\u001b[1;32m    157\u001b[0m \u001b[38;5;28;01mreturn\u001b[39;00m dataset\n",
      "File \u001b[0;32m~/venvs/python3.9_global/lib/python3.9/site-packages/lightautoml/dataset/np_pd_dataset.py:199\u001b[0m, in \u001b[0;36mNumpyDataset.set_data\u001b[0;34m(self, data, features, roles)\u001b[0m\n\u001b[1;32m    176\u001b[0m \u001b[38;5;28;01mdef\u001b[39;00m \u001b[38;5;21mset_data\u001b[39m(\u001b[38;5;28mself\u001b[39m, data: DenseSparseArray, features: NpFeatures \u001b[38;5;241m=\u001b[39m (), roles: NpRoles \u001b[38;5;241m=\u001b[39m \u001b[38;5;28;01mNone\u001b[39;00m):\n\u001b[1;32m    177\u001b[0m     \u001b[38;5;124;03m\"\"\"Inplace set data, features, roles for empty dataset.\u001b[39;00m\n\u001b[1;32m    178\u001b[0m \n\u001b[1;32m    179\u001b[0m \u001b[38;5;124;03m    Args:\u001b[39;00m\n\u001b[0;32m   (...)\u001b[0m\n\u001b[1;32m    197\u001b[0m \n\u001b[1;32m    198\u001b[0m \u001b[38;5;124;03m    \"\"\"\u001b[39;00m\n\u001b[0;32m--> 199\u001b[0m     \u001b[38;5;28;01massert\u001b[39;00m data \u001b[38;5;129;01mis\u001b[39;00m \u001b[38;5;28;01mNone\u001b[39;00m \u001b[38;5;129;01mor\u001b[39;00m \u001b[38;5;28mtype\u001b[39m(data) \u001b[38;5;129;01mis\u001b[39;00m np\u001b[38;5;241m.\u001b[39mndarray, \u001b[38;5;124m\"\u001b[39m\u001b[38;5;124mNumpy dataset support only np.ndarray features\u001b[39m\u001b[38;5;124m\"\u001b[39m\n\u001b[1;32m    200\u001b[0m     \u001b[38;5;28msuper\u001b[39m()\u001b[38;5;241m.\u001b[39mset_data(data, features, roles)\n\u001b[1;32m    201\u001b[0m     \u001b[38;5;28mself\u001b[39m\u001b[38;5;241m.\u001b[39m_check_dtype()\n",
      "\u001b[0;31mAssertionError\u001b[0m: Numpy dataset support only np.ndarray features"
     ]
    }
   ],
   "source": [
    "np.array(inst)"
   ]
  },
  {
   "cell_type": "code",
   "execution_count": 40,
   "id": "bb868004-48fd-4dc3-b51c-70f4aff665e2",
   "metadata": {},
   "outputs": [
    {
     "data": {
      "text/plain": [
       "array([64505, 64506, 64507, ..., 16242, 16243, 16244])"
      ]
     },
     "execution_count": 40,
     "metadata": {},
     "output_type": "execute_result"
    }
   ],
   "source": [
    "test['f_0'].values"
   ]
  },
  {
   "cell_type": "code",
   "execution_count": 64,
   "id": "9bc48024-cfa7-4ef4-ab74-ecb4f1983cdf",
   "metadata": {},
   "outputs": [],
   "source": [
    "import numpy as np\n",
    "result = np.vstack([test['f_0'].to_numpy(dtype=int),test_pred_click.data.reshape(-1),test_install_pred.data.reshape(-1)])"
   ]
  },
  {
   "cell_type": "code",
   "execution_count": 65,
   "id": "9b4da526-db78-4925-b923-16f512340fef",
   "metadata": {},
   "outputs": [
    {
     "data": {
      "text/plain": [
       "(3, 160973)"
      ]
     },
     "execution_count": 65,
     "metadata": {},
     "output_type": "execute_result"
    }
   ],
   "source": [
    "result.shape"
   ]
  },
  {
   "cell_type": "code",
   "execution_count": 66,
   "id": "31ddec6a-9782-48b5-a287-cea409c0d7c5",
   "metadata": {},
   "outputs": [],
   "source": [
    "result = result.T"
   ]
  },
  {
   "cell_type": "code",
   "execution_count": 67,
   "id": "1e8d45c2-e666-466d-9802-8ae683c1c778",
   "metadata": {},
   "outputs": [
    {
     "data": {
      "text/plain": [
       "(160973, 3)"
      ]
     },
     "execution_count": 67,
     "metadata": {},
     "output_type": "execute_result"
    }
   ],
   "source": [
    "result.shape"
   ]
  },
  {
   "cell_type": "code",
   "execution_count": 69,
   "id": "465d4568-7566-4d57-b5da-c0bab41f1a3f",
   "metadata": {},
   "outputs": [],
   "source": [
    "final = pd.DataFrame(result,columns=['RowId','is_clicked','is_installed'])"
   ]
  },
  {
   "cell_type": "code",
   "execution_count": 70,
   "id": "fbe46b30-55ea-43c9-9d50-54856410277c",
   "metadata": {},
   "outputs": [
    {
     "data": {
      "text/html": [
       "<div>\n",
       "<style scoped>\n",
       "    .dataframe tbody tr th:only-of-type {\n",
       "        vertical-align: middle;\n",
       "    }\n",
       "\n",
       "    .dataframe tbody tr th {\n",
       "        vertical-align: top;\n",
       "    }\n",
       "\n",
       "    .dataframe thead th {\n",
       "        text-align: right;\n",
       "    }\n",
       "</style>\n",
       "<table border=\"1\" class=\"dataframe\">\n",
       "  <thead>\n",
       "    <tr style=\"text-align: right;\">\n",
       "      <th></th>\n",
       "      <th>RowId</th>\n",
       "      <th>is_clicked</th>\n",
       "      <th>is_installed</th>\n",
       "    </tr>\n",
       "  </thead>\n",
       "  <tbody>\n",
       "    <tr>\n",
       "      <th>0</th>\n",
       "      <td>64505.0</td>\n",
       "      <td>0.494519</td>\n",
       "      <td>0.399739</td>\n",
       "    </tr>\n",
       "    <tr>\n",
       "      <th>1</th>\n",
       "      <td>64506.0</td>\n",
       "      <td>0.139216</td>\n",
       "      <td>0.303988</td>\n",
       "    </tr>\n",
       "    <tr>\n",
       "      <th>2</th>\n",
       "      <td>64507.0</td>\n",
       "      <td>0.310959</td>\n",
       "      <td>0.058482</td>\n",
       "    </tr>\n",
       "    <tr>\n",
       "      <th>3</th>\n",
       "      <td>64508.0</td>\n",
       "      <td>0.292092</td>\n",
       "      <td>0.309709</td>\n",
       "    </tr>\n",
       "    <tr>\n",
       "      <th>4</th>\n",
       "      <td>64509.0</td>\n",
       "      <td>0.406814</td>\n",
       "      <td>0.102375</td>\n",
       "    </tr>\n",
       "  </tbody>\n",
       "</table>\n",
       "</div>"
      ],
      "text/plain": [
       "     RowId  is_clicked  is_installed\n",
       "0  64505.0    0.494519      0.399739\n",
       "1  64506.0    0.139216      0.303988\n",
       "2  64507.0    0.310959      0.058482\n",
       "3  64508.0    0.292092      0.309709\n",
       "4  64509.0    0.406814      0.102375"
      ]
     },
     "execution_count": 70,
     "metadata": {},
     "output_type": "execute_result"
    }
   ],
   "source": [
    "final.head()"
   ]
  },
  {
   "cell_type": "code",
   "execution_count": 71,
   "id": "2373ebc8-cf13-479c-8bcc-8d3d8452e9f0",
   "metadata": {},
   "outputs": [],
   "source": [
    "final.to_csv('../Data/LightautoML_results.csv', sep ='\\t', index=False)"
   ]
  },
  {
   "cell_type": "code",
   "execution_count": null,
   "id": "fc68bc9f-8d70-4d6f-bf3d-4aab3aabf5b3",
   "metadata": {},
   "outputs": [],
   "source": []
  }
 ],
 "metadata": {
  "kernelspec": {
   "display_name": "Python 3 (ipykernel)",
   "language": "python",
   "name": "python3"
  },
  "language_info": {
   "codemirror_mode": {
    "name": "ipython",
    "version": 3
   },
   "file_extension": ".py",
   "mimetype": "text/x-python",
   "name": "python",
   "nbconvert_exporter": "python",
   "pygments_lexer": "ipython3",
   "version": "3.9.16"
  }
 },
 "nbformat": 4,
 "nbformat_minor": 5
}
