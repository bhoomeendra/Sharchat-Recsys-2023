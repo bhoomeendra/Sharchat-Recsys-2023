{
 "cells": [
  {
   "cell_type": "code",
   "execution_count": 2,
   "id": "8de033d0-ccdc-48d1-8121-b152a69e2e8c",
   "metadata": {},
   "outputs": [],
   "source": [
    "import pandas as pd\n",
    "import dtale"
   ]
  },
  {
   "cell_type": "code",
   "execution_count": 3,
   "id": "375691f4-01bd-4255-8374-4df2a75823c0",
   "metadata": {},
   "outputs": [],
   "source": [
    "out = pd.read_csv('../Data/miss_combine.csv')"
   ]
  },
  {
   "cell_type": "code",
   "execution_count": 4,
   "id": "b400f6a9-26aa-4cf0-82bc-456db794d9a7",
   "metadata": {},
   "outputs": [
    {
     "data": {
      "text/html": [
       "\n",
       "        <iframe\n",
       "            width=\"100%\"\n",
       "            height=\"475\"\n",
       "            src=\"http://gnode034:40000/dtale/iframe/1\"\n",
       "            frameborder=\"0\"\n",
       "            allowfullscreen\n",
       "            \n",
       "        ></iframe>\n",
       "        "
      ],
      "text/plain": [
       "<IPython.lib.display.IFrame at 0x149d012af970>"
      ]
     },
     "metadata": {},
     "output_type": "display_data"
    },
    {
     "data": {
      "text/plain": []
     },
     "execution_count": 4,
     "metadata": {},
     "output_type": "execute_result"
    }
   ],
   "source": [
    "dtale.show(out)"
   ]
  },
  {
   "cell_type": "code",
   "execution_count": null,
   "id": "7c5d598a-b3b7-4324-9952-fba8f1dd047e",
   "metadata": {},
   "outputs": [],
   "source": []
  }
 ],
 "metadata": {
  "kernelspec": {
   "display_name": "Python 3 (ipykernel)",
   "language": "python",
   "name": "python3"
  },
  "language_info": {
   "codemirror_mode": {
    "name": "ipython",
    "version": 3
   },
   "file_extension": ".py",
   "mimetype": "text/x-python",
   "name": "python",
   "nbconvert_exporter": "python",
   "pygments_lexer": "ipython3",
   "version": "3.9.16"
  }
 },
 "nbformat": 4,
 "nbformat_minor": 5
}
