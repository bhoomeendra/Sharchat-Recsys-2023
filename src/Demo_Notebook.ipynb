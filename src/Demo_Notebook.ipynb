{
 "cells": [
  {
   "cell_type": "code",
   "execution_count": 1,
   "id": "4808dbae-c059-4874-9c7c-bb63a8dda411",
   "metadata": {},
   "outputs": [],
   "source": [
    "from utils import TrainSplit,TestResults"
   ]
  },
  {
   "cell_type": "code",
   "execution_count": 2,
   "id": "eb8e1f1f-2bc8-4925-8792-588b595718a0",
   "metadata": {},
   "outputs": [
    {
     "name": "stdout",
     "output_type": "stream",
     "text": [
      "Loading the data\n"
     ]
    },
    {
     "name": "stderr",
     "output_type": "stream",
     "text": [
      "NUM IMPUTE: 100%|████████████████████████████████████████████████████████████████████████████████████████████████████████████████████████| 11/11 [00:00<00:00, 53.74it/s]\n"
     ]
    },
    {
     "name": "stdout",
     "output_type": "stream",
     "text": [
      "Spliting the Data based on random\n"
     ]
    }
   ],
   "source": [
    "obj = TrainSplit()"
   ]
  },
  {
   "cell_type": "code",
   "execution_count": 3,
   "id": "304b191d-4622-4992-bd7a-16eed74f8c10",
   "metadata": {},
   "outputs": [
    {
     "name": "stdout",
     "output_type": "stream",
     "text": [
      "Help on method get_split in module utils:\n",
      "\n",
      "get_split() method of utils.TrainSplit instance\n",
      "\n"
     ]
    }
   ],
   "source": [
    "help(obj.get_split)"
   ]
  },
  {
   "cell_type": "code",
   "execution_count": 4,
   "id": "6d64663c-63cc-47b3-aa17-4fd1bd416e24",
   "metadata": {},
   "outputs": [],
   "source": [
    "X_train, X_test, y_train, y_test = obj.get_split()"
   ]
  },
  {
   "cell_type": "code",
   "execution_count": 5,
   "id": "8ecaeca6-e64e-4923-9b4f-261de3d59f1b",
   "metadata": {},
   "outputs": [],
   "source": [
    "cat_feat = TrainSplit.CATEGORIES + TrainSplit.BINARY\n",
    "num_feat = TrainSplit.NUMERICAL\n",
    "all_feat = cat_feat + num_feat"
   ]
  },
  {
   "cell_type": "code",
   "execution_count": 8,
   "id": "f660c092-8380-431c-9e91-3854bec41bd3",
   "metadata": {},
   "outputs": [
    {
     "name": "stdout",
     "output_type": "stream",
     "text": [
      "['f_2', 'f_3', 'f_4', 'f_5', 'f_6', 'f_7', 'f_8', 'f_9', 'f_10', 'f_11', 'f_12', 'f_13', 'f_14', 'f_15', 'f_16', 'f_17', 'f_18', 'f_19', 'f_20', 'f_21', 'f_22', 'f_23', 'f_24', 'f_25', 'f_26', 'f_27', 'f_28', 'f_29', 'f_30', 'f_31', 'f_32', 'f_33', 'f_34', 'f_35', 'f_36', 'f_37', 'f_38', 'f_39', 'f_40', 'f_41']\n",
      "\n",
      "['f_42', 'f_43', 'f_44', 'f_45', 'f_46', 'f_47', 'f_48', 'f_49', 'f_50', 'f_51', 'f_52', 'f_53', 'f_54', 'f_55', 'f_56', 'f_57', 'f_58', 'f_59', 'f_60', 'f_61', 'f_62', 'f_63', 'f_64', 'f_65', 'f_66', 'f_67', 'f_68', 'f_69', 'f_70', 'f_71', 'f_72', 'f_73', 'f_74', 'f_75', 'f_76', 'f_77', 'f_78', 'f_79']\n",
      "\n",
      "['f_2', 'f_3', 'f_4', 'f_5', 'f_6', 'f_7', 'f_8', 'f_9', 'f_10', 'f_11', 'f_12', 'f_13', 'f_14', 'f_15', 'f_16', 'f_17', 'f_18', 'f_19', 'f_20', 'f_21', 'f_22', 'f_23', 'f_24', 'f_25', 'f_26', 'f_27', 'f_28', 'f_29', 'f_30', 'f_31', 'f_32', 'f_33', 'f_34', 'f_35', 'f_36', 'f_37', 'f_38', 'f_39', 'f_40', 'f_41', 'f_42', 'f_43', 'f_44', 'f_45', 'f_46', 'f_47', 'f_48', 'f_49', 'f_50', 'f_51', 'f_52', 'f_53', 'f_54', 'f_55', 'f_56', 'f_57', 'f_58', 'f_59', 'f_60', 'f_61', 'f_62', 'f_63', 'f_64', 'f_65', 'f_66', 'f_67', 'f_68', 'f_69', 'f_70', 'f_71', 'f_72', 'f_73', 'f_74', 'f_75', 'f_76', 'f_77', 'f_78', 'f_79']\n"
     ]
    }
   ],
   "source": [
    "print(cat_feat)\n",
    "print()\n",
    "print(num_feat)\n",
    "print()\n",
    "print(all_feat)"
   ]
  },
  {
   "cell_type": "code",
   "execution_count": 6,
   "id": "8c26fb6a-e5e2-4978-9253-5f5b85fb730b",
   "metadata": {},
   "outputs": [],
   "source": [
    "import pandas as pd\n",
    "import numpy as np"
   ]
  },
  {
   "cell_type": "code",
   "execution_count": 7,
   "id": "51473228-1270-4305-88f3-513c62c8ee3d",
   "metadata": {},
   "outputs": [
    {
     "name": "stdout",
     "output_type": "stream",
     "text": [
      "Saved the test result to csv file as random_xgb_full_feature_2023-05-23 04:10:24.114673.csv\n",
      "Saved the model config to json file as random_xgb_full_feature_2023-05-23 04:10:24.114673.json\n"
     ]
    }
   ],
   "source": [
    "test = TestResults(row_id=pd.Series([1,2,3,4],copy=False), is_click=np.random.rand(4), \n",
    "                   is_install=np.random.rand(4), model_name='random_xgb_full_feature',\n",
    "                   config= {'max_depth':6,\n",
    "                            'learning_rate':0.3,\n",
    "                            'n_estimators':532,\n",
    "                            'tree_method':'gpu_hist',\n",
    "                            'objective':'binary:logistic'\n",
    "                            })"
   ]
  },
  {
   "cell_type": "code",
   "execution_count": 8,
   "id": "f0a971f4-c53e-4afb-8723-f53959e1bf7b",
   "metadata": {},
   "outputs": [
    {
     "data": {
      "text/plain": [
       "['.ipynb_checkpoints',\n",
       " 'random_xgb_full_feature_2023-05-23 04:10:24.114673.json']"
      ]
     },
     "execution_count": 8,
     "metadata": {},
     "output_type": "execute_result"
    }
   ],
   "source": [
    "TrainSplit.get_config_list()"
   ]
  },
  {
   "cell_type": "code",
   "execution_count": 9,
   "id": "2f2e1b5f-86b8-4b36-8b9a-04f87d1aec09",
   "metadata": {},
   "outputs": [],
   "source": [
    "configs = TrainSplit.load_config(name='random_xgb_full_feature_2023-05-23 04:10:24.114673.json')"
   ]
  },
  {
   "cell_type": "code",
   "execution_count": null,
   "id": "7a7f2630-61df-48f4-8f3e-cb505704c716",
   "metadata": {},
   "outputs": [],
   "source": []
  }
 ],
 "metadata": {
  "kernelspec": {
   "display_name": "Python 3 (ipykernel)",
   "language": "python",
   "name": "python3"
  },
  "language_info": {
   "codemirror_mode": {
    "name": "ipython",
    "version": 3
   },
   "file_extension": ".py",
   "mimetype": "text/x-python",
   "name": "python",
   "nbconvert_exporter": "python",
   "pygments_lexer": "ipython3",
   "version": "3.9.16"
  }
 },
 "nbformat": 4,
 "nbformat_minor": 5
}
