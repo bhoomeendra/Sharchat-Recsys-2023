{
 "cells": [
  {
   "cell_type": "code",
   "execution_count": 1,
   "id": "c1f387bf-d9f2-48d3-9e67-c1d2b332e27b",
   "metadata": {},
   "outputs": [],
   "source": [
    "from utils import TestResults,TrainSplit\n",
    "from catboost import CatBoostClassifier\n",
    "from sklearn.metrics import f1_score, log_loss\n",
    "\n",
    "import numpy as np\n",
    "import optuna\n",
    "import gc"
   ]
  },
  {
   "cell_type": "code",
   "execution_count": 2,
   "id": "8081aa2f-4142-4ba6-bc25-0070ae2ddad1",
   "metadata": {},
   "outputs": [
    {
     "name": "stdout",
     "output_type": "stream",
     "text": [
      "Loading the data\n",
      "Categorial Feature Imputed\n"
     ]
    },
    {
     "name": "stderr",
     "output_type": "stream",
     "text": [
      "NUM IMPUTE: 100%|████████████████████████████████████████████████████████████████████████████████████████████████████████████████████████| 11/11 [00:00<00:00, 53.87it/s]\n"
     ]
    },
    {
     "name": "stdout",
     "output_type": "stream",
     "text": [
      "Spliting the Data based on time\n",
      "X_train:(3387880, 80), X_test:(97972, 80) , y_train:(3387880, 2) , y_test:(97972, 2)\n"
     ]
    }
   ],
   "source": [
    "X_train, X_test, y_train, y_test = TrainSplit().get_split()"
   ]
  },
  {
   "cell_type": "code",
   "execution_count": 3,
   "id": "b578ace4-40a6-4b12-9ade-d39d2a2acc8f",
   "metadata": {},
   "outputs": [],
   "source": [
    "cat_feat = TrainSplit.CATEGORIES + TrainSplit.BINARY\n",
    "num_feat = TrainSplit.NUMERICAL\n",
    "all_feat = cat_feat + num_feat"
   ]
  },
  {
   "cell_type": "code",
   "execution_count": 4,
   "id": "c8fae7d3-c1f8-4372-a1dd-da15d5caba3c",
   "metadata": {},
   "outputs": [],
   "source": [
    "def objective(trial):\n",
    "    params = {\n",
    "        'depth':trial.suggest_int('max_depth',3,10),\n",
    "        'iterations':trial.suggest_int('iterations',100,1000),\n",
    "        'learning_rate':trial.suggest_float('learning_rate',0.05,0.3),\n",
    "        'l2_leaf_reg': trial.suggest_float('l2_leaf_reg', 1, 10),\n",
    "        'boosting_type': trial.suggest_categorical('boosting_type', ['Ordered', 'Plain']),\n",
    "        'task_type':'GPU',\n",
    "        'silent': True\n",
    "    }\n",
    "    print(params)\n",
    "    target = TrainSplit.IS_INSTALLED[0]\n",
    "    model = CatBoostClassifier(**params)\n",
    "    model.fit(X_train[use_features],y_train[target])\n",
    "    y_pred = model.predict(X_test[use_features])\n",
    "    score = log_loss(y_test[target],y_pred)\n",
    "    # print(model.feature_names_in_)\n",
    "    gc.collect()\n",
    "    return score"
   ]
  },
  {
   "cell_type": "code",
   "execution_count": 5,
   "id": "0a583d90-21e5-400e-80ef-a4b950d6cfeb",
   "metadata": {
    "collapsed": true,
    "jupyter": {
     "outputs_hidden": true
    },
    "tags": []
   },
   "outputs": [
    {
     "name": "stderr",
     "output_type": "stream",
     "text": [
      "\u001b[32m[I 2023-05-25 09:12:15,563]\u001b[0m A new study created in memory with name: install_log_loss\u001b[0m\n"
     ]
    },
    {
     "name": "stdout",
     "output_type": "stream",
     "text": [
      "{'depth': 8, 'iterations': 293, 'learning_rate': 0.06287753042900542, 'l2_leaf_reg': 1.9459987950507172, 'boosting_type': 'Plain', 'task_type': 'GPU', 'silent': True}\n"
     ]
    },
    {
     "name": "stderr",
     "output_type": "stream",
     "text": [
      "TBB Warning: The number of workers is currently limited to 29. The request for 39 workers is ignored. Further requests for more workers will be silently ignored until the limit changes.\n",
      "\n",
      "\u001b[32m[I 2023-05-25 09:12:31,896]\u001b[0m Trial 0 finished with value: 5.963530389945181 and parameters: {'max_depth': 8, 'iterations': 293, 'learning_rate': 0.06287753042900542, 'l2_leaf_reg': 1.9459987950507172, 'boosting_type': 'Plain'}. Best is trial 0 with value: 5.963530389945181.\u001b[0m\n"
     ]
    },
    {
     "name": "stdout",
     "output_type": "stream",
     "text": [
      "{'depth': 10, 'iterations': 649, 'learning_rate': 0.19128972046453152, 'l2_leaf_reg': 4.19838359849405, 'boosting_type': 'Plain', 'task_type': 'GPU', 'silent': True}\n"
     ]
    },
    {
     "name": "stderr",
     "output_type": "stream",
     "text": [
      "\u001b[32m[I 2023-05-25 09:13:17,032]\u001b[0m Trial 1 finished with value: 5.739692312249227 and parameters: {'max_depth': 10, 'iterations': 649, 'learning_rate': 0.19128972046453152, 'l2_leaf_reg': 4.19838359849405, 'boosting_type': 'Plain'}. Best is trial 1 with value: 5.739692312249227.\u001b[0m\n"
     ]
    },
    {
     "name": "stdout",
     "output_type": "stream",
     "text": [
      "{'depth': 5, 'iterations': 633, 'learning_rate': 0.11345058095313602, 'l2_leaf_reg': 5.249467944690077, 'boosting_type': 'Ordered', 'task_type': 'GPU', 'silent': True}\n"
     ]
    },
    {
     "name": "stderr",
     "output_type": "stream",
     "text": [
      "\u001b[32m[I 2023-05-25 09:14:41,431]\u001b[0m Trial 2 finished with value: 6.0534270134582036 and parameters: {'max_depth': 5, 'iterations': 633, 'learning_rate': 0.11345058095313602, 'l2_leaf_reg': 5.249467944690077, 'boosting_type': 'Ordered'}. Best is trial 1 with value: 5.739692312249227.\u001b[0m\n"
     ]
    },
    {
     "name": "stdout",
     "output_type": "stream",
     "text": [
      "{'depth': 7, 'iterations': 455, 'learning_rate': 0.2967291578302897, 'l2_leaf_reg': 6.022270371790956, 'boosting_type': 'Plain', 'task_type': 'GPU', 'silent': True}\n"
     ]
    },
    {
     "name": "stderr",
     "output_type": "stream",
     "text": [
      "\u001b[32m[I 2023-05-25 09:15:01,495]\u001b[0m Trial 3 finished with value: 6.147215053642224 and parameters: {'max_depth': 7, 'iterations': 455, 'learning_rate': 0.2967291578302897, 'l2_leaf_reg': 6.022270371790956, 'boosting_type': 'Plain'}. Best is trial 1 with value: 5.739692312249227.\u001b[0m\n"
     ]
    },
    {
     "name": "stdout",
     "output_type": "stream",
     "text": [
      "{'depth': 6, 'iterations': 393, 'learning_rate': 0.05684621482639203, 'l2_leaf_reg': 5.285175761092392, 'boosting_type': 'Ordered', 'task_type': 'GPU', 'silent': True}\n"
     ]
    },
    {
     "name": "stderr",
     "output_type": "stream",
     "text": [
      "\u001b[32m[I 2023-05-25 09:16:06,118]\u001b[0m Trial 4 finished with value: 6.162710156089682 and parameters: {'max_depth': 6, 'iterations': 393, 'learning_rate': 0.05684621482639203, 'l2_leaf_reg': 5.285175761092392, 'boosting_type': 'Ordered'}. Best is trial 1 with value: 5.739692312249227.\u001b[0m\n"
     ]
    },
    {
     "name": "stdout",
     "output_type": "stream",
     "text": [
      "{'depth': 10, 'iterations': 328, 'learning_rate': 0.2708900114859485, 'l2_leaf_reg': 9.845707683275041, 'boosting_type': 'Ordered', 'task_type': 'GPU', 'silent': True}\n"
     ]
    },
    {
     "name": "stderr",
     "output_type": "stream",
     "text": [
      "\u001b[32m[I 2023-05-25 09:19:40,258]\u001b[0m Trial 5 finished with value: 5.94132522985909 and parameters: {'max_depth': 10, 'iterations': 328, 'learning_rate': 0.2708900114859485, 'l2_leaf_reg': 9.845707683275041, 'boosting_type': 'Ordered'}. Best is trial 1 with value: 5.739692312249227.\u001b[0m\n"
     ]
    },
    {
     "name": "stdout",
     "output_type": "stream",
     "text": [
      "{'depth': 5, 'iterations': 892, 'learning_rate': 0.1207698724442857, 'l2_leaf_reg': 7.431495502816534, 'boosting_type': 'Plain', 'task_type': 'GPU', 'silent': True}\n"
     ]
    },
    {
     "name": "stderr",
     "output_type": "stream",
     "text": [
      "\u001b[32m[I 2023-05-25 09:20:08,611]\u001b[0m Trial 6 finished with value: 6.09009464665428 and parameters: {'max_depth': 5, 'iterations': 892, 'learning_rate': 0.1207698724442857, 'l2_leaf_reg': 7.431495502816534, 'boosting_type': 'Plain'}. Best is trial 1 with value: 5.739692312249227.\u001b[0m\n"
     ]
    },
    {
     "name": "stdout",
     "output_type": "stream",
     "text": [
      "{'depth': 3, 'iterations': 660, 'learning_rate': 0.16693291108096137, 'l2_leaf_reg': 3.2898807558979386, 'boosting_type': 'Ordered', 'task_type': 'GPU', 'silent': True}\n"
     ]
    },
    {
     "name": "stderr",
     "output_type": "stream",
     "text": [
      "\u001b[32m[I 2023-05-25 09:21:14,531]\u001b[0m Trial 7 finished with value: 6.177517861885487 and parameters: {'max_depth': 3, 'iterations': 660, 'learning_rate': 0.16693291108096137, 'l2_leaf_reg': 3.2898807558979386, 'boosting_type': 'Ordered'}. Best is trial 1 with value: 5.739692312249227.\u001b[0m\n"
     ]
    },
    {
     "name": "stdout",
     "output_type": "stream",
     "text": [
      "{'depth': 5, 'iterations': 735, 'learning_rate': 0.1115659730949846, 'l2_leaf_reg': 7.725408319087615, 'boosting_type': 'Plain', 'task_type': 'GPU', 'silent': True}\n"
     ]
    },
    {
     "name": "stderr",
     "output_type": "stream",
     "text": [
      "\u001b[32m[I 2023-05-25 09:21:38,154]\u001b[0m Trial 8 finished with value: 6.2155993084652446 and parameters: {'max_depth': 5, 'iterations': 735, 'learning_rate': 0.1115659730949846, 'l2_leaf_reg': 7.725408319087615, 'boosting_type': 'Plain'}. Best is trial 1 with value: 5.739692312249227.\u001b[0m\n"
     ]
    },
    {
     "name": "stdout",
     "output_type": "stream",
     "text": [
      "{'depth': 6, 'iterations': 992, 'learning_rate': 0.10133690480725989, 'l2_leaf_reg': 5.0921792553491345, 'boosting_type': 'Ordered', 'task_type': 'GPU', 'silent': True}\n"
     ]
    },
    {
     "name": "stderr",
     "output_type": "stream",
     "text": [
      "\u001b[32m[I 2023-05-25 09:24:14,138]\u001b[0m Trial 9 finished with value: 5.992802070565004 and parameters: {'max_depth': 6, 'iterations': 992, 'learning_rate': 0.10133690480725989, 'l2_leaf_reg': 5.0921792553491345, 'boosting_type': 'Ordered'}. Best is trial 1 with value: 5.739692312249227.\u001b[0m\n"
     ]
    },
    {
     "name": "stdout",
     "output_type": "stream",
     "text": [
      "{'depth': 10, 'iterations': 152, 'learning_rate': 0.22185095760475074, 'l2_leaf_reg': 1.4046494765643693, 'boosting_type': 'Plain', 'task_type': 'GPU', 'silent': True}\n"
     ]
    },
    {
     "name": "stderr",
     "output_type": "stream",
     "text": [
      "\u001b[32m[I 2023-05-25 09:24:26,129]\u001b[0m Trial 10 finished with value: 5.942748739092064 and parameters: {'max_depth': 10, 'iterations': 152, 'learning_rate': 0.22185095760475074, 'l2_leaf_reg': 1.4046494765643693, 'boosting_type': 'Plain'}. Best is trial 1 with value: 5.739692312249227.\u001b[0m\n"
     ]
    },
    {
     "name": "stdout",
     "output_type": "stream",
     "text": [
      "{'depth': 10, 'iterations': 100, 'learning_rate': 0.24274299831314197, 'l2_leaf_reg': 9.950061965692097, 'boosting_type': 'Ordered', 'task_type': 'GPU', 'silent': True}\n"
     ]
    },
    {
     "name": "stderr",
     "output_type": "stream",
     "text": [
      "\u001b[32m[I 2023-05-25 09:25:38,214]\u001b[0m Trial 11 finished with value: 6.049555363914303 and parameters: {'max_depth': 10, 'iterations': 100, 'learning_rate': 0.24274299831314197, 'l2_leaf_reg': 9.950061965692097, 'boosting_type': 'Ordered'}. Best is trial 1 with value: 5.739692312249227.\u001b[0m\n"
     ]
    },
    {
     "name": "stdout",
     "output_type": "stream",
     "text": [
      "{'depth': 9, 'iterations': 523, 'learning_rate': 0.20153050869408917, 'l2_leaf_reg': 9.806200334368686, 'boosting_type': 'Plain', 'task_type': 'GPU', 'silent': True}\n"
     ]
    },
    {
     "name": "stderr",
     "output_type": "stream",
     "text": [
      "\u001b[32m[I 2023-05-25 09:26:08,435]\u001b[0m Trial 12 finished with value: 6.740944485005871 and parameters: {'max_depth': 9, 'iterations': 523, 'learning_rate': 0.20153050869408917, 'l2_leaf_reg': 9.806200334368686, 'boosting_type': 'Plain'}. Best is trial 1 with value: 5.739692312249227.\u001b[0m\n"
     ]
    },
    {
     "name": "stdout",
     "output_type": "stream",
     "text": [
      "{'depth': 9, 'iterations': 302, 'learning_rate': 0.26670912890780896, 'l2_leaf_reg': 3.6292578460227523, 'boosting_type': 'Ordered', 'task_type': 'GPU', 'silent': True}\n"
     ]
    },
    {
     "name": "stderr",
     "output_type": "stream",
     "text": [
      "\u001b[32m[I 2023-05-25 09:28:04,743]\u001b[0m Trial 13 finished with value: 6.387671904536308 and parameters: {'max_depth': 9, 'iterations': 302, 'learning_rate': 0.26670912890780896, 'l2_leaf_reg': 3.6292578460227523, 'boosting_type': 'Ordered'}. Best is trial 1 with value: 5.739692312249227.\u001b[0m\n"
     ]
    },
    {
     "name": "stdout",
     "output_type": "stream",
     "text": [
      "{'depth': 8, 'iterations': 814, 'learning_rate': 0.1744249052868505, 'l2_leaf_reg': 7.968183744319768, 'boosting_type': 'Plain', 'task_type': 'GPU', 'silent': True}\n"
     ]
    },
    {
     "name": "stderr",
     "output_type": "stream",
     "text": [
      "\u001b[32m[I 2023-05-25 09:28:44,068]\u001b[0m Trial 14 finished with value: 6.127826502312931 and parameters: {'max_depth': 8, 'iterations': 814, 'learning_rate': 0.1744249052868505, 'l2_leaf_reg': 7.968183744319768, 'boosting_type': 'Plain'}. Best is trial 1 with value: 5.739692312249227.\u001b[0m\n"
     ]
    },
    {
     "name": "stdout",
     "output_type": "stream",
     "text": [
      "{'depth': 10, 'iterations': 581, 'learning_rate': 0.2967928648532723, 'l2_leaf_reg': 3.8188264209078637, 'boosting_type': 'Ordered', 'task_type': 'GPU', 'silent': True}\n"
     ]
    },
    {
     "name": "stderr",
     "output_type": "stream",
     "text": [
      "\u001b[32m[I 2023-05-25 09:33:04,012]\u001b[0m Trial 15 finished with value: 5.901151665143086 and parameters: {'max_depth': 10, 'iterations': 581, 'learning_rate': 0.2967928648532723, 'l2_leaf_reg': 3.8188264209078637, 'boosting_type': 'Ordered'}. Best is trial 1 with value: 5.739692312249227.\u001b[0m\n"
     ]
    },
    {
     "name": "stdout",
     "output_type": "stream",
     "text": [
      "{'depth': 9, 'iterations': 559, 'learning_rate': 0.2931289717432258, 'l2_leaf_reg': 3.9245826864324966, 'boosting_type': 'Ordered', 'task_type': 'GPU', 'silent': True}\n"
     ]
    },
    {
     "name": "stderr",
     "output_type": "stream",
     "text": [
      "\u001b[32m[I 2023-05-25 09:36:12,392]\u001b[0m Trial 16 finished with value: 5.823940407294721 and parameters: {'max_depth': 9, 'iterations': 559, 'learning_rate': 0.2931289717432258, 'l2_leaf_reg': 3.9245826864324966, 'boosting_type': 'Ordered'}. Best is trial 1 with value: 5.739692312249227.\u001b[0m\n"
     ]
    },
    {
     "name": "stdout",
     "output_type": "stream",
     "text": [
      "{'depth': 8, 'iterations': 749, 'learning_rate': 0.20872049071059462, 'l2_leaf_reg': 2.522605994414033, 'boosting_type': 'Plain', 'task_type': 'GPU', 'silent': True}\n"
     ]
    },
    {
     "name": "stderr",
     "output_type": "stream",
     "text": [
      "\u001b[32m[I 2023-05-25 09:36:48,816]\u001b[0m Trial 17 finished with value: 6.41060056770274 and parameters: {'max_depth': 8, 'iterations': 749, 'learning_rate': 0.20872049071059462, 'l2_leaf_reg': 2.522605994414033, 'boosting_type': 'Plain'}. Best is trial 1 with value: 5.739692312249227.\u001b[0m\n"
     ]
    },
    {
     "name": "stdout",
     "output_type": "stream",
     "text": [
      "{'depth': 9, 'iterations': 497, 'learning_rate': 0.24145299201761672, 'l2_leaf_reg': 4.1495713222491775, 'boosting_type': 'Plain', 'task_type': 'GPU', 'silent': True}\n"
     ]
    },
    {
     "name": "stderr",
     "output_type": "stream",
     "text": [
      "\u001b[32m[I 2023-05-25 09:37:18,230]\u001b[0m Trial 18 finished with value: 6.101029397067895 and parameters: {'max_depth': 9, 'iterations': 497, 'learning_rate': 0.24145299201761672, 'l2_leaf_reg': 4.1495713222491775, 'boosting_type': 'Plain'}. Best is trial 1 with value: 5.739692312249227.\u001b[0m\n"
     ]
    },
    {
     "name": "stdout",
     "output_type": "stream",
     "text": [
      "{'depth': 7, 'iterations': 691, 'learning_rate': 0.15130512092974402, 'l2_leaf_reg': 2.5555050908060304, 'boosting_type': 'Ordered', 'task_type': 'GPU', 'silent': True}\n"
     ]
    },
    {
     "name": "stderr",
     "output_type": "stream",
     "text": [
      "\u001b[32m[I 2023-05-25 09:39:29,329]\u001b[0m Trial 19 finished with value: 6.045329757052518 and parameters: {'max_depth': 7, 'iterations': 691, 'learning_rate': 0.15130512092974402, 'l2_leaf_reg': 2.5555050908060304, 'boosting_type': 'Ordered'}. Best is trial 1 with value: 5.739692312249227.\u001b[0m\n"
     ]
    },
    {
     "name": "stdout",
     "output_type": "stream",
     "text": [
      "{'depth': 9, 'iterations': 842, 'learning_rate': 0.20601101917195688, 'l2_leaf_reg': 4.4648477509440765, 'boosting_type': 'Plain', 'task_type': 'GPU', 'silent': True}\n"
     ]
    },
    {
     "name": "stderr",
     "output_type": "stream",
     "text": [
      "\u001b[32m[I 2023-05-25 09:40:17,298]\u001b[0m Trial 20 finished with value: 6.5212786951620725 and parameters: {'max_depth': 9, 'iterations': 842, 'learning_rate': 0.20601101917195688, 'l2_leaf_reg': 4.4648477509440765, 'boosting_type': 'Plain'}. Best is trial 1 with value: 5.739692312249227.\u001b[0m\n"
     ]
    },
    {
     "name": "stdout",
     "output_type": "stream",
     "text": [
      "{'depth': 10, 'iterations': 533, 'learning_rate': 0.29681940868650214, 'l2_leaf_reg': 3.271136048039773, 'boosting_type': 'Ordered', 'task_type': 'GPU', 'silent': True}\n"
     ]
    },
    {
     "name": "stderr",
     "output_type": "stream",
     "text": [
      "\u001b[32m[I 2023-05-25 09:44:16,649]\u001b[0m Trial 21 finished with value: 5.8800012193845275 and parameters: {'max_depth': 10, 'iterations': 533, 'learning_rate': 0.29681940868650214, 'l2_leaf_reg': 3.271136048039773, 'boosting_type': 'Ordered'}. Best is trial 1 with value: 5.739692312249227.\u001b[0m\n"
     ]
    },
    {
     "name": "stdout",
     "output_type": "stream",
     "text": [
      "{'depth': 10, 'iterations': 591, 'learning_rate': 0.2718763757397189, 'l2_leaf_reg': 3.030708461129523, 'boosting_type': 'Ordered', 'task_type': 'GPU', 'silent': True}\n"
     ]
    },
    {
     "name": "stderr",
     "output_type": "stream",
     "text": [
      "\u001b[32m[I 2023-05-25 09:48:29,963]\u001b[0m Trial 22 finished with value: 6.123251271884082 and parameters: {'max_depth': 10, 'iterations': 591, 'learning_rate': 0.2718763757397189, 'l2_leaf_reg': 3.030708461129523, 'boosting_type': 'Ordered'}. Best is trial 1 with value: 5.739692312249227.\u001b[0m\n"
     ]
    },
    {
     "name": "stdout",
     "output_type": "stream",
     "text": [
      "{'depth': 9, 'iterations': 442, 'learning_rate': 0.2952295127238526, 'l2_leaf_reg': 1.3343017689958359, 'boosting_type': 'Ordered', 'task_type': 'GPU', 'silent': True}\n"
     ]
    },
    {
     "name": "stderr",
     "output_type": "stream",
     "text": [
      "\u001b[32m[I 2023-05-25 09:50:34,746]\u001b[0m Trial 23 finished with value: 5.998437499842197 and parameters: {'max_depth': 9, 'iterations': 442, 'learning_rate': 0.2952295127238526, 'l2_leaf_reg': 1.3343017689958359, 'boosting_type': 'Ordered'}. Best is trial 1 with value: 5.739692312249227.\u001b[0m\n"
     ]
    },
    {
     "name": "stdout",
     "output_type": "stream",
     "text": [
      "{'depth': 8, 'iterations': 563, 'learning_rate': 0.2442473236845539, 'l2_leaf_reg': 2.9954822133243697, 'boosting_type': 'Ordered', 'task_type': 'GPU', 'silent': True}\n"
     ]
    },
    {
     "name": "stderr",
     "output_type": "stream",
     "text": [
      "\u001b[32m[I 2023-05-25 09:52:49,382]\u001b[0m Trial 24 finished with value: 5.898323524201902 and parameters: {'max_depth': 8, 'iterations': 563, 'learning_rate': 0.2442473236845539, 'l2_leaf_reg': 2.9954822133243697, 'boosting_type': 'Ordered'}. Best is trial 1 with value: 5.739692312249227.\u001b[0m\n"
     ]
    },
    {
     "name": "stdout",
     "output_type": "stream",
     "text": [
      "{'depth': 10, 'iterations': 423, 'learning_rate': 0.27805480481106093, 'l2_leaf_reg': 4.239772822861817, 'boosting_type': 'Ordered', 'task_type': 'GPU', 'silent': True}\n"
     ]
    },
    {
     "name": "stderr",
     "output_type": "stream",
     "text": [
      "\u001b[32m[I 2023-05-25 09:56:33,838]\u001b[0m Trial 25 finished with value: 6.180709631509383 and parameters: {'max_depth': 10, 'iterations': 423, 'learning_rate': 0.27805480481106093, 'l2_leaf_reg': 4.239772822861817, 'boosting_type': 'Ordered'}. Best is trial 1 with value: 5.739692312249227.\u001b[0m\n"
     ]
    },
    {
     "name": "stdout",
     "output_type": "stream",
     "text": [
      "{'depth': 3, 'iterations': 727, 'learning_rate': 0.2591119730275633, 'l2_leaf_reg': 4.648121592315612, 'boosting_type': 'Ordered', 'task_type': 'GPU', 'silent': True}\n"
     ]
    },
    {
     "name": "stderr",
     "output_type": "stream",
     "text": [
      "\u001b[32m[I 2023-05-25 09:57:47,145]\u001b[0m Trial 26 finished with value: 6.209955978866401 and parameters: {'max_depth': 3, 'iterations': 727, 'learning_rate': 0.2591119730275633, 'l2_leaf_reg': 4.648121592315612, 'boosting_type': 'Ordered'}. Best is trial 1 with value: 5.739692312249227.\u001b[0m\n"
     ]
    },
    {
     "name": "stdout",
     "output_type": "stream",
     "text": [
      "{'depth': 9, 'iterations': 514, 'learning_rate': 0.2813593842875682, 'l2_leaf_reg': 3.5633667814297363, 'boosting_type': 'Ordered', 'task_type': 'GPU', 'silent': True}\n"
     ]
    },
    {
     "name": "stderr",
     "output_type": "stream",
     "text": [
      "\u001b[32m[I 2023-05-25 10:00:35,154]\u001b[0m Trial 27 finished with value: 6.251585657965154 and parameters: {'max_depth': 9, 'iterations': 514, 'learning_rate': 0.2813593842875682, 'l2_leaf_reg': 3.5633667814297363, 'boosting_type': 'Ordered'}. Best is trial 1 with value: 5.739692312249227.\u001b[0m\n"
     ]
    },
    {
     "name": "stdout",
     "output_type": "stream",
     "text": [
      "{'depth': 10, 'iterations': 624, 'learning_rate': 0.2540299826195388, 'l2_leaf_reg': 2.1767600359426003, 'boosting_type': 'Plain', 'task_type': 'GPU', 'silent': True}\n"
     ]
    },
    {
     "name": "stderr",
     "output_type": "stream",
     "text": [
      "\u001b[32m[I 2023-05-25 10:01:19,082]\u001b[0m Trial 28 finished with value: 6.408472767535251 and parameters: {'max_depth': 10, 'iterations': 624, 'learning_rate': 0.2540299826195388, 'l2_leaf_reg': 2.1767600359426003, 'boosting_type': 'Plain'}. Best is trial 1 with value: 5.739692312249227.\u001b[0m\n"
     ]
    },
    {
     "name": "stdout",
     "output_type": "stream",
     "text": [
      "{'depth': 8, 'iterations': 364, 'learning_rate': 0.22866524007274153, 'l2_leaf_reg': 2.163440795639492, 'boosting_type': 'Plain', 'task_type': 'GPU', 'silent': True}\n"
     ]
    },
    {
     "name": "stderr",
     "output_type": "stream",
     "text": [
      "\u001b[32m[I 2023-05-25 10:01:37,751]\u001b[0m Trial 29 finished with value: 6.0072552314156935 and parameters: {'max_depth': 8, 'iterations': 364, 'learning_rate': 0.22866524007274153, 'l2_leaf_reg': 2.163440795639492, 'boosting_type': 'Plain'}. Best is trial 1 with value: 5.739692312249227.\u001b[0m\n"
     ]
    },
    {
     "name": "stdout",
     "output_type": "stream",
     "text": [
      "{'depth': 7, 'iterations': 206, 'learning_rate': 0.19044385256234528, 'l2_leaf_reg': 3.1637519105480205, 'boosting_type': 'Ordered', 'task_type': 'GPU', 'silent': True}\n"
     ]
    },
    {
     "name": "stderr",
     "output_type": "stream",
     "text": [
      "\u001b[32m[I 2023-05-25 10:02:22,283]\u001b[0m Trial 30 finished with value: 6.117594892063841 and parameters: {'max_depth': 7, 'iterations': 206, 'learning_rate': 0.19044385256234528, 'l2_leaf_reg': 3.1637519105480205, 'boosting_type': 'Ordered'}. Best is trial 1 with value: 5.739692312249227.\u001b[0m\n"
     ]
    },
    {
     "name": "stdout",
     "output_type": "stream",
     "text": [
      "{'depth': 8, 'iterations': 542, 'learning_rate': 0.2460669223738152, 'l2_leaf_reg': 2.8557987956271647, 'boosting_type': 'Ordered', 'task_type': 'GPU', 'silent': True}\n"
     ]
    },
    {
     "name": "stderr",
     "output_type": "stream",
     "text": [
      "\u001b[32m[I 2023-05-25 10:04:30,899]\u001b[0m Trial 31 finished with value: 6.052385765588025 and parameters: {'max_depth': 8, 'iterations': 542, 'learning_rate': 0.2460669223738152, 'l2_leaf_reg': 2.8557987956271647, 'boosting_type': 'Ordered'}. Best is trial 1 with value: 5.739692312249227.\u001b[0m\n"
     ]
    },
    {
     "name": "stdout",
     "output_type": "stream",
     "text": [
      "{'depth': 8, 'iterations': 585, 'learning_rate': 0.28542601901345116, 'l2_leaf_reg': 3.811494870226877, 'boosting_type': 'Ordered', 'task_type': 'GPU', 'silent': True}\n"
     ]
    },
    {
     "name": "stderr",
     "output_type": "stream",
     "text": [
      "\u001b[32m[I 2023-05-25 10:06:47,561]\u001b[0m Trial 32 finished with value: 6.049917262361281 and parameters: {'max_depth': 8, 'iterations': 585, 'learning_rate': 0.28542601901345116, 'l2_leaf_reg': 3.811494870226877, 'boosting_type': 'Ordered'}. Best is trial 1 with value: 5.739692312249227.\u001b[0m\n"
     ]
    },
    {
     "name": "stdout",
     "output_type": "stream",
     "text": [
      "{'depth': 9, 'iterations': 477, 'learning_rate': 0.22734683860047383, 'l2_leaf_reg': 1.8036468312514016, 'boosting_type': 'Ordered', 'task_type': 'GPU', 'silent': True}\n"
     ]
    },
    {
     "name": "stderr",
     "output_type": "stream",
     "text": [
      "\u001b[32m[I 2023-05-25 10:09:17,522]\u001b[0m Trial 33 finished with value: 6.4261203178479 and parameters: {'max_depth': 9, 'iterations': 477, 'learning_rate': 0.22734683860047383, 'l2_leaf_reg': 1.8036468312514016, 'boosting_type': 'Ordered'}. Best is trial 1 with value: 5.739692312249227.\u001b[0m\n"
     ]
    },
    {
     "name": "stdout",
     "output_type": "stream",
     "text": [
      "{'depth': 9, 'iterations': 661, 'learning_rate': 0.2593701673945295, 'l2_leaf_reg': 2.849341762052295, 'boosting_type': 'Ordered', 'task_type': 'GPU', 'silent': True}\n"
     ]
    },
    {
     "name": "stderr",
     "output_type": "stream",
     "text": [
      "\u001b[32m[I 2023-05-25 10:12:31,497]\u001b[0m Trial 34 finished with value: 5.947693482637412 and parameters: {'max_depth': 9, 'iterations': 661, 'learning_rate': 0.2593701673945295, 'l2_leaf_reg': 2.849341762052295, 'boosting_type': 'Ordered'}. Best is trial 1 with value: 5.739692312249227.\u001b[0m\n"
     ]
    },
    {
     "name": "stdout",
     "output_type": "stream",
     "text": [
      "{'depth': 8, 'iterations': 617, 'learning_rate': 0.2958980240551227, 'l2_leaf_reg': 4.59902827681304, 'boosting_type': 'Ordered', 'task_type': 'GPU', 'silent': True}\n"
     ]
    },
    {
     "name": "stderr",
     "output_type": "stream",
     "text": [
      "\u001b[32m[I 2023-05-25 10:14:58,633]\u001b[0m Trial 35 finished with value: 6.127494956444678 and parameters: {'max_depth': 8, 'iterations': 617, 'learning_rate': 0.2958980240551227, 'l2_leaf_reg': 4.59902827681304, 'boosting_type': 'Ordered'}. Best is trial 1 with value: 5.739692312249227.\u001b[0m\n"
     ]
    },
    {
     "name": "stdout",
     "output_type": "stream",
     "text": [
      "{'depth': 10, 'iterations': 381, 'learning_rate': 0.2800676162554091, 'l2_leaf_reg': 5.777810380631978, 'boosting_type': 'Ordered', 'task_type': 'GPU', 'silent': True}\n"
     ]
    },
    {
     "name": "stderr",
     "output_type": "stream",
     "text": [
      "\u001b[32m[I 2023-05-25 10:18:38,520]\u001b[0m Trial 36 finished with value: 6.149372879928869 and parameters: {'max_depth': 10, 'iterations': 381, 'learning_rate': 0.2800676162554091, 'l2_leaf_reg': 5.777810380631978, 'boosting_type': 'Ordered'}. Best is trial 1 with value: 5.739692312249227.\u001b[0m\n"
     ]
    },
    {
     "name": "stdout",
     "output_type": "stream",
     "text": [
      "{'depth': 7, 'iterations': 555, 'learning_rate': 0.26579303429118895, 'l2_leaf_reg': 3.395282233391641, 'boosting_type': 'Ordered', 'task_type': 'GPU', 'silent': True}\n"
     ]
    },
    {
     "name": "stderr",
     "output_type": "stream",
     "text": [
      "\u001b[32m[I 2023-05-25 10:20:23,886]\u001b[0m Trial 37 finished with value: 6.086967720062915 and parameters: {'max_depth': 7, 'iterations': 555, 'learning_rate': 0.26579303429118895, 'l2_leaf_reg': 3.395282233391641, 'boosting_type': 'Ordered'}. Best is trial 1 with value: 5.739692312249227.\u001b[0m\n"
     ]
    },
    {
     "name": "stdout",
     "output_type": "stream",
     "text": [
      "{'depth': 9, 'iterations': 784, 'learning_rate': 0.2538634896022266, 'l2_leaf_reg': 4.9184196118680035, 'boosting_type': 'Plain', 'task_type': 'GPU', 'silent': True}\n"
     ]
    },
    {
     "name": "stderr",
     "output_type": "stream",
     "text": [
      "\u001b[32m[I 2023-05-25 10:21:09,292]\u001b[0m Trial 38 finished with value: 6.219851595235566 and parameters: {'max_depth': 9, 'iterations': 784, 'learning_rate': 0.2538634896022266, 'l2_leaf_reg': 4.9184196118680035, 'boosting_type': 'Plain'}. Best is trial 1 with value: 5.739692312249227.\u001b[0m\n"
     ]
    },
    {
     "name": "stdout",
     "output_type": "stream",
     "text": [
      "{'depth': 6, 'iterations': 692, 'learning_rate': 0.2999202532052836, 'l2_leaf_reg': 1.0061828269210857, 'boosting_type': 'Ordered', 'task_type': 'GPU', 'silent': True}\n"
     ]
    },
    {
     "name": "stderr",
     "output_type": "stream",
     "text": [
      "\u001b[32m[I 2023-05-25 10:22:50,780]\u001b[0m Trial 39 finished with value: 6.255455365074599 and parameters: {'max_depth': 6, 'iterations': 692, 'learning_rate': 0.2999202532052836, 'l2_leaf_reg': 1.0061828269210857, 'boosting_type': 'Ordered'}. Best is trial 1 with value: 5.739692312249227.\u001b[0m\n"
     ]
    },
    {
     "name": "stdout",
     "output_type": "stream",
     "text": [
      "{'depth': 4, 'iterations': 260, 'learning_rate': 0.2357748470258546, 'l2_leaf_reg': 4.158360382177637, 'boosting_type': 'Plain', 'task_type': 'GPU', 'silent': True}\n"
     ]
    },
    {
     "name": "stderr",
     "output_type": "stream",
     "text": [
      "\u001b[32m[I 2023-05-25 10:22:59,475]\u001b[0m Trial 40 finished with value: 6.124990942577969 and parameters: {'max_depth': 4, 'iterations': 260, 'learning_rate': 0.2357748470258546, 'l2_leaf_reg': 4.158360382177637, 'boosting_type': 'Plain'}. Best is trial 1 with value: 5.739692312249227.\u001b[0m\n"
     ]
    },
    {
     "name": "stdout",
     "output_type": "stream",
     "text": [
      "{'depth': 10, 'iterations': 571, 'learning_rate': 0.28917762364718413, 'l2_leaf_reg': 3.461726015682494, 'boosting_type': 'Ordered', 'task_type': 'GPU', 'silent': True}\n"
     ]
    },
    {
     "name": "stderr",
     "output_type": "stream",
     "text": [
      "\u001b[32m[I 2023-05-25 10:27:23,411]\u001b[0m Trial 41 finished with value: 6.221953490836004 and parameters: {'max_depth': 10, 'iterations': 571, 'learning_rate': 0.28917762364718413, 'l2_leaf_reg': 3.461726015682494, 'boosting_type': 'Ordered'}. Best is trial 1 with value: 5.739692312249227.\u001b[0m\n"
     ]
    },
    {
     "name": "stdout",
     "output_type": "stream",
     "text": [
      "{'depth': 10, 'iterations': 648, 'learning_rate': 0.2734411124896641, 'l2_leaf_reg': 3.8668081763459066, 'boosting_type': 'Ordered', 'task_type': 'GPU', 'silent': True}\n"
     ]
    },
    {
     "name": "stderr",
     "output_type": "stream",
     "text": [
      "\u001b[32m[I 2023-05-25 10:32:09,054]\u001b[0m Trial 42 finished with value: 6.040041764063253 and parameters: {'max_depth': 10, 'iterations': 648, 'learning_rate': 0.2734411124896641, 'l2_leaf_reg': 3.8668081763459066, 'boosting_type': 'Ordered'}. Best is trial 1 with value: 5.739692312249227.\u001b[0m\n"
     ]
    },
    {
     "name": "stdout",
     "output_type": "stream",
     "text": [
      "{'depth': 10, 'iterations': 472, 'learning_rate': 0.2995361910195226, 'l2_leaf_reg': 5.426796153044681, 'boosting_type': 'Ordered', 'task_type': 'GPU', 'silent': True}\n"
     ]
    },
    {
     "name": "stderr",
     "output_type": "stream",
     "text": [
      "\u001b[32m[I 2023-05-25 10:36:28,065]\u001b[0m Trial 43 finished with value: 5.832775408579586 and parameters: {'max_depth': 10, 'iterations': 472, 'learning_rate': 0.2995361910195226, 'l2_leaf_reg': 5.426796153044681, 'boosting_type': 'Ordered'}. Best is trial 1 with value: 5.739692312249227.\u001b[0m\n"
     ]
    },
    {
     "name": "stdout",
     "output_type": "stream",
     "text": [
      "{'depth': 10, 'iterations': 426, 'learning_rate': 0.28229647056251184, 'l2_leaf_reg': 5.59355765044018, 'boosting_type': 'Ordered', 'task_type': 'GPU', 'silent': True}\n"
     ]
    },
    {
     "name": "stderr",
     "output_type": "stream",
     "text": [
      "\u001b[32m[I 2023-05-25 10:40:32,149]\u001b[0m Trial 44 finished with value: 6.20539580638532 and parameters: {'max_depth': 10, 'iterations': 426, 'learning_rate': 0.28229647056251184, 'l2_leaf_reg': 5.59355765044018, 'boosting_type': 'Ordered'}. Best is trial 1 with value: 5.739692312249227.\u001b[0m\n"
     ]
    },
    {
     "name": "stdout",
     "output_type": "stream",
     "text": [
      "{'depth': 9, 'iterations': 473, 'learning_rate': 0.26700995003624184, 'l2_leaf_reg': 5.130340960442268, 'boosting_type': 'Ordered', 'task_type': 'GPU', 'silent': True}\n"
     ]
    },
    {
     "name": "stderr",
     "output_type": "stream",
     "text": [
      "\u001b[32m[I 2023-05-25 10:43:21,532]\u001b[0m Trial 45 finished with value: 6.132056304180218 and parameters: {'max_depth': 9, 'iterations': 473, 'learning_rate': 0.26700995003624184, 'l2_leaf_reg': 5.130340960442268, 'boosting_type': 'Ordered'}. Best is trial 1 with value: 5.739692312249227.\u001b[0m\n"
     ]
    },
    {
     "name": "stdout",
     "output_type": "stream",
     "text": [
      "{'depth': 10, 'iterations': 503, 'learning_rate': 0.2881050864033435, 'l2_leaf_reg': 6.249250641469749, 'boosting_type': 'Ordered', 'task_type': 'GPU', 'silent': True}\n"
     ]
    },
    {
     "name": "stderr",
     "output_type": "stream",
     "text": [
      "\u001b[32m[I 2023-05-25 10:47:48,644]\u001b[0m Trial 46 finished with value: 5.940978772949876 and parameters: {'max_depth': 10, 'iterations': 503, 'learning_rate': 0.2881050864033435, 'l2_leaf_reg': 6.249250641469749, 'boosting_type': 'Ordered'}. Best is trial 1 with value: 5.739692312249227.\u001b[0m\n"
     ]
    },
    {
     "name": "stdout",
     "output_type": "stream",
     "text": [
      "{'depth': 9, 'iterations': 348, 'learning_rate': 0.24887259122683425, 'l2_leaf_reg': 4.84589903080132, 'boosting_type': 'Plain', 'task_type': 'GPU', 'silent': True}\n"
     ]
    },
    {
     "name": "stderr",
     "output_type": "stream",
     "text": [
      "\u001b[32m[I 2023-05-25 10:48:09,556]\u001b[0m Trial 47 finished with value: 6.134551111886991 and parameters: {'max_depth': 9, 'iterations': 348, 'learning_rate': 0.24887259122683425, 'l2_leaf_reg': 4.84589903080132, 'boosting_type': 'Plain'}. Best is trial 1 with value: 5.739692312249227.\u001b[0m\n"
     ]
    },
    {
     "name": "stdout",
     "output_type": "stream",
     "text": [
      "{'depth': 10, 'iterations': 535, 'learning_rate': 0.29985424446862513, 'l2_leaf_reg': 5.375845315776555, 'boosting_type': 'Ordered', 'task_type': 'GPU', 'silent': True}\n"
     ]
    },
    {
     "name": "stderr",
     "output_type": "stream",
     "text": [
      "\u001b[32m[I 2023-05-25 10:52:49,967]\u001b[0m Trial 48 finished with value: 6.03757323635204 and parameters: {'max_depth': 10, 'iterations': 535, 'learning_rate': 0.29985424446862513, 'l2_leaf_reg': 5.375845315776555, 'boosting_type': 'Ordered'}. Best is trial 1 with value: 5.739692312249227.\u001b[0m\n"
     ]
    },
    {
     "name": "stdout",
     "output_type": "stream",
     "text": [
      "{'depth': 8, 'iterations': 410, 'learning_rate': 0.21624499974115763, 'l2_leaf_reg': 3.1651248142778767, 'boosting_type': 'Ordered', 'task_type': 'GPU', 'silent': True}\n"
     ]
    },
    {
     "name": "stderr",
     "output_type": "stream",
     "text": [
      "\u001b[32m[I 2023-05-25 10:54:37,656]\u001b[0m Trial 49 finished with value: 6.239936243364116 and parameters: {'max_depth': 8, 'iterations': 410, 'learning_rate': 0.21624499974115763, 'l2_leaf_reg': 3.1651248142778767, 'boosting_type': 'Ordered'}. Best is trial 1 with value: 5.739692312249227.\u001b[0m\n"
     ]
    }
   ],
   "source": [
    "use_features = all_feat\n",
    "study_install = optuna.create_study(direction='minimize',study_name='install_log_loss')\n",
    "study_install.optimize(objective, n_trials=50)"
   ]
  },
  {
   "cell_type": "code",
   "execution_count": 6,
   "id": "7854cacb-a21d-4a9e-a6be-7da684d784e1",
   "metadata": {},
   "outputs": [],
   "source": [
    "import pandas as pd\n",
    "\n",
    "test = pd.read_csv('../Data/test/000000000000.csv',sep='\\t')\n",
    "test['f_30'].fillna(test['f_30'].mode()[0],inplace=True)\n",
    "test['f_31'].fillna(test['f_31'].mode()[0],inplace=True)\n",
    "fmiss = \"f_43,f_51,f_58,f_59,f_64,f_65,f_66,f_67,f_68,f_69,f_70\".split(',')\n",
    "for f in fmiss:\n",
    "    test[f].fillna(test[f].mean(),inplace=True)"
   ]
  },
  {
   "cell_type": "code",
   "execution_count": 7,
   "id": "4c4be302-977c-4bfb-ac14-9affda696f3f",
   "metadata": {},
   "outputs": [
    {
     "data": {
      "text/plain": [
       "0"
      ]
     },
     "execution_count": 7,
     "metadata": {},
     "output_type": "execute_result"
    }
   ],
   "source": [
    "gc.collect()"
   ]
  },
  {
   "cell_type": "code",
   "execution_count": 10,
   "id": "4c24bd45-5404-49d8-aca0-111ded35c83f",
   "metadata": {},
   "outputs": [],
   "source": [
    "params_all_feat = {'depth': 5, 'iterations': 633, 'learning_rate': 0.11345058095313602, \n",
    "                   'l2_leaf_reg': 5.249467944690077, 'boosting_type': 'Ordered', \n",
    "                   'task_type': 'GPU', 'silent': True}"
   ]
  },
  {
   "cell_type": "code",
   "execution_count": 11,
   "id": "72734f46-5185-4994-bcc7-f5868a3549d7",
   "metadata": {},
   "outputs": [
    {
     "data": {
      "text/plain": [
       "<catboost.core.CatBoostClassifier at 0x14d1fcded0d0>"
      ]
     },
     "execution_count": 11,
     "metadata": {},
     "output_type": "execute_result"
    }
   ],
   "source": [
    "model = CatBoostClassifier(**params_all_feat)\n",
    "model.fit(X_train[use_features],y_train[TrainSplit.IS_INSTALLED[0]])"
   ]
  },
  {
   "cell_type": "code",
   "execution_count": 13,
   "id": "2de78fa4-28ad-4d57-95a1-92530626276d",
   "metadata": {},
   "outputs": [],
   "source": [
    "install_pred_all = model.predict_proba(test[all_feat])[:,1]"
   ]
  },
  {
   "cell_type": "code",
   "execution_count": 14,
   "id": "ce5096e2-30b5-4c8c-85ec-9b14dcd47750",
   "metadata": {},
   "outputs": [
    {
     "data": {
      "text/plain": [
       "(160973,)"
      ]
     },
     "execution_count": 14,
     "metadata": {},
     "output_type": "execute_result"
    }
   ],
   "source": [
    "install_pred_all.shape"
   ]
  },
  {
   "cell_type": "code",
   "execution_count": 15,
   "id": "4bee8034-e981-4e1f-b0e4-c1527c04799b",
   "metadata": {},
   "outputs": [
    {
     "name": "stdout",
     "output_type": "stream",
     "text": [
      "Saved the test result to csv file as catboost_all_feat_2023-05-25 11:41:56.839795.csv\n",
      "Saved the model config to json file as catboost_all_feat_2023-05-25 11:41:56.839795.json\n"
     ]
    },
    {
     "data": {
      "text/plain": [
       "<utils.TestResults at 0x14d1f3121460>"
      ]
     },
     "execution_count": 15,
     "metadata": {},
     "output_type": "execute_result"
    }
   ],
   "source": [
    "TestResults(row_id=test['f_0'],is_click=np.random.random(install_pred_all.shape[0]),\n",
    "            is_install=install_pred_all,model_name=\"catboost_all_feat\",config=params_all_feat)"
   ]
  },
  {
   "cell_type": "code",
   "execution_count": null,
   "id": "e6898ece-88e7-494c-b66a-ff14f19bf4b6",
   "metadata": {},
   "outputs": [],
   "source": []
  }
 ],
 "metadata": {
  "kernelspec": {
   "display_name": "Python 3 (ipykernel)",
   "language": "python",
   "name": "python3"
  },
  "language_info": {
   "codemirror_mode": {
    "name": "ipython",
    "version": 3
   },
   "file_extension": ".py",
   "mimetype": "text/x-python",
   "name": "python",
   "nbconvert_exporter": "python",
   "pygments_lexer": "ipython3",
   "version": "3.9.16"
  }
 },
 "nbformat": 4,
 "nbformat_minor": 5
}
